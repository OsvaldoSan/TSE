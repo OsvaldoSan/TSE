{
 "cells": [
  {
   "cell_type": "code",
   "execution_count": 1,
   "metadata": {
    "ExecuteTime": {
     "end_time": "2021-09-15T23:29:00.937783Z",
     "start_time": "2021-09-15T23:28:40.291473Z"
    }
   },
   "outputs": [],
   "source": [
    "import numpy as np\n",
    "import pandas as pd\n",
    "\n",
    "from sklearn.cluster import AgglomerativeClustering,KMeans\n",
    "from sklearn.manifold import TSNE,MDS\n",
    "from sklearn.decomposition import PCA\n",
    "from sklearn.preprocessing import StandardScaler,MinMaxScaler\n",
    "\n",
    "from sklearn.datasets import load_iris\n",
    "\n",
    "import matplotlib.pyplot as plt\n",
    "import seaborn as sns"
   ]
  },
  {
   "cell_type": "markdown",
   "metadata": {},
   "source": [
    "## Carga de datos"
   ]
  },
  {
   "cell_type": "code",
   "execution_count": 2,
   "metadata": {
    "ExecuteTime": {
     "end_time": "2021-09-15T23:29:01.356694Z",
     "start_time": "2021-09-15T23:29:00.969870Z"
    }
   },
   "outputs": [],
   "source": [
    "data = load_iris()"
   ]
  },
  {
   "cell_type": "code",
   "execution_count": 3,
   "metadata": {
    "ExecuteTime": {
     "end_time": "2021-09-15T23:29:01.636982Z",
     "start_time": "2021-09-15T23:29:01.367386Z"
    }
   },
   "outputs": [],
   "source": [
    "df = pd.DataFrame(data.data,columns=data.feature_names)\n",
    "df['flor'] = data.target\n",
    "df['flor'].replace(dict(zip(range(3),data.target_names)),inplace=True)"
   ]
  },
  {
   "cell_type": "code",
   "execution_count": 4,
   "metadata": {
    "ExecuteTime": {
     "end_time": "2021-09-15T23:29:01.896136Z",
     "start_time": "2021-09-15T23:29:01.664506Z"
    }
   },
   "outputs": [
    {
     "data": {
      "text/html": [
       "<div>\n",
       "<style scoped>\n",
       "    .dataframe tbody tr th:only-of-type {\n",
       "        vertical-align: middle;\n",
       "    }\n",
       "\n",
       "    .dataframe tbody tr th {\n",
       "        vertical-align: top;\n",
       "    }\n",
       "\n",
       "    .dataframe thead th {\n",
       "        text-align: right;\n",
       "    }\n",
       "</style>\n",
       "<table border=\"1\" class=\"dataframe\">\n",
       "  <thead>\n",
       "    <tr style=\"text-align: right;\">\n",
       "      <th></th>\n",
       "      <th>sepal length (cm)</th>\n",
       "      <th>sepal width (cm)</th>\n",
       "      <th>petal length (cm)</th>\n",
       "      <th>petal width (cm)</th>\n",
       "      <th>flor</th>\n",
       "    </tr>\n",
       "  </thead>\n",
       "  <tbody>\n",
       "    <tr>\n",
       "      <th>0</th>\n",
       "      <td>5.1</td>\n",
       "      <td>3.5</td>\n",
       "      <td>1.4</td>\n",
       "      <td>0.2</td>\n",
       "      <td>setosa</td>\n",
       "    </tr>\n",
       "    <tr>\n",
       "      <th>1</th>\n",
       "      <td>4.9</td>\n",
       "      <td>3.0</td>\n",
       "      <td>1.4</td>\n",
       "      <td>0.2</td>\n",
       "      <td>setosa</td>\n",
       "    </tr>\n",
       "    <tr>\n",
       "      <th>2</th>\n",
       "      <td>4.7</td>\n",
       "      <td>3.2</td>\n",
       "      <td>1.3</td>\n",
       "      <td>0.2</td>\n",
       "      <td>setosa</td>\n",
       "    </tr>\n",
       "    <tr>\n",
       "      <th>3</th>\n",
       "      <td>4.6</td>\n",
       "      <td>3.1</td>\n",
       "      <td>1.5</td>\n",
       "      <td>0.2</td>\n",
       "      <td>setosa</td>\n",
       "    </tr>\n",
       "    <tr>\n",
       "      <th>4</th>\n",
       "      <td>5.0</td>\n",
       "      <td>3.6</td>\n",
       "      <td>1.4</td>\n",
       "      <td>0.2</td>\n",
       "      <td>setosa</td>\n",
       "    </tr>\n",
       "    <tr>\n",
       "      <th>...</th>\n",
       "      <td>...</td>\n",
       "      <td>...</td>\n",
       "      <td>...</td>\n",
       "      <td>...</td>\n",
       "      <td>...</td>\n",
       "    </tr>\n",
       "    <tr>\n",
       "      <th>145</th>\n",
       "      <td>6.7</td>\n",
       "      <td>3.0</td>\n",
       "      <td>5.2</td>\n",
       "      <td>2.3</td>\n",
       "      <td>virginica</td>\n",
       "    </tr>\n",
       "    <tr>\n",
       "      <th>146</th>\n",
       "      <td>6.3</td>\n",
       "      <td>2.5</td>\n",
       "      <td>5.0</td>\n",
       "      <td>1.9</td>\n",
       "      <td>virginica</td>\n",
       "    </tr>\n",
       "    <tr>\n",
       "      <th>147</th>\n",
       "      <td>6.5</td>\n",
       "      <td>3.0</td>\n",
       "      <td>5.2</td>\n",
       "      <td>2.0</td>\n",
       "      <td>virginica</td>\n",
       "    </tr>\n",
       "    <tr>\n",
       "      <th>148</th>\n",
       "      <td>6.2</td>\n",
       "      <td>3.4</td>\n",
       "      <td>5.4</td>\n",
       "      <td>2.3</td>\n",
       "      <td>virginica</td>\n",
       "    </tr>\n",
       "    <tr>\n",
       "      <th>149</th>\n",
       "      <td>5.9</td>\n",
       "      <td>3.0</td>\n",
       "      <td>5.1</td>\n",
       "      <td>1.8</td>\n",
       "      <td>virginica</td>\n",
       "    </tr>\n",
       "  </tbody>\n",
       "</table>\n",
       "<p>150 rows × 5 columns</p>\n",
       "</div>"
      ],
      "text/plain": [
       "     sepal length (cm)  sepal width (cm)  petal length (cm)  petal width (cm)  \\\n",
       "0                  5.1               3.5                1.4               0.2   \n",
       "1                  4.9               3.0                1.4               0.2   \n",
       "2                  4.7               3.2                1.3               0.2   \n",
       "3                  4.6               3.1                1.5               0.2   \n",
       "4                  5.0               3.6                1.4               0.2   \n",
       "..                 ...               ...                ...               ...   \n",
       "145                6.7               3.0                5.2               2.3   \n",
       "146                6.3               2.5                5.0               1.9   \n",
       "147                6.5               3.0                5.2               2.0   \n",
       "148                6.2               3.4                5.4               2.3   \n",
       "149                5.9               3.0                5.1               1.8   \n",
       "\n",
       "          flor  \n",
       "0       setosa  \n",
       "1       setosa  \n",
       "2       setosa  \n",
       "3       setosa  \n",
       "4       setosa  \n",
       "..         ...  \n",
       "145  virginica  \n",
       "146  virginica  \n",
       "147  virginica  \n",
       "148  virginica  \n",
       "149  virginica  \n",
       "\n",
       "[150 rows x 5 columns]"
      ]
     },
     "execution_count": 4,
     "metadata": {},
     "output_type": "execute_result"
    }
   ],
   "source": [
    "df"
   ]
  },
  {
   "cell_type": "markdown",
   "metadata": {},
   "source": [
    "## Visualización"
   ]
  },
  {
   "cell_type": "code",
   "execution_count": 5,
   "metadata": {
    "ExecuteTime": {
     "end_time": "2021-09-15T23:29:01.937210Z",
     "start_time": "2021-09-15T23:29:01.911732Z"
    }
   },
   "outputs": [],
   "source": [
    "varc = data.feature_names[:]"
   ]
  },
  {
   "cell_type": "code",
   "execution_count": 6,
   "metadata": {
    "ExecuteTime": {
     "end_time": "2021-09-15T23:29:02.173517Z",
     "start_time": "2021-09-15T23:29:01.948488Z"
    }
   },
   "outputs": [],
   "source": [
    "X = df[varc].copy()"
   ]
  },
  {
   "cell_type": "code",
   "execution_count": 7,
   "metadata": {
    "ExecuteTime": {
     "end_time": "2021-09-15T23:29:30.795314Z",
     "start_time": "2021-09-15T23:29:02.199721Z"
    }
   },
   "outputs": [],
   "source": [
    "sc = StandardScaler()\n",
    "sc.fit(X)\n",
    "Xs = pd.DataFrame(sc.transform(X),columns=varc)\n",
    "\n",
    "pca = PCA(n_components=2)\n",
    "pca.fit(Xs)\n",
    "pca.explained_variance_ratio_.cumsum()\n",
    "\n",
    "Xp = pd.DataFrame(pca.transform(Xs),columns=['d1','d2'])\n",
    "\n",
    "mds = MDS(n_components=2,n_jobs=-1)\n",
    "tsne = TSNE(n_components=2,n_jobs=-1)\n",
    "\n",
    "Xm = pd.DataFrame(mds.fit_transform(X),columns=['d1','d2'])\n",
    "Xt = pd.DataFrame(tsne.fit_transform(X),columns=['d1','d2'])"
   ]
  },
  {
   "cell_type": "code",
   "execution_count": 8,
   "metadata": {
    "ExecuteTime": {
     "end_time": "2021-09-15T23:29:37.326223Z",
     "start_time": "2021-09-15T23:29:30.802223Z"
    }
   },
   "outputs": [
    {
     "data": {
      "text/plain": [
       "<seaborn.axisgrid.FacetGrid at 0x7fd9b82238d0>"
      ]
     },
     "execution_count": 8,
     "metadata": {},
     "output_type": "execute_result"
    },
    {
     "data": {
      "image/png": "[encoded data removed]",
      "text/plain": [
       "<Figure size 360x360 with 1 Axes>"
      ]
     },
     "metadata": {
      "needs_background": "light"
     },
     "output_type": "display_data"
    },
    {
     "data": {
      "image/png": "[encoded data removed]",
      "text/plain": [
       "<Figure size 360x360 with 1 Axes>"
      ]
     },
     "metadata": {
      "needs_background": "light"
     },
     "output_type": "display_data"
    },
    {
     "data": {
      "image/png": "[encoded data removed]",
      "text/plain": [
       "<Figure size 360x360 with 1 Axes>"
      ]
     },
     "metadata": {
      "needs_background": "light"
     },
     "output_type": "display_data"
    }
   ],
   "source": [
    "sns.lmplot(data=Xp,x='d1',y='d2',fit_reg=False)\n",
    "sns.lmplot(data=Xm,x='d1',y='d2',fit_reg=False)\n",
    "sns.lmplot(data=Xt,x='d1',y='d2',fit_reg=False)"
   ]
  },
  {
   "cell_type": "markdown",
   "metadata": {},
   "source": [
    "## Modelo no supervisado (Aglomerativo)"
   ]
  },
  {
   "cell_type": "markdown",
   "metadata": {},
   "source": [
    "La metodología que se sigue es la de *Hirarchical clustering*, se busca agrupar a los datos más parecidos usando alguna función de distancia, euclidiana en este caso, y cuando ya hay clusters formados se elige un método, *average* en este caso, para probar la vinculación entre los clusters, el *linkage*. De esta forma se decide si se unen dos clusters en uno o no."
   ]
  },
  {
   "cell_type": "code",
   "execution_count": 9,
   "metadata": {
    "ExecuteTime": {
     "end_time": "2021-09-15T23:29:37.374875Z",
     "start_time": "2021-09-15T23:29:37.352762Z"
    }
   },
   "outputs": [],
   "source": [
    "cluster = AgglomerativeClustering(n_clusters=3,linkage='average')"
   ]
  },
  {
   "cell_type": "code",
   "execution_count": 10,
   "metadata": {
    "ExecuteTime": {
     "end_time": "2021-09-15T23:29:37.573266Z",
     "start_time": "2021-09-15T23:29:37.393132Z"
    }
   },
   "outputs": [],
   "source": [
    "sc = MinMaxScaler()\n",
    "Xs = pd.DataFrame(sc.fit_transform(X),columns=varc)"
   ]
  },
  {
   "cell_type": "markdown",
   "metadata": {},
   "source": [
    "La función `cluster.fit_predict()` regresará un vector clasificando cada unidad muestral en alguno de los clusters."
   ]
  },
  {
   "cell_type": "code",
   "execution_count": 11,
   "metadata": {
    "ExecuteTime": {
     "end_time": "2021-09-15T23:29:37.842500Z",
     "start_time": "2021-09-15T23:29:37.586593Z"
    }
   },
   "outputs": [],
   "source": [
    "Xs['cl'] = Xp['cl'] =Xm['cl'] =Xt['cl'] =cluster.fit_predict(Xs)\n",
    "Xs['flor'] = Xp['flor'] =Xm['flor'] =Xt['flor'] =df['flor']"
   ]
  },
  {
   "cell_type": "code",
   "execution_count": 12,
   "metadata": {
    "ExecuteTime": {
     "end_time": "2021-09-15T23:29:38.010767Z",
     "start_time": "2021-09-15T23:29:37.848968Z"
    }
   },
   "outputs": [
    {
     "data": {
      "text/html": [
       "<div>\n",
       "<style scoped>\n",
       "    .dataframe tbody tr th:only-of-type {\n",
       "        vertical-align: middle;\n",
       "    }\n",
       "\n",
       "    .dataframe tbody tr th {\n",
       "        vertical-align: top;\n",
       "    }\n",
       "\n",
       "    .dataframe thead th {\n",
       "        text-align: right;\n",
       "    }\n",
       "</style>\n",
       "<table border=\"1\" class=\"dataframe\">\n",
       "  <thead>\n",
       "    <tr style=\"text-align: right;\">\n",
       "      <th></th>\n",
       "      <th>sepal length (cm)</th>\n",
       "      <th>sepal width (cm)</th>\n",
       "      <th>petal length (cm)</th>\n",
       "      <th>petal width (cm)</th>\n",
       "      <th>cl</th>\n",
       "      <th>flor</th>\n",
       "    </tr>\n",
       "  </thead>\n",
       "  <tbody>\n",
       "    <tr>\n",
       "      <th>0</th>\n",
       "      <td>0.222222</td>\n",
       "      <td>0.625000</td>\n",
       "      <td>0.067797</td>\n",
       "      <td>0.041667</td>\n",
       "      <td>0</td>\n",
       "      <td>setosa</td>\n",
       "    </tr>\n",
       "    <tr>\n",
       "      <th>1</th>\n",
       "      <td>0.166667</td>\n",
       "      <td>0.416667</td>\n",
       "      <td>0.067797</td>\n",
       "      <td>0.041667</td>\n",
       "      <td>0</td>\n",
       "      <td>setosa</td>\n",
       "    </tr>\n",
       "    <tr>\n",
       "      <th>2</th>\n",
       "      <td>0.111111</td>\n",
       "      <td>0.500000</td>\n",
       "      <td>0.050847</td>\n",
       "      <td>0.041667</td>\n",
       "      <td>0</td>\n",
       "      <td>setosa</td>\n",
       "    </tr>\n",
       "    <tr>\n",
       "      <th>3</th>\n",
       "      <td>0.083333</td>\n",
       "      <td>0.458333</td>\n",
       "      <td>0.084746</td>\n",
       "      <td>0.041667</td>\n",
       "      <td>0</td>\n",
       "      <td>setosa</td>\n",
       "    </tr>\n",
       "    <tr>\n",
       "      <th>4</th>\n",
       "      <td>0.194444</td>\n",
       "      <td>0.666667</td>\n",
       "      <td>0.067797</td>\n",
       "      <td>0.041667</td>\n",
       "      <td>0</td>\n",
       "      <td>setosa</td>\n",
       "    </tr>\n",
       "    <tr>\n",
       "      <th>...</th>\n",
       "      <td>...</td>\n",
       "      <td>...</td>\n",
       "      <td>...</td>\n",
       "      <td>...</td>\n",
       "      <td>...</td>\n",
       "      <td>...</td>\n",
       "    </tr>\n",
       "    <tr>\n",
       "      <th>145</th>\n",
       "      <td>0.666667</td>\n",
       "      <td>0.416667</td>\n",
       "      <td>0.711864</td>\n",
       "      <td>0.916667</td>\n",
       "      <td>2</td>\n",
       "      <td>virginica</td>\n",
       "    </tr>\n",
       "    <tr>\n",
       "      <th>146</th>\n",
       "      <td>0.555556</td>\n",
       "      <td>0.208333</td>\n",
       "      <td>0.677966</td>\n",
       "      <td>0.750000</td>\n",
       "      <td>1</td>\n",
       "      <td>virginica</td>\n",
       "    </tr>\n",
       "    <tr>\n",
       "      <th>147</th>\n",
       "      <td>0.611111</td>\n",
       "      <td>0.416667</td>\n",
       "      <td>0.711864</td>\n",
       "      <td>0.791667</td>\n",
       "      <td>2</td>\n",
       "      <td>virginica</td>\n",
       "    </tr>\n",
       "    <tr>\n",
       "      <th>148</th>\n",
       "      <td>0.527778</td>\n",
       "      <td>0.583333</td>\n",
       "      <td>0.745763</td>\n",
       "      <td>0.916667</td>\n",
       "      <td>2</td>\n",
       "      <td>virginica</td>\n",
       "    </tr>\n",
       "    <tr>\n",
       "      <th>149</th>\n",
       "      <td>0.444444</td>\n",
       "      <td>0.416667</td>\n",
       "      <td>0.694915</td>\n",
       "      <td>0.708333</td>\n",
       "      <td>1</td>\n",
       "      <td>virginica</td>\n",
       "    </tr>\n",
       "  </tbody>\n",
       "</table>\n",
       "<p>150 rows × 6 columns</p>\n",
       "</div>"
      ],
      "text/plain": [
       "     sepal length (cm)  sepal width (cm)  petal length (cm)  petal width (cm)  \\\n",
       "0             0.222222          0.625000           0.067797          0.041667   \n",
       "1             0.166667          0.416667           0.067797          0.041667   \n",
       "2             0.111111          0.500000           0.050847          0.041667   \n",
       "3             0.083333          0.458333           0.084746          0.041667   \n",
       "4             0.194444          0.666667           0.067797          0.041667   \n",
       "..                 ...               ...                ...               ...   \n",
       "145           0.666667          0.416667           0.711864          0.916667   \n",
       "146           0.555556          0.208333           0.677966          0.750000   \n",
       "147           0.611111          0.416667           0.711864          0.791667   \n",
       "148           0.527778          0.583333           0.745763          0.916667   \n",
       "149           0.444444          0.416667           0.694915          0.708333   \n",
       "\n",
       "     cl       flor  \n",
       "0     0     setosa  \n",
       "1     0     setosa  \n",
       "2     0     setosa  \n",
       "3     0     setosa  \n",
       "4     0     setosa  \n",
       "..   ..        ...  \n",
       "145   2  virginica  \n",
       "146   1  virginica  \n",
       "147   2  virginica  \n",
       "148   2  virginica  \n",
       "149   1  virginica  \n",
       "\n",
       "[150 rows x 6 columns]"
      ]
     },
     "execution_count": 12,
     "metadata": {},
     "output_type": "execute_result"
    }
   ],
   "source": [
    "Xs"
   ]
  },
  {
   "cell_type": "code",
   "execution_count": 13,
   "metadata": {
    "ExecuteTime": {
     "end_time": "2021-09-15T23:29:49.476768Z",
     "start_time": "2021-09-15T23:29:38.017482Z"
    },
    "scrolled": true
   },
   "outputs": [
    {
     "data": {
      "text/plain": [
       "<seaborn.axisgrid.FacetGrid at 0x7fd9aff8e550>"
      ]
     },
     "execution_count": 13,
     "metadata": {},
     "output_type": "execute_result"
    },
    {
     "data": {
      "image/png": "[encoded data removed]",
      "text/plain": [
       "<Figure size 402.375x360 with 1 Axes>"
      ]
     },
     "metadata": {
      "needs_background": "light"
     },
     "output_type": "display_data"
    },
    {
     "data": {
      "image/png": "[encoded data removed]",
      "text/plain": [
       "<Figure size 402.375x360 with 1 Axes>"
      ]
     },
     "metadata": {
      "needs_background": "light"
     },
     "output_type": "display_data"
    },
    {
     "data": {
      "image/png": "[encoded data removed]",
      "text/plain": [
       "<Figure size 402.375x360 with 1 Axes>"
      ]
     },
     "metadata": {
      "needs_background": "light"
     },
     "output_type": "display_data"
    }
   ],
   "source": [
    "sns.lmplot(data=Xp,x='d1',y='d2',fit_reg=False,hue='cl')\n",
    "sns.lmplot(data=Xm,x='d1',y='d2',fit_reg=False,hue='cl')\n",
    "sns.lmplot(data=Xt,x='d1',y='d2',fit_reg=False,hue='cl')"
   ]
  },
  {
   "cell_type": "code",
   "execution_count": 14,
   "metadata": {
    "ExecuteTime": {
     "end_time": "2021-09-15T23:29:58.009261Z",
     "start_time": "2021-09-15T23:29:49.502540Z"
    }
   },
   "outputs": [
    {
     "data": {
      "text/plain": [
       "<seaborn.axisgrid.FacetGrid at 0x7fd9afe0ef60>"
      ]
     },
     "execution_count": 14,
     "metadata": {},
     "output_type": "execute_result"
    },
    {
     "data": {
      "image/png": "[encoded data removed]",
      "text/plain": [
       "<Figure size 444.75x360 with 1 Axes>"
      ]
     },
     "metadata": {
      "needs_background": "light"
     },
     "output_type": "display_data"
    },
    {
     "data": {
      "image/png": "[encoded data removed]",
      "text/plain": [
       "<Figure size 444.75x360 with 1 Axes>"
      ]
     },
     "metadata": {
      "needs_background": "light"
     },
     "output_type": "display_data"
    },
    {
     "data": {
      "image/png": "[encoded data removed]",
      "text/plain": [
       "<Figure size 444.75x360 with 1 Axes>"
      ]
     },
     "metadata": {
      "needs_background": "light"
     },
     "output_type": "display_data"
    }
   ],
   "source": [
    "sns.lmplot(data=Xp,x='d1',y='d2',fit_reg=False,hue='flor')\n",
    "sns.lmplot(data=Xm,x='d1',y='d2',fit_reg=False,hue='flor')\n",
    "sns.lmplot(data=Xt,x='d1',y='d2',fit_reg=False,hue='flor')"
   ]
  },
  {
   "cell_type": "code",
   "execution_count": 15,
   "metadata": {
    "ExecuteTime": {
     "end_time": "2021-09-15T23:30:04.459875Z",
     "start_time": "2021-09-15T23:29:58.032131Z"
    }
   },
   "outputs": [
    {
     "data": {
      "text/plain": [
       "<seaborn.axisgrid.FacetGrid at 0x7fd9aff86278>"
      ]
     },
     "execution_count": 15,
     "metadata": {},
     "output_type": "execute_result"
    },
    {
     "data": {
      "image/png": "[encoded data removed]",
      "text/plain": [
       "<Figure size 402.375x360 with 1 Axes>"
      ]
     },
     "metadata": {
      "needs_background": "light"
     },
     "output_type": "display_data"
    },
    {
     "data": {
      "image/png": "[encoded data removed]",
      "text/plain": [
       "<Figure size 444.75x360 with 1 Axes>"
      ]
     },
     "metadata": {
      "needs_background": "light"
     },
     "output_type": "display_data"
    }
   ],
   "source": [
    "sns.lmplot(data=Xp,x='d1',y='d2',fit_reg=False,hue='cl')\n",
    "sns.lmplot(data=Xp,x='d1',y='d2',fit_reg=False,hue='flor')"
   ]
  },
  {
   "cell_type": "code",
   "execution_count": 16,
   "metadata": {
    "ExecuteTime": {
     "end_time": "2021-09-15T23:30:04.879845Z",
     "start_time": "2021-09-15T23:30:04.480675Z"
    }
   },
   "outputs": [
    {
     "data": {
      "text/html": [
       "<div>\n",
       "<style scoped>\n",
       "    .dataframe tbody tr th:only-of-type {\n",
       "        vertical-align: middle;\n",
       "    }\n",
       "\n",
       "    .dataframe tbody tr th {\n",
       "        vertical-align: top;\n",
       "    }\n",
       "\n",
       "    .dataframe thead th {\n",
       "        text-align: right;\n",
       "    }\n",
       "</style>\n",
       "<table border=\"1\" class=\"dataframe\">\n",
       "  <thead>\n",
       "    <tr style=\"text-align: right;\">\n",
       "      <th>flor</th>\n",
       "      <th>setosa</th>\n",
       "      <th>versicolor</th>\n",
       "      <th>virginica</th>\n",
       "    </tr>\n",
       "    <tr>\n",
       "      <th>cl</th>\n",
       "      <th></th>\n",
       "      <th></th>\n",
       "      <th></th>\n",
       "    </tr>\n",
       "  </thead>\n",
       "  <tbody>\n",
       "    <tr>\n",
       "      <th>0</th>\n",
       "      <td>50</td>\n",
       "      <td>0</td>\n",
       "      <td>0</td>\n",
       "    </tr>\n",
       "    <tr>\n",
       "      <th>1</th>\n",
       "      <td>0</td>\n",
       "      <td>50</td>\n",
       "      <td>17</td>\n",
       "    </tr>\n",
       "    <tr>\n",
       "      <th>2</th>\n",
       "      <td>0</td>\n",
       "      <td>0</td>\n",
       "      <td>33</td>\n",
       "    </tr>\n",
       "  </tbody>\n",
       "</table>\n",
       "</div>"
      ],
      "text/plain": [
       "flor  setosa  versicolor  virginica\n",
       "cl                                 \n",
       "0         50           0          0\n",
       "1          0          50         17\n",
       "2          0           0         33"
      ]
     },
     "execution_count": 16,
     "metadata": {},
     "output_type": "execute_result"
    }
   ],
   "source": [
    "Xs[['cl','flor']].assign(n=1).pivot_table(index='cl',\n",
    "                                          fill_value=0,\n",
    "                                          columns='flor',\n",
    "                                          values='n',\n",
    "                                          aggfunc='sum')"
   ]
  },
  {
   "cell_type": "markdown",
   "metadata": {},
   "source": [
    "## DBSCAN"
   ]
  },
  {
   "cell_type": "markdown",
   "metadata": {},
   "source": [
    "Este modelo crea los clusters que cree pertinentes, pues necesita que el conjunto de puntos sea **denso** para que decida que ese es un potencial cluster, si no es denso no puede ser candidato a cluster. Para decidir si un conjunto de puntos es denso o no necesitamos dos cosas, *epsilon* será la distancia mínima, y *puntos minimos* son la cantidad mínima de puntos que están a una distancia epsilon de un punto *A* para considerar que A no es un punto atípico y que el vecindario de A podría formar un cluster. Si A forma parte de otro vecindario A se agrega a ese cluster junto con su vecindario, así se continua hasta terminar y seleccionar otro punto para clasificar como ruido o posible cluster."
   ]
  },
  {
   "cell_type": "code",
   "execution_count": 17,
   "metadata": {
    "ExecuteTime": {
     "end_time": "2021-09-15T23:30:04.915745Z",
     "start_time": "2021-09-15T23:30:04.896209Z"
    }
   },
   "outputs": [],
   "source": [
    "from sklearn.cluster import DBSCAN"
   ]
  },
  {
   "cell_type": "code",
   "execution_count": 18,
   "metadata": {
    "ExecuteTime": {
     "end_time": "2021-09-15T23:30:05.162744Z",
     "start_time": "2021-09-15T23:30:04.924774Z"
    }
   },
   "outputs": [],
   "source": [
    "clus=DBSCAN(eps=0.3)"
   ]
  },
  {
   "cell_type": "code",
   "execution_count": 19,
   "metadata": {
    "ExecuteTime": {
     "end_time": "2021-09-15T23:30:05.861559Z",
     "start_time": "2021-09-15T23:30:05.171646Z"
    },
    "scrolled": true
   },
   "outputs": [
    {
     "data": {
      "text/plain": [
       "DBSCAN(eps=0.3)"
      ]
     },
     "execution_count": 19,
     "metadata": {},
     "output_type": "execute_result"
    }
   ],
   "source": [
    "clus.fit(Xs[varc])"
   ]
  },
  {
   "cell_type": "code",
   "execution_count": 20,
   "metadata": {
    "ExecuteTime": {
     "end_time": "2021-09-15T23:30:06.005395Z",
     "start_time": "2021-09-15T23:30:05.896994Z"
    }
   },
   "outputs": [],
   "source": [
    "Xs['cl'] = Xp['cl'] =Xm['cl'] =Xt['cl'] =clus.fit_predict(Xs[varc])"
   ]
  },
  {
   "cell_type": "markdown",
   "metadata": {},
   "source": [
    "Hay que notar que las muestras etiquetadas con **-1** son detectadas como ruido por el modelo."
   ]
  },
  {
   "cell_type": "code",
   "execution_count": 21,
   "metadata": {
    "ExecuteTime": {
     "end_time": "2021-09-15T23:30:12.751822Z",
     "start_time": "2021-09-15T23:30:06.056507Z"
    }
   },
   "outputs": [
    {
     "data": {
      "text/plain": [
       "<seaborn.axisgrid.FacetGrid at 0x7fd9afc48208>"
      ]
     },
     "execution_count": 21,
     "metadata": {},
     "output_type": "execute_result"
    },
    {
     "data": {
      "image/png": "[encoded data removed]",
      "text/plain": [
       "<Figure size 406x360 with 1 Axes>"
      ]
     },
     "metadata": {
      "needs_background": "light"
     },
     "output_type": "display_data"
    },
    {
     "data": {
      "image/png": "[encoded data removed]",
      "text/plain": [
       "<Figure size 406x360 with 1 Axes>"
      ]
     },
     "metadata": {
      "needs_background": "light"
     },
     "output_type": "display_data"
    },
    {
     "data": {
      "image/png": "[encoded data removed]",
      "text/plain": [
       "<Figure size 406x360 with 1 Axes>"
      ]
     },
     "metadata": {
      "needs_background": "light"
     },
     "output_type": "display_data"
    }
   ],
   "source": [
    "sns.lmplot(data=Xp,x='d1',y='d2',fit_reg=False,hue='cl')\n",
    "sns.lmplot(data=Xm,x='d1',y='d2',fit_reg=False,hue='cl')\n",
    "sns.lmplot(data=Xt,x='d1',y='d2',fit_reg=False,hue='cl')"
   ]
  },
  {
   "cell_type": "code",
   "execution_count": null,
   "metadata": {},
   "outputs": [],
   "source": []
  },
  {
   "cell_type": "markdown",
   "metadata": {},
   "source": [
    "## K-Medias"
   ]
  },
  {
   "cell_type": "markdown",
   "metadata": {},
   "source": [
    "En este caso tenemos un conjunto de datos y elegimos k **centroides** arbitrariamente, después tomamos un dato y vemos a que centroide se parece más y lo agregamos a ese cluster, una vez asignados todos los datos a algún cluster tomamos la **media** de cada cluster y repetimos el proceso ahora comparando cada dato contra la media de cada cluster, este proceso es iterativo y hay varios criterios de parada. Uno es poner un limite de iteraciones, otro es detenerse si en una iteración no cambia nada respecto a la anterior."
   ]
  },
  {
   "cell_type": "code",
   "execution_count": 22,
   "metadata": {
    "ExecuteTime": {
     "end_time": "2021-09-15T23:30:13.936606Z",
     "start_time": "2021-09-15T23:30:12.771428Z"
    }
   },
   "outputs": [],
   "source": [
    "df = pd.read_excel('datos/Datos Antropométricos.xlsx')"
   ]
  },
  {
   "cell_type": "code",
   "execution_count": 23,
   "metadata": {
    "ExecuteTime": {
     "end_time": "2021-09-15T23:30:13.972855Z",
     "start_time": "2021-09-15T23:30:13.950358Z"
    }
   },
   "outputs": [],
   "source": [
    "varc = ['Estatura (cm)', 'Peso (kg)', 'Talla Zapato (27,28,etc)', 'Edad']"
   ]
  },
  {
   "cell_type": "code",
   "execution_count": 24,
   "metadata": {
    "ExecuteTime": {
     "end_time": "2021-09-15T23:30:14.270577Z",
     "start_time": "2021-09-15T23:30:13.981411Z"
    }
   },
   "outputs": [],
   "source": [
    "X = df[varc].copy()"
   ]
  },
  {
   "cell_type": "code",
   "execution_count": 25,
   "metadata": {
    "ExecuteTime": {
     "end_time": "2021-09-15T23:30:17.665770Z",
     "start_time": "2021-09-15T23:30:14.283212Z"
    }
   },
   "outputs": [
    {
     "name": "stdout",
     "output_type": "stream",
     "text": [
      "[0.44272375 0.70328042]\n"
     ]
    }
   ],
   "source": [
    "sc = StandardScaler()\n",
    "sc.fit(X)\n",
    "Xs = pd.DataFrame(sc.transform(X),columns=varc)\n",
    "\n",
    "pca = PCA(n_components=2)\n",
    "pca.fit(Xs)\n",
    "print(pca.explained_variance_ratio_.cumsum())\n",
    "\n",
    "Xp = pd.DataFrame(pca.transform(Xs),columns=['d1','d2'])\n",
    "\n",
    "mds = MDS(n_components=2,n_jobs=-1)\n",
    "tsne = TSNE(n_components=2,n_jobs=-1)\n",
    "\n",
    "Xm = pd.DataFrame(mds.fit_transform(X),columns=['d1','d2'])\n",
    "Xt = pd.DataFrame(tsne.fit_transform(X),columns=['d1','d2'])"
   ]
  },
  {
   "cell_type": "code",
   "execution_count": 26,
   "metadata": {
    "ExecuteTime": {
     "end_time": "2021-09-15T23:30:21.791805Z",
     "start_time": "2021-09-15T23:30:17.722508Z"
    }
   },
   "outputs": [
    {
     "data": {
      "text/plain": [
       "<seaborn.axisgrid.FacetGrid at 0x7fd9afac2860>"
      ]
     },
     "execution_count": 26,
     "metadata": {},
     "output_type": "execute_result"
    },
    {
     "data": {
      "image/png": "[encoded data removed]",
      "text/plain": [
       "<Figure size 360x360 with 1 Axes>"
      ]
     },
     "metadata": {
      "needs_background": "light"
     },
     "output_type": "display_data"
    },
    {
     "data": {
      "image/png": "[encoded data removed]",
      "text/plain": [
       "<Figure size 360x360 with 1 Axes>"
      ]
     },
     "metadata": {
      "needs_background": "light"
     },
     "output_type": "display_data"
    },
    {
     "data": {
      "image/png": "[encoded data removed]",
      "text/plain": [
       "<Figure size 360x360 with 1 Axes>"
      ]
     },
     "metadata": {
      "needs_background": "light"
     },
     "output_type": "display_data"
    }
   ],
   "source": [
    "sns.lmplot(data=Xp,x='d1',y='d2',fit_reg=False)\n",
    "sns.lmplot(data=Xm,x='d1',y='d2',fit_reg=False)\n",
    "sns.lmplot(data=Xt,x='d1',y='d2',fit_reg=False)"
   ]
  },
  {
   "cell_type": "code",
   "execution_count": 27,
   "metadata": {
    "ExecuteTime": {
     "end_time": "2021-09-15T23:30:21.881583Z",
     "start_time": "2021-09-15T23:30:21.835352Z"
    }
   },
   "outputs": [],
   "source": [
    "sc = MinMaxScaler()\n",
    "Xs = pd.DataFrame(sc.fit_transform(X),columns=varc)"
   ]
  },
  {
   "cell_type": "markdown",
   "metadata": {},
   "source": [
    "Como la inercia es la suma de los cuadrados de las distancias de la muestra hacia su mas cercano centroide, se puede medir la varianza que hay en cada cluster, así que si el valor es grande la varianza de cada cluster es grande. Naturalmente entre más clusters haya el resultado será mejor, pero hay un punto en el \"codo\" donde el descenso es más prununciado, ese sería el número ideal de clusters."
   ]
  },
  {
   "cell_type": "code",
   "execution_count": 28,
   "metadata": {
    "ExecuteTime": {
     "end_time": "2021-09-15T23:30:24.006583Z",
     "start_time": "2021-09-15T23:30:21.893582Z"
    }
   },
   "outputs": [],
   "source": [
    "l_in = []\n",
    "for k in range(2,10):\n",
    "    cl = KMeans(n_clusters=k,)\n",
    "    cl.fit(Xs)\n",
    "    l_in.append(cl.inertia_)"
   ]
  },
  {
   "cell_type": "code",
   "execution_count": 29,
   "metadata": {
    "ExecuteTime": {
     "end_time": "2021-09-15T23:30:25.141689Z",
     "start_time": "2021-09-15T23:30:24.037381Z"
    }
   },
   "outputs": [
    {
     "data": {
      "text/plain": [
       "[<matplotlib.lines.Line2D at 0x7fd9af8f07f0>]"
      ]
     },
     "execution_count": 29,
     "metadata": {},
     "output_type": "execute_result"
    },
    {
     "data": {
      "image/png": "[encoded data removed]",
      "text/plain": [
       "<Figure size 432x288 with 1 Axes>"
      ]
     },
     "metadata": {
      "needs_background": "light"
     },
     "output_type": "display_data"
    }
   ],
   "source": [
    "plt.plot(range(2,10),l_in,marker='o')"
   ]
  },
  {
   "cell_type": "code",
   "execution_count": 30,
   "metadata": {
    "ExecuteTime": {
     "end_time": "2021-09-15T23:30:25.158027Z",
     "start_time": "2021-09-15T23:30:25.148272Z"
    }
   },
   "outputs": [],
   "source": [
    "cluster = KMeans(n_clusters=5)"
   ]
  },
  {
   "cell_type": "code",
   "execution_count": 31,
   "metadata": {
    "ExecuteTime": {
     "end_time": "2021-09-15T23:30:25.530346Z",
     "start_time": "2021-09-15T23:30:25.169188Z"
    }
   },
   "outputs": [],
   "source": [
    "Xs['cl'] = Xp['cl'] = Xm['cl'] = Xt['cl'] = cluster.fit_predict(Xs)\n",
    "Xs['Sexo (H,M)'] = Xp['Sexo (H,M)'] = Xm['Sexo (H,M)'] = Xt['Sexo (H,M)'] = df['Sexo (H,M)']"
   ]
  },
  {
   "cell_type": "code",
   "execution_count": 32,
   "metadata": {
    "ExecuteTime": {
     "end_time": "2021-09-15T23:30:38.004994Z",
     "start_time": "2021-09-15T23:30:25.550817Z"
    }
   },
   "outputs": [
    {
     "data": {
      "text/plain": [
       "<seaborn.axisgrid.FacetGrid at 0x7fd9af9a5b70>"
      ]
     },
     "execution_count": 32,
     "metadata": {},
     "output_type": "execute_result"
    },
    {
     "data": {
      "image/png": "[encoded data removed]",
      "text/plain": [
       "<Figure size 402.375x360 with 1 Axes>"
      ]
     },
     "metadata": {
      "needs_background": "light"
     },
     "output_type": "display_data"
    },
    {
     "data": {
      "image/png": "[encoded data removed]",
      "text/plain": [
       "<Figure size 402.375x360 with 1 Axes>"
      ]
     },
     "metadata": {
      "needs_background": "light"
     },
     "output_type": "display_data"
    },
    {
     "data": {
      "image/png": "[encoded data removed]",
      "text/plain": [
       "<Figure size 402.375x360 with 1 Axes>"
      ]
     },
     "metadata": {
      "needs_background": "light"
     },
     "output_type": "display_data"
    }
   ],
   "source": [
    "sns.lmplot(data=Xp,x='d1',y='d2',fit_reg=False,hue='cl')\n",
    "sns.lmplot(data=Xm,x='d1',y='d2',fit_reg=False,hue='cl')\n",
    "sns.lmplot(data=Xt,x='d1',y='d2',fit_reg=False,hue='cl')"
   ]
  },
  {
   "cell_type": "code",
   "execution_count": 33,
   "metadata": {
    "ExecuteTime": {
     "end_time": "2021-09-15T23:30:45.315201Z",
     "start_time": "2021-09-15T23:30:38.025803Z"
    }
   },
   "outputs": [
    {
     "data": {
      "text/plain": [
       "<seaborn.axisgrid.FacetGrid at 0x7fd9afec1b00>"
      ]
     },
     "execution_count": 33,
     "metadata": {},
     "output_type": "execute_result"
    },
    {
     "data": {
      "image/png": "[encoded data removed]",
      "text/plain": [
       "<Figure size 402.375x360 with 1 Axes>"
      ]
     },
     "metadata": {
      "needs_background": "light"
     },
     "output_type": "display_data"
    },
    {
     "data": {
      "image/png": "[encoded data removed]",
      "text/plain": [
       "<Figure size 422x360 with 1 Axes>"
      ]
     },
     "metadata": {
      "needs_background": "light"
     },
     "output_type": "display_data"
    }
   ],
   "source": [
    "sns.lmplot(data=Xm,x='d1',y='d2',fit_reg=False,hue='cl')\n",
    "sns.lmplot(data=Xm,x='d1',y='d2',fit_reg=False,hue='Sexo (H,M)')"
   ]
  },
  {
   "cell_type": "code",
   "execution_count": 34,
   "metadata": {
    "ExecuteTime": {
     "end_time": "2021-09-15T23:30:45.719481Z",
     "start_time": "2021-09-15T23:30:45.328176Z"
    }
   },
   "outputs": [],
   "source": [
    "df['cl'] = cluster.fit_predict(Xs[varc])"
   ]
  },
  {
   "cell_type": "code",
   "execution_count": 35,
   "metadata": {
    "ExecuteTime": {
     "end_time": "2021-09-15T23:30:45.785716Z",
     "start_time": "2021-09-15T23:30:45.733837Z"
    }
   },
   "outputs": [
    {
     "data": {
      "text/plain": [
       "3    15\n",
       "1    14\n",
       "2     8\n",
       "4     1\n",
       "0     1\n",
       "Name: cl, dtype: int64"
      ]
     },
     "execution_count": 35,
     "metadata": {},
     "output_type": "execute_result"
    }
   ],
   "source": [
    "df.cl.value_counts()"
   ]
  },
  {
   "cell_type": "markdown",
   "metadata": {},
   "source": [
    "## Modelos Gaussianos Mixtos"
   ]
  },
  {
   "cell_type": "markdown",
   "metadata": {},
   "source": [
    "Para este modelo consideramos *k* clusters, por lo que cada cluster tendrá un conjunto de variables que a su vez seguirá una distribución, supondremos que esa es la gaussiana. El entrenamiento consistirá en encontrar valores estimados para los parámetros de la distribución normal. Así después a cada elemento muestral se le calcula la probabilidad de pertenecer a cada cluster."
   ]
  },
  {
   "cell_type": "code",
   "execution_count": 36,
   "metadata": {
    "ExecuteTime": {
     "end_time": "2021-09-15T23:30:46.003195Z",
     "start_time": "2021-09-15T23:30:45.791739Z"
    }
   },
   "outputs": [],
   "source": [
    "from sklearn.mixture import GaussianMixture"
   ]
  },
  {
   "cell_type": "code",
   "execution_count": 37,
   "metadata": {
    "ExecuteTime": {
     "end_time": "2021-09-15T23:30:46.189284Z",
     "start_time": "2021-09-15T23:30:46.008481Z"
    }
   },
   "outputs": [],
   "source": [
    "df = pd.read_excel('datos/Datos Antropométricos.xlsx')"
   ]
  },
  {
   "cell_type": "code",
   "execution_count": 38,
   "metadata": {
    "ExecuteTime": {
     "end_time": "2021-09-15T23:30:46.238549Z",
     "start_time": "2021-09-15T23:30:46.213283Z"
    }
   },
   "outputs": [],
   "source": [
    "varc = ['Estatura (cm)', 'Peso (kg)', 'Talla Zapato (27,28,etc)', 'Edad']"
   ]
  },
  {
   "cell_type": "code",
   "execution_count": 39,
   "metadata": {
    "ExecuteTime": {
     "end_time": "2021-09-15T23:30:46.365973Z",
     "start_time": "2021-09-15T23:30:46.250626Z"
    }
   },
   "outputs": [],
   "source": [
    "X = df[varc].copy()"
   ]
  },
  {
   "cell_type": "code",
   "execution_count": 40,
   "metadata": {
    "ExecuteTime": {
     "end_time": "2021-09-15T23:30:51.661838Z",
     "start_time": "2021-09-15T23:30:46.370821Z"
    }
   },
   "outputs": [
    {
     "name": "stdout",
     "output_type": "stream",
     "text": [
      "[0.44272375 0.70328042]\n"
     ]
    }
   ],
   "source": [
    "sc = StandardScaler()\n",
    "sc.fit(X)\n",
    "Xs = pd.DataFrame(sc.transform(X),columns=varc)\n",
    "\n",
    "pca = PCA(n_components=2)\n",
    "pca.fit(Xs)\n",
    "print(pca.explained_variance_ratio_.cumsum())\n",
    "\n",
    "Xp = pd.DataFrame(pca.transform(Xs),columns=['d1','d2'])\n",
    "\n",
    "mds = MDS(n_components=2,n_jobs=-1)\n",
    "tsne = TSNE(n_components=2,n_jobs=-1)\n",
    "\n",
    "Xm = pd.DataFrame(mds.fit_transform(X),columns=['d1','d2'])\n",
    "Xt = pd.DataFrame(tsne.fit_transform(X),columns=['d1','d2'])"
   ]
  },
  {
   "cell_type": "code",
   "execution_count": 41,
   "metadata": {
    "ExecuteTime": {
     "end_time": "2021-09-15T23:30:56.955485Z",
     "start_time": "2021-09-15T23:30:51.678348Z"
    },
    "scrolled": true
   },
   "outputs": [
    {
     "data": {
      "text/plain": [
       "<seaborn.axisgrid.FacetGrid at 0x7fd9affa39b0>"
      ]
     },
     "execution_count": 41,
     "metadata": {},
     "output_type": "execute_result"
    },
    {
     "data": {
      "image/png": "[encoded data removed]",
      "text/plain": [
       "<Figure size 360x360 with 1 Axes>"
      ]
     },
     "metadata": {
      "needs_background": "light"
     },
     "output_type": "display_data"
    },
    {
     "data": {
      "image/png": "[encoded data removed]",
      "text/plain": [
       "<Figure size 360x360 with 1 Axes>"
      ]
     },
     "metadata": {
      "needs_background": "light"
     },
     "output_type": "display_data"
    },
    {
     "data": {
      "image/png": "[encoded data removed]",
      "text/plain": [
       "<Figure size 360x360 with 1 Axes>"
      ]
     },
     "metadata": {
      "needs_background": "light"
     },
     "output_type": "display_data"
    }
   ],
   "source": [
    "sns.lmplot(data=Xp,x='d1',y='d2',fit_reg=False)\n",
    "sns.lmplot(data=Xm,x='d1',y='d2',fit_reg=False)\n",
    "sns.lmplot(data=Xt,x='d1',y='d2',fit_reg=False)"
   ]
  },
  {
   "cell_type": "code",
   "execution_count": 42,
   "metadata": {
    "ExecuteTime": {
     "end_time": "2021-09-15T23:30:57.008560Z",
     "start_time": "2021-09-15T23:30:56.960202Z"
    }
   },
   "outputs": [],
   "source": [
    "sc = MinMaxScaler()\n",
    "Xs = pd.DataFrame(sc.fit_transform(X),columns=varc)"
   ]
  },
  {
   "cell_type": "code",
   "execution_count": 43,
   "metadata": {
    "ExecuteTime": {
     "end_time": "2021-09-15T23:30:57.194321Z",
     "start_time": "2021-09-15T23:30:57.029514Z"
    }
   },
   "outputs": [],
   "source": [
    "cluster = GaussianMixture(n_components=5)"
   ]
  },
  {
   "cell_type": "code",
   "execution_count": 44,
   "metadata": {
    "ExecuteTime": {
     "end_time": "2021-09-15T23:30:57.668596Z",
     "start_time": "2021-09-15T23:30:57.208658Z"
    }
   },
   "outputs": [],
   "source": [
    "Xs['cl'] = Xp['cl'] = Xm['cl'] = Xt['cl'] = cluster.fit_predict(Xs)\n",
    "Xs['Sexo (H,M)'] = Xp['Sexo (H,M)'] = Xm['Sexo (H,M)'] = Xt['Sexo (H,M)'] = df['Sexo (H,M)']"
   ]
  },
  {
   "cell_type": "code",
   "execution_count": 45,
   "metadata": {
    "ExecuteTime": {
     "end_time": "2021-09-15T23:31:05.891040Z",
     "start_time": "2021-09-15T23:30:57.695737Z"
    },
    "scrolled": true
   },
   "outputs": [
    {
     "data": {
      "text/plain": [
       "<seaborn.axisgrid.FacetGrid at 0x7fd9aff185f8>"
      ]
     },
     "execution_count": 45,
     "metadata": {},
     "output_type": "execute_result"
    },
    {
     "data": {
      "image/png": "[encoded data removed]",
      "text/plain": [
       "<Figure size 402.375x360 with 1 Axes>"
      ]
     },
     "metadata": {
      "needs_background": "light"
     },
     "output_type": "display_data"
    },
    {
     "data": {
      "image/png": "[encoded data removed]",
      "text/plain": [
       "<Figure size 402.375x360 with 1 Axes>"
      ]
     },
     "metadata": {
      "needs_background": "light"
     },
     "output_type": "display_data"
    },
    {
     "data": {
      "image/png": "[encoded data removed]",
      "text/plain": [
       "<Figure size 402.375x360 with 1 Axes>"
      ]
     },
     "metadata": {
      "needs_background": "light"
     },
     "output_type": "display_data"
    }
   ],
   "source": [
    "sns.lmplot(data=Xp,x='d1',y='d2',fit_reg=False,hue='cl')\n",
    "sns.lmplot(data=Xm,x='d1',y='d2',fit_reg=False,hue='cl')\n",
    "sns.lmplot(data=Xt,x='d1',y='d2',fit_reg=False,hue='cl')"
   ]
  },
  {
   "cell_type": "code",
   "execution_count": 46,
   "metadata": {
    "ExecuteTime": {
     "end_time": "2021-09-15T23:31:11.972623Z",
     "start_time": "2021-09-15T23:31:05.897598Z"
    }
   },
   "outputs": [
    {
     "data": {
      "text/plain": [
       "<seaborn.axisgrid.FacetGrid at 0x7fd9ad797278>"
      ]
     },
     "execution_count": 46,
     "metadata": {},
     "output_type": "execute_result"
    },
    {
     "data": {
      "image/png": "[encoded data removed]",
      "text/plain": [
       "<Figure size 402.375x360 with 1 Axes>"
      ]
     },
     "metadata": {
      "needs_background": "light"
     },
     "output_type": "display_data"
    },
    {
     "data": {
      "image/png": "[encoded data removed]",
      "text/plain": [
       "<Figure size 422x360 with 1 Axes>"
      ]
     },
     "metadata": {
      "needs_background": "light"
     },
     "output_type": "display_data"
    }
   ],
   "source": [
    "sns.lmplot(data=Xm,x='d1',y='d2',fit_reg=False,hue='cl')\n",
    "sns.lmplot(data=Xm,x='d1',y='d2',fit_reg=False,hue='Sexo (H,M)')"
   ]
  },
  {
   "cell_type": "code",
   "execution_count": 47,
   "metadata": {
    "ExecuteTime": {
     "end_time": "2021-09-15T23:31:12.006316Z",
     "start_time": "2021-09-15T23:31:11.978749Z"
    }
   },
   "outputs": [],
   "source": [
    "df['cl'] = cluster.predict(Xs[varc])"
   ]
  },
  {
   "cell_type": "code",
   "execution_count": 48,
   "metadata": {
    "ExecuteTime": {
     "end_time": "2021-09-15T23:31:12.206462Z",
     "start_time": "2021-09-15T23:31:12.021296Z"
    }
   },
   "outputs": [],
   "source": [
    "df[[f'p_cl{i}' for i in range(5)]] = cluster.predict_proba(Xs[varc])"
   ]
  },
  {
   "cell_type": "code",
   "execution_count": 49,
   "metadata": {
    "ExecuteTime": {
     "end_time": "2021-09-15T23:31:12.453323Z",
     "start_time": "2021-09-15T23:31:12.232673Z"
    }
   },
   "outputs": [
    {
     "data": {
      "text/html": [
       "<div>\n",
       "<style scoped>\n",
       "    .dataframe tbody tr th:only-of-type {\n",
       "        vertical-align: middle;\n",
       "    }\n",
       "\n",
       "    .dataframe tbody tr th {\n",
       "        vertical-align: top;\n",
       "    }\n",
       "\n",
       "    .dataframe thead th {\n",
       "        text-align: right;\n",
       "    }\n",
       "</style>\n",
       "<table border=\"1\" class=\"dataframe\">\n",
       "  <thead>\n",
       "    <tr style=\"text-align: right;\">\n",
       "      <th></th>\n",
       "      <th>Estatura (cm)</th>\n",
       "      <th>Peso (kg)</th>\n",
       "      <th>Talla Zapato (27,28,etc)</th>\n",
       "      <th>Edad</th>\n",
       "      <th>Sexo (H,M)</th>\n",
       "      <th>cl</th>\n",
       "      <th>p_cl0</th>\n",
       "      <th>p_cl1</th>\n",
       "      <th>p_cl2</th>\n",
       "      <th>p_cl3</th>\n",
       "      <th>p_cl4</th>\n",
       "    </tr>\n",
       "  </thead>\n",
       "  <tbody>\n",
       "    <tr>\n",
       "      <th>0</th>\n",
       "      <td>180</td>\n",
       "      <td>84</td>\n",
       "      <td>28.0</td>\n",
       "      <td>21</td>\n",
       "      <td>H</td>\n",
       "      <td>0</td>\n",
       "      <td>9.999994e-01</td>\n",
       "      <td>0.000000</td>\n",
       "      <td>0.0</td>\n",
       "      <td>5.626388e-07</td>\n",
       "      <td>0.0</td>\n",
       "    </tr>\n",
       "    <tr>\n",
       "      <th>1</th>\n",
       "      <td>172</td>\n",
       "      <td>80</td>\n",
       "      <td>27.0</td>\n",
       "      <td>23</td>\n",
       "      <td>H</td>\n",
       "      <td>3</td>\n",
       "      <td>1.330544e-19</td>\n",
       "      <td>0.000000</td>\n",
       "      <td>0.0</td>\n",
       "      <td>1.000000e+00</td>\n",
       "      <td>0.0</td>\n",
       "    </tr>\n",
       "    <tr>\n",
       "      <th>2</th>\n",
       "      <td>170</td>\n",
       "      <td>60</td>\n",
       "      <td>26.0</td>\n",
       "      <td>21</td>\n",
       "      <td>H</td>\n",
       "      <td>3</td>\n",
       "      <td>5.227257e-71</td>\n",
       "      <td>0.000000</td>\n",
       "      <td>0.0</td>\n",
       "      <td>1.000000e+00</td>\n",
       "      <td>0.0</td>\n",
       "    </tr>\n",
       "    <tr>\n",
       "      <th>3</th>\n",
       "      <td>160</td>\n",
       "      <td>65</td>\n",
       "      <td>40.0</td>\n",
       "      <td>23</td>\n",
       "      <td>M</td>\n",
       "      <td>1</td>\n",
       "      <td>0.000000e+00</td>\n",
       "      <td>1.000000</td>\n",
       "      <td>0.0</td>\n",
       "      <td>1.314608e-84</td>\n",
       "      <td>0.0</td>\n",
       "    </tr>\n",
       "    <tr>\n",
       "      <th>4</th>\n",
       "      <td>165</td>\n",
       "      <td>65</td>\n",
       "      <td>25.5</td>\n",
       "      <td>23</td>\n",
       "      <td>M</td>\n",
       "      <td>1</td>\n",
       "      <td>8.606943e-88</td>\n",
       "      <td>0.997473</td>\n",
       "      <td>0.0</td>\n",
       "      <td>2.527128e-03</td>\n",
       "      <td>0.0</td>\n",
       "    </tr>\n",
       "  </tbody>\n",
       "</table>\n",
       "</div>"
      ],
      "text/plain": [
       "   Estatura (cm)  Peso (kg)  Talla Zapato (27,28,etc)  Edad Sexo (H,M)  cl  \\\n",
       "0            180         84                      28.0    21          H   0   \n",
       "1            172         80                      27.0    23          H   3   \n",
       "2            170         60                      26.0    21          H   3   \n",
       "3            160         65                      40.0    23          M   1   \n",
       "4            165         65                      25.5    23          M   1   \n",
       "\n",
       "          p_cl0     p_cl1  p_cl2         p_cl3  p_cl4  \n",
       "0  9.999994e-01  0.000000    0.0  5.626388e-07    0.0  \n",
       "1  1.330544e-19  0.000000    0.0  1.000000e+00    0.0  \n",
       "2  5.227257e-71  0.000000    0.0  1.000000e+00    0.0  \n",
       "3  0.000000e+00  1.000000    0.0  1.314608e-84    0.0  \n",
       "4  8.606943e-88  0.997473    0.0  2.527128e-03    0.0  "
      ]
     },
     "execution_count": 49,
     "metadata": {},
     "output_type": "execute_result"
    }
   ],
   "source": [
    "df.head()"
   ]
  },
  {
   "cell_type": "code",
   "execution_count": 50,
   "metadata": {
    "ExecuteTime": {
     "end_time": "2021-09-15T23:31:12.525304Z",
     "start_time": "2021-09-15T23:31:12.487385Z"
    }
   },
   "outputs": [
    {
     "data": {
      "text/plain": [
       "array([[0.80645244, 0.80714242, 0.27731143, 0.07142753],\n",
       "       [0.34833719, 0.35660989, 0.32374017, 0.21668368],\n",
       "       [0.08064516, 0.12916667, 0.02205882, 0.1875    ],\n",
       "       [0.61444357, 0.46164882, 0.2308596 , 0.12502547],\n",
       "       [0.86021525, 0.53888865, 0.32352955, 0.63888917]])"
      ]
     },
     "execution_count": 50,
     "metadata": {},
     "output_type": "execute_result"
    }
   ],
   "source": [
    "cluster.means_"
   ]
  },
  {
   "cell_type": "code",
   "execution_count": 51,
   "metadata": {
    "ExecuteTime": {
     "end_time": "2021-09-15T23:31:12.664987Z",
     "start_time": "2021-09-15T23:31:12.538104Z"
    }
   },
   "outputs": [
    {
     "data": {
      "text/plain": [
       "array([[[ 1.36772847e-02, -1.21352450e-02,  4.06587123e-04,\n",
       "         -1.15199194e-03],\n",
       "        [-1.21352450e-02,  1.25294374e-02, -1.99918971e-05,\n",
       "          1.07704917e-03],\n",
       "        [ 4.06587123e-04, -1.99918971e-05,  9.54313969e-04,\n",
       "         -1.60061996e-03],\n",
       "        [-1.15199194e-03,  1.07704917e-03, -1.60061996e-03,\n",
       "          4.81955838e-03]],\n",
       "\n",
       "       [[ 3.91670087e-03, -2.82131098e-04, -2.08916055e-02,\n",
       "          3.23655911e-04],\n",
       "        [-2.82131098e-04,  4.06575104e-03,  2.85464369e-03,\n",
       "          3.00049984e-03],\n",
       "        [-2.08916055e-02,  2.85464369e-03,  1.14993035e-01,\n",
       "         -6.38485179e-03],\n",
       "        [ 3.23655911e-04,  3.00049984e-03, -6.38485179e-03,\n",
       "          1.27913355e-02]],\n",
       "\n",
       "       [[ 4.42347659e-03,  5.04032258e-03,  3.55787476e-04,\n",
       "         -3.36021505e-04],\n",
       "        [ 5.04032258e-03,  6.71975000e-03,  9.49754902e-04,\n",
       "          4.60069444e-03],\n",
       "        [ 3.55787476e-04,  9.49754902e-04,  5.95723183e-04,\n",
       "          2.60416667e-03],\n",
       "        [-3.36021505e-04,  4.60069444e-03,  2.60416667e-03,\n",
       "          2.56086389e-02]],\n",
       "\n",
       "       [[ 1.14058010e-02, -1.89525103e-03,  2.19375196e-03,\n",
       "          1.53947071e-03],\n",
       "        [-1.89525103e-03,  1.79176310e-02, -2.29895327e-03,\n",
       "          9.44092498e-03],\n",
       "        [ 2.19375196e-03, -2.29895327e-03,  2.53434300e-03,\n",
       "         -9.20279127e-04],\n",
       "        [ 1.53947071e-03,  9.44092498e-03, -9.20279127e-04,\n",
       "          1.00700998e-02]],\n",
       "\n",
       "       [[ 1.41066718e-02, -1.92951109e-02,  1.01201714e-02,\n",
       "          2.29988193e-02],\n",
       "        [-1.92951109e-02,  4.19146212e-02, -1.19281078e-02,\n",
       "         -5.26235104e-02],\n",
       "        [ 1.01201714e-02, -1.19281078e-02,  7.49811103e-03,\n",
       "          1.38888947e-02],\n",
       "        [ 2.29988193e-02, -5.26235104e-02,  1.38888947e-02,\n",
       "          6.63590945e-02]]])"
      ]
     },
     "execution_count": 51,
     "metadata": {},
     "output_type": "execute_result"
    }
   ],
   "source": [
    "cluster.covariances_"
   ]
  },
  {
   "cell_type": "code",
   "execution_count": 52,
   "metadata": {
    "ExecuteTime": {
     "end_time": "2021-09-15T23:31:12.763068Z",
     "start_time": "2021-09-15T23:31:12.689287Z"
    }
   },
   "outputs": [
    {
     "data": {
      "text/plain": [
       "array([0.17948486, 0.12804006, 0.1025641 , 0.51298803, 0.07692294])"
      ]
     },
     "execution_count": 52,
     "metadata": {},
     "output_type": "execute_result"
    }
   ],
   "source": [
    "cluster.weights_"
   ]
  },
  {
   "cell_type": "markdown",
   "metadata": {},
   "source": [
    "## Perfilamiento"
   ]
  },
  {
   "cell_type": "code",
   "execution_count": 176,
   "metadata": {
    "ExecuteTime": {
     "end_time": "2021-09-14T01:55:33.980203Z",
     "start_time": "2021-09-14T01:55:33.902605Z"
    }
   },
   "outputs": [],
   "source": [
    "vard = ['Sexo (H,M)']"
   ]
  },
  {
   "cell_type": "code",
   "execution_count": 177,
   "metadata": {
    "ExecuteTime": {
     "end_time": "2021-09-14T01:55:34.146871Z",
     "start_time": "2021-09-14T01:55:33.992578Z"
    }
   },
   "outputs": [
    {
     "data": {
      "text/plain": [
       "0    22\n",
       "1    11\n",
       "2     1\n",
       "3     1\n",
       "4     4\n",
       "Name: cl, dtype: int64"
      ]
     },
     "execution_count": 177,
     "metadata": {},
     "output_type": "execute_result"
    }
   ],
   "source": [
    "df['cl'].value_counts(False).sort_index()"
   ]
  },
  {
   "cell_type": "code",
   "execution_count": 178,
   "metadata": {
    "ExecuteTime": {
     "end_time": "2021-09-14T01:55:34.388457Z",
     "start_time": "2021-09-14T01:55:34.154854Z"
    }
   },
   "outputs": [
    {
     "data": {
      "text/html": [
       "<div>\n",
       "<style scoped>\n",
       "    .dataframe tbody tr th:only-of-type {\n",
       "        vertical-align: middle;\n",
       "    }\n",
       "\n",
       "    .dataframe tbody tr th {\n",
       "        vertical-align: top;\n",
       "    }\n",
       "\n",
       "    .dataframe thead th {\n",
       "        text-align: right;\n",
       "    }\n",
       "</style>\n",
       "<table border=\"1\" class=\"dataframe\">\n",
       "  <thead>\n",
       "    <tr style=\"text-align: right;\">\n",
       "      <th></th>\n",
       "      <th>Estatura (cm)</th>\n",
       "      <th>Peso (kg)</th>\n",
       "      <th>Talla Zapato (27,28,etc)</th>\n",
       "      <th>Edad</th>\n",
       "    </tr>\n",
       "    <tr>\n",
       "      <th>cl</th>\n",
       "      <th></th>\n",
       "      <th></th>\n",
       "      <th></th>\n",
       "      <th></th>\n",
       "    </tr>\n",
       "  </thead>\n",
       "  <tbody>\n",
       "    <tr>\n",
       "      <th>0</th>\n",
       "      <td>170.636364</td>\n",
       "      <td>68.454545</td>\n",
       "      <td>26.818182</td>\n",
       "      <td>22.545455</td>\n",
       "    </tr>\n",
       "    <tr>\n",
       "      <th>1</th>\n",
       "      <td>177.000000</td>\n",
       "      <td>88.454545</td>\n",
       "      <td>27.318182</td>\n",
       "      <td>23.181818</td>\n",
       "    </tr>\n",
       "    <tr>\n",
       "      <th>2</th>\n",
       "      <td>160.000000</td>\n",
       "      <td>65.000000</td>\n",
       "      <td>40.000000</td>\n",
       "      <td>23.000000</td>\n",
       "    </tr>\n",
       "    <tr>\n",
       "      <th>3</th>\n",
       "      <td>184.000000</td>\n",
       "      <td>58.000000</td>\n",
       "      <td>30.000000</td>\n",
       "      <td>33.000000</td>\n",
       "    </tr>\n",
       "    <tr>\n",
       "      <th>4</th>\n",
       "      <td>155.500000</td>\n",
       "      <td>50.750000</td>\n",
       "      <td>23.375000</td>\n",
       "      <td>23.250000</td>\n",
       "    </tr>\n",
       "  </tbody>\n",
       "</table>\n",
       "</div>"
      ],
      "text/plain": [
       "    Estatura (cm)  Peso (kg)  Talla Zapato (27,28,etc)       Edad\n",
       "cl                                                               \n",
       "0      170.636364  68.454545                 26.818182  22.545455\n",
       "1      177.000000  88.454545                 27.318182  23.181818\n",
       "2      160.000000  65.000000                 40.000000  23.000000\n",
       "3      184.000000  58.000000                 30.000000  33.000000\n",
       "4      155.500000  50.750000                 23.375000  23.250000"
      ]
     },
     "execution_count": 178,
     "metadata": {},
     "output_type": "execute_result"
    }
   ],
   "source": [
    "df[['cl']+varc].groupby('cl').mean()"
   ]
  },
  {
   "cell_type": "code",
   "execution_count": 179,
   "metadata": {
    "ExecuteTime": {
     "end_time": "2021-09-14T01:57:19.275440Z",
     "start_time": "2021-09-14T01:57:18.954690Z"
    }
   },
   "outputs": [
    {
     "data": {
      "text/html": [
       "<div>\n",
       "<style scoped>\n",
       "    .dataframe tbody tr th:only-of-type {\n",
       "        vertical-align: middle;\n",
       "    }\n",
       "\n",
       "    .dataframe tbody tr th {\n",
       "        vertical-align: top;\n",
       "    }\n",
       "\n",
       "    .dataframe thead th {\n",
       "        text-align: right;\n",
       "    }\n",
       "</style>\n",
       "<table border=\"1\" class=\"dataframe\">\n",
       "  <thead>\n",
       "    <tr style=\"text-align: right;\">\n",
       "      <th></th>\n",
       "      <th>Estatura (cm)</th>\n",
       "      <th>Peso (kg)</th>\n",
       "      <th>Talla Zapato (27,28,etc)</th>\n",
       "      <th>Edad</th>\n",
       "    </tr>\n",
       "  </thead>\n",
       "  <tbody>\n",
       "    <tr>\n",
       "      <th>0</th>\n",
       "      <td>170.948718</td>\n",
       "      <td>71.923077</td>\n",
       "      <td>27.025641</td>\n",
       "      <td>23.076923</td>\n",
       "    </tr>\n",
       "  </tbody>\n",
       "</table>\n",
       "</div>"
      ],
      "text/plain": [
       "   Estatura (cm)  Peso (kg)  Talla Zapato (27,28,etc)       Edad\n",
       "0     170.948718  71.923077                 27.025641  23.076923"
      ]
     },
     "execution_count": 179,
     "metadata": {},
     "output_type": "execute_result"
    }
   ],
   "source": [
    "df[varc].mean().to_frame().T"
   ]
  },
  {
   "cell_type": "code",
   "execution_count": 181,
   "metadata": {
    "ExecuteTime": {
     "end_time": "2021-09-14T01:57:35.654620Z",
     "start_time": "2021-09-14T01:57:35.566704Z"
    }
   },
   "outputs": [
    {
     "data": {
      "text/html": [
       "<div>\n",
       "<style scoped>\n",
       "    .dataframe tbody tr th:only-of-type {\n",
       "        vertical-align: middle;\n",
       "    }\n",
       "\n",
       "    .dataframe tbody tr th {\n",
       "        vertical-align: top;\n",
       "    }\n",
       "\n",
       "    .dataframe thead th {\n",
       "        text-align: right;\n",
       "    }\n",
       "</style>\n",
       "<table border=\"1\" class=\"dataframe\">\n",
       "  <thead>\n",
       "    <tr style=\"text-align: right;\">\n",
       "      <th></th>\n",
       "      <th>Estatura (cm)</th>\n",
       "      <th>Peso (kg)</th>\n",
       "      <th>Talla Zapato (27,28,etc)</th>\n",
       "      <th>Edad</th>\n",
       "    </tr>\n",
       "  </thead>\n",
       "  <tbody>\n",
       "    <tr>\n",
       "      <th>0</th>\n",
       "      <td>170.636364</td>\n",
       "      <td>68.454545</td>\n",
       "      <td>26.818182</td>\n",
       "      <td>22.545455</td>\n",
       "    </tr>\n",
       "    <tr>\n",
       "      <th>1</th>\n",
       "      <td>177.000000</td>\n",
       "      <td>88.454545</td>\n",
       "      <td>27.318182</td>\n",
       "      <td>23.181818</td>\n",
       "    </tr>\n",
       "    <tr>\n",
       "      <th>2</th>\n",
       "      <td>160.000000</td>\n",
       "      <td>65.000000</td>\n",
       "      <td>40.000000</td>\n",
       "      <td>23.000000</td>\n",
       "    </tr>\n",
       "    <tr>\n",
       "      <th>3</th>\n",
       "      <td>184.000000</td>\n",
       "      <td>58.000000</td>\n",
       "      <td>30.000000</td>\n",
       "      <td>33.000000</td>\n",
       "    </tr>\n",
       "    <tr>\n",
       "      <th>4</th>\n",
       "      <td>155.500000</td>\n",
       "      <td>50.750000</td>\n",
       "      <td>23.375000</td>\n",
       "      <td>23.250000</td>\n",
       "    </tr>\n",
       "    <tr>\n",
       "      <th>5</th>\n",
       "      <td>170.948718</td>\n",
       "      <td>71.923077</td>\n",
       "      <td>27.025641</td>\n",
       "      <td>23.076923</td>\n",
       "    </tr>\n",
       "  </tbody>\n",
       "</table>\n",
       "</div>"
      ],
      "text/plain": [
       "   Estatura (cm)  Peso (kg)  Talla Zapato (27,28,etc)       Edad\n",
       "0     170.636364  68.454545                 26.818182  22.545455\n",
       "1     177.000000  88.454545                 27.318182  23.181818\n",
       "2     160.000000  65.000000                 40.000000  23.000000\n",
       "3     184.000000  58.000000                 30.000000  33.000000\n",
       "4     155.500000  50.750000                 23.375000  23.250000\n",
       "5     170.948718  71.923077                 27.025641  23.076923"
      ]
     },
     "execution_count": 181,
     "metadata": {},
     "output_type": "execute_result"
    }
   ],
   "source": [
    "pd.concat([df[['cl']+varc].groupby('cl').mean(),df[varc].mean().to_frame().T],ignore_index=True)#.to_clipboard()"
   ]
  },
  {
   "cell_type": "code",
   "execution_count": 182,
   "metadata": {
    "ExecuteTime": {
     "end_time": "2021-09-14T01:57:44.509137Z",
     "start_time": "2021-09-14T01:57:44.286371Z"
    }
   },
   "outputs": [
    {
     "data": {
      "text/html": [
       "<div>\n",
       "<style scoped>\n",
       "    .dataframe tbody tr th:only-of-type {\n",
       "        vertical-align: middle;\n",
       "    }\n",
       "\n",
       "    .dataframe tbody tr th {\n",
       "        vertical-align: top;\n",
       "    }\n",
       "\n",
       "    .dataframe thead th {\n",
       "        text-align: right;\n",
       "    }\n",
       "</style>\n",
       "<table border=\"1\" class=\"dataframe\">\n",
       "  <thead>\n",
       "    <tr style=\"text-align: right;\">\n",
       "      <th>Sexo (H,M)</th>\n",
       "      <th>H</th>\n",
       "      <th>M</th>\n",
       "    </tr>\n",
       "    <tr>\n",
       "      <th>cl</th>\n",
       "      <th></th>\n",
       "      <th></th>\n",
       "    </tr>\n",
       "  </thead>\n",
       "  <tbody>\n",
       "    <tr>\n",
       "      <th>0</th>\n",
       "      <td>20</td>\n",
       "      <td>2</td>\n",
       "    </tr>\n",
       "    <tr>\n",
       "      <th>1</th>\n",
       "      <td>11</td>\n",
       "      <td>0</td>\n",
       "    </tr>\n",
       "    <tr>\n",
       "      <th>2</th>\n",
       "      <td>0</td>\n",
       "      <td>1</td>\n",
       "    </tr>\n",
       "    <tr>\n",
       "      <th>3</th>\n",
       "      <td>1</td>\n",
       "      <td>0</td>\n",
       "    </tr>\n",
       "    <tr>\n",
       "      <th>4</th>\n",
       "      <td>0</td>\n",
       "      <td>4</td>\n",
       "    </tr>\n",
       "  </tbody>\n",
       "</table>\n",
       "</div>"
      ],
      "text/plain": [
       "Sexo (H,M)   H  M\n",
       "cl               \n",
       "0           20  2\n",
       "1           11  0\n",
       "2            0  1\n",
       "3            1  0\n",
       "4            0  4"
      ]
     },
     "execution_count": 182,
     "metadata": {},
     "output_type": "execute_result"
    }
   ],
   "source": [
    "df.pivot_table(index='cl',columns=vard,values='Edad',aggfunc='count',fill_value=0)#.to_clipboard()"
   ]
  },
  {
   "cell_type": "code",
   "execution_count": null,
   "metadata": {},
   "outputs": [],
   "source": []
  }
 ],
 "metadata": {
  "kernelspec": {
   "display_name": "env",
   "language": "python",
   "name": "env"
  },
  "language_info": {
   "codemirror_mode": {
    "name": "ipython",
    "version": 3
   },
   "file_extension": ".py",
   "mimetype": "text/x-python",
   "name": "python",
   "nbconvert_exporter": "python",
   "pygments_lexer": "ipython3",
   "version": "3.7.3"
  },
  "toc": {
   "base_numbering": 1,
   "nav_menu": {},
   "number_sections": true,
   "sideBar": true,
   "skip_h1_title": false,
   "title_cell": "Table of Contents",
   "title_sidebar": "Contents",
   "toc_cell": false,
   "toc_position": {
    "height": "calc(100% - 180px)",
    "left": "10px",
    "top": "150px",
    "width": "273.2px"
   },
   "toc_section_display": true,
   "toc_window_display": true
  }
 },
 "nbformat": 4,
 "nbformat_minor": 4
}
