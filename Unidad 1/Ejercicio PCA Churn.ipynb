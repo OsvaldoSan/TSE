{
 "cells": [
  {
   "cell_type": "markdown",
   "metadata": {},
   "source": [
    "## Librerías"
   ]
  },
  {
   "cell_type": "code",
   "execution_count": 2,
   "metadata": {
    "ExecuteTime": {
     "end_time": "2020-09-24T02:44:38.511328Z",
     "start_time": "2020-09-24T02:44:37.049657Z"
    }
   },
   "outputs": [],
   "source": [
    "import numpy\n",
    "import pandas as pd\n",
    "from sklearn.preprocessing import StandardScaler\n",
    "from sklearn.decomposition import PCA\n",
    "from datetime import date,datetime\n",
    "from dateutil.relativedelta import relativedelta as rd\n",
    "import seaborn as sns\n",
    "%matplotlib inline"
   ]
  },
  {
   "cell_type": "markdown",
   "metadata": {},
   "source": [
    "## Carga de Datos"
   ]
  },
  {
   "cell_type": "code",
   "execution_count": 3,
   "metadata": {
    "ExecuteTime": {
     "end_time": "2020-09-24T02:44:40.953392Z",
     "start_time": "2020-09-24T02:44:40.183534Z"
    }
   },
   "outputs": [],
   "source": [
    "df = pd.read_excel('data/churn.xlsx')"
   ]
  },
  {
   "cell_type": "code",
   "execution_count": 4,
   "metadata": {
    "ExecuteTime": {
     "end_time": "2020-09-24T02:44:44.324509Z",
     "start_time": "2020-09-24T02:44:44.309346Z"
    }
   },
   "outputs": [
    {
     "data": {
      "text/plain": [
       "(2801, 14)"
      ]
     },
     "execution_count": 4,
     "metadata": {},
     "output_type": "execute_result"
    }
   ],
   "source": [
    "df.shape"
   ]
  },
  {
   "cell_type": "code",
   "execution_count": 5,
   "metadata": {
    "ExecuteTime": {
     "end_time": "2020-09-24T02:44:48.164500Z",
     "start_time": "2020-09-24T02:44:48.142432Z"
    }
   },
   "outputs": [
    {
     "data": {
      "text/html": [
       "<div>\n",
       "<style scoped>\n",
       "    .dataframe tbody tr th:only-of-type {\n",
       "        vertical-align: middle;\n",
       "    }\n",
       "\n",
       "    .dataframe tbody tr th {\n",
       "        vertical-align: top;\n",
       "    }\n",
       "\n",
       "    .dataframe thead th {\n",
       "        text-align: right;\n",
       "    }\n",
       "</style>\n",
       "<table border=\"1\" class=\"dataframe\">\n",
       "  <thead>\n",
       "    <tr style=\"text-align: right;\">\n",
       "      <th></th>\n",
       "      <th>V_ACCT_LGHT</th>\n",
       "      <th>C_IP</th>\n",
       "      <th>C_VMP</th>\n",
       "      <th>V_N_VM_MESS</th>\n",
       "      <th>V_T_DAY_CHG</th>\n",
       "      <th>V_T_EVE_CALLS</th>\n",
       "      <th>V_T_EVE_CHG</th>\n",
       "      <th>V_T_NIG_CALLS</th>\n",
       "      <th>V_T_NIG_CHG</th>\n",
       "      <th>V_T_INT_CALLS</th>\n",
       "      <th>V_T_INT_CHG</th>\n",
       "      <th>V_CS_CALLS</th>\n",
       "      <th>TARGET</th>\n",
       "      <th>ID</th>\n",
       "    </tr>\n",
       "  </thead>\n",
       "  <tbody>\n",
       "    <tr>\n",
       "      <th>0</th>\n",
       "      <td>128</td>\n",
       "      <td>No</td>\n",
       "      <td>Yes</td>\n",
       "      <td>25</td>\n",
       "      <td>45.07</td>\n",
       "      <td>99</td>\n",
       "      <td>16.78</td>\n",
       "      <td>91</td>\n",
       "      <td>11.01</td>\n",
       "      <td>3</td>\n",
       "      <td>2.70</td>\n",
       "      <td>1</td>\n",
       "      <td>0</td>\n",
       "      <td>1</td>\n",
       "    </tr>\n",
       "    <tr>\n",
       "      <th>1</th>\n",
       "      <td>107</td>\n",
       "      <td>No</td>\n",
       "      <td>Yes</td>\n",
       "      <td>26</td>\n",
       "      <td>27.47</td>\n",
       "      <td>103</td>\n",
       "      <td>16.62</td>\n",
       "      <td>103</td>\n",
       "      <td>11.45</td>\n",
       "      <td>3</td>\n",
       "      <td>3.70</td>\n",
       "      <td>1</td>\n",
       "      <td>0</td>\n",
       "      <td>2</td>\n",
       "    </tr>\n",
       "    <tr>\n",
       "      <th>2</th>\n",
       "      <td>137</td>\n",
       "      <td>No</td>\n",
       "      <td>No</td>\n",
       "      <td>0</td>\n",
       "      <td>41.38</td>\n",
       "      <td>110</td>\n",
       "      <td>10.30</td>\n",
       "      <td>104</td>\n",
       "      <td>7.32</td>\n",
       "      <td>5</td>\n",
       "      <td>3.29</td>\n",
       "      <td>0</td>\n",
       "      <td>0</td>\n",
       "      <td>3</td>\n",
       "    </tr>\n",
       "    <tr>\n",
       "      <th>3</th>\n",
       "      <td>65</td>\n",
       "      <td>No</td>\n",
       "      <td>No</td>\n",
       "      <td>0</td>\n",
       "      <td>21.95</td>\n",
       "      <td>83</td>\n",
       "      <td>19.42</td>\n",
       "      <td>111</td>\n",
       "      <td>9.40</td>\n",
       "      <td>6</td>\n",
       "      <td>3.43</td>\n",
       "      <td>4</td>\n",
       "      <td>1</td>\n",
       "      <td>11</td>\n",
       "    </tr>\n",
       "    <tr>\n",
       "      <th>4</th>\n",
       "      <td>168</td>\n",
       "      <td>No</td>\n",
       "      <td>No</td>\n",
       "      <td>0</td>\n",
       "      <td>21.90</td>\n",
       "      <td>71</td>\n",
       "      <td>8.92</td>\n",
       "      <td>128</td>\n",
       "      <td>6.35</td>\n",
       "      <td>2</td>\n",
       "      <td>3.02</td>\n",
       "      <td>1</td>\n",
       "      <td>0</td>\n",
       "      <td>13</td>\n",
       "    </tr>\n",
       "  </tbody>\n",
       "</table>\n",
       "</div>"
      ],
      "text/plain": [
       "   V_ACCT_LGHT C_IP C_VMP  V_N_VM_MESS  V_T_DAY_CHG  V_T_EVE_CALLS  \\\n",
       "0          128   No   Yes           25        45.07             99   \n",
       "1          107   No   Yes           26        27.47            103   \n",
       "2          137   No    No            0        41.38            110   \n",
       "3           65   No    No            0        21.95             83   \n",
       "4          168   No    No            0        21.90             71   \n",
       "\n",
       "   V_T_EVE_CHG  V_T_NIG_CALLS  V_T_NIG_CHG  V_T_INT_CALLS  V_T_INT_CHG  \\\n",
       "0        16.78             91        11.01              3         2.70   \n",
       "1        16.62            103        11.45              3         3.70   \n",
       "2        10.30            104         7.32              5         3.29   \n",
       "3        19.42            111         9.40              6         3.43   \n",
       "4         8.92            128         6.35              2         3.02   \n",
       "\n",
       "   V_CS_CALLS  TARGET  ID  \n",
       "0           1       0   1  \n",
       "1           1       0   2  \n",
       "2           0       0   3  \n",
       "3           4       1  11  \n",
       "4           1       0  13  "
      ]
     },
     "execution_count": 5,
     "metadata": {},
     "output_type": "execute_result"
    }
   ],
   "source": [
    "df.head()"
   ]
  },
  {
   "cell_type": "markdown",
   "metadata": {},
   "source": [
    "## Análisis Básico"
   ]
  },
  {
   "cell_type": "code",
   "execution_count": 6,
   "metadata": {
    "ExecuteTime": {
     "end_time": "2020-09-24T02:47:04.638594Z",
     "start_time": "2020-09-24T02:47:04.620264Z"
    }
   },
   "outputs": [
    {
     "data": {
      "text/html": [
       "<div>\n",
       "<style scoped>\n",
       "    .dataframe tbody tr th:only-of-type {\n",
       "        vertical-align: middle;\n",
       "    }\n",
       "\n",
       "    .dataframe tbody tr th {\n",
       "        vertical-align: top;\n",
       "    }\n",
       "\n",
       "    .dataframe thead th {\n",
       "        text-align: right;\n",
       "    }\n",
       "</style>\n",
       "<table border=\"1\" class=\"dataframe\">\n",
       "  <thead>\n",
       "    <tr style=\"text-align: right;\">\n",
       "      <th></th>\n",
       "      <th>V_ACCT_LGHT</th>\n",
       "      <th>C_IP</th>\n",
       "      <th>C_VMP</th>\n",
       "      <th>V_N_VM_MESS</th>\n",
       "      <th>V_T_DAY_CHG</th>\n",
       "      <th>V_T_EVE_CALLS</th>\n",
       "      <th>V_T_EVE_CHG</th>\n",
       "      <th>V_T_NIG_CALLS</th>\n",
       "      <th>V_T_NIG_CHG</th>\n",
       "      <th>V_T_INT_CALLS</th>\n",
       "      <th>V_T_INT_CHG</th>\n",
       "      <th>V_CS_CALLS</th>\n",
       "      <th>TARGET</th>\n",
       "      <th>ID</th>\n",
       "    </tr>\n",
       "  </thead>\n",
       "  <tbody>\n",
       "    <tr>\n",
       "      <th>0</th>\n",
       "      <td>128</td>\n",
       "      <td>No</td>\n",
       "      <td>Yes</td>\n",
       "      <td>25</td>\n",
       "      <td>45.07</td>\n",
       "      <td>99</td>\n",
       "      <td>16.78</td>\n",
       "      <td>91</td>\n",
       "      <td>11.01</td>\n",
       "      <td>3</td>\n",
       "      <td>2.70</td>\n",
       "      <td>1</td>\n",
       "      <td>0</td>\n",
       "      <td>1</td>\n",
       "    </tr>\n",
       "    <tr>\n",
       "      <th>1</th>\n",
       "      <td>107</td>\n",
       "      <td>No</td>\n",
       "      <td>Yes</td>\n",
       "      <td>26</td>\n",
       "      <td>27.47</td>\n",
       "      <td>103</td>\n",
       "      <td>16.62</td>\n",
       "      <td>103</td>\n",
       "      <td>11.45</td>\n",
       "      <td>3</td>\n",
       "      <td>3.70</td>\n",
       "      <td>1</td>\n",
       "      <td>0</td>\n",
       "      <td>2</td>\n",
       "    </tr>\n",
       "    <tr>\n",
       "      <th>2</th>\n",
       "      <td>137</td>\n",
       "      <td>No</td>\n",
       "      <td>No</td>\n",
       "      <td>0</td>\n",
       "      <td>41.38</td>\n",
       "      <td>110</td>\n",
       "      <td>10.30</td>\n",
       "      <td>104</td>\n",
       "      <td>7.32</td>\n",
       "      <td>5</td>\n",
       "      <td>3.29</td>\n",
       "      <td>0</td>\n",
       "      <td>0</td>\n",
       "      <td>3</td>\n",
       "    </tr>\n",
       "    <tr>\n",
       "      <th>3</th>\n",
       "      <td>65</td>\n",
       "      <td>No</td>\n",
       "      <td>No</td>\n",
       "      <td>0</td>\n",
       "      <td>21.95</td>\n",
       "      <td>83</td>\n",
       "      <td>19.42</td>\n",
       "      <td>111</td>\n",
       "      <td>9.40</td>\n",
       "      <td>6</td>\n",
       "      <td>3.43</td>\n",
       "      <td>4</td>\n",
       "      <td>1</td>\n",
       "      <td>11</td>\n",
       "    </tr>\n",
       "    <tr>\n",
       "      <th>4</th>\n",
       "      <td>168</td>\n",
       "      <td>No</td>\n",
       "      <td>No</td>\n",
       "      <td>0</td>\n",
       "      <td>21.90</td>\n",
       "      <td>71</td>\n",
       "      <td>8.92</td>\n",
       "      <td>128</td>\n",
       "      <td>6.35</td>\n",
       "      <td>2</td>\n",
       "      <td>3.02</td>\n",
       "      <td>1</td>\n",
       "      <td>0</td>\n",
       "      <td>13</td>\n",
       "    </tr>\n",
       "  </tbody>\n",
       "</table>\n",
       "</div>"
      ],
      "text/plain": [
       "   V_ACCT_LGHT C_IP C_VMP  V_N_VM_MESS  V_T_DAY_CHG  V_T_EVE_CALLS  \\\n",
       "0          128   No   Yes           25        45.07             99   \n",
       "1          107   No   Yes           26        27.47            103   \n",
       "2          137   No    No            0        41.38            110   \n",
       "3           65   No    No            0        21.95             83   \n",
       "4          168   No    No            0        21.90             71   \n",
       "\n",
       "   V_T_EVE_CHG  V_T_NIG_CALLS  V_T_NIG_CHG  V_T_INT_CALLS  V_T_INT_CHG  \\\n",
       "0        16.78             91        11.01              3         2.70   \n",
       "1        16.62            103        11.45              3         3.70   \n",
       "2        10.30            104         7.32              5         3.29   \n",
       "3        19.42            111         9.40              6         3.43   \n",
       "4         8.92            128         6.35              2         3.02   \n",
       "\n",
       "   V_CS_CALLS  TARGET  ID  \n",
       "0           1       0   1  \n",
       "1           1       0   2  \n",
       "2           0       0   3  \n",
       "3           4       1  11  \n",
       "4           1       0  13  "
      ]
     },
     "execution_count": 6,
     "metadata": {},
     "output_type": "execute_result"
    }
   ],
   "source": [
    "df.head()"
   ]
  },
  {
   "cell_type": "code",
   "execution_count": 7,
   "metadata": {
    "ExecuteTime": {
     "end_time": "2020-09-24T02:47:06.241639Z",
     "start_time": "2020-09-24T02:47:06.175722Z"
    }
   },
   "outputs": [
    {
     "data": {
      "text/html": [
       "<div>\n",
       "<style scoped>\n",
       "    .dataframe tbody tr th:only-of-type {\n",
       "        vertical-align: middle;\n",
       "    }\n",
       "\n",
       "    .dataframe tbody tr th {\n",
       "        vertical-align: top;\n",
       "    }\n",
       "\n",
       "    .dataframe thead th {\n",
       "        text-align: right;\n",
       "    }\n",
       "</style>\n",
       "<table border=\"1\" class=\"dataframe\">\n",
       "  <thead>\n",
       "    <tr style=\"text-align: right;\">\n",
       "      <th></th>\n",
       "      <th>V_ACCT_LGHT</th>\n",
       "      <th>V_N_VM_MESS</th>\n",
       "      <th>V_T_DAY_CHG</th>\n",
       "      <th>V_T_EVE_CALLS</th>\n",
       "      <th>V_T_EVE_CHG</th>\n",
       "      <th>V_T_NIG_CALLS</th>\n",
       "      <th>V_T_NIG_CHG</th>\n",
       "      <th>V_T_INT_CALLS</th>\n",
       "      <th>V_T_INT_CHG</th>\n",
       "      <th>V_CS_CALLS</th>\n",
       "      <th>TARGET</th>\n",
       "      <th>ID</th>\n",
       "    </tr>\n",
       "  </thead>\n",
       "  <tbody>\n",
       "    <tr>\n",
       "      <th>count</th>\n",
       "      <td>2801.000000</td>\n",
       "      <td>2801.000000</td>\n",
       "      <td>2801.000000</td>\n",
       "      <td>2801.000000</td>\n",
       "      <td>2801.000000</td>\n",
       "      <td>2801.000000</td>\n",
       "      <td>2801.000000</td>\n",
       "      <td>2801.000000</td>\n",
       "      <td>2801.000000</td>\n",
       "      <td>2801.000000</td>\n",
       "      <td>2801.000000</td>\n",
       "      <td>2801.000000</td>\n",
       "    </tr>\n",
       "    <tr>\n",
       "      <th>mean</th>\n",
       "      <td>101.033559</td>\n",
       "      <td>7.805784</td>\n",
       "      <td>30.545812</td>\n",
       "      <td>100.234559</td>\n",
       "      <td>17.108693</td>\n",
       "      <td>100.231703</td>\n",
       "      <td>9.025773</td>\n",
       "      <td>4.443770</td>\n",
       "      <td>2.778911</td>\n",
       "      <td>1.544448</td>\n",
       "      <td>0.135309</td>\n",
       "      <td>1674.363442</td>\n",
       "    </tr>\n",
       "    <tr>\n",
       "      <th>std</th>\n",
       "      <td>37.575889</td>\n",
       "      <td>13.349831</td>\n",
       "      <td>8.630344</td>\n",
       "      <td>18.625260</td>\n",
       "      <td>4.043765</td>\n",
       "      <td>18.488439</td>\n",
       "      <td>2.132611</td>\n",
       "      <td>2.276855</td>\n",
       "      <td>0.684567</td>\n",
       "      <td>1.267832</td>\n",
       "      <td>0.342114</td>\n",
       "      <td>957.140286</td>\n",
       "    </tr>\n",
       "    <tr>\n",
       "      <th>min</th>\n",
       "      <td>12.000000</td>\n",
       "      <td>0.000000</td>\n",
       "      <td>8.810000</td>\n",
       "      <td>53.000000</td>\n",
       "      <td>6.740000</td>\n",
       "      <td>57.000000</td>\n",
       "      <td>3.570000</td>\n",
       "      <td>1.000000</td>\n",
       "      <td>0.890000</td>\n",
       "      <td>0.000000</td>\n",
       "      <td>0.000000</td>\n",
       "      <td>1.000000</td>\n",
       "    </tr>\n",
       "    <tr>\n",
       "      <th>25%</th>\n",
       "      <td>74.000000</td>\n",
       "      <td>0.000000</td>\n",
       "      <td>24.480000</td>\n",
       "      <td>87.000000</td>\n",
       "      <td>14.220000</td>\n",
       "      <td>87.000000</td>\n",
       "      <td>7.520000</td>\n",
       "      <td>3.000000</td>\n",
       "      <td>2.320000</td>\n",
       "      <td>1.000000</td>\n",
       "      <td>0.000000</td>\n",
       "      <td>843.000000</td>\n",
       "    </tr>\n",
       "    <tr>\n",
       "      <th>50%</th>\n",
       "      <td>101.000000</td>\n",
       "      <td>0.000000</td>\n",
       "      <td>30.460000</td>\n",
       "      <td>100.000000</td>\n",
       "      <td>17.200000</td>\n",
       "      <td>100.000000</td>\n",
       "      <td>9.040000</td>\n",
       "      <td>4.000000</td>\n",
       "      <td>2.780000</td>\n",
       "      <td>1.000000</td>\n",
       "      <td>0.000000</td>\n",
       "      <td>1684.000000</td>\n",
       "    </tr>\n",
       "    <tr>\n",
       "      <th>75%</th>\n",
       "      <td>127.000000</td>\n",
       "      <td>18.000000</td>\n",
       "      <td>36.670000</td>\n",
       "      <td>113.000000</td>\n",
       "      <td>19.980000</td>\n",
       "      <td>113.000000</td>\n",
       "      <td>10.540000</td>\n",
       "      <td>6.000000</td>\n",
       "      <td>3.240000</td>\n",
       "      <td>2.000000</td>\n",
       "      <td>0.000000</td>\n",
       "      <td>2495.000000</td>\n",
       "    </tr>\n",
       "    <tr>\n",
       "      <th>max</th>\n",
       "      <td>195.000000</td>\n",
       "      <td>43.000000</td>\n",
       "      <td>51.880000</td>\n",
       "      <td>147.000000</td>\n",
       "      <td>27.120000</td>\n",
       "      <td>147.000000</td>\n",
       "      <td>14.300000</td>\n",
       "      <td>13.000000</td>\n",
       "      <td>4.510000</td>\n",
       "      <td>6.000000</td>\n",
       "      <td>1.000000</td>\n",
       "      <td>3333.000000</td>\n",
       "    </tr>\n",
       "  </tbody>\n",
       "</table>\n",
       "</div>"
      ],
      "text/plain": [
       "       V_ACCT_LGHT  V_N_VM_MESS  V_T_DAY_CHG  V_T_EVE_CALLS  V_T_EVE_CHG  \\\n",
       "count  2801.000000  2801.000000  2801.000000    2801.000000  2801.000000   \n",
       "mean    101.033559     7.805784    30.545812     100.234559    17.108693   \n",
       "std      37.575889    13.349831     8.630344      18.625260     4.043765   \n",
       "min      12.000000     0.000000     8.810000      53.000000     6.740000   \n",
       "25%      74.000000     0.000000    24.480000      87.000000    14.220000   \n",
       "50%     101.000000     0.000000    30.460000     100.000000    17.200000   \n",
       "75%     127.000000    18.000000    36.670000     113.000000    19.980000   \n",
       "max     195.000000    43.000000    51.880000     147.000000    27.120000   \n",
       "\n",
       "       V_T_NIG_CALLS  V_T_NIG_CHG  V_T_INT_CALLS  V_T_INT_CHG   V_CS_CALLS  \\\n",
       "count    2801.000000  2801.000000    2801.000000  2801.000000  2801.000000   \n",
       "mean      100.231703     9.025773       4.443770     2.778911     1.544448   \n",
       "std        18.488439     2.132611       2.276855     0.684567     1.267832   \n",
       "min        57.000000     3.570000       1.000000     0.890000     0.000000   \n",
       "25%        87.000000     7.520000       3.000000     2.320000     1.000000   \n",
       "50%       100.000000     9.040000       4.000000     2.780000     1.000000   \n",
       "75%       113.000000    10.540000       6.000000     3.240000     2.000000   \n",
       "max       147.000000    14.300000      13.000000     4.510000     6.000000   \n",
       "\n",
       "            TARGET           ID  \n",
       "count  2801.000000  2801.000000  \n",
       "mean      0.135309  1674.363442  \n",
       "std       0.342114   957.140286  \n",
       "min       0.000000     1.000000  \n",
       "25%       0.000000   843.000000  \n",
       "50%       0.000000  1684.000000  \n",
       "75%       0.000000  2495.000000  \n",
       "max       1.000000  3333.000000  "
      ]
     },
     "execution_count": 7,
     "metadata": {},
     "output_type": "execute_result"
    }
   ],
   "source": [
    "df.describe()"
   ]
  },
  {
   "cell_type": "code",
   "execution_count": 8,
   "metadata": {
    "ExecuteTime": {
     "end_time": "2020-09-24T02:47:23.314402Z",
     "start_time": "2020-09-24T02:47:20.526363Z"
    }
   },
   "outputs": [
    {
     "data": {
      "text/plain": [
       "array([[<AxesSubplot:title={'center':'V_ACCT_LGHT'}>,\n",
       "        <AxesSubplot:title={'center':'V_N_VM_MESS'}>,\n",
       "        <AxesSubplot:title={'center':'V_T_DAY_CHG'}>],\n",
       "       [<AxesSubplot:title={'center':'V_T_EVE_CALLS'}>,\n",
       "        <AxesSubplot:title={'center':'V_T_EVE_CHG'}>,\n",
       "        <AxesSubplot:title={'center':'V_T_NIG_CALLS'}>],\n",
       "       [<AxesSubplot:title={'center':'V_T_NIG_CHG'}>,\n",
       "        <AxesSubplot:title={'center':'V_T_INT_CALLS'}>,\n",
       "        <AxesSubplot:title={'center':'V_T_INT_CHG'}>],\n",
       "       [<AxesSubplot:title={'center':'V_CS_CALLS'}>,\n",
       "        <AxesSubplot:title={'center':'TARGET'}>,\n",
       "        <AxesSubplot:title={'center':'ID'}>]], dtype=object)"
      ]
     },
     "execution_count": 8,
     "metadata": {},
     "output_type": "execute_result"
    },
    {
     "data": {
      "image/png": "[encoded data removed]",
      "text/plain": [
       "<Figure size 1440x1440 with 12 Axes>"
      ]
     },
     "metadata": {
      "needs_background": "light"
     },
     "output_type": "display_data"
    }
   ],
   "source": [
    "df.hist(figsize=(20,20))"
   ]
  },
  {
   "cell_type": "code",
   "execution_count": 10,
   "metadata": {
    "ExecuteTime": {
     "end_time": "2020-09-24T02:47:48.142142Z",
     "start_time": "2020-09-24T02:47:48.134260Z"
    }
   },
   "outputs": [
    {
     "data": {
      "text/plain": [
       "0    0.864691\n",
       "1    0.135309\n",
       "Name: TARGET, dtype: float64"
      ]
     },
     "execution_count": 10,
     "metadata": {},
     "output_type": "execute_result"
    }
   ],
   "source": [
    "df['TARGET'].value_counts(True)"
   ]
  },
  {
   "cell_type": "markdown",
   "metadata": {},
   "source": [
    "## Reducción de Dimensiones"
   ]
  },
  {
   "cell_type": "markdown",
   "metadata": {},
   "source": [
    "### Definición de escala de variables"
   ]
  },
  {
   "cell_type": "code",
   "execution_count": 12,
   "metadata": {
    "ExecuteTime": {
     "end_time": "2020-09-24T02:48:43.133100Z",
     "start_time": "2020-09-24T02:48:43.128814Z"
    }
   },
   "outputs": [],
   "source": [
    "varc = [v for v in df.columns if v[:2]=='V_']\n",
    "vard = [v for v in df.columns if v[:2]=='C_']"
   ]
  },
  {
   "cell_type": "code",
   "execution_count": 13,
   "metadata": {
    "ExecuteTime": {
     "end_time": "2020-09-24T02:48:54.352262Z",
     "start_time": "2020-09-24T02:48:54.345179Z"
    }
   },
   "outputs": [
    {
     "data": {
      "text/plain": [
       "10"
      ]
     },
     "execution_count": 13,
     "metadata": {},
     "output_type": "execute_result"
    }
   ],
   "source": [
    "len(varc)"
   ]
  },
  {
   "cell_type": "markdown",
   "metadata": {},
   "source": [
    "### Matriz de Trabajo"
   ]
  },
  {
   "cell_type": "code",
   "execution_count": 14,
   "metadata": {
    "ExecuteTime": {
     "end_time": "2020-09-24T02:49:10.115969Z",
     "start_time": "2020-09-24T02:49:10.110036Z"
    }
   },
   "outputs": [],
   "source": [
    "X = df[varc].copy()"
   ]
  },
  {
   "cell_type": "code",
   "execution_count": 15,
   "metadata": {
    "ExecuteTime": {
     "end_time": "2020-09-24T02:49:10.687266Z",
     "start_time": "2020-09-24T02:49:10.671747Z"
    }
   },
   "outputs": [
    {
     "data": {
      "text/html": [
       "<div>\n",
       "<style scoped>\n",
       "    .dataframe tbody tr th:only-of-type {\n",
       "        vertical-align: middle;\n",
       "    }\n",
       "\n",
       "    .dataframe tbody tr th {\n",
       "        vertical-align: top;\n",
       "    }\n",
       "\n",
       "    .dataframe thead th {\n",
       "        text-align: right;\n",
       "    }\n",
       "</style>\n",
       "<table border=\"1\" class=\"dataframe\">\n",
       "  <thead>\n",
       "    <tr style=\"text-align: right;\">\n",
       "      <th></th>\n",
       "      <th>V_ACCT_LGHT</th>\n",
       "      <th>V_N_VM_MESS</th>\n",
       "      <th>V_T_DAY_CHG</th>\n",
       "      <th>V_T_EVE_CALLS</th>\n",
       "      <th>V_T_EVE_CHG</th>\n",
       "      <th>V_T_NIG_CALLS</th>\n",
       "      <th>V_T_NIG_CHG</th>\n",
       "      <th>V_T_INT_CALLS</th>\n",
       "      <th>V_T_INT_CHG</th>\n",
       "      <th>V_CS_CALLS</th>\n",
       "    </tr>\n",
       "  </thead>\n",
       "  <tbody>\n",
       "    <tr>\n",
       "      <th>0</th>\n",
       "      <td>128</td>\n",
       "      <td>25</td>\n",
       "      <td>45.07</td>\n",
       "      <td>99</td>\n",
       "      <td>16.78</td>\n",
       "      <td>91</td>\n",
       "      <td>11.01</td>\n",
       "      <td>3</td>\n",
       "      <td>2.70</td>\n",
       "      <td>1</td>\n",
       "    </tr>\n",
       "    <tr>\n",
       "      <th>1</th>\n",
       "      <td>107</td>\n",
       "      <td>26</td>\n",
       "      <td>27.47</td>\n",
       "      <td>103</td>\n",
       "      <td>16.62</td>\n",
       "      <td>103</td>\n",
       "      <td>11.45</td>\n",
       "      <td>3</td>\n",
       "      <td>3.70</td>\n",
       "      <td>1</td>\n",
       "    </tr>\n",
       "    <tr>\n",
       "      <th>2</th>\n",
       "      <td>137</td>\n",
       "      <td>0</td>\n",
       "      <td>41.38</td>\n",
       "      <td>110</td>\n",
       "      <td>10.30</td>\n",
       "      <td>104</td>\n",
       "      <td>7.32</td>\n",
       "      <td>5</td>\n",
       "      <td>3.29</td>\n",
       "      <td>0</td>\n",
       "    </tr>\n",
       "    <tr>\n",
       "      <th>3</th>\n",
       "      <td>65</td>\n",
       "      <td>0</td>\n",
       "      <td>21.95</td>\n",
       "      <td>83</td>\n",
       "      <td>19.42</td>\n",
       "      <td>111</td>\n",
       "      <td>9.40</td>\n",
       "      <td>6</td>\n",
       "      <td>3.43</td>\n",
       "      <td>4</td>\n",
       "    </tr>\n",
       "    <tr>\n",
       "      <th>4</th>\n",
       "      <td>168</td>\n",
       "      <td>0</td>\n",
       "      <td>21.90</td>\n",
       "      <td>71</td>\n",
       "      <td>8.92</td>\n",
       "      <td>128</td>\n",
       "      <td>6.35</td>\n",
       "      <td>2</td>\n",
       "      <td>3.02</td>\n",
       "      <td>1</td>\n",
       "    </tr>\n",
       "  </tbody>\n",
       "</table>\n",
       "</div>"
      ],
      "text/plain": [
       "   V_ACCT_LGHT  V_N_VM_MESS  V_T_DAY_CHG  V_T_EVE_CALLS  V_T_EVE_CHG  \\\n",
       "0          128           25        45.07             99        16.78   \n",
       "1          107           26        27.47            103        16.62   \n",
       "2          137            0        41.38            110        10.30   \n",
       "3           65            0        21.95             83        19.42   \n",
       "4          168            0        21.90             71         8.92   \n",
       "\n",
       "   V_T_NIG_CALLS  V_T_NIG_CHG  V_T_INT_CALLS  V_T_INT_CHG  V_CS_CALLS  \n",
       "0             91        11.01              3         2.70           1  \n",
       "1            103        11.45              3         3.70           1  \n",
       "2            104         7.32              5         3.29           0  \n",
       "3            111         9.40              6         3.43           4  \n",
       "4            128         6.35              2         3.02           1  "
      ]
     },
     "execution_count": 15,
     "metadata": {},
     "output_type": "execute_result"
    }
   ],
   "source": [
    "X.head()"
   ]
  },
  {
   "cell_type": "markdown",
   "metadata": {},
   "source": [
    "### Análisis de correlación lineal "
   ]
  },
  {
   "cell_type": "markdown",
   "metadata": {},
   "source": [
    "$\\rho_{x,y}=\\frac{Cov(x,y)}{\\sigma_x,\\sigma_y}$ Coef. de correl. de Pearson"
   ]
  },
  {
   "cell_type": "code",
   "execution_count": 16,
   "metadata": {
    "ExecuteTime": {
     "end_time": "2020-09-24T02:49:12.258137Z",
     "start_time": "2020-09-24T02:49:12.242878Z"
    }
   },
   "outputs": [
    {
     "data": {
      "text/html": [
       "<div>\n",
       "<style scoped>\n",
       "    .dataframe tbody tr th:only-of-type {\n",
       "        vertical-align: middle;\n",
       "    }\n",
       "\n",
       "    .dataframe tbody tr th {\n",
       "        vertical-align: top;\n",
       "    }\n",
       "\n",
       "    .dataframe thead th {\n",
       "        text-align: right;\n",
       "    }\n",
       "</style>\n",
       "<table border=\"1\" class=\"dataframe\">\n",
       "  <thead>\n",
       "    <tr style=\"text-align: right;\">\n",
       "      <th></th>\n",
       "      <th>V_ACCT_LGHT</th>\n",
       "      <th>V_N_VM_MESS</th>\n",
       "      <th>V_T_DAY_CHG</th>\n",
       "      <th>V_T_EVE_CALLS</th>\n",
       "      <th>V_T_EVE_CHG</th>\n",
       "      <th>V_T_NIG_CALLS</th>\n",
       "      <th>V_T_NIG_CHG</th>\n",
       "      <th>V_T_INT_CALLS</th>\n",
       "      <th>V_T_INT_CHG</th>\n",
       "      <th>V_CS_CALLS</th>\n",
       "    </tr>\n",
       "  </thead>\n",
       "  <tbody>\n",
       "    <tr>\n",
       "      <th>V_ACCT_LGHT</th>\n",
       "      <td>1.000000</td>\n",
       "      <td>0.006403</td>\n",
       "      <td>0.010144</td>\n",
       "      <td>0.038824</td>\n",
       "      <td>-0.001538</td>\n",
       "      <td>0.002904</td>\n",
       "      <td>-0.018335</td>\n",
       "      <td>0.024117</td>\n",
       "      <td>0.018412</td>\n",
       "      <td>-0.012671</td>\n",
       "    </tr>\n",
       "    <tr>\n",
       "      <th>V_N_VM_MESS</th>\n",
       "      <td>0.006403</td>\n",
       "      <td>1.000000</td>\n",
       "      <td>-0.000774</td>\n",
       "      <td>-0.010961</td>\n",
       "      <td>0.019215</td>\n",
       "      <td>-0.000553</td>\n",
       "      <td>-0.001205</td>\n",
       "      <td>0.011003</td>\n",
       "      <td>0.005651</td>\n",
       "      <td>-0.009471</td>\n",
       "    </tr>\n",
       "    <tr>\n",
       "      <th>V_T_DAY_CHG</th>\n",
       "      <td>0.010144</td>\n",
       "      <td>-0.000774</td>\n",
       "      <td>1.000000</td>\n",
       "      <td>0.010303</td>\n",
       "      <td>0.005383</td>\n",
       "      <td>0.008111</td>\n",
       "      <td>0.002601</td>\n",
       "      <td>0.002464</td>\n",
       "      <td>-0.001028</td>\n",
       "      <td>-0.013518</td>\n",
       "    </tr>\n",
       "    <tr>\n",
       "      <th>V_T_EVE_CALLS</th>\n",
       "      <td>0.038824</td>\n",
       "      <td>-0.010961</td>\n",
       "      <td>0.010303</td>\n",
       "      <td>1.000000</td>\n",
       "      <td>-0.007616</td>\n",
       "      <td>0.007311</td>\n",
       "      <td>0.012856</td>\n",
       "      <td>0.000585</td>\n",
       "      <td>-0.018310</td>\n",
       "      <td>-0.015075</td>\n",
       "    </tr>\n",
       "    <tr>\n",
       "      <th>V_T_EVE_CHG</th>\n",
       "      <td>-0.001538</td>\n",
       "      <td>0.019215</td>\n",
       "      <td>0.005383</td>\n",
       "      <td>-0.007616</td>\n",
       "      <td>1.000000</td>\n",
       "      <td>-0.012306</td>\n",
       "      <td>-0.014571</td>\n",
       "      <td>0.020250</td>\n",
       "      <td>-0.000887</td>\n",
       "      <td>-0.030214</td>\n",
       "    </tr>\n",
       "    <tr>\n",
       "      <th>V_T_NIG_CALLS</th>\n",
       "      <td>0.002904</td>\n",
       "      <td>-0.000553</td>\n",
       "      <td>0.008111</td>\n",
       "      <td>0.007311</td>\n",
       "      <td>-0.012306</td>\n",
       "      <td>1.000000</td>\n",
       "      <td>0.011997</td>\n",
       "      <td>-0.002452</td>\n",
       "      <td>0.002729</td>\n",
       "      <td>-0.015318</td>\n",
       "    </tr>\n",
       "    <tr>\n",
       "      <th>V_T_NIG_CHG</th>\n",
       "      <td>-0.018335</td>\n",
       "      <td>-0.001205</td>\n",
       "      <td>0.002601</td>\n",
       "      <td>0.012856</td>\n",
       "      <td>-0.014571</td>\n",
       "      <td>0.011997</td>\n",
       "      <td>1.000000</td>\n",
       "      <td>0.002556</td>\n",
       "      <td>-0.027299</td>\n",
       "      <td>-0.027155</td>\n",
       "    </tr>\n",
       "    <tr>\n",
       "      <th>V_T_INT_CALLS</th>\n",
       "      <td>0.024117</td>\n",
       "      <td>0.011003</td>\n",
       "      <td>0.002464</td>\n",
       "      <td>0.000585</td>\n",
       "      <td>0.020250</td>\n",
       "      <td>-0.002452</td>\n",
       "      <td>0.002556</td>\n",
       "      <td>1.000000</td>\n",
       "      <td>-0.008221</td>\n",
       "      <td>-0.003557</td>\n",
       "    </tr>\n",
       "    <tr>\n",
       "      <th>V_T_INT_CHG</th>\n",
       "      <td>0.018412</td>\n",
       "      <td>0.005651</td>\n",
       "      <td>-0.001028</td>\n",
       "      <td>-0.018310</td>\n",
       "      <td>-0.000887</td>\n",
       "      <td>0.002729</td>\n",
       "      <td>-0.027299</td>\n",
       "      <td>-0.008221</td>\n",
       "      <td>1.000000</td>\n",
       "      <td>-0.009003</td>\n",
       "    </tr>\n",
       "    <tr>\n",
       "      <th>V_CS_CALLS</th>\n",
       "      <td>-0.012671</td>\n",
       "      <td>-0.009471</td>\n",
       "      <td>-0.013518</td>\n",
       "      <td>-0.015075</td>\n",
       "      <td>-0.030214</td>\n",
       "      <td>-0.015318</td>\n",
       "      <td>-0.027155</td>\n",
       "      <td>-0.003557</td>\n",
       "      <td>-0.009003</td>\n",
       "      <td>1.000000</td>\n",
       "    </tr>\n",
       "  </tbody>\n",
       "</table>\n",
       "</div>"
      ],
      "text/plain": [
       "               V_ACCT_LGHT  V_N_VM_MESS  V_T_DAY_CHG  V_T_EVE_CALLS  \\\n",
       "V_ACCT_LGHT       1.000000     0.006403     0.010144       0.038824   \n",
       "V_N_VM_MESS       0.006403     1.000000    -0.000774      -0.010961   \n",
       "V_T_DAY_CHG       0.010144    -0.000774     1.000000       0.010303   \n",
       "V_T_EVE_CALLS     0.038824    -0.010961     0.010303       1.000000   \n",
       "V_T_EVE_CHG      -0.001538     0.019215     0.005383      -0.007616   \n",
       "V_T_NIG_CALLS     0.002904    -0.000553     0.008111       0.007311   \n",
       "V_T_NIG_CHG      -0.018335    -0.001205     0.002601       0.012856   \n",
       "V_T_INT_CALLS     0.024117     0.011003     0.002464       0.000585   \n",
       "V_T_INT_CHG       0.018412     0.005651    -0.001028      -0.018310   \n",
       "V_CS_CALLS       -0.012671    -0.009471    -0.013518      -0.015075   \n",
       "\n",
       "               V_T_EVE_CHG  V_T_NIG_CALLS  V_T_NIG_CHG  V_T_INT_CALLS  \\\n",
       "V_ACCT_LGHT      -0.001538       0.002904    -0.018335       0.024117   \n",
       "V_N_VM_MESS       0.019215      -0.000553    -0.001205       0.011003   \n",
       "V_T_DAY_CHG       0.005383       0.008111     0.002601       0.002464   \n",
       "V_T_EVE_CALLS    -0.007616       0.007311     0.012856       0.000585   \n",
       "V_T_EVE_CHG       1.000000      -0.012306    -0.014571       0.020250   \n",
       "V_T_NIG_CALLS    -0.012306       1.000000     0.011997      -0.002452   \n",
       "V_T_NIG_CHG      -0.014571       0.011997     1.000000       0.002556   \n",
       "V_T_INT_CALLS     0.020250      -0.002452     0.002556       1.000000   \n",
       "V_T_INT_CHG      -0.000887       0.002729    -0.027299      -0.008221   \n",
       "V_CS_CALLS       -0.030214      -0.015318    -0.027155      -0.003557   \n",
       "\n",
       "               V_T_INT_CHG  V_CS_CALLS  \n",
       "V_ACCT_LGHT       0.018412   -0.012671  \n",
       "V_N_VM_MESS       0.005651   -0.009471  \n",
       "V_T_DAY_CHG      -0.001028   -0.013518  \n",
       "V_T_EVE_CALLS    -0.018310   -0.015075  \n",
       "V_T_EVE_CHG      -0.000887   -0.030214  \n",
       "V_T_NIG_CALLS     0.002729   -0.015318  \n",
       "V_T_NIG_CHG      -0.027299   -0.027155  \n",
       "V_T_INT_CALLS    -0.008221   -0.003557  \n",
       "V_T_INT_CHG       1.000000   -0.009003  \n",
       "V_CS_CALLS       -0.009003    1.000000  "
      ]
     },
     "execution_count": 16,
     "metadata": {},
     "output_type": "execute_result"
    }
   ],
   "source": [
    "X.corr()"
   ]
  },
  {
   "cell_type": "markdown",
   "metadata": {},
   "source": [
    "### Estandarización"
   ]
  },
  {
   "cell_type": "code",
   "execution_count": 18,
   "metadata": {
    "ExecuteTime": {
     "end_time": "2020-09-24T02:49:20.377695Z",
     "start_time": "2020-09-24T02:49:20.367792Z"
    }
   },
   "outputs": [
    {
     "data": {
      "text/plain": [
       "StandardScaler()"
      ]
     },
     "execution_count": 18,
     "metadata": {},
     "output_type": "execute_result"
    }
   ],
   "source": [
    "sc = StandardScaler()\n",
    "sc.fit(X)"
   ]
  },
  {
   "cell_type": "code",
   "execution_count": 19,
   "metadata": {
    "ExecuteTime": {
     "end_time": "2020-09-24T02:49:21.001858Z",
     "start_time": "2020-09-24T02:49:20.994652Z"
    }
   },
   "outputs": [],
   "source": [
    "Xs = pd.DataFrame(sc.transform(X),columns=varc)"
   ]
  },
  {
   "cell_type": "code",
   "execution_count": 20,
   "metadata": {
    "ExecuteTime": {
     "end_time": "2020-09-24T02:49:21.792603Z",
     "start_time": "2020-09-24T02:49:21.767712Z"
    }
   },
   "outputs": [
    {
     "data": {
      "text/html": [
       "<div>\n",
       "<style scoped>\n",
       "    .dataframe tbody tr th:only-of-type {\n",
       "        vertical-align: middle;\n",
       "    }\n",
       "\n",
       "    .dataframe tbody tr th {\n",
       "        vertical-align: top;\n",
       "    }\n",
       "\n",
       "    .dataframe thead th {\n",
       "        text-align: right;\n",
       "    }\n",
       "</style>\n",
       "<table border=\"1\" class=\"dataframe\">\n",
       "  <thead>\n",
       "    <tr style=\"text-align: right;\">\n",
       "      <th></th>\n",
       "      <th>V_ACCT_LGHT</th>\n",
       "      <th>V_N_VM_MESS</th>\n",
       "      <th>V_T_DAY_CHG</th>\n",
       "      <th>V_T_EVE_CALLS</th>\n",
       "      <th>V_T_EVE_CHG</th>\n",
       "      <th>V_T_NIG_CALLS</th>\n",
       "      <th>V_T_NIG_CHG</th>\n",
       "      <th>V_T_INT_CALLS</th>\n",
       "      <th>V_T_INT_CHG</th>\n",
       "      <th>V_CS_CALLS</th>\n",
       "    </tr>\n",
       "  </thead>\n",
       "  <tbody>\n",
       "    <tr>\n",
       "      <th>0</th>\n",
       "      <td>0.717781</td>\n",
       "      <td>1.288203</td>\n",
       "      <td>1.683222</td>\n",
       "      <td>-0.066296</td>\n",
       "      <td>-0.081298</td>\n",
       "      <td>-0.499412</td>\n",
       "      <td>0.930588</td>\n",
       "      <td>-0.634220</td>\n",
       "      <td>-0.115292</td>\n",
       "      <td>-0.429509</td>\n",
       "    </tr>\n",
       "    <tr>\n",
       "      <th>1</th>\n",
       "      <td>0.158812</td>\n",
       "      <td>1.363123</td>\n",
       "      <td>-0.356459</td>\n",
       "      <td>0.148504</td>\n",
       "      <td>-0.120873</td>\n",
       "      <td>0.149758</td>\n",
       "      <td>1.136944</td>\n",
       "      <td>-0.634220</td>\n",
       "      <td>1.345746</td>\n",
       "      <td>-0.429509</td>\n",
       "    </tr>\n",
       "    <tr>\n",
       "      <th>2</th>\n",
       "      <td>0.957339</td>\n",
       "      <td>-0.584815</td>\n",
       "      <td>1.255584</td>\n",
       "      <td>0.524405</td>\n",
       "      <td>-1.684052</td>\n",
       "      <td>0.203855</td>\n",
       "      <td>-0.799995</td>\n",
       "      <td>0.244341</td>\n",
       "      <td>0.746720</td>\n",
       "      <td>-1.218398</td>\n",
       "    </tr>\n",
       "    <tr>\n",
       "      <th>3</th>\n",
       "      <td>-0.959125</td>\n",
       "      <td>-0.584815</td>\n",
       "      <td>-0.996177</td>\n",
       "      <td>-0.925498</td>\n",
       "      <td>0.571675</td>\n",
       "      <td>0.582538</td>\n",
       "      <td>0.175510</td>\n",
       "      <td>0.683622</td>\n",
       "      <td>0.951266</td>\n",
       "      <td>1.937157</td>\n",
       "    </tr>\n",
       "    <tr>\n",
       "      <th>4</th>\n",
       "      <td>1.782483</td>\n",
       "      <td>-0.584815</td>\n",
       "      <td>-1.001971</td>\n",
       "      <td>-1.569899</td>\n",
       "      <td>-2.025379</td>\n",
       "      <td>1.502196</td>\n",
       "      <td>-1.254917</td>\n",
       "      <td>-1.073501</td>\n",
       "      <td>0.352240</td>\n",
       "      <td>-0.429509</td>\n",
       "    </tr>\n",
       "  </tbody>\n",
       "</table>\n",
       "</div>"
      ],
      "text/plain": [
       "   V_ACCT_LGHT  V_N_VM_MESS  V_T_DAY_CHG  V_T_EVE_CALLS  V_T_EVE_CHG  \\\n",
       "0     0.717781     1.288203     1.683222      -0.066296    -0.081298   \n",
       "1     0.158812     1.363123    -0.356459       0.148504    -0.120873   \n",
       "2     0.957339    -0.584815     1.255584       0.524405    -1.684052   \n",
       "3    -0.959125    -0.584815    -0.996177      -0.925498     0.571675   \n",
       "4     1.782483    -0.584815    -1.001971      -1.569899    -2.025379   \n",
       "\n",
       "   V_T_NIG_CALLS  V_T_NIG_CHG  V_T_INT_CALLS  V_T_INT_CHG  V_CS_CALLS  \n",
       "0      -0.499412     0.930588      -0.634220    -0.115292   -0.429509  \n",
       "1       0.149758     1.136944      -0.634220     1.345746   -0.429509  \n",
       "2       0.203855    -0.799995       0.244341     0.746720   -1.218398  \n",
       "3       0.582538     0.175510       0.683622     0.951266    1.937157  \n",
       "4       1.502196    -1.254917      -1.073501     0.352240   -0.429509  "
      ]
     },
     "execution_count": 20,
     "metadata": {},
     "output_type": "execute_result"
    }
   ],
   "source": [
    "Xs.head()"
   ]
  },
  {
   "cell_type": "code",
   "execution_count": 21,
   "metadata": {
    "ExecuteTime": {
     "end_time": "2020-09-24T02:49:25.866412Z",
     "start_time": "2020-09-24T02:49:25.806029Z"
    }
   },
   "outputs": [
    {
     "data": {
      "text/html": [
       "<div>\n",
       "<style scoped>\n",
       "    .dataframe tbody tr th:only-of-type {\n",
       "        vertical-align: middle;\n",
       "    }\n",
       "\n",
       "    .dataframe tbody tr th {\n",
       "        vertical-align: top;\n",
       "    }\n",
       "\n",
       "    .dataframe thead th {\n",
       "        text-align: right;\n",
       "    }\n",
       "</style>\n",
       "<table border=\"1\" class=\"dataframe\">\n",
       "  <thead>\n",
       "    <tr style=\"text-align: right;\">\n",
       "      <th></th>\n",
       "      <th>V_ACCT_LGHT</th>\n",
       "      <th>V_N_VM_MESS</th>\n",
       "      <th>V_T_DAY_CHG</th>\n",
       "      <th>V_T_EVE_CALLS</th>\n",
       "      <th>V_T_EVE_CHG</th>\n",
       "      <th>V_T_NIG_CALLS</th>\n",
       "      <th>V_T_NIG_CHG</th>\n",
       "      <th>V_T_INT_CALLS</th>\n",
       "      <th>V_T_INT_CHG</th>\n",
       "      <th>V_CS_CALLS</th>\n",
       "    </tr>\n",
       "  </thead>\n",
       "  <tbody>\n",
       "    <tr>\n",
       "      <th>count</th>\n",
       "      <td>2801.00</td>\n",
       "      <td>2801.00</td>\n",
       "      <td>2801.00</td>\n",
       "      <td>2801.00</td>\n",
       "      <td>2801.00</td>\n",
       "      <td>2801.00</td>\n",
       "      <td>2801.00</td>\n",
       "      <td>2801.00</td>\n",
       "      <td>2801.00</td>\n",
       "      <td>2801.00</td>\n",
       "    </tr>\n",
       "    <tr>\n",
       "      <th>mean</th>\n",
       "      <td>0.00</td>\n",
       "      <td>-0.00</td>\n",
       "      <td>-0.00</td>\n",
       "      <td>-0.00</td>\n",
       "      <td>0.00</td>\n",
       "      <td>-0.00</td>\n",
       "      <td>-0.00</td>\n",
       "      <td>0.00</td>\n",
       "      <td>-0.00</td>\n",
       "      <td>-0.00</td>\n",
       "    </tr>\n",
       "    <tr>\n",
       "      <th>std</th>\n",
       "      <td>1.00</td>\n",
       "      <td>1.00</td>\n",
       "      <td>1.00</td>\n",
       "      <td>1.00</td>\n",
       "      <td>1.00</td>\n",
       "      <td>1.00</td>\n",
       "      <td>1.00</td>\n",
       "      <td>1.00</td>\n",
       "      <td>1.00</td>\n",
       "      <td>1.00</td>\n",
       "    </tr>\n",
       "    <tr>\n",
       "      <th>min</th>\n",
       "      <td>-2.37</td>\n",
       "      <td>-0.58</td>\n",
       "      <td>-2.52</td>\n",
       "      <td>-2.54</td>\n",
       "      <td>-2.56</td>\n",
       "      <td>-2.34</td>\n",
       "      <td>-2.56</td>\n",
       "      <td>-1.51</td>\n",
       "      <td>-2.76</td>\n",
       "      <td>-1.22</td>\n",
       "    </tr>\n",
       "    <tr>\n",
       "      <th>25%</th>\n",
       "      <td>-0.72</td>\n",
       "      <td>-0.58</td>\n",
       "      <td>-0.70</td>\n",
       "      <td>-0.71</td>\n",
       "      <td>-0.71</td>\n",
       "      <td>-0.72</td>\n",
       "      <td>-0.71</td>\n",
       "      <td>-0.63</td>\n",
       "      <td>-0.67</td>\n",
       "      <td>-0.43</td>\n",
       "    </tr>\n",
       "    <tr>\n",
       "      <th>50%</th>\n",
       "      <td>-0.00</td>\n",
       "      <td>-0.58</td>\n",
       "      <td>-0.01</td>\n",
       "      <td>-0.01</td>\n",
       "      <td>0.02</td>\n",
       "      <td>-0.01</td>\n",
       "      <td>0.01</td>\n",
       "      <td>-0.19</td>\n",
       "      <td>0.00</td>\n",
       "      <td>-0.43</td>\n",
       "    </tr>\n",
       "    <tr>\n",
       "      <th>75%</th>\n",
       "      <td>0.69</td>\n",
       "      <td>0.76</td>\n",
       "      <td>0.71</td>\n",
       "      <td>0.69</td>\n",
       "      <td>0.71</td>\n",
       "      <td>0.69</td>\n",
       "      <td>0.71</td>\n",
       "      <td>0.68</td>\n",
       "      <td>0.67</td>\n",
       "      <td>0.36</td>\n",
       "    </tr>\n",
       "    <tr>\n",
       "      <th>max</th>\n",
       "      <td>2.50</td>\n",
       "      <td>2.64</td>\n",
       "      <td>2.47</td>\n",
       "      <td>2.51</td>\n",
       "      <td>2.48</td>\n",
       "      <td>2.53</td>\n",
       "      <td>2.47</td>\n",
       "      <td>3.76</td>\n",
       "      <td>2.53</td>\n",
       "      <td>3.51</td>\n",
       "    </tr>\n",
       "  </tbody>\n",
       "</table>\n",
       "</div>"
      ],
      "text/plain": [
       "       V_ACCT_LGHT  V_N_VM_MESS  V_T_DAY_CHG  V_T_EVE_CALLS  V_T_EVE_CHG  \\\n",
       "count      2801.00      2801.00      2801.00        2801.00      2801.00   \n",
       "mean          0.00        -0.00        -0.00          -0.00         0.00   \n",
       "std           1.00         1.00         1.00           1.00         1.00   \n",
       "min          -2.37        -0.58        -2.52          -2.54        -2.56   \n",
       "25%          -0.72        -0.58        -0.70          -0.71        -0.71   \n",
       "50%          -0.00        -0.58        -0.01          -0.01         0.02   \n",
       "75%           0.69         0.76         0.71           0.69         0.71   \n",
       "max           2.50         2.64         2.47           2.51         2.48   \n",
       "\n",
       "       V_T_NIG_CALLS  V_T_NIG_CHG  V_T_INT_CALLS  V_T_INT_CHG  V_CS_CALLS  \n",
       "count        2801.00      2801.00        2801.00      2801.00     2801.00  \n",
       "mean           -0.00        -0.00           0.00        -0.00       -0.00  \n",
       "std             1.00         1.00           1.00         1.00        1.00  \n",
       "min            -2.34        -2.56          -1.51        -2.76       -1.22  \n",
       "25%            -0.72        -0.71          -0.63        -0.67       -0.43  \n",
       "50%            -0.01         0.01          -0.19         0.00       -0.43  \n",
       "75%             0.69         0.71           0.68         0.67        0.36  \n",
       "max             2.53         2.47           3.76         2.53        3.51  "
      ]
     },
     "execution_count": 21,
     "metadata": {},
     "output_type": "execute_result"
    }
   ],
   "source": [
    "Xs.describe().round(2)"
   ]
  },
  {
   "cell_type": "markdown",
   "metadata": {},
   "source": [
    "### Componentes Principales"
   ]
  },
  {
   "cell_type": "code",
   "execution_count": 22,
   "metadata": {
    "ExecuteTime": {
     "end_time": "2020-09-24T02:49:31.904538Z",
     "start_time": "2020-09-24T02:49:31.879250Z"
    }
   },
   "outputs": [
    {
     "data": {
      "text/plain": [
       "PCA()"
      ]
     },
     "execution_count": 22,
     "metadata": {},
     "output_type": "execute_result"
    }
   ],
   "source": [
    "pca = PCA()\n",
    "pca.fit(Xs)"
   ]
  },
  {
   "cell_type": "code",
   "execution_count": 23,
   "metadata": {
    "ExecuteTime": {
     "end_time": "2020-09-24T02:49:32.584919Z",
     "start_time": "2020-09-24T02:49:32.575784Z"
    }
   },
   "outputs": [
    {
     "data": {
      "text/plain": [
       "array([0.10674718, 0.21214068, 0.31576573, 0.41756091, 0.51726562,\n",
       "       0.61637638, 0.71467246, 0.81221384, 0.90644007, 1.        ])"
      ]
     },
     "execution_count": 23,
     "metadata": {},
     "output_type": "execute_result"
    }
   ],
   "source": [
    "pca.explained_variance_ratio_.cumsum()"
   ]
  },
  {
   "cell_type": "code",
   "execution_count": 25,
   "metadata": {
    "ExecuteTime": {
     "end_time": "2020-09-24T02:50:05.242509Z",
     "start_time": "2020-09-24T02:50:05.225075Z"
    }
   },
   "outputs": [],
   "source": [
    "Xp = pd.DataFrame(pca.transform(Xs),columns=['d%d'%(i+1) for i in range(len(varc))])"
   ]
  },
  {
   "cell_type": "code",
   "execution_count": 26,
   "metadata": {
    "ExecuteTime": {
     "end_time": "2020-09-24T02:50:16.946853Z",
     "start_time": "2020-09-24T02:50:16.916522Z"
    }
   },
   "outputs": [
    {
     "data": {
      "text/html": [
       "<div>\n",
       "<style scoped>\n",
       "    .dataframe tbody tr th:only-of-type {\n",
       "        vertical-align: middle;\n",
       "    }\n",
       "\n",
       "    .dataframe tbody tr th {\n",
       "        vertical-align: top;\n",
       "    }\n",
       "\n",
       "    .dataframe thead th {\n",
       "        text-align: right;\n",
       "    }\n",
       "</style>\n",
       "<table border=\"1\" class=\"dataframe\">\n",
       "  <thead>\n",
       "    <tr style=\"text-align: right;\">\n",
       "      <th></th>\n",
       "      <th>d1</th>\n",
       "      <th>d2</th>\n",
       "      <th>d3</th>\n",
       "      <th>d4</th>\n",
       "      <th>d5</th>\n",
       "      <th>d6</th>\n",
       "      <th>d7</th>\n",
       "      <th>d8</th>\n",
       "      <th>d9</th>\n",
       "      <th>d10</th>\n",
       "    </tr>\n",
       "  </thead>\n",
       "  <tbody>\n",
       "    <tr>\n",
       "      <th>d1</th>\n",
       "      <td>1.0</td>\n",
       "      <td>-0.0</td>\n",
       "      <td>-0.0</td>\n",
       "      <td>-0.0</td>\n",
       "      <td>0.0</td>\n",
       "      <td>-0.0</td>\n",
       "      <td>-0.0</td>\n",
       "      <td>-0.0</td>\n",
       "      <td>-0.0</td>\n",
       "      <td>-0.0</td>\n",
       "    </tr>\n",
       "    <tr>\n",
       "      <th>d2</th>\n",
       "      <td>-0.0</td>\n",
       "      <td>1.0</td>\n",
       "      <td>-0.0</td>\n",
       "      <td>0.0</td>\n",
       "      <td>-0.0</td>\n",
       "      <td>0.0</td>\n",
       "      <td>-0.0</td>\n",
       "      <td>0.0</td>\n",
       "      <td>-0.0</td>\n",
       "      <td>0.0</td>\n",
       "    </tr>\n",
       "    <tr>\n",
       "      <th>d3</th>\n",
       "      <td>-0.0</td>\n",
       "      <td>-0.0</td>\n",
       "      <td>1.0</td>\n",
       "      <td>-0.0</td>\n",
       "      <td>0.0</td>\n",
       "      <td>0.0</td>\n",
       "      <td>0.0</td>\n",
       "      <td>-0.0</td>\n",
       "      <td>0.0</td>\n",
       "      <td>0.0</td>\n",
       "    </tr>\n",
       "    <tr>\n",
       "      <th>d4</th>\n",
       "      <td>-0.0</td>\n",
       "      <td>0.0</td>\n",
       "      <td>-0.0</td>\n",
       "      <td>1.0</td>\n",
       "      <td>0.0</td>\n",
       "      <td>-0.0</td>\n",
       "      <td>0.0</td>\n",
       "      <td>0.0</td>\n",
       "      <td>-0.0</td>\n",
       "      <td>-0.0</td>\n",
       "    </tr>\n",
       "    <tr>\n",
       "      <th>d5</th>\n",
       "      <td>0.0</td>\n",
       "      <td>-0.0</td>\n",
       "      <td>0.0</td>\n",
       "      <td>0.0</td>\n",
       "      <td>1.0</td>\n",
       "      <td>-0.0</td>\n",
       "      <td>-0.0</td>\n",
       "      <td>0.0</td>\n",
       "      <td>0.0</td>\n",
       "      <td>-0.0</td>\n",
       "    </tr>\n",
       "    <tr>\n",
       "      <th>d6</th>\n",
       "      <td>-0.0</td>\n",
       "      <td>0.0</td>\n",
       "      <td>0.0</td>\n",
       "      <td>-0.0</td>\n",
       "      <td>-0.0</td>\n",
       "      <td>1.0</td>\n",
       "      <td>-0.0</td>\n",
       "      <td>0.0</td>\n",
       "      <td>0.0</td>\n",
       "      <td>0.0</td>\n",
       "    </tr>\n",
       "    <tr>\n",
       "      <th>d7</th>\n",
       "      <td>-0.0</td>\n",
       "      <td>-0.0</td>\n",
       "      <td>0.0</td>\n",
       "      <td>0.0</td>\n",
       "      <td>-0.0</td>\n",
       "      <td>-0.0</td>\n",
       "      <td>1.0</td>\n",
       "      <td>0.0</td>\n",
       "      <td>0.0</td>\n",
       "      <td>0.0</td>\n",
       "    </tr>\n",
       "    <tr>\n",
       "      <th>d8</th>\n",
       "      <td>-0.0</td>\n",
       "      <td>0.0</td>\n",
       "      <td>-0.0</td>\n",
       "      <td>0.0</td>\n",
       "      <td>0.0</td>\n",
       "      <td>0.0</td>\n",
       "      <td>0.0</td>\n",
       "      <td>1.0</td>\n",
       "      <td>0.0</td>\n",
       "      <td>-0.0</td>\n",
       "    </tr>\n",
       "    <tr>\n",
       "      <th>d9</th>\n",
       "      <td>-0.0</td>\n",
       "      <td>-0.0</td>\n",
       "      <td>0.0</td>\n",
       "      <td>-0.0</td>\n",
       "      <td>0.0</td>\n",
       "      <td>0.0</td>\n",
       "      <td>0.0</td>\n",
       "      <td>0.0</td>\n",
       "      <td>1.0</td>\n",
       "      <td>-0.0</td>\n",
       "    </tr>\n",
       "    <tr>\n",
       "      <th>d10</th>\n",
       "      <td>-0.0</td>\n",
       "      <td>0.0</td>\n",
       "      <td>0.0</td>\n",
       "      <td>-0.0</td>\n",
       "      <td>-0.0</td>\n",
       "      <td>0.0</td>\n",
       "      <td>0.0</td>\n",
       "      <td>-0.0</td>\n",
       "      <td>-0.0</td>\n",
       "      <td>1.0</td>\n",
       "    </tr>\n",
       "  </tbody>\n",
       "</table>\n",
       "</div>"
      ],
      "text/plain": [
       "      d1   d2   d3   d4   d5   d6   d7   d8   d9  d10\n",
       "d1   1.0 -0.0 -0.0 -0.0  0.0 -0.0 -0.0 -0.0 -0.0 -0.0\n",
       "d2  -0.0  1.0 -0.0  0.0 -0.0  0.0 -0.0  0.0 -0.0  0.0\n",
       "d3  -0.0 -0.0  1.0 -0.0  0.0  0.0  0.0 -0.0  0.0  0.0\n",
       "d4  -0.0  0.0 -0.0  1.0  0.0 -0.0  0.0  0.0 -0.0 -0.0\n",
       "d5   0.0 -0.0  0.0  0.0  1.0 -0.0 -0.0  0.0  0.0 -0.0\n",
       "d6  -0.0  0.0  0.0 -0.0 -0.0  1.0 -0.0  0.0  0.0  0.0\n",
       "d7  -0.0 -0.0  0.0  0.0 -0.0 -0.0  1.0  0.0  0.0  0.0\n",
       "d8  -0.0  0.0 -0.0  0.0  0.0  0.0  0.0  1.0  0.0 -0.0\n",
       "d9  -0.0 -0.0  0.0 -0.0  0.0  0.0  0.0  0.0  1.0 -0.0\n",
       "d10 -0.0  0.0  0.0 -0.0 -0.0  0.0  0.0 -0.0 -0.0  1.0"
      ]
     },
     "execution_count": 26,
     "metadata": {},
     "output_type": "execute_result"
    }
   ],
   "source": [
    "Xp.corr().round(2)"
   ]
  },
  {
   "cell_type": "markdown",
   "metadata": {},
   "source": [
    "### Visualización en dos dimensiones"
   ]
  },
  {
   "cell_type": "code",
   "execution_count": 29,
   "metadata": {
    "ExecuteTime": {
     "end_time": "2020-09-24T02:51:15.313927Z",
     "start_time": "2020-09-24T02:51:14.979892Z"
    }
   },
   "outputs": [
    {
     "data": {
      "text/plain": [
       "<seaborn.axisgrid.FacetGrid at 0x7f0728912898>"
      ]
     },
     "execution_count": 29,
     "metadata": {},
     "output_type": "execute_result"
    },
    {
     "data": {
      "image/png": "[encoded data removed]",
      "text/plain": [
       "<Figure size 360x360 with 1 Axes>"
      ]
     },
     "metadata": {
      "needs_background": "light"
     },
     "output_type": "display_data"
    }
   ],
   "source": [
    "sns.lmplot(data=Xp,x='d1',y='d2',fit_reg=False)"
   ]
  },
  {
   "cell_type": "code",
   "execution_count": null,
   "metadata": {},
   "outputs": [],
   "source": []
  }
 ],
 "metadata": {
  "kernelspec": {
   "display_name": "env",
   "language": "python",
   "name": "env"
  },
  "language_info": {
   "codemirror_mode": {
    "name": "ipython",
    "version": 3
   },
   "file_extension": ".py",
   "mimetype": "text/x-python",
   "name": "python",
   "nbconvert_exporter": "python",
   "pygments_lexer": "ipython3",
   "version": "3.7.3"
  },
  "toc": {
   "base_numbering": 1,
   "nav_menu": {},
   "number_sections": true,
   "sideBar": true,
   "skip_h1_title": false,
   "title_cell": "Table of Contents",
   "title_sidebar": "Contents",
   "toc_cell": false,
   "toc_position": {},
   "toc_section_display": true,
   "toc_window_display": false
  },
  "varInspector": {
   "cols": {
    "lenName": 16,
    "lenType": 16,
    "lenVar": 40
   },
   "kernels_config": {
    "python": {
     "delete_cmd_postfix": "",
     "delete_cmd_prefix": "del ",
     "library": "var_list.py",
     "varRefreshCmd": "print(var_dic_list())"
    },
    "r": {
     "delete_cmd_postfix": ") ",
     "delete_cmd_prefix": "rm(",
     "library": "var_list.r",
     "varRefreshCmd": "cat(var_dic_list()) "
    }
   },
   "types_to_exclude": [
    "module",
    "function",
    "builtin_function_or_method",
    "instance",
    "_Feature"
   ],
   "window_display": false
  }
 },
 "nbformat": 4,
 "nbformat_minor": 4
}
