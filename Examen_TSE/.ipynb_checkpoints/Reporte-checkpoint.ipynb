{
 "cells": [
  {
   "cell_type": "code",
   "execution_count": 2,
   "metadata": {
    "ExecuteTime": {
     "end_time": "2021-01-10T05:35:12.626284Z",
     "start_time": "2021-01-10T05:35:04.172475Z"
    }
   },
   "outputs": [],
   "source": [
    "import pandas as pd\n",
    "import numpy as np\n",
    "\n",
    "import matplotlib.pyplot as plt\n",
    "import seaborn as sns"
   ]
  },
  {
   "cell_type": "markdown",
   "metadata": {},
   "source": [
    "En este trabajo se expone un reporte detallado de lo realizado en el modelo supervisado y no supervisado realizados para el examen de mitad de curso de temas selectos de estadística. A pesar de lo detallado del reporte las situaciones más puntuales que tienen que ver con el código o el modelo están comentadas en el código correspondiente al modelo."
   ]
  },
  {
   "cell_type": "markdown",
   "metadata": {},
   "source": [
    "# Muestra de los datos"
   ]
  },
  {
   "cell_type": "markdown",
   "metadata": {},
   "source": [
    "Se optó por tomar una muestra de los datos por que el hardware con el que se cuenta no permite utilizar toda la población para hacer el entrenamiento de los modelos, además por estadística tenemos ya la noción de que con una población homogénea como la que se trata se puede tomar una muestra \"pequeña\" y que sea representativa. Se dice que la población que tenemos es homogénea por que no habrá taxis que circulen por 24 horas y cobren miles de dolares, y si los hay serán valores atípicos.\n",
    "\n",
    "Ahora, lo que sigue es calcular el tamaño de la muestra que se va a tomar. Para ello en un intento de simplificar los cálculos, pues se trata con múltiples variables, se trabajará con las variables cuantitativas de forma separada y se intentará obtener el tamaño de muestra ideal para cada variable, al final se elegirá el mayor tamaño muestral que se reporte para cada variable, pues así aseguraremos la representatividad de la muestra para las variables cuantitativas. Se omitirá el proceso para las variables cualitativas por simplificar cálculos y por que la homogeneidad de la población hace pensar que será suficiente con los cálculos de las cuantitativas.\n",
    "\n",
    "Para sacar el tamaño de la muestra ocuparemos la formula $n= \\left( \\frac{ Z_{ \\gamma } \\sigma }{E}  \\right)^{2}$ donde el nivel de confianza $\\gamma$ será de $99%$ y la desviación estándar se calculara con una muestra preliminar de tamaño $30,000$, mientras que el error cambiará dependiendo de cada variable y el error que se pueda permitir en dicha variable, se podrá ser más exigente con el error si el tamaño no crece abruptamente. Con esto aseguramos que la media poblacional de esas variables será la misma que la muestral.\n",
    "\n",
    "Para sacar los datos que necesitamos y para ver si una muestra de la población se comporta como suponemos se tomará la muestra preliminar y se analizará. La forma en que se tomó la muestra preliminar es la misma en la que se tomo la muestra final y que se explica más adelante."
   ]
  },
  {
   "cell_type": "code",
   "execution_count": 29,
   "metadata": {
    "ExecuteTime": {
     "end_time": "2021-01-10T06:03:34.562204Z",
     "start_time": "2021-01-10T06:03:33.868759Z"
    }
   },
   "outputs": [
    {
     "data": {
      "text/html": [
       "<div>\n",
       "<style scoped>\n",
       "    .dataframe tbody tr th:only-of-type {\n",
       "        vertical-align: middle;\n",
       "    }\n",
       "\n",
       "    .dataframe tbody tr th {\n",
       "        vertical-align: top;\n",
       "    }\n",
       "\n",
       "    .dataframe thead th {\n",
       "        text-align: right;\n",
       "    }\n",
       "</style>\n",
       "<table border=\"1\" class=\"dataframe\">\n",
       "  <thead>\n",
       "    <tr style=\"text-align: right;\">\n",
       "      <th></th>\n",
       "      <th>VendorID</th>\n",
       "      <th>tpep_pickup_datetime</th>\n",
       "      <th>tpep_dropoff_datetime</th>\n",
       "      <th>passenger_count</th>\n",
       "      <th>trip_distance</th>\n",
       "      <th>RatecodeID</th>\n",
       "      <th>store_and_fwd_flag</th>\n",
       "      <th>PULocationID</th>\n",
       "      <th>DOLocationID</th>\n",
       "      <th>payment_type</th>\n",
       "      <th>fare_amount</th>\n",
       "      <th>extra</th>\n",
       "      <th>mta_tax</th>\n",
       "      <th>tip_amount</th>\n",
       "      <th>tolls_amount</th>\n",
       "      <th>improvement_surcharge</th>\n",
       "      <th>total_amount</th>\n",
       "    </tr>\n",
       "  </thead>\n",
       "  <tbody>\n",
       "    <tr>\n",
       "      <th>0</th>\n",
       "      <td>1</td>\n",
       "      <td>09/22/2018 11:05:15 PM</td>\n",
       "      <td>09/22/2018 11:13:27 PM</td>\n",
       "      <td>1</td>\n",
       "      <td>0.8</td>\n",
       "      <td>1</td>\n",
       "      <td>N</td>\n",
       "      <td>246</td>\n",
       "      <td>48</td>\n",
       "      <td>1</td>\n",
       "      <td>7.0</td>\n",
       "      <td>0.5</td>\n",
       "      <td>0.5</td>\n",
       "      <td>1.65</td>\n",
       "      <td>0.0</td>\n",
       "      <td>0.3</td>\n",
       "      <td>9.95</td>\n",
       "    </tr>\n",
       "    <tr>\n",
       "      <th>1</th>\n",
       "      <td>1</td>\n",
       "      <td>09/23/2018 12:00:15 AM</td>\n",
       "      <td>09/23/2018 12:15:44 AM</td>\n",
       "      <td>1</td>\n",
       "      <td>3.2</td>\n",
       "      <td>1</td>\n",
       "      <td>N</td>\n",
       "      <td>113</td>\n",
       "      <td>97</td>\n",
       "      <td>1</td>\n",
       "      <td>13.5</td>\n",
       "      <td>0.5</td>\n",
       "      <td>0.5</td>\n",
       "      <td>3.70</td>\n",
       "      <td>0.0</td>\n",
       "      <td>0.3</td>\n",
       "      <td>18.50</td>\n",
       "    </tr>\n",
       "  </tbody>\n",
       "</table>\n",
       "</div>"
      ],
      "text/plain": [
       "   VendorID    tpep_pickup_datetime   tpep_dropoff_datetime  passenger_count  \\\n",
       "0         1  09/22/2018 11:05:15 PM  09/22/2018 11:13:27 PM                1   \n",
       "1         1  09/23/2018 12:00:15 AM  09/23/2018 12:15:44 AM                1   \n",
       "\n",
       "   trip_distance  RatecodeID store_and_fwd_flag  PULocationID  DOLocationID  \\\n",
       "0            0.8           1                  N           246            48   \n",
       "1            3.2           1                  N           113            97   \n",
       "\n",
       "   payment_type  fare_amount  extra  mta_tax  tip_amount  tolls_amount  \\\n",
       "0             1          7.0    0.5      0.5        1.65           0.0   \n",
       "1             1         13.5    0.5      0.5        3.70           0.0   \n",
       "\n",
       "   improvement_surcharge  total_amount  \n",
       "0                    0.3          9.95  \n",
       "1                    0.3         18.50  "
      ]
     },
     "execution_count": 29,
     "metadata": {},
     "output_type": "execute_result"
    }
   ],
   "source": [
    "muestra = pd.read_csv('muestra')\n",
    "muestra.drop('Unnamed: 0',axis=1,inplace=True)\n",
    "muestra.head(2)"
   ]
  },
  {
   "cell_type": "markdown",
   "metadata": {},
   "source": [
    "Se tomarán como variable continuas a *passenger_count*, *trip_distance*, y *total_amount* que resume todas las variables de dinero."
   ]
  },
  {
   "cell_type": "code",
   "execution_count": 30,
   "metadata": {
    "ExecuteTime": {
     "end_time": "2021-01-10T06:03:36.803161Z",
     "start_time": "2021-01-10T06:03:36.717434Z"
    }
   },
   "outputs": [
    {
     "data": {
      "text/html": [
       "<div>\n",
       "<style scoped>\n",
       "    .dataframe tbody tr th:only-of-type {\n",
       "        vertical-align: middle;\n",
       "    }\n",
       "\n",
       "    .dataframe tbody tr th {\n",
       "        vertical-align: top;\n",
       "    }\n",
       "\n",
       "    .dataframe thead th {\n",
       "        text-align: right;\n",
       "    }\n",
       "</style>\n",
       "<table border=\"1\" class=\"dataframe\">\n",
       "  <thead>\n",
       "    <tr style=\"text-align: right;\">\n",
       "      <th></th>\n",
       "      <th>passenger_count</th>\n",
       "      <th>trip_distance</th>\n",
       "      <th>total_amount</th>\n",
       "    </tr>\n",
       "  </thead>\n",
       "  <tbody>\n",
       "    <tr>\n",
       "      <th>0</th>\n",
       "      <td>1</td>\n",
       "      <td>0.8</td>\n",
       "      <td>9.95</td>\n",
       "    </tr>\n",
       "    <tr>\n",
       "      <th>1</th>\n",
       "      <td>1</td>\n",
       "      <td>3.2</td>\n",
       "      <td>18.50</td>\n",
       "    </tr>\n",
       "  </tbody>\n",
       "</table>\n",
       "</div>"
      ],
      "text/plain": [
       "   passenger_count  trip_distance  total_amount\n",
       "0                1            0.8          9.95\n",
       "1                1            3.2         18.50"
      ]
     },
     "execution_count": 30,
     "metadata": {},
     "output_type": "execute_result"
    }
   ],
   "source": [
    "varc=['passenger_count','trip_distance','total_amount']\n",
    "vard = list([x for x in muestra.columns.tolist() if x not in varc ]) \n",
    "muestra[varc].head(2)"
   ]
  },
  {
   "cell_type": "code",
   "execution_count": 7,
   "metadata": {
    "ExecuteTime": {
     "end_time": "2021-01-05T19:21:57.876008Z",
     "start_time": "2021-01-05T19:21:57.739204Z"
    }
   },
   "outputs": [
    {
     "data": {
      "text/html": [
       "<div>\n",
       "<style scoped>\n",
       "    .dataframe tbody tr th:only-of-type {\n",
       "        vertical-align: middle;\n",
       "    }\n",
       "\n",
       "    .dataframe tbody tr th {\n",
       "        vertical-align: top;\n",
       "    }\n",
       "\n",
       "    .dataframe thead th {\n",
       "        text-align: right;\n",
       "    }\n",
       "</style>\n",
       "<table border=\"1\" class=\"dataframe\">\n",
       "  <thead>\n",
       "    <tr style=\"text-align: right;\">\n",
       "      <th></th>\n",
       "      <th>passenger_count</th>\n",
       "      <th>trip_distance</th>\n",
       "      <th>total_amount</th>\n",
       "    </tr>\n",
       "  </thead>\n",
       "  <tbody>\n",
       "    <tr>\n",
       "      <th>count</th>\n",
       "      <td>30000.000000</td>\n",
       "      <td>30000.000000</td>\n",
       "      <td>30000.000000</td>\n",
       "    </tr>\n",
       "    <tr>\n",
       "      <th>mean</th>\n",
       "      <td>1.592333</td>\n",
       "      <td>2.918774</td>\n",
       "      <td>16.260045</td>\n",
       "    </tr>\n",
       "    <tr>\n",
       "      <th>std</th>\n",
       "      <td>1.235257</td>\n",
       "      <td>3.746827</td>\n",
       "      <td>13.998754</td>\n",
       "    </tr>\n",
       "    <tr>\n",
       "      <th>min</th>\n",
       "      <td>0.000000</td>\n",
       "      <td>0.000000</td>\n",
       "      <td>-21.800000</td>\n",
       "    </tr>\n",
       "    <tr>\n",
       "      <th>25%</th>\n",
       "      <td>1.000000</td>\n",
       "      <td>0.950000</td>\n",
       "      <td>8.300000</td>\n",
       "    </tr>\n",
       "    <tr>\n",
       "      <th>50%</th>\n",
       "      <td>1.000000</td>\n",
       "      <td>1.600000</td>\n",
       "      <td>11.800000</td>\n",
       "    </tr>\n",
       "    <tr>\n",
       "      <th>75%</th>\n",
       "      <td>2.000000</td>\n",
       "      <td>3.000000</td>\n",
       "      <td>17.760000</td>\n",
       "    </tr>\n",
       "    <tr>\n",
       "      <th>max</th>\n",
       "      <td>7.000000</td>\n",
       "      <td>56.300000</td>\n",
       "      <td>260.800000</td>\n",
       "    </tr>\n",
       "  </tbody>\n",
       "</table>\n",
       "</div>"
      ],
      "text/plain": [
       "       passenger_count  trip_distance  total_amount\n",
       "count     30000.000000   30000.000000  30000.000000\n",
       "mean          1.592333       2.918774     16.260045\n",
       "std           1.235257       3.746827     13.998754\n",
       "min           0.000000       0.000000    -21.800000\n",
       "25%           1.000000       0.950000      8.300000\n",
       "50%           1.000000       1.600000     11.800000\n",
       "75%           2.000000       3.000000     17.760000\n",
       "max           7.000000      56.300000    260.800000"
      ]
     },
     "execution_count": 7,
     "metadata": {},
     "output_type": "execute_result"
    }
   ],
   "source": [
    "muestra[varc].describe()"
   ]
  },
  {
   "cell_type": "code",
   "execution_count": 8,
   "metadata": {
    "ExecuteTime": {
     "end_time": "2021-01-05T19:23:35.406579Z",
     "start_time": "2021-01-05T19:23:32.987704Z"
    },
    "scrolled": true
   },
   "outputs": [
    {
     "data": {
      "text/plain": [
       "array([[<AxesSubplot:title={'center':'passenger_count'}>,\n",
       "        <AxesSubplot:title={'center':'trip_distance'}>],\n",
       "       [<AxesSubplot:title={'center':'total_amount'}>, <AxesSubplot:>]],\n",
       "      dtype=object)"
      ]
     },
     "execution_count": 8,
     "metadata": {},
     "output_type": "execute_result"
    },
    {
     "data": {
      "image/png": "[encoded data removed]",
      "text/plain": [
       "<Figure size 1440x1440 with 4 Axes>"
      ]
     },
     "metadata": {
      "needs_background": "light"
     },
     "output_type": "display_data"
    }
   ],
   "source": [
    "muestra[varc].hist(figsize=(20,20))"
   ]
  },
  {
   "cell_type": "markdown",
   "metadata": {},
   "source": [
    "Notamos que estas variables continuas tienen valores acumulados en ciertos puntos, que la mayoría de los viajes son cortos, con una persona y poco dinero. Su varianza es pequeña, por lo que una muestra representativa no necesitará ser muy grande como se había supuesto."
   ]
  },
  {
   "cell_type": "code",
   "execution_count": 21,
   "metadata": {
    "ExecuteTime": {
     "end_time": "2021-01-05T19:31:21.738274Z",
     "start_time": "2021-01-05T19:31:15.134930Z"
    }
   },
   "outputs": [
    {
     "data": {
      "text/plain": [
       "array([[<AxesSubplot:title={'center':'VendorID'}>,\n",
       "        <AxesSubplot:title={'center':'RatecodeID'}>,\n",
       "        <AxesSubplot:title={'center':'PULocationID'}>],\n",
       "       [<AxesSubplot:title={'center':'DOLocationID'}>,\n",
       "        <AxesSubplot:title={'center':'payment_type'}>,\n",
       "        <AxesSubplot:title={'center':'fare_amount'}>],\n",
       "       [<AxesSubplot:title={'center':'extra'}>,\n",
       "        <AxesSubplot:title={'center':'mta_tax'}>,\n",
       "        <AxesSubplot:title={'center':'tip_amount'}>],\n",
       "       [<AxesSubplot:title={'center':'tolls_amount'}>,\n",
       "        <AxesSubplot:title={'center':'improvement_surcharge'}>,\n",
       "        <AxesSubplot:>]], dtype=object)"
      ]
     },
     "execution_count": 21,
     "metadata": {},
     "output_type": "execute_result"
    },
    {
     "data": {
      "image/png": "[encoded data removed]",
      "text/plain": [
       "<Figure size 1440x1440 with 12 Axes>"
      ]
     },
     "metadata": {
      "needs_background": "light"
     },
     "output_type": "display_data"
    }
   ],
   "source": [
    "muestra[vard].hist(figsize=(20,20))"
   ]
  },
  {
   "cell_type": "markdown",
   "metadata": {},
   "source": [
    "Notamos que las variables que más cambian son las de *DOLocationID* y *PULocationID* a las cuales se les podría hacer in tratamiento como variables categóricas, pues aunque sean números representan puntos en la ciudad, pero si se calcula el tamaño de muestra para estas variables como si fueran cuantitativas el resultado es un tamaño de muestra menor que el de las variable cuantitativas que consideramos, aceptando cometer un error de 1."
   ]
  },
  {
   "cell_type": "markdown",
   "metadata": {},
   "source": [
    "El tamaño de muestra resultante de los cálculos es $n=60,000$, pues como se explica en el código con unos primeros cálculos se tienen tamaños de muestra pequeños y por ello se procedió a ser más exigente con el error a acepta en cuanto a los pasajeros, con la muestra lista se puede pasar a la ingeniería de datos."
   ]
  },
  {
   "cell_type": "markdown",
   "metadata": {},
   "source": [
    "# Modelo de predicción de viajes por hora"
   ]
  },
  {
   "cell_type": "markdown",
   "metadata": {},
   "source": [
    "## Ingeniería de datos"
   ]
  },
  {
   "cell_type": "markdown",
   "metadata": {},
   "source": [
    "### Tratamiento básico"
   ]
  },
  {
   "cell_type": "markdown",
   "metadata": {},
   "source": [
    "Desde este paso ya no consideramos a *total_amount* como una de las variables continuas, puesto que se prefiere la separación de la varianza en distintas variables y con esto ayudar al modelo.\n",
    "\n",
    "Un primer paso fue hacer una exploración preliminar a los datos y eliminar aquellos que estuviesen fuera de rango, empezando por los de *RatecodeID*, que como el diccionario de datos dice, no pueden tener valores fuera del 1 al 6. Así como aquellas fechas que estuviesen fuera del 2018, ya que el modelo se va a entrenar con datos del año 2018, aquellos que no son del 2018 son una minoría, por lo que eliminarlos ayudará al modelo a tener un mejor funcionamiento.\n",
    "\n",
    "Si se analiza brevemente las estadísticas de los datos se puede notar que \"mta_tax\", \"improvement_surcharge\" y \"tolls_amount\" en realidad cambian poco y aportan poca información, mientras que otras cantidades como \"fare_amount\", \"extra\", \"tip_amount\" aportan información más variada y con varianzas diferentes. Por lo que se optó por juntar a \"improvement_surcharge\" y \"tolls_amount\" en \"tax_surcharge_and_tolls\" y a las demás variables sobre dinero dejarlas por separado y no usar \"total_amount\" para poder apreciar más la variabilidad de estas.\n",
    "\n",
    "Algo interesante para eliminar fueron los valores negativos, en general podemos decir que ninguna variable dentro de los datos debería tener valores negativos, sin embargo se podría pensar que el dinero podría tener valores negativos pensando en las devoluciones. Pero dado que una devolución es un evento que no sucede a menudo en los taxis y que el diccionario de datos no nos dice nada sobre que el dinero puede tener valores negativos se tomará el supuesto de que no se puede tener dinero en negativo.\n",
    "\n",
    "Finalmente se hará una modificación en el formato de las fechas a uno que funcione mejor para la idea que se tiene del modelo, con la fecha de inicio y de final de viaje se crearán 3 variable nuevas, *Hora_Inicio*, *Dia_del_año*, *Duracion_minutos* que darán toda la información necesaria para la creación del modelo. "
   ]
  },
  {
   "cell_type": "markdown",
   "metadata": {},
   "source": [
    "### Transformación"
   ]
  },
  {
   "cell_type": "markdown",
   "metadata": {},
   "source": [
    "La **unidad muestral** para el modelo sera *Hora_Inicio-Dia_del_año*, de esta forma se contestará a la pregunta \n",
    "¿ Cuantos viajes se hacen cada hora en un día especifico ? Agrupando los datos por la unidad muestral se tendrá por cada día del año medible, que será el ancla, veinticuatro tuplas que serán las horas del día en cuestión, para así elegir por ejemplo el 25 de diciembre a las 12:00 del día y saber \"en promedio\" cuantos viajes se hacen ese día a esa hora. Es importante aclarar que si el viaje empezó a las 12:13 y terminó a las 13:15 solo contaremos un viaje correspondiente a la hora inicial, pues la información quedará resumida en la duración del viaje y no es lo normal que un viaje dure más de una hora.Ya que se tiene la unidad muestral se decide que la **ventana de observación** será de 15 días con un día a predecir.\n",
    "\n",
    "Ahora, la **variabilidad** de las variables continuas se separará en categorías correspondientes a una variable cualitativa y por cada categoría y variable se separará la variabilidad en distintas funciones de agregación como el máximo, mínimo, media, suma acumulada. Y todo eso se llevará a cabo en 3 distintas etapas para abarcar la ventana de observación y no estancarse por alguna festividad o anomalía, i.e. , cada variable continua se separará por categorías que a su vez se separan por funciones de agregación y la información será tomada en los primeros 5 días de la ventana de observación, luego en los primeros 10 días de la ventana de observación y finalmente en la ventana de observación completa.\n",
    "\n",
    "Quedando una tabla con siguiente estilo."
   ]
  },
  {
   "cell_type": "code",
   "execution_count": 4,
   "metadata": {
    "ExecuteTime": {
     "end_time": "2021-01-06T06:02:19.757193Z",
     "start_time": "2021-01-06T06:02:13.279606Z"
    }
   },
   "outputs": [
    {
     "data": {
      "text/html": [
       "<div>\n",
       "<style scoped>\n",
       "    .dataframe tbody tr th:only-of-type {\n",
       "        vertical-align: middle;\n",
       "    }\n",
       "\n",
       "    .dataframe tbody tr th {\n",
       "        vertical-align: top;\n",
       "    }\n",
       "\n",
       "    .dataframe thead th {\n",
       "        text-align: right;\n",
       "    }\n",
       "</style>\n",
       "<table border=\"1\" class=\"dataframe\">\n",
       "  <thead>\n",
       "    <tr style=\"text-align: right;\">\n",
       "      <th></th>\n",
       "      <th>v_VendorID_1_Duración_minutos_min_5</th>\n",
       "      <th>v_VendorID_2_Duración_minutos_min_5</th>\n",
       "      <th>v_VendorID_4_Duración_minutos_min_5</th>\n",
       "      <th>v_VendorID_1_extra_min_5</th>\n",
       "      <th>v_VendorID_2_extra_min_5</th>\n",
       "      <th>v_VendorID_4_extra_min_5</th>\n",
       "      <th>v_VendorID_1_fare_amount_min_5</th>\n",
       "      <th>v_VendorID_2_fare_amount_min_5</th>\n",
       "      <th>v_VendorID_4_fare_amount_min_5</th>\n",
       "      <th>v_VendorID_1_passenger_count_min_5</th>\n",
       "      <th>...</th>\n",
       "      <th>v_RatecodeID_3_tax_surcharge_and_tolls_std_15</th>\n",
       "      <th>v_RatecodeID_5_tax_surcharge_and_tolls_std_15</th>\n",
       "      <th>v_RatecodeID_1_tip_amount_std_15</th>\n",
       "      <th>v_RatecodeID_2_tip_amount_std_15</th>\n",
       "      <th>v_RatecodeID_3_tip_amount_std_15</th>\n",
       "      <th>v_RatecodeID_5_tip_amount_std_15</th>\n",
       "      <th>v_RatecodeID_1_trip_distance_std_15</th>\n",
       "      <th>v_RatecodeID_2_trip_distance_std_15</th>\n",
       "      <th>v_RatecodeID_3_trip_distance_std_15</th>\n",
       "      <th>v_RatecodeID_5_trip_distance_std_15</th>\n",
       "    </tr>\n",
       "  </thead>\n",
       "  <tbody>\n",
       "    <tr>\n",
       "      <th>0</th>\n",
       "      <td>0.050000</td>\n",
       "      <td>0.050000</td>\n",
       "      <td>2.900000</td>\n",
       "      <td>0.0</td>\n",
       "      <td>0.0</td>\n",
       "      <td>0.5</td>\n",
       "      <td>0.01</td>\n",
       "      <td>2.5</td>\n",
       "      <td>4.5</td>\n",
       "      <td>0.0</td>\n",
       "      <td>...</td>\n",
       "      <td>NaN</td>\n",
       "      <td>6.044833</td>\n",
       "      <td>2.371046</td>\n",
       "      <td>5.024561</td>\n",
       "      <td>NaN</td>\n",
       "      <td>5.600661</td>\n",
       "      <td>2.997061</td>\n",
       "      <td>6.648311</td>\n",
       "      <td>NaN</td>\n",
       "      <td>17.168417</td>\n",
       "    </tr>\n",
       "    <tr>\n",
       "      <th>1</th>\n",
       "      <td>0.000000</td>\n",
       "      <td>0.033333</td>\n",
       "      <td>5.033333</td>\n",
       "      <td>0.0</td>\n",
       "      <td>0.0</td>\n",
       "      <td>0.5</td>\n",
       "      <td>0.00</td>\n",
       "      <td>2.5</td>\n",
       "      <td>6.0</td>\n",
       "      <td>0.0</td>\n",
       "      <td>...</td>\n",
       "      <td>NaN</td>\n",
       "      <td>5.157235</td>\n",
       "      <td>1.928652</td>\n",
       "      <td>5.035773</td>\n",
       "      <td>NaN</td>\n",
       "      <td>5.313905</td>\n",
       "      <td>2.901642</td>\n",
       "      <td>6.170340</td>\n",
       "      <td>NaN</td>\n",
       "      <td>15.683604</td>\n",
       "    </tr>\n",
       "    <tr>\n",
       "      <th>2</th>\n",
       "      <td>0.016667</td>\n",
       "      <td>0.033333</td>\n",
       "      <td>6.816667</td>\n",
       "      <td>0.0</td>\n",
       "      <td>0.0</td>\n",
       "      <td>0.5</td>\n",
       "      <td>2.50</td>\n",
       "      <td>2.5</td>\n",
       "      <td>7.0</td>\n",
       "      <td>0.0</td>\n",
       "      <td>...</td>\n",
       "      <td>NaN</td>\n",
       "      <td>0.231455</td>\n",
       "      <td>4.158619</td>\n",
       "      <td>7.503333</td>\n",
       "      <td>NaN</td>\n",
       "      <td>5.032857</td>\n",
       "      <td>2.823804</td>\n",
       "      <td>1.228690</td>\n",
       "      <td>NaN</td>\n",
       "      <td>1.159655</td>\n",
       "    </tr>\n",
       "    <tr>\n",
       "      <th>3</th>\n",
       "      <td>0.000000</td>\n",
       "      <td>0.300000</td>\n",
       "      <td>2.933333</td>\n",
       "      <td>0.0</td>\n",
       "      <td>0.0</td>\n",
       "      <td>0.5</td>\n",
       "      <td>2.50</td>\n",
       "      <td>2.5</td>\n",
       "      <td>4.5</td>\n",
       "      <td>0.0</td>\n",
       "      <td>...</td>\n",
       "      <td>2.626944</td>\n",
       "      <td>0.273861</td>\n",
       "      <td>2.219886</td>\n",
       "      <td>5.445998</td>\n",
       "      <td>3.122515</td>\n",
       "      <td>5.077677</td>\n",
       "      <td>2.960609</td>\n",
       "      <td>6.659216</td>\n",
       "      <td>2.843876</td>\n",
       "      <td>3.184925</td>\n",
       "    </tr>\n",
       "    <tr>\n",
       "      <th>4</th>\n",
       "      <td>0.366667</td>\n",
       "      <td>0.050000</td>\n",
       "      <td>3.716667</td>\n",
       "      <td>0.0</td>\n",
       "      <td>0.0</td>\n",
       "      <td>0.0</td>\n",
       "      <td>3.50</td>\n",
       "      <td>2.5</td>\n",
       "      <td>4.5</td>\n",
       "      <td>0.0</td>\n",
       "      <td>...</td>\n",
       "      <td>1.537270</td>\n",
       "      <td>0.288675</td>\n",
       "      <td>2.232784</td>\n",
       "      <td>2.473724</td>\n",
       "      <td>10.652673</td>\n",
       "      <td>7.692629</td>\n",
       "      <td>3.711629</td>\n",
       "      <td>1.648219</td>\n",
       "      <td>1.515993</td>\n",
       "      <td>6.541379</td>\n",
       "    </tr>\n",
       "  </tbody>\n",
       "</table>\n",
       "<p>5 rows × 1239 columns</p>\n",
       "</div>"
      ],
      "text/plain": [
       "   v_VendorID_1_Duración_minutos_min_5  v_VendorID_2_Duración_minutos_min_5  \\\n",
       "0                             0.050000                             0.050000   \n",
       "1                             0.000000                             0.033333   \n",
       "2                             0.016667                             0.033333   \n",
       "3                             0.000000                             0.300000   \n",
       "4                             0.366667                             0.050000   \n",
       "\n",
       "   v_VendorID_4_Duración_minutos_min_5  v_VendorID_1_extra_min_5  \\\n",
       "0                             2.900000                       0.0   \n",
       "1                             5.033333                       0.0   \n",
       "2                             6.816667                       0.0   \n",
       "3                             2.933333                       0.0   \n",
       "4                             3.716667                       0.0   \n",
       "\n",
       "   v_VendorID_2_extra_min_5  v_VendorID_4_extra_min_5  \\\n",
       "0                       0.0                       0.5   \n",
       "1                       0.0                       0.5   \n",
       "2                       0.0                       0.5   \n",
       "3                       0.0                       0.5   \n",
       "4                       0.0                       0.0   \n",
       "\n",
       "   v_VendorID_1_fare_amount_min_5  v_VendorID_2_fare_amount_min_5  \\\n",
       "0                            0.01                             2.5   \n",
       "1                            0.00                             2.5   \n",
       "2                            2.50                             2.5   \n",
       "3                            2.50                             2.5   \n",
       "4                            3.50                             2.5   \n",
       "\n",
       "   v_VendorID_4_fare_amount_min_5  v_VendorID_1_passenger_count_min_5  ...  \\\n",
       "0                             4.5                                 0.0  ...   \n",
       "1                             6.0                                 0.0  ...   \n",
       "2                             7.0                                 0.0  ...   \n",
       "3                             4.5                                 0.0  ...   \n",
       "4                             4.5                                 0.0  ...   \n",
       "\n",
       "   v_RatecodeID_3_tax_surcharge_and_tolls_std_15  \\\n",
       "0                                            NaN   \n",
       "1                                            NaN   \n",
       "2                                            NaN   \n",
       "3                                       2.626944   \n",
       "4                                       1.537270   \n",
       "\n",
       "   v_RatecodeID_5_tax_surcharge_and_tolls_std_15  \\\n",
       "0                                       6.044833   \n",
       "1                                       5.157235   \n",
       "2                                       0.231455   \n",
       "3                                       0.273861   \n",
       "4                                       0.288675   \n",
       "\n",
       "   v_RatecodeID_1_tip_amount_std_15  v_RatecodeID_2_tip_amount_std_15  \\\n",
       "0                          2.371046                          5.024561   \n",
       "1                          1.928652                          5.035773   \n",
       "2                          4.158619                          7.503333   \n",
       "3                          2.219886                          5.445998   \n",
       "4                          2.232784                          2.473724   \n",
       "\n",
       "   v_RatecodeID_3_tip_amount_std_15  v_RatecodeID_5_tip_amount_std_15  \\\n",
       "0                               NaN                          5.600661   \n",
       "1                               NaN                          5.313905   \n",
       "2                               NaN                          5.032857   \n",
       "3                          3.122515                          5.077677   \n",
       "4                         10.652673                          7.692629   \n",
       "\n",
       "   v_RatecodeID_1_trip_distance_std_15  v_RatecodeID_2_trip_distance_std_15  \\\n",
       "0                             2.997061                             6.648311   \n",
       "1                             2.901642                             6.170340   \n",
       "2                             2.823804                             1.228690   \n",
       "3                             2.960609                             6.659216   \n",
       "4                             3.711629                             1.648219   \n",
       "\n",
       "   v_RatecodeID_3_trip_distance_std_15  v_RatecodeID_5_trip_distance_std_15  \n",
       "0                                  NaN                            17.168417  \n",
       "1                                  NaN                            15.683604  \n",
       "2                                  NaN                             1.159655  \n",
       "3                             2.843876                             3.184925  \n",
       "4                             1.515993                             6.541379  \n",
       "\n",
       "[5 rows x 1239 columns]"
      ]
     },
     "execution_count": 4,
     "metadata": {},
     "output_type": "execute_result"
    }
   ],
   "source": [
    "X=pd.read_csv('X.csv')\n",
    "X.drop('Unnamed: 0',axis=1,inplace=True)\n",
    "X.head()"
   ]
  },
  {
   "cell_type": "markdown",
   "metadata": {},
   "source": [
    "Lo que queda es pensar en la **target**, al principio de esta sección se hablo del \"Promedio\" de viajes por día y hora en un periodo de tiempo. La forma de calcular este \"promedio\" es tomar cada ancla disponible, el ancla será el *Dia_del_año*, y tomar la ventana de observación para calcular el promedio de viajes que se hicieron cada hora en esa ventana de observación, i.e., si se toma la primer ancla disponible que es el día 15 se tomarán los primeros 15 días del año(Pues la ventana de observación es de 15 días) y en la hora 0, por ejemplo, se calcularán los viajes hechos en cada día y al final se promediarán. Junto del **promedio**, también se creo una función para calcular la **mediana** de la misma forma, pensando en que tal vez los valores extremos pudiesen afectar de más al promedio. Así que se probará el modelo con ambos y se vera con cual funciona mejor.\n",
    "\n",
    "La tabla analítica de datos quedaría como la siguiente."
   ]
  },
  {
   "cell_type": "code",
   "execution_count": 3,
   "metadata": {
    "ExecuteTime": {
     "end_time": "2021-01-06T05:55:21.598818Z",
     "start_time": "2021-01-06T05:55:15.329448Z"
    }
   },
   "outputs": [
    {
     "data": {
      "text/html": [
       "<div>\n",
       "<style scoped>\n",
       "    .dataframe tbody tr th:only-of-type {\n",
       "        vertical-align: middle;\n",
       "    }\n",
       "\n",
       "    .dataframe tbody tr th {\n",
       "        vertical-align: top;\n",
       "    }\n",
       "\n",
       "    .dataframe thead th {\n",
       "        text-align: right;\n",
       "    }\n",
       "</style>\n",
       "<table border=\"1\" class=\"dataframe\">\n",
       "  <thead>\n",
       "    <tr style=\"text-align: right;\">\n",
       "      <th></th>\n",
       "      <th>Hora_inicio</th>\n",
       "      <th>ancla</th>\n",
       "      <th>v_VendorID_1_Duración_minutos_min_5</th>\n",
       "      <th>v_VendorID_2_Duración_minutos_min_5</th>\n",
       "      <th>v_VendorID_4_Duración_minutos_min_5</th>\n",
       "      <th>v_VendorID_1_extra_min_5</th>\n",
       "      <th>v_VendorID_2_extra_min_5</th>\n",
       "      <th>v_VendorID_4_extra_min_5</th>\n",
       "      <th>v_VendorID_1_fare_amount_min_5</th>\n",
       "      <th>v_VendorID_2_fare_amount_min_5</th>\n",
       "      <th>...</th>\n",
       "      <th>v_RatecodeID_5_tax_surcharge_and_tolls_std_15</th>\n",
       "      <th>v_RatecodeID_1_tip_amount_std_15</th>\n",
       "      <th>v_RatecodeID_2_tip_amount_std_15</th>\n",
       "      <th>v_RatecodeID_3_tip_amount_std_15</th>\n",
       "      <th>v_RatecodeID_5_tip_amount_std_15</th>\n",
       "      <th>v_RatecodeID_1_trip_distance_std_15</th>\n",
       "      <th>v_RatecodeID_2_trip_distance_std_15</th>\n",
       "      <th>v_RatecodeID_3_trip_distance_std_15</th>\n",
       "      <th>v_RatecodeID_5_trip_distance_std_15</th>\n",
       "      <th>y</th>\n",
       "    </tr>\n",
       "  </thead>\n",
       "  <tbody>\n",
       "    <tr>\n",
       "      <th>0</th>\n",
       "      <td>0</td>\n",
       "      <td>15</td>\n",
       "      <td>0.050000</td>\n",
       "      <td>0.050000</td>\n",
       "      <td>2.900000</td>\n",
       "      <td>0.0</td>\n",
       "      <td>0.0</td>\n",
       "      <td>0.5</td>\n",
       "      <td>0.01</td>\n",
       "      <td>2.5</td>\n",
       "      <td>...</td>\n",
       "      <td>6.044833</td>\n",
       "      <td>2.371046</td>\n",
       "      <td>5.024561</td>\n",
       "      <td>NaN</td>\n",
       "      <td>5.600661</td>\n",
       "      <td>2.997061</td>\n",
       "      <td>6.648311</td>\n",
       "      <td>NaN</td>\n",
       "      <td>17.168417</td>\n",
       "      <td>4.133333</td>\n",
       "    </tr>\n",
       "    <tr>\n",
       "      <th>1</th>\n",
       "      <td>1</td>\n",
       "      <td>15</td>\n",
       "      <td>0.000000</td>\n",
       "      <td>0.033333</td>\n",
       "      <td>5.033333</td>\n",
       "      <td>0.0</td>\n",
       "      <td>0.0</td>\n",
       "      <td>0.5</td>\n",
       "      <td>0.00</td>\n",
       "      <td>2.5</td>\n",
       "      <td>...</td>\n",
       "      <td>5.157235</td>\n",
       "      <td>1.928652</td>\n",
       "      <td>5.035773</td>\n",
       "      <td>NaN</td>\n",
       "      <td>5.313905</td>\n",
       "      <td>2.901642</td>\n",
       "      <td>6.170340</td>\n",
       "      <td>NaN</td>\n",
       "      <td>15.683604</td>\n",
       "      <td>5.066667</td>\n",
       "    </tr>\n",
       "    <tr>\n",
       "      <th>2</th>\n",
       "      <td>2</td>\n",
       "      <td>15</td>\n",
       "      <td>0.016667</td>\n",
       "      <td>0.033333</td>\n",
       "      <td>6.816667</td>\n",
       "      <td>0.0</td>\n",
       "      <td>0.0</td>\n",
       "      <td>0.5</td>\n",
       "      <td>2.50</td>\n",
       "      <td>2.5</td>\n",
       "      <td>...</td>\n",
       "      <td>0.231455</td>\n",
       "      <td>4.158619</td>\n",
       "      <td>7.503333</td>\n",
       "      <td>NaN</td>\n",
       "      <td>5.032857</td>\n",
       "      <td>2.823804</td>\n",
       "      <td>1.228690</td>\n",
       "      <td>NaN</td>\n",
       "      <td>1.159655</td>\n",
       "      <td>2.200000</td>\n",
       "    </tr>\n",
       "    <tr>\n",
       "      <th>3</th>\n",
       "      <td>3</td>\n",
       "      <td>15</td>\n",
       "      <td>0.000000</td>\n",
       "      <td>0.300000</td>\n",
       "      <td>2.933333</td>\n",
       "      <td>0.0</td>\n",
       "      <td>0.0</td>\n",
       "      <td>0.5</td>\n",
       "      <td>2.50</td>\n",
       "      <td>2.5</td>\n",
       "      <td>...</td>\n",
       "      <td>0.273861</td>\n",
       "      <td>2.219886</td>\n",
       "      <td>5.445998</td>\n",
       "      <td>3.122515</td>\n",
       "      <td>5.077677</td>\n",
       "      <td>2.960609</td>\n",
       "      <td>6.659216</td>\n",
       "      <td>2.843876</td>\n",
       "      <td>3.184925</td>\n",
       "      <td>2.133333</td>\n",
       "    </tr>\n",
       "    <tr>\n",
       "      <th>4</th>\n",
       "      <td>4</td>\n",
       "      <td>15</td>\n",
       "      <td>0.366667</td>\n",
       "      <td>0.050000</td>\n",
       "      <td>3.716667</td>\n",
       "      <td>0.0</td>\n",
       "      <td>0.0</td>\n",
       "      <td>0.0</td>\n",
       "      <td>3.50</td>\n",
       "      <td>2.5</td>\n",
       "      <td>...</td>\n",
       "      <td>0.288675</td>\n",
       "      <td>2.232784</td>\n",
       "      <td>2.473724</td>\n",
       "      <td>10.652673</td>\n",
       "      <td>7.692629</td>\n",
       "      <td>3.711629</td>\n",
       "      <td>1.648219</td>\n",
       "      <td>1.515993</td>\n",
       "      <td>6.541379</td>\n",
       "      <td>1.400000</td>\n",
       "    </tr>\n",
       "  </tbody>\n",
       "</table>\n",
       "<p>5 rows × 1242 columns</p>\n",
       "</div>"
      ],
      "text/plain": [
       "   Hora_inicio  ancla  v_VendorID_1_Duración_minutos_min_5  \\\n",
       "0            0     15                             0.050000   \n",
       "1            1     15                             0.000000   \n",
       "2            2     15                             0.016667   \n",
       "3            3     15                             0.000000   \n",
       "4            4     15                             0.366667   \n",
       "\n",
       "   v_VendorID_2_Duración_minutos_min_5  v_VendorID_4_Duración_minutos_min_5  \\\n",
       "0                             0.050000                             2.900000   \n",
       "1                             0.033333                             5.033333   \n",
       "2                             0.033333                             6.816667   \n",
       "3                             0.300000                             2.933333   \n",
       "4                             0.050000                             3.716667   \n",
       "\n",
       "   v_VendorID_1_extra_min_5  v_VendorID_2_extra_min_5  \\\n",
       "0                       0.0                       0.0   \n",
       "1                       0.0                       0.0   \n",
       "2                       0.0                       0.0   \n",
       "3                       0.0                       0.0   \n",
       "4                       0.0                       0.0   \n",
       "\n",
       "   v_VendorID_4_extra_min_5  v_VendorID_1_fare_amount_min_5  \\\n",
       "0                       0.5                            0.01   \n",
       "1                       0.5                            0.00   \n",
       "2                       0.5                            2.50   \n",
       "3                       0.5                            2.50   \n",
       "4                       0.0                            3.50   \n",
       "\n",
       "   v_VendorID_2_fare_amount_min_5  ...  \\\n",
       "0                             2.5  ...   \n",
       "1                             2.5  ...   \n",
       "2                             2.5  ...   \n",
       "3                             2.5  ...   \n",
       "4                             2.5  ...   \n",
       "\n",
       "   v_RatecodeID_5_tax_surcharge_and_tolls_std_15  \\\n",
       "0                                       6.044833   \n",
       "1                                       5.157235   \n",
       "2                                       0.231455   \n",
       "3                                       0.273861   \n",
       "4                                       0.288675   \n",
       "\n",
       "   v_RatecodeID_1_tip_amount_std_15  v_RatecodeID_2_tip_amount_std_15  \\\n",
       "0                          2.371046                          5.024561   \n",
       "1                          1.928652                          5.035773   \n",
       "2                          4.158619                          7.503333   \n",
       "3                          2.219886                          5.445998   \n",
       "4                          2.232784                          2.473724   \n",
       "\n",
       "   v_RatecodeID_3_tip_amount_std_15  v_RatecodeID_5_tip_amount_std_15  \\\n",
       "0                               NaN                          5.600661   \n",
       "1                               NaN                          5.313905   \n",
       "2                               NaN                          5.032857   \n",
       "3                          3.122515                          5.077677   \n",
       "4                         10.652673                          7.692629   \n",
       "\n",
       "   v_RatecodeID_1_trip_distance_std_15  v_RatecodeID_2_trip_distance_std_15  \\\n",
       "0                             2.997061                             6.648311   \n",
       "1                             2.901642                             6.170340   \n",
       "2                             2.823804                             1.228690   \n",
       "3                             2.960609                             6.659216   \n",
       "4                             3.711629                             1.648219   \n",
       "\n",
       "   v_RatecodeID_3_trip_distance_std_15  v_RatecodeID_5_trip_distance_std_15  \\\n",
       "0                                  NaN                            17.168417   \n",
       "1                                  NaN                            15.683604   \n",
       "2                                  NaN                             1.159655   \n",
       "3                             2.843876                             3.184925   \n",
       "4                             1.515993                             6.541379   \n",
       "\n",
       "          y  \n",
       "0  4.133333  \n",
       "1  5.066667  \n",
       "2  2.200000  \n",
       "3  2.133333  \n",
       "4  1.400000  \n",
       "\n",
       "[5 rows x 1242 columns]"
      ]
     },
     "execution_count": 3,
     "metadata": {},
     "output_type": "execute_result"
    }
   ],
   "source": [
    "tad=pd.read_csv(\"tad.csv\")\n",
    "tad.drop('Unnamed: 0',axis=1,inplace=True)\n",
    "tad.head()"
   ]
  },
  {
   "cell_type": "code",
   "execution_count": 9,
   "metadata": {
    "ExecuteTime": {
     "end_time": "2021-01-06T06:14:58.732490Z",
     "start_time": "2021-01-06T06:14:57.678689Z"
    }
   },
   "outputs": [
    {
     "data": {
      "text/plain": [
       "array([[<AxesSubplot:title={'center':'y'}>]], dtype=object)"
      ]
     },
     "execution_count": 9,
     "metadata": {},
     "output_type": "execute_result"
    },
    {
     "data": {
      "image/png": "[encoded data removed]",
      "text/plain": [
       "<Figure size 360x360 with 1 Axes>"
      ]
     },
     "metadata": {
      "needs_background": "light"
     },
     "output_type": "display_data"
    }
   ],
   "source": [
    "tad[['y']].hist(figsize=(5,5))"
   ]
  },
  {
   "cell_type": "markdown",
   "metadata": {},
   "source": [
    "Podemos notar así, entre otras cosas, que la cantidad de viajes por hora suele estar entre uno y 11, pero que más de eso ya comienza a ser extraño."
   ]
  },
  {
   "cell_type": "markdown",
   "metadata": {},
   "source": [
    "## Análisis exploratorio"
   ]
  },
  {
   "cell_type": "markdown",
   "metadata": {},
   "source": [
    "Ya que tenemos la tabla analítica de datos se tratarán los **valores ausentes**. Primero las variables que tengan más de la mitad de los valores ausentes serán desechadas, pues aportan poca información al modelo, con los restantes se hará el proceso de imputación de datos y se hará la prueba de bondad de ajuste para ver que los nuevos datos no difieran estadisticamente. Aquellas columnas que pasen el umbral permitido de la prueba de bondad de ajuste serán eliminadas de los datos, pues afectarán negativamente la correctitud del modelo.\n",
    "\n",
    "Junto a eso también se revisarán valores **extremos** que pudiesen afectar la estabilidad del modelo."
   ]
  },
  {
   "cell_type": "markdown",
   "metadata": {},
   "source": [
    "## Modelo"
   ]
  },
  {
   "cell_type": "markdown",
   "metadata": {},
   "source": [
    "Se trabajará con un modelo de **regresión lineal** para poder predecir, dados unos parámetros de entrada, la cantidad de viajes que se realizarán en una hora determinada de un día determinado. Si el modelo generaliza bien no habrá problema con no contar con los primeros 15 días de enero como anclas, pues con el entrenamiento del modelo será suficiente para predecirlo.\n",
    "\n",
    "Se hace la búsqueda de los mejores hiperparametros para cada situación, pues como se mencionó se probará para la mediana y el promedio que reporten las mediciones.\n",
    "\n",
    "En el código unicamente se muestra el proceso para el promedio, pues aunque ambas generalizan bien el promedio da un menor error absoluto y se opto por este al final"
   ]
  },
  {
   "cell_type": "markdown",
   "metadata": {},
   "source": [
    "## Conclusiones"
   ]
  },
  {
   "cell_type": "markdown",
   "metadata": {},
   "source": [
    "Ahora, tenemos que dos modelos que deben trabajar en conjunto para dar buenas predicciones. El de clasificación nos dirá si la hora debe ser considerada de \"alta demanda\", i.e., más de 10 viajes en esa hora ocurrirán y con la regresión lineal veremos la cantidad de viajes que ocurrirán en esa hora. Habrá que tener cuidado con esto, por que nos veremos en situaciones buenas donde la clasificación nos diga que que es una hora de alta demanda y en efecto lo sea y otras en las que no. Lo podemos hacer para mitigar esto es analizar los resultados, si la clasificación dice que es de alta demanda y la predicción dice que habrá dos viajes pues parece poco fiable creerle a la clasificación, pero si en cambio la predicción dice que habrá 9 o 10 viajes y la clasificación dice que será de alta demanda se puede darle más fiabilidad a la clasificación. Un caso tal vez más complicado sería la situación en que la clasificación diga que no será de alta demanda y la predicción diga que habrá 8 o 9 viajes, en estos caso habría que ser precavidos y pensar que tal vez es un falso negativo.\n",
    "\n",
    "Como se puede observar el usar estos dos modelos para sacar conclusiones nos dará más información al momento de decidir, aunque no por eso se vuelve más sencillo. Pero podremos estar más seguros al momento de hacer predicciones."
   ]
  },
  {
   "cell_type": "markdown",
   "metadata": {},
   "source": [
    "# Modelo de Clustering"
   ]
  },
  {
   "cell_type": "markdown",
   "metadata": {},
   "source": [
    "## Ingeniería de datos"
   ]
  },
  {
   "cell_type": "markdown",
   "metadata": {},
   "source": [
    "Para tratar el clustering la **tabla analítica de datos** debe ser diferente, por lo que consideraremos unicamente 365 días, pues la idea es mandar cada día a un cluster en especifico, esto se hace con un *pivot_table* pues ya que se va a resumir la información en estos días también será necesario repartir la varianza en las columnas para que el modelo trabaje mejor. Además al igual que en modelo de regresión por cada variable categórica que se considere importante se repartirá la varianza, dejando así una gran cantidad de columnas con valores ausentes, estos valores ausentes se llenarán con ceros en esta ocasión ya que las variables que presentan valores ausentes, en general, quieren decir que no hubo viajes, por lo que no hubo dinero y tampoco distancia recorrida."
   ]
  },
  {
   "cell_type": "markdown",
   "metadata": {},
   "source": [
    "Para clasificar a los clusters se eligieron a las variables continuas *trip_distance*,*total_amount*, y *Viajes*, así se podrán sacar estadísticos en cada cluster y calificarlos de manera correcta. Para hacer este proceso más sencillo se creó una función que **categoriza** a estos valores en función de sus percentiles, de esta forma por ejemplo si queremos dividir las variables en 4 categorías las variables quedan divididas en base a sus cuartiles, y si se quisiera hacer más divisiones simplemente hay que usar otros percentiles.\n",
    "Esta función tomará mucha relevancia en la parte final, pues permitirá ver facilmente como se encuentran estas variables en cada cluster."
   ]
  },
  {
   "cell_type": "markdown",
   "metadata": {},
   "source": [
    "## Análisis exploratorio"
   ]
  },
  {
   "cell_type": "markdown",
   "metadata": {},
   "source": [
    "Aquí unicamente había que preocuparse por los datos extremos y estos eran bastantes, por lo que fue la principal causa para usar la median en lugar de la media en la mayoría de las mediciones que se hicieron después. Aunque igual se utilizo la media en algunas para \"apreciar\" más los valores extremos."
   ]
  },
  {
   "cell_type": "markdown",
   "metadata": {},
   "source": [
    "## Modelo"
   ]
  },
  {
   "cell_type": "markdown",
   "metadata": {},
   "source": [
    "Para la parte del modelo se usó MDS y TSNE para poder visualizar los clusters resultantes, pues PCA no explicaba casi nada de varianza con dos variables. En principio se eligió k-medias para poder tener una idea de cuantos clusters hacer, pero el modelo que se aplicará será el gaussiano mixto por la versatilidad que permite.\n",
    "\n",
    "Ya en el principio al medir la inercia con k-medias se nota que no será fácil elegir la cantidad de clusters a utilizar, pues la linea es en general decreciente sin puntos claros donde deje de decrecer al mismo nivel que lo hace en puntos anteriores. Al final se elige 10, pues con ello se pueden hacer análisis y ver si es necesario bajar el número de clusters.\n",
    "\n",
    "Después de ejecutar el modelo gaussiano mixto notamos que no hay muchas conclusiones evidentes que se puedan realizar, es por ello que posteriormente en el perfilamiento son importantes las variables *categorizadas* que ayudan a ver un poco más claro las diferencias entre los clusters."
   ]
  },
  {
   "cell_type": "markdown",
   "metadata": {},
   "source": [
    "## Perfilamiento"
   ]
  },
  {
   "cell_type": "markdown",
   "metadata": {},
   "source": [
    "Aquí se agrupan las variables continuas a partir de los clusters, las tres que se mencionarón más arriba, y despés se les aplica la función de **categorización**, que permite ver donde en que cluster estan los valores más altos y más bajos de cada variable sin tener que estar recordando valores numéricos, esto facilita el ver cuando hay valores altos o bajos, y en especial ver valores medio altos y medio bajos, pues generalmente estos ultimos dos son muy parecidos.\n",
    "\n",
    "Esto en un primer análisis nos dice poco por lo que recurrimos ver que fechas son las que están en cada cluster, y tampoco siguen un patron común, a excepción de marzo, que curiosamente presenta valores muy altos.\n",
    "\n",
    "Esto termina siendo problemático, pues no esta más claro cuantos clusters tomar y que significa cada uno por lo que la idea del **ANOVA** se vuelve una buena opción, de esta manera si tratamos a los clusters como \"tratamientos\" podremos ver si dos a más grupos son realmente diferentes y si no lo son pues entones disminuimos el número de clusters, al cual se le agregará un diagrama de caja bigote para verlo gráficamente . Ahora el **ANOVA** por si solo sirve poco, pues estamos casi seguros de que habrá más de un grupo con diferencias estadísticas con respecto a los otros, o al menos eso esperamos sino no tendría sentido el trabajo, por lo que al finalizar el **ANOVA** se ejecutarán las pruebas **post-hoc**(si es necesario) para entonces si, tener certeza de cuales grupos terminan sobrando. \n",
    "\n",
    "Como se utilizara una prueba no parametrica para el **ANOVA** la documentación sugiere usar la prueba de *holm* de contraste de pares para las pruebas **post-hoc**."
   ]
  },
  {
   "cell_type": "markdown",
   "metadata": {},
   "source": [
    "En el primer análisis nos damos cuenta de que 10 clusters son demasiados, eso se veía con la tabla que tenia las categorías, pues había varias que se repetían, pero no se podía estar seguro, ahora al menos se puede decir que son estadísticamente diferentes. Por lo que habrá que reducir el número de clusters, la cantidad exacta aún no es clara, por lo que se decidió hacer varias pruebas con cantidades diferentes de clusters y al final se quedo la que funciono.\n",
    "\n",
    "Al principio del código se ve la prueba con 10 clusters y después esta la prueba con 4 clusters que es la que mejor funciono.\n",
    "\n",
    "Las otras cantidades con las que se probó fueron 2,5,  y 6, con 2 presenta el inconveniente de que son muy pocos  y la información es muy simplista, \"alta demanda\" y \"baja demanda\" básicamente. Con 5 y 6 usualmente un grupo se salia de fuera de los rangos comunes y las otras eran muy parecidas, aunque diferían en algunas variables en otras eran parecidas. Finalmente con 4 se lograron diferencias significativas en 3 grupos, por que al final se fusionaron 2 de ellos, estos 2 que se fusionaron no mostraron diferencias significativas, aunque igual otra opción habría sido  dejarlos pues ambos presentaban valores extremos hacia lados contrarios.\n",
    "\n",
    "\n",
    "Como se dejaron 3 grupos estos se dividieron en *alta demanda*, *baja demanda* y *demanda moderada*, pues es lo que representaban las medidas de las variables distancia, ingresos y viajes en cada cluster, toas con la misma categoría en cada grupo, lo que muestra la alta correlación que hay entre ellas, que por otro lado parece evidente."
   ]
  },
  {
   "cell_type": "markdown",
   "metadata": {},
   "source": [
    "## Conclusiones"
   ]
  },
  {
   "cell_type": "code",
   "execution_count": 32,
   "metadata": {
    "ExecuteTime": {
     "end_time": "2021-01-10T06:26:56.702442Z",
     "start_time": "2021-01-10T06:26:56.399309Z"
    }
   },
   "outputs": [
    {
     "data": {
      "text/html": [
       "<div>\n",
       "<style scoped>\n",
       "    .dataframe tbody tr th:only-of-type {\n",
       "        vertical-align: middle;\n",
       "    }\n",
       "\n",
       "    .dataframe tbody tr th {\n",
       "        vertical-align: top;\n",
       "    }\n",
       "\n",
       "    .dataframe thead th {\n",
       "        text-align: right;\n",
       "    }\n",
       "</style>\n",
       "<table border=\"1\" class=\"dataframe\">\n",
       "  <thead>\n",
       "    <tr style=\"text-align: right;\">\n",
       "      <th></th>\n",
       "      <th>cl</th>\n",
       "      <th>trip_distance</th>\n",
       "      <th>total_amount</th>\n",
       "      <th>Viajes</th>\n",
       "      <th>Fecha</th>\n",
       "    </tr>\n",
       "  </thead>\n",
       "  <tbody>\n",
       "    <tr>\n",
       "      <th>0</th>\n",
       "      <td>Baja demanda</td>\n",
       "      <td>420.44</td>\n",
       "      <td>2054.19</td>\n",
       "      <td>145</td>\n",
       "      <td>2018-01-01</td>\n",
       "    </tr>\n",
       "    <tr>\n",
       "      <th>1</th>\n",
       "      <td>Demanda moderada</td>\n",
       "      <td>403.72</td>\n",
       "      <td>2107.89</td>\n",
       "      <td>129</td>\n",
       "      <td>2018-01-02</td>\n",
       "    </tr>\n",
       "    <tr>\n",
       "      <th>2</th>\n",
       "      <td>Demanda moderada</td>\n",
       "      <td>483.69</td>\n",
       "      <td>2779.57</td>\n",
       "      <td>134</td>\n",
       "      <td>2018-01-03</td>\n",
       "    </tr>\n",
       "    <tr>\n",
       "      <th>3</th>\n",
       "      <td>Demanda moderada</td>\n",
       "      <td>153.88</td>\n",
       "      <td>795.48</td>\n",
       "      <td>60</td>\n",
       "      <td>2018-01-04</td>\n",
       "    </tr>\n",
       "    <tr>\n",
       "      <th>4</th>\n",
       "      <td>Demanda moderada</td>\n",
       "      <td>361.85</td>\n",
       "      <td>2010.45</td>\n",
       "      <td>128</td>\n",
       "      <td>2018-01-05</td>\n",
       "    </tr>\n",
       "  </tbody>\n",
       "</table>\n",
       "</div>"
      ],
      "text/plain": [
       "                 cl  trip_distance  total_amount  Viajes       Fecha\n",
       "0      Baja demanda         420.44       2054.19     145  2018-01-01\n",
       "1  Demanda moderada         403.72       2107.89     129  2018-01-02\n",
       "2  Demanda moderada         483.69       2779.57     134  2018-01-03\n",
       "3  Demanda moderada         153.88        795.48      60  2018-01-04\n",
       "4  Demanda moderada         361.85       2010.45     128  2018-01-05"
      ]
     },
     "execution_count": 32,
     "metadata": {},
     "output_type": "execute_result"
    }
   ],
   "source": [
    "tab=pd.read_csv('tab.csv')\n",
    "tab.head()"
   ]
  },
  {
   "cell_type": "code",
   "execution_count": 14,
   "metadata": {
    "ExecuteTime": {
     "end_time": "2021-01-10T05:45:13.202604Z",
     "start_time": "2021-01-10T05:45:13.153934Z"
    }
   },
   "outputs": [
    {
     "data": {
      "text/html": [
       "<div>\n",
       "<style scoped>\n",
       "    .dataframe tbody tr th:only-of-type {\n",
       "        vertical-align: middle;\n",
       "    }\n",
       "\n",
       "    .dataframe tbody tr th {\n",
       "        vertical-align: top;\n",
       "    }\n",
       "\n",
       "    .dataframe thead th {\n",
       "        text-align: right;\n",
       "    }\n",
       "</style>\n",
       "<table border=\"1\" class=\"dataframe\">\n",
       "  <thead>\n",
       "    <tr style=\"text-align: right;\">\n",
       "      <th></th>\n",
       "      <th>cl</th>\n",
       "      <th>trip_distance</th>\n",
       "      <th>total_amount</th>\n",
       "      <th>Viajes</th>\n",
       "      <th>Fecha</th>\n",
       "    </tr>\n",
       "  </thead>\n",
       "  <tbody>\n",
       "    <tr>\n",
       "      <th>354</th>\n",
       "      <td>Demanda moderada</td>\n",
       "      <td>449.74</td>\n",
       "      <td>2657.22</td>\n",
       "      <td>160</td>\n",
       "      <td>2018-12-21</td>\n",
       "    </tr>\n",
       "    <tr>\n",
       "      <th>360</th>\n",
       "      <td>Demanda moderada</td>\n",
       "      <td>485.20</td>\n",
       "      <td>2361.32</td>\n",
       "      <td>126</td>\n",
       "      <td>2018-12-27</td>\n",
       "    </tr>\n",
       "    <tr>\n",
       "      <th>361</th>\n",
       "      <td>Demanda moderada</td>\n",
       "      <td>390.47</td>\n",
       "      <td>2111.21</td>\n",
       "      <td>131</td>\n",
       "      <td>2018-12-28</td>\n",
       "    </tr>\n",
       "    <tr>\n",
       "      <th>364</th>\n",
       "      <td>Demanda moderada</td>\n",
       "      <td>238.84</td>\n",
       "      <td>1375.04</td>\n",
       "      <td>103</td>\n",
       "      <td>2018-12-31</td>\n",
       "    </tr>\n",
       "  </tbody>\n",
       "</table>\n",
       "</div>"
      ],
      "text/plain": [
       "                   cl  trip_distance  total_amount  Viajes       Fecha\n",
       "354  Demanda moderada         449.74       2657.22     160  2018-12-21\n",
       "360  Demanda moderada         485.20       2361.32     126  2018-12-27\n",
       "361  Demanda moderada         390.47       2111.21     131  2018-12-28\n",
       "364  Demanda moderada         238.84       1375.04     103  2018-12-31"
      ]
     },
     "execution_count": 14,
     "metadata": {},
     "output_type": "execute_result"
    }
   ],
   "source": [
    "tab.groupby('cl').get_group('Demanda moderada').tail(4)"
   ]
  },
  {
   "cell_type": "code",
   "execution_count": 27,
   "metadata": {
    "ExecuteTime": {
     "end_time": "2021-01-10T05:49:35.152678Z",
     "start_time": "2021-01-10T05:49:35.102099Z"
    }
   },
   "outputs": [
    {
     "data": {
      "text/html": [
       "<div>\n",
       "<style scoped>\n",
       "    .dataframe tbody tr th:only-of-type {\n",
       "        vertical-align: middle;\n",
       "    }\n",
       "\n",
       "    .dataframe tbody tr th {\n",
       "        vertical-align: top;\n",
       "    }\n",
       "\n",
       "    .dataframe thead th {\n",
       "        text-align: right;\n",
       "    }\n",
       "</style>\n",
       "<table border=\"1\" class=\"dataframe\">\n",
       "  <thead>\n",
       "    <tr style=\"text-align: right;\">\n",
       "      <th></th>\n",
       "      <th>cl</th>\n",
       "      <th>trip_distance</th>\n",
       "      <th>total_amount</th>\n",
       "      <th>Viajes</th>\n",
       "      <th>Fecha</th>\n",
       "    </tr>\n",
       "  </thead>\n",
       "  <tbody>\n",
       "    <tr>\n",
       "      <th>325</th>\n",
       "      <td>Baja demanda</td>\n",
       "      <td>246.97</td>\n",
       "      <td>1249.76</td>\n",
       "      <td>81</td>\n",
       "      <td>2018-11-22</td>\n",
       "    </tr>\n",
       "  </tbody>\n",
       "</table>\n",
       "</div>"
      ],
      "text/plain": [
       "               cl  trip_distance  total_amount  Viajes       Fecha\n",
       "325  Baja demanda         246.97       1249.76      81  2018-11-22"
      ]
     },
     "execution_count": 27,
     "metadata": {},
     "output_type": "execute_result"
    }
   ],
   "source": [
    "tab[tab['Fecha']=='2018-11-22']"
   ]
  },
  {
   "cell_type": "markdown",
   "metadata": {},
   "source": [
    "Ya que tenemos la tabla de salida en la tabla ordenada podemos ver que no hay una clara relación entre los días con *Baja demanda* y los días con *Demanda moderada*, aunque una conclusión rapida es que en días festivos hay baja demanda, por que incluso una de las observaciones más bajas en *Demanda moderada* es la que sucede un 31 de diciembre y el 23 y 25 de diciembre aparecen en *Baja demanda*, por lo que más bien se podría decir que en festividades que se acostumbra pasar con la familia hay poca demanda ya que el 22 de noviembre, que es el día de acción de gracias también hay poca demanda. Aunque esto también podría ser una coincidencia, lo que se puede decir con certeza es que en Marzo por alguna razón la demanda aumenta demasiado y el resto de de los días fluctúa entre mucha y poca pero sin llegar a extremos usualmente. Esta información aunque parece pobre es de ayuda para saber como prepararse para un día en especifico a partir de la clasificación que se le dio, además en base a esta tabla se pueden hacer agrupaciones de acuerdo a la necesidad de la empresa, por ejemplo si se quiere saber si los fines de semana tienen un comportamiento similar o si los jueves o martes lo tienen, o incluso ver si en marzo los días feriados tienen menos demanda.\n",
    "\n",
    "Por otra parte la interesante situación de marzo es algo que aún no puedo explicar, pues no parece haber pasado nada en especial en Nueva York en Marzo del 2018, nada que haya podido investigar en este tiempo, a excepción de que el presidente de su nación presento aranceles millonarios a China, pero eso tampoco suena algo que afecte la movilidad en Nueva York."
   ]
  },
  {
   "cell_type": "code",
   "execution_count": 31,
   "metadata": {
    "ExecuteTime": {
     "end_time": "2021-01-10T06:25:23.058222Z",
     "start_time": "2021-01-10T06:25:22.354176Z"
    }
   },
   "outputs": [
    {
     "data": {
      "text/html": [
       "<div>\n",
       "<style scoped>\n",
       "    .dataframe tbody tr th:only-of-type {\n",
       "        vertical-align: middle;\n",
       "    }\n",
       "\n",
       "    .dataframe tbody tr th {\n",
       "        vertical-align: top;\n",
       "    }\n",
       "\n",
       "    .dataframe thead th {\n",
       "        text-align: right;\n",
       "    }\n",
       "</style>\n",
       "<table border=\"1\" class=\"dataframe\">\n",
       "  <thead>\n",
       "    <tr style=\"text-align: right;\">\n",
       "      <th></th>\n",
       "      <th>cl</th>\n",
       "      <th>trip_distance</th>\n",
       "      <th>total_amount</th>\n",
       "      <th>Viajes</th>\n",
       "      <th>Fecha</th>\n",
       "    </tr>\n",
       "  </thead>\n",
       "  <tbody>\n",
       "    <tr>\n",
       "      <th>59</th>\n",
       "      <td>Alta demanda</td>\n",
       "      <td>774.39</td>\n",
       "      <td>4575.51</td>\n",
       "      <td>308</td>\n",
       "      <td>2018-03-01</td>\n",
       "    </tr>\n",
       "    <tr>\n",
       "      <th>60</th>\n",
       "      <td>Alta demanda</td>\n",
       "      <td>781.13</td>\n",
       "      <td>4810.03</td>\n",
       "      <td>338</td>\n",
       "      <td>2018-03-02</td>\n",
       "    </tr>\n",
       "    <tr>\n",
       "      <th>63</th>\n",
       "      <td>Alta demanda</td>\n",
       "      <td>793.06</td>\n",
       "      <td>4456.76</td>\n",
       "      <td>304</td>\n",
       "      <td>2018-03-05</td>\n",
       "    </tr>\n",
       "    <tr>\n",
       "      <th>64</th>\n",
       "      <td>Alta demanda</td>\n",
       "      <td>1052.11</td>\n",
       "      <td>5941.27</td>\n",
       "      <td>361</td>\n",
       "      <td>2018-03-06</td>\n",
       "    </tr>\n",
       "    <tr>\n",
       "      <th>66</th>\n",
       "      <td>Alta demanda</td>\n",
       "      <td>843.89</td>\n",
       "      <td>5213.23</td>\n",
       "      <td>341</td>\n",
       "      <td>2018-03-08</td>\n",
       "    </tr>\n",
       "  </tbody>\n",
       "</table>\n",
       "</div>"
      ],
      "text/plain": [
       "              cl  trip_distance  total_amount  Viajes       Fecha\n",
       "59  Alta demanda         774.39       4575.51     308  2018-03-01\n",
       "60  Alta demanda         781.13       4810.03     338  2018-03-02\n",
       "63  Alta demanda         793.06       4456.76     304  2018-03-05\n",
       "64  Alta demanda        1052.11       5941.27     361  2018-03-06\n",
       "66  Alta demanda         843.89       5213.23     341  2018-03-08"
      ]
     },
     "execution_count": 31,
     "metadata": {},
     "output_type": "execute_result"
    }
   ],
   "source": [
    "tab.groupby('cl').get_group('Alta demanda').head()"
   ]
  },
  {
   "cell_type": "code",
   "execution_count": null,
   "metadata": {},
   "outputs": [],
   "source": []
  }
 ],
 "metadata": {
  "kernelspec": {
   "display_name": "env",
   "language": "python",
   "name": "env"
  },
  "language_info": {
   "codemirror_mode": {
    "name": "ipython",
    "version": 3
   },
   "file_extension": ".py",
   "mimetype": "text/x-python",
   "name": "python",
   "nbconvert_exporter": "python",
   "pygments_lexer": "ipython3",
   "version": "3.7.3"
  },
  "notify_time": "10",
  "toc": {
   "base_numbering": 1,
   "nav_menu": {},
   "number_sections": true,
   "sideBar": true,
   "skip_h1_title": false,
   "title_cell": "Table of Contents",
   "title_sidebar": "Contents",
   "toc_cell": false,
   "toc_position": {
    "height": "calc(100% - 180px)",
    "left": "10px",
    "top": "150px",
    "width": "165px"
   },
   "toc_section_display": true,
   "toc_window_display": true
  }
 },
 "nbformat": 4,
 "nbformat_minor": 4
}
