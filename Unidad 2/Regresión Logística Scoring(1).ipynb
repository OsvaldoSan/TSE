{
 "cells": [
  {
   "cell_type": "code",
   "execution_count": 4,
   "metadata": {
    "ExecuteTime": {
     "end_time": "2020-11-26T03:36:19.179938Z",
     "start_time": "2020-11-26T03:36:19.175277Z"
    }
   },
   "outputs": [],
   "source": [
    "import numpy as np\n",
    "import pandas as pd\n",
    "\n",
    "import os\n",
    "\n",
    "from sklearn.model_selection import train_test_split\n",
    "from sklearn.preprocessing import KBinsDiscretizer\n",
    "from sklearn.linear_model import LogisticRegression\n",
    "from sklearn.metrics import accuracy_score,roc_auc_score\n",
    "\n",
    "from functools import reduce\n",
    "\n",
    "from scipy.stats import ks_2samp\n",
    "from scikitplot.metrics import plot_ks_statistic,plot_roc_curve\n",
    "\n",
    "import seaborn as sns\n",
    "import matplotlib.pyplot as plt\n",
    "\n",
    "import warnings\n",
    "warnings.filterwarnings('ignore')\n",
    "\n",
    "pd.set_option('display.max_columns',500)\n",
    "pd.set_option('display.float_format',lambda x:'%.4f'%x)"
   ]
  },
  {
   "cell_type": "markdown",
   "metadata": {},
   "source": [
    "## Cargar datos y categorizar variables"
   ]
  },
  {
   "cell_type": "code",
   "execution_count": 10,
   "metadata": {},
   "outputs": [],
   "source": [
    "ruta='/home/oszwaldo/Documentos/Projects/Selectos/Unidad 2/Hojas de cálculo'\n",
    "r=os.listdir('/home/oszwaldo/Documentos/Projects/Selectos/Unidad 2/Hojas de cálculo')[2]\n",
    "arch= os.path.join(ruta,r)"
   ]
  },
  {
   "cell_type": "code",
   "execution_count": 11,
   "metadata": {
    "ExecuteTime": {
     "end_time": "2020-11-26T03:36:19.556300Z",
     "start_time": "2020-11-26T03:36:19.181572Z"
    }
   },
   "outputs": [
    {
     "name": "stdout",
     "output_type": "stream",
     "text": [
      "(228, 81)\n",
      "(222, 81)\n"
     ]
    }
   ],
   "source": [
    "df = pd.read_excel(arch)\n",
    "print(df.shape)\n",
    "df = df.loc[df['Edad 🎂']<=40].reset_index(drop=True)\n",
    "df = df.loc[df['¿Cuántos cuartos para dormir tiene tu vivienda?']>0].reset_index(drop=True)\n",
    "df = df.loc[df['¿A cuánto aproximadamente ascienden los ingresos de tu hogar(considerando a todos los que aportan)?']<=100000].reset_index(drop=True)\n",
    "df = df.loc[df['¿En cuántos años lo terminaste?']<=5].reset_index(drop=True)\n",
    "print(df.shape)"
   ]
  },
  {
   "cell_type": "code",
   "execution_count": 12,
   "metadata": {
    "ExecuteTime": {
     "end_time": "2020-11-26T03:36:19.561220Z",
     "start_time": "2020-11-26T03:36:19.557717Z"
    }
   },
   "outputs": [],
   "source": [
    "varc = ['Edad 🎂',\n",
    "        '¿Cuánto tiempo dura (en minutos) el trayecto de tu casa a la facultad? ⏱',\n",
    "        '¿Cuántas personas en total viven en tu hogar? Incluyéndote a ti',\n",
    "        '¿Cuántos son hombres?',\n",
    "        '¿Cuántas son mujeres?',\n",
    "        '¿Cuánto tiempo llevas viviendo ahí? (años)',\n",
    "        '¿Cuántos cuartos para dormir tiene tu vivienda?',\n",
    "        '¿Cuántos automóviles en total tienen las personas que conforman tu hogar?',\n",
    "        '¿Cuántas horas trabajas a la semana?',\n",
    "        '¿Qué promedio obtuviste en el bachillerato?',\n",
    "        '¿En cuántos años lo terminaste?',\n",
    "        '¿A cuánto aproximadamente ascienden los ingresos de tu hogar(considerando a todos los que aportan)?',\n",
    "        '¿Cuántos días a la semana dedicas tiempo para realizar las siguientes actividades? [Deportes ⚽️🏀🏈]',\n",
    "        '¿Cuántos días a la semana dedicas tiempo para realizar las siguientes actividades? [Actividades culturales 🎭🎬🎻]',\n",
    "        '¿Cuántos días a la semana dedicas tiempo para realizar las siguientes actividades? [Actividades sociales (fiestas, reuniones con amigos, familia, etc.)]',\n",
    "        '¿Cuántos días a la semana dedicas tiempo para realizar las siguientes actividades? [Entretenimiento personal (videojuegos, redes sociales, netflix, youtube, etc)]'\n",
    "       ]\n",
    "\n",
    "vard = ['Estado civil','¿Tienes hijos?',\n",
    "        '¿Tienes alguna dificultad para? [👓 Ver]',\n",
    "        '¿Tienes alguna dificultad para? [👂 Escuchar]',\n",
    "        '¿Tienes alguna dificultad para? [💪 Realizar alguna actividad física]',\n",
    "        '¿Dónde vives actualmente?',\n",
    "        '¿En qué delegación o municipio?',\n",
    "        '¿Qué medio de transporte utilizas para llegar a la facultad?',\n",
    "        '¿Cuál de las siguientes opciones describe tu tipo de vivienda?',\n",
    "        '¿Con quién vives? (Puedes seleccionar más de una)',\n",
    "        '¿Cuál es el máximo nivel de estudios de tu papá?',\n",
    "        '¿Cuál es el máximo nivel de estudios de tu mamá?',\n",
    "        'En caso de que tengas smartphone ¿Qué sistema operativo tiene?',\n",
    "        '¿Dónde vivirás mientras cursas tus estudios universitarios?',\n",
    "        '¿De qué forma financiarás tus estudios universitarios?',\n",
    "        '¿En dónde cursaste el bachillerato?','¿Cómo se llama la institución donde cursaste el bachillerato?',\n",
    "        '¿Recibiste alguna beca?','¿Cuál fue el proceso de admisión por el que entraste a esta carrera?',\n",
    "        'Escoger ésta carrera fue...','Al escoger la FES Acatlán ésta fue:',\n",
    "        '¿Cuándo tomaste la decisión de lo que querías estudiar?'   \n",
    "       ]\n",
    "tgt = 'Carrera'"
   ]
  },
  {
   "cell_type": "markdown",
   "metadata": {},
   "source": [
    "## Normalizar variables discretas"
   ]
  },
  {
   "cell_type": "code",
   "execution_count": 13,
   "metadata": {
    "ExecuteTime": {
     "end_time": "2020-11-26T03:36:19.694878Z",
     "start_time": "2020-11-26T03:36:19.563199Z"
    }
   },
   "outputs": [],
   "source": [
    "for v in vard:\n",
    "    df[v].fillna('MISSING',inplace=True)"
   ]
  },
  {
   "cell_type": "code",
   "execution_count": 14,
   "metadata": {
    "ExecuteTime": {
     "end_time": "2020-11-26T03:36:19.799470Z",
     "start_time": "2020-11-26T03:36:19.696127Z"
    }
   },
   "outputs": [],
   "source": [
    "def normalizar(df,v,umbral=0.05):\n",
    "    aux = df[v].value_counts(True).to_frame()\n",
    "    aux['norm'] = np.where(aux[v]<umbral,'Otros',aux.index)\n",
    "    grupo = aux.loc[aux['norm']=='Otros'][v].sum()\n",
    "    if grupo<umbral:\n",
    "        aux['norm'].replace({'Otros':aux.index[0]},inplace=True)\n",
    "    aux.drop(v,axis=1,inplace=True)\n",
    "    return v,aux.to_dict()['norm']"
   ]
  },
  {
   "cell_type": "code",
   "execution_count": 15,
   "metadata": {
    "ExecuteTime": {
     "end_time": "2020-11-26T03:36:20.124670Z",
     "start_time": "2020-11-26T03:36:19.800634Z"
    }
   },
   "outputs": [],
   "source": [
    "l_norm = list(map(lambda v:normalizar(df,v),vard)    )"
   ]
  },
  {
   "cell_type": "code",
   "execution_count": 16,
   "metadata": {
    "ExecuteTime": {
     "end_time": "2020-11-26T03:36:20.274044Z",
     "start_time": "2020-11-26T03:36:20.126477Z"
    }
   },
   "outputs": [],
   "source": [
    "for v,d in l_norm:\n",
    "    df[f'n_{v}'] = df[v].replace(d)"
   ]
  },
  {
   "cell_type": "code",
   "execution_count": 17,
   "metadata": {
    "ExecuteTime": {
     "end_time": "2020-11-26T03:36:20.333056Z",
     "start_time": "2020-11-26T03:36:20.276214Z"
    }
   },
   "outputs": [],
   "source": [
    "varn = df.filter(like='n_').columns.tolist()"
   ]
  },
  {
   "cell_type": "code",
   "execution_count": 18,
   "metadata": {
    "ExecuteTime": {
     "end_time": "2020-11-26T03:36:20.459271Z",
     "start_time": "2020-11-26T03:36:20.334857Z"
    }
   },
   "outputs": [
    {
     "name": "stdout",
     "output_type": "stream",
     "text": [
      "n_Estado civil \n",
      "\n",
      "👤 Soltero           0.7793\n",
      "👥 En una relación   0.2207\n",
      "Name: n_Estado civil, dtype: float64\n",
      "\n",
      "\n",
      "\n",
      "n_¿Tienes hijos? \n",
      "\n",
      "No   1.0000\n",
      "Name: n_¿Tienes hijos?, dtype: float64\n",
      "\n",
      "\n",
      "\n",
      "n_¿Tienes alguna dificultad para? [👓 Ver] \n",
      "\n",
      "No   0.5135\n",
      "Si   0.4865\n",
      "Name: n_¿Tienes alguna dificultad para? [👓 Ver], dtype: float64\n",
      "\n",
      "\n",
      "\n",
      "n_¿Tienes alguna dificultad para? [👂 Escuchar] \n",
      "\n",
      "No   1.0000\n",
      "Name: n_¿Tienes alguna dificultad para? [👂 Escuchar], dtype: float64\n",
      "\n",
      "\n",
      "\n",
      "n_¿Tienes alguna dificultad para? [💪 Realizar alguna actividad física] \n",
      "\n",
      "No   1.0000\n",
      "Name: n_¿Tienes alguna dificultad para? [💪 Realizar alguna actividad física], dtype: float64\n",
      "\n",
      "\n",
      "\n",
      "n_¿Dónde vives actualmente? \n",
      "\n",
      "CDMX               0.3829\n",
      "Estado de México   0.6171\n",
      "Name: n_¿Dónde vives actualmente?, dtype: float64\n",
      "\n",
      "\n",
      "\n",
      "n_¿En qué delegación o municipio? \n",
      "\n",
      "Naucalpan   0.0856\n",
      "Otros       0.9144\n",
      "Name: n_¿En qué delegación o municipio?, dtype: float64\n",
      "\n",
      "\n",
      "\n",
      "n_¿Qué medio de transporte utilizas para llegar a la facultad? \n",
      "\n",
      "Transporte público (metro, metrobus, micro, combi, etc.)   0.8784\n",
      "Vehículo propio (Automóvil, motocicleta, motoneta)         0.1216\n",
      "Name: n_¿Qué medio de transporte utilizas para llegar a la facultad?, dtype: float64\n",
      "\n",
      "\n",
      "\n",
      "n_¿Cuál de las siguientes opciones describe tu tipo de vivienda? \n",
      "\n",
      "Ocupada sin pagar renta (incluye casa de familiares)   0.1847\n",
      "Propia (se esta pagando)                               0.1892\n",
      "Propia (ya esta pagada)                                0.4865\n",
      "Rentada                                                0.1396\n",
      "Name: n_¿Cuál de las siguientes opciones describe tu tipo de vivienda?, dtype: float64\n",
      "\n",
      "\n",
      "\n",
      "n_¿Con quién vives? (Puedes seleccionar más de una) \n",
      "\n",
      "Otros                               0.4009\n",
      "👩🏽 Mamá, 👦🏽👧🏽 Hermano(s)            0.0946\n",
      "👩🏽 Mamá, 👨🏽 Papá                    0.0631\n",
      "👩🏽 Mamá, 👨🏽 Papá, 👦🏽👧🏽 Hermano(s)   0.4414\n",
      "Name: n_¿Con quién vives? (Puedes seleccionar más de una), dtype: float64\n",
      "\n",
      "\n",
      "\n",
      "n_¿Cuál es el máximo nivel de estudios de tu papá? \n",
      "\n",
      "Bachillerato   0.3198\n",
      "Licenciatura   0.2793\n",
      "Otros          0.0766\n",
      "Primaria       0.0721\n",
      "Secundaria     0.2523\n",
      "Name: n_¿Cuál es el máximo nivel de estudios de tu papá?, dtype: float64\n",
      "\n",
      "\n",
      "\n",
      "n_¿Cuál es el máximo nivel de estudios de tu mamá? \n",
      "\n",
      "Bachillerato                    0.3919\n",
      "Licenciatura                    0.2342\n",
      "Posgrado, maestria, doctorado   0.0631\n",
      "Primaria                        0.0766\n",
      "Secundaria                      0.2342\n",
      "Name: n_¿Cuál es el máximo nivel de estudios de tu mamá?, dtype: float64\n",
      "\n",
      "\n",
      "\n",
      "n_En caso de que tengas smartphone ¿Qué sistema operativo tiene? \n",
      "\n",
      "Android   0.8198\n",
      "iOS       0.1802\n",
      "Name: n_En caso de que tengas smartphone ¿Qué sistema operativo tiene?, dtype: float64\n",
      "\n",
      "\n",
      "\n",
      "n_¿Dónde vivirás mientras cursas tus estudios universitarios? \n",
      "\n",
      "En el mismo lugar   0.9279\n",
      "Otros               0.0721\n",
      "Name: n_¿Dónde vivirás mientras cursas tus estudios universitarios?, dtype: float64\n",
      "\n",
      "\n",
      "\n",
      "n_¿De qué forma financiarás tus estudios universitarios? \n",
      "\n",
      "Ayuda de mis padres u otros familiares      0.7387\n",
      "Becas UNAM                                  0.1622\n",
      "Recursos propios (trabajo, ahorros, etc.)   0.0991\n",
      "Name: n_¿De qué forma financiarás tus estudios universitarios?, dtype: float64\n",
      "\n",
      "\n",
      "\n",
      "n_¿En dónde cursaste el bachillerato? \n",
      "\n",
      "Escuela Nacional Preparatoria (UNAM)   0.6216\n",
      "Escuela privada                        0.0766\n",
      "Escuela pública                        0.2162\n",
      "Otro                                   0.0856\n",
      "Name: n_¿En dónde cursaste el bachillerato?, dtype: float64\n",
      "\n",
      "\n",
      "\n",
      "n_¿Cómo se llama la institución donde cursaste el bachillerato? \n",
      "\n",
      "CCH             0.0631\n",
      "CCH Naucalpan   0.0631\n",
      "Otros           0.8739\n",
      "Name: n_¿Cómo se llama la institución donde cursaste el bachillerato?, dtype: float64\n",
      "\n",
      "\n",
      "\n",
      "n_¿Recibiste alguna beca? \n",
      "\n",
      "No   0.2793\n",
      "Sí   0.7207\n",
      "Name: n_¿Recibiste alguna beca?, dtype: float64\n",
      "\n",
      "\n",
      "\n",
      "n_¿Cuál fue el proceso de admisión por el que entraste a esta carrera? \n",
      "\n",
      "Concurso de selección   0.1982\n",
      "Pase reglamentado       0.8018\n",
      "Name: n_¿Cuál fue el proceso de admisión por el que entraste a esta carrera?, dtype: float64\n",
      "\n",
      "\n",
      "\n",
      "n_Escoger ésta carrera fue... \n",
      "\n",
      "❤️ Mi primera opción   0.9009\n",
      "😊 Mi segunda opción    0.0991\n",
      "Name: n_Escoger ésta carrera fue..., dtype: float64\n",
      "\n",
      "\n",
      "\n",
      "n_Al escoger la FES Acatlán ésta fue: \n",
      "\n",
      "☀️ Mi primera opción        0.6081\n",
      "☔️ No quería este plantel   0.1757\n",
      "⛅️ Mi segunda opción        0.2162\n",
      "Name: n_Al escoger la FES Acatlán ésta fue:, dtype: float64\n",
      "\n",
      "\n",
      "\n",
      "n_¿Cuándo tomaste la decisión de lo que querías estudiar? \n",
      "\n",
      "Al terminar el bachillerato       0.2162\n",
      "Antes del bachillerato            0.1126\n",
      "Durante el bachillerato           0.6171\n",
      "En otro momento o circunstancia   0.0541\n",
      "Name: n_¿Cuándo tomaste la decisión de lo que querías estudiar?, dtype: float64\n",
      "\n",
      "\n",
      "\n"
     ]
    }
   ],
   "source": [
    "for v in varn:\n",
    "    print(v,'\\n')\n",
    "    print(df[v].value_counts(True).sort_index())\n",
    "    print('\\n'*2)"
   ]
  },
  {
   "cell_type": "code",
   "execution_count": 19,
   "metadata": {
    "ExecuteTime": {
     "end_time": "2020-11-26T03:36:20.550865Z",
     "start_time": "2020-11-26T03:36:20.460560Z"
    }
   },
   "outputs": [],
   "source": [
    "unarias = [v for v in varn if df[v].value_counts().shape[0]==1]"
   ]
  },
  {
   "cell_type": "code",
   "execution_count": 20,
   "metadata": {
    "ExecuteTime": {
     "end_time": "2020-11-26T03:36:20.650005Z",
     "start_time": "2020-11-26T03:36:20.552083Z"
    }
   },
   "outputs": [],
   "source": [
    "varn = [v for v in varn if v not in unarias]"
   ]
  },
  {
   "cell_type": "markdown",
   "metadata": {},
   "source": [
    "## Discretización de variables continuas"
   ]
  },
  {
   "cell_type": "code",
   "execution_count": 21,
   "metadata": {
    "ExecuteTime": {
     "end_time": "2020-11-26T03:36:21.835590Z",
     "start_time": "2020-11-26T03:36:20.651208Z"
    }
   },
   "outputs": [],
   "source": [
    "l = []\n",
    "for v in varc:\n",
    "    for st in ['uniform','quantile']:\n",
    "        for k in range(2,6):\n",
    "            kb = KBinsDiscretizer(n_bins=k,\n",
    "                                  strategy=st,\n",
    "                                  encode='ordinal')\n",
    "            \n",
    "            miss, nomiss = df.loc[df[v].isnull()][[v]],df.loc[~df[v].isnull()][[v]]\n",
    "            kb.fit(nomiss[[v]])\n",
    "            nombre = f'd_{v}_{k}_{st[:3]}' \n",
    "            miss[nombre] = miss[v].fillna('MISSING')\n",
    "            nomiss[nombre] = pd.cut(nomiss[v],bins=kb.bin_edges_[0],include_lowest=True).astype(str)\n",
    "            l.append(pd.concat([nomiss[[nombre]],miss[[nombre]]]))"
   ]
  },
  {
   "cell_type": "code",
   "execution_count": 22,
   "metadata": {
    "ExecuteTime": {
     "end_time": "2020-11-26T03:36:22.033582Z",
     "start_time": "2020-11-26T03:36:21.836659Z"
    }
   },
   "outputs": [],
   "source": [
    "dfd = reduce(lambda x,y:pd.merge(x,y,left_index=True,right_index=True,how='outer'),l)"
   ]
  },
  {
   "cell_type": "code",
   "execution_count": 23,
   "metadata": {
    "ExecuteTime": {
     "end_time": "2020-11-26T03:36:22.067575Z",
     "start_time": "2020-11-26T03:36:22.034706Z"
    }
   },
   "outputs": [
    {
     "data": {
      "text/plain": [
       "((222, 128), (222, 103))"
      ]
     },
     "execution_count": 23,
     "metadata": {},
     "output_type": "execute_result"
    }
   ],
   "source": [
    "dfd.shape,df.shape"
   ]
  },
  {
   "cell_type": "markdown",
   "metadata": {
    "ExecuteTime": {
     "end_time": "2020-11-26T02:52:51.121557Z",
     "start_time": "2020-11-26T02:52:50.924182Z"
    }
   },
   "source": [
    "## Juntar discretas, continuas y target"
   ]
  },
  {
   "cell_type": "code",
   "execution_count": 24,
   "metadata": {
    "ExecuteTime": {
     "end_time": "2020-11-26T03:36:22.167943Z",
     "start_time": "2020-11-26T03:36:22.069228Z"
    }
   },
   "outputs": [],
   "source": [
    "df = df[[tgt]+varn].merge(dfd,left_index=True,right_index=True,how='outer')"
   ]
  },
  {
   "cell_type": "code",
   "execution_count": 25,
   "metadata": {
    "ExecuteTime": {
     "end_time": "2020-11-26T03:36:22.265001Z",
     "start_time": "2020-11-26T03:36:22.169183Z"
    }
   },
   "outputs": [],
   "source": [
    "df[tgt] = (df[tgt] =='Actuaria').astype(int)"
   ]
  },
  {
   "cell_type": "code",
   "execution_count": 26,
   "metadata": {
    "ExecuteTime": {
     "end_time": "2020-11-26T03:36:22.366385Z",
     "start_time": "2020-11-26T03:36:22.266225Z"
    }
   },
   "outputs": [
    {
     "data": {
      "text/plain": [
       "1   0.6802\n",
       "0   0.3198\n",
       "Name: Carrera, dtype: float64"
      ]
     },
     "execution_count": 26,
     "metadata": {},
     "output_type": "execute_result"
    }
   ],
   "source": [
    "df[tgt].value_counts(1)"
   ]
  },
  {
   "cell_type": "markdown",
   "metadata": {},
   "source": [
    "## Calcular IV"
   ]
  },
  {
   "cell_type": "code",
   "execution_count": 27,
   "metadata": {
    "ExecuteTime": {
     "end_time": "2020-11-26T03:36:22.473104Z",
     "start_time": "2020-11-26T03:36:22.368321Z"
    }
   },
   "outputs": [],
   "source": [
    "v = 'n_¿Cuál de las siguientes opciones describe tu tipo de vivienda?'"
   ]
  },
  {
   "cell_type": "code",
   "execution_count": 28,
   "metadata": {
    "ExecuteTime": {
     "end_time": "2020-11-26T03:36:22.571900Z",
     "start_time": "2020-11-26T03:36:22.474497Z"
    }
   },
   "outputs": [],
   "source": [
    "def iv(df,v,tgt):\n",
    "    aux = df[[v,tgt]].assign(n=1)\n",
    "    aux = aux.pivot_table(index=v,\n",
    "                    columns=tgt,\n",
    "                    values='n',\n",
    "                    fill_value=0,\n",
    "                    aggfunc='sum')\n",
    "    for i in range(2):\n",
    "        aux[i]/=aux[i].sum()\n",
    "    aux['woe'] = np.log(aux[0]/aux[1])\n",
    "    aux['iv'] = (aux[0]-aux[1])*aux['woe']\n",
    "    return v,aux['iv'].sum()\n",
    "    "
   ]
  },
  {
   "cell_type": "code",
   "execution_count": 29,
   "metadata": {
    "ExecuteTime": {
     "end_time": "2020-11-26T03:36:22.806663Z",
     "start_time": "2020-11-26T03:36:22.573287Z"
    }
   },
   "outputs": [
    {
     "name": "stdout",
     "output_type": "stream",
     "text": [
      "<0.1 Débil\n",
      "0.1-0.3 Media\n",
      "0.3-0.5 Fuerte\n",
      ">0.5 Muy fuerte\n",
      "\n"
     ]
    }
   ],
   "source": [
    "print(\"\"\"<0.1 Débil\n",
    "0.1-0.3 Media\n",
    "0.3-0.5 Fuerte\n",
    ">0.5 Muy fuerte\n",
    "\"\"\")"
   ]
  },
  {
   "cell_type": "code",
   "execution_count": 30,
   "metadata": {
    "ExecuteTime": {
     "end_time": "2020-11-26T03:36:22.904873Z",
     "start_time": "2020-11-26T03:36:22.807926Z"
    }
   },
   "outputs": [],
   "source": [
    "var = [v for v in df.columns if v != tgt]"
   ]
  },
  {
   "cell_type": "code",
   "execution_count": 49,
   "metadata": {
    "ExecuteTime": {
     "end_time": "2020-11-26T03:36:24.416410Z",
     "start_time": "2020-11-26T03:36:22.906005Z"
    }
   },
   "outputs": [],
   "source": [
    "ivdf = pd.DataFrame(map(lambda v:iv(df,v,tgt),var),columns=['variable','iv'])\n",
    "ivdf = ivdf.sort_values(by='iv',ascending=False).reset_index(drop=True)\n",
    "ivdf['iv'].replace({np.inf:np.nan,-np.inf:np.nan},inplace=True)\n",
    "ivdf = ivdf.dropna().reset_index(drop=True)\n",
    "ivdf['raiz'] = ivdf['variable'].map(lambda x:x.split('_')[1] if x[:2]=='d_' else x)\n",
    "ivdf = ivdf.sort_values(by=['raiz','iv'],ascending=[1,0]).reset_index(drop=True)\n",
    "ivdf['best'] = ivdf.groupby('raiz').cumcount()+1\n",
    "ivdf = ivdf.loc[ivdf['best']==1].drop('best',axis=1).sort_values(by='iv',ascending=False).reset_index(drop=True)"
   ]
  },
  {
   "cell_type": "code",
   "execution_count": 50,
   "metadata": {
    "ExecuteTime": {
     "end_time": "2020-11-26T03:36:24.421531Z",
     "start_time": "2020-11-26T03:36:24.418465Z"
    }
   },
   "outputs": [],
   "source": [
    "best = ivdf.loc[ivdf['iv']>=0.1]['variable'].tolist()"
   ]
  },
  {
   "cell_type": "code",
   "execution_count": 51,
   "metadata": {
    "ExecuteTime": {
     "end_time": "2020-11-26T03:36:24.591564Z",
     "start_time": "2020-11-26T03:36:24.423574Z"
    }
   },
   "outputs": [
    {
     "data": {
      "text/plain": [
       "['d_¿Qué promedio obtuviste en el bachillerato?_4_qua',\n",
       " 'n_Escoger ésta carrera fue...',\n",
       " 'n_¿Cuál fue el proceso de admisión por el que entraste a esta carrera?',\n",
       " 'n_¿Cuándo tomaste la decisión de lo que querías estudiar?',\n",
       " 'd_¿En cuántos años lo terminaste?_3_uni',\n",
       " 'n_¿En dónde cursaste el bachillerato?',\n",
       " 'd_¿Cuántos días a la semana dedicas tiempo para realizar las siguientes actividades? [Entretenimiento personal (videojuegos, redes sociales, netflix, youtube, etc)]_5_qua',\n",
       " 'n_¿Recibiste alguna beca?',\n",
       " 'n_Al escoger la FES Acatlán ésta fue:',\n",
       " 'n_¿Cómo se llama la institución donde cursaste el bachillerato?',\n",
       " 'd_¿Cuántas personas en total viven en tu hogar? Incluyéndote a ti_5_qua',\n",
       " 'd_¿Cuánto tiempo llevas viviendo ahí? (años)_5_qua',\n",
       " 'n_¿Cuál es el máximo nivel de estudios de tu mamá?',\n",
       " 'n_¿Cuál es el máximo nivel de estudios de tu papá?']"
      ]
     },
     "execution_count": 51,
     "metadata": {},
     "output_type": "execute_result"
    }
   ],
   "source": [
    "best"
   ]
  },
  {
   "cell_type": "markdown",
   "metadata": {
    "ExecuteTime": {
     "end_time": "2020-11-26T03:21:38.925836Z",
     "start_time": "2020-11-26T03:21:38.922761Z"
    }
   },
   "source": [
    "## Transformación WoE"
   ]
  },
  {
   "cell_type": "code",
   "execution_count": 52,
   "metadata": {
    "ExecuteTime": {
     "end_time": "2020-11-26T03:36:24.702145Z",
     "start_time": "2020-11-26T03:36:24.592933Z"
    }
   },
   "outputs": [],
   "source": [
    "X = df[best].copy()\n",
    "y = df[[tgt]].copy()"
   ]
  },
  {
   "cell_type": "code",
   "execution_count": 53,
   "metadata": {
    "ExecuteTime": {
     "end_time": "2020-11-26T03:36:24.810470Z",
     "start_time": "2020-11-26T03:36:24.703933Z"
    }
   },
   "outputs": [],
   "source": [
    "Xt,Xv,yt,yv = train_test_split(X,y,train_size=0.7)"
   ]
  },
  {
   "cell_type": "code",
   "execution_count": 54,
   "metadata": {
    "ExecuteTime": {
     "end_time": "2020-11-26T03:36:24.908802Z",
     "start_time": "2020-11-26T03:36:24.811621Z"
    }
   },
   "outputs": [],
   "source": [
    "Xt[tgt] = yt"
   ]
  },
  {
   "cell_type": "code",
   "execution_count": 37,
   "metadata": {
    "ExecuteTime": {
     "end_time": "2020-11-26T03:36:25.238913Z",
     "start_time": "2020-11-26T03:36:24.909958Z"
    },
    "code_folding": []
   },
   "outputs": [],
   "source": [
    "def woe(df,v,tgt):\n",
    "    aux = df[[v,tgt]].assign(n=1)\n",
    "    aux = aux.pivot_table(index=v,\n",
    "                    columns=tgt,\n",
    "                    values='n',\n",
    "                    fill_value=0,\n",
    "                    aggfunc='sum')\n",
    "    for i in range(2):\n",
    "        aux[i]/=aux[i].sum()\n",
    "    aux['woe'] = np.log(aux[0]/aux[1])\n",
    "    aux.drop(range(2),axis=1,inplace=True)\n",
    "    return v,aux.to_dict()['woe']\n",
    "    "
   ]
  },
  {
   "cell_type": "code",
   "execution_count": 55,
   "metadata": {
    "ExecuteTime": {
     "end_time": "2020-11-26T03:36:25.575485Z",
     "start_time": "2020-11-26T03:36:25.240107Z"
    }
   },
   "outputs": [],
   "source": [
    "mapa_woe = list(map(lambda v:woe(Xt,v,tgt),best))"
   ]
  },
  {
   "cell_type": "code",
   "execution_count": 56,
   "metadata": {
    "ExecuteTime": {
     "end_time": "2020-11-26T03:36:25.638195Z",
     "start_time": "2020-11-26T03:36:25.576624Z"
    }
   },
   "outputs": [],
   "source": [
    "for v,d in mapa_woe:\n",
    "    Xt[f'w_{v}'] = Xt[v].replace(d)\n",
    "    Xv[f'w_{v}'] = Xv[v].replace(d)"
   ]
  },
  {
   "cell_type": "code",
   "execution_count": 57,
   "metadata": {
    "ExecuteTime": {
     "end_time": "2020-11-26T03:36:25.733433Z",
     "start_time": "2020-11-26T03:36:25.640131Z"
    }
   },
   "outputs": [],
   "source": [
    "varw = [v for v in Xt.columns if v[:2]=='w_']"
   ]
  },
  {
   "cell_type": "code",
   "execution_count": 58,
   "metadata": {
    "ExecuteTime": {
     "end_time": "2020-11-26T03:36:26.045749Z",
     "start_time": "2020-11-26T03:36:25.734651Z"
    }
   },
   "outputs": [],
   "source": [
    "Xt = Xt[varw]\n",
    "Xv = Xv[varw]"
   ]
  },
  {
   "cell_type": "code",
   "execution_count": 59,
   "metadata": {
    "ExecuteTime": {
     "end_time": "2020-11-26T03:36:26.576230Z",
     "start_time": "2020-11-26T03:36:26.046816Z"
    }
   },
   "outputs": [],
   "source": [
    "aux = pd.concat([Xt,Xv])\n",
    "aux = aux.describe().T[['min']]\n",
    "aux['min'] = np.abs(aux['min'])"
   ]
  },
  {
   "cell_type": "code",
   "execution_count": 61,
   "metadata": {
    "ExecuteTime": {
     "end_time": "2020-11-26T03:36:26.762220Z",
     "start_time": "2020-11-26T03:36:26.577398Z"
    }
   },
   "outputs": [
    {
     "data": {
      "text/plain": [
       "[]"
      ]
     },
     "execution_count": 61,
     "metadata": {},
     "output_type": "execute_result"
    }
   ],
   "source": [
    "quitar = aux.loc[np.isinf(aux['min'])].index.tolist()\n",
    "quitar"
   ]
  },
  {
   "cell_type": "code",
   "execution_count": 62,
   "metadata": {
    "ExecuteTime": {
     "end_time": "2020-11-26T03:36:26.985054Z",
     "start_time": "2020-11-26T03:36:26.763242Z"
    }
   },
   "outputs": [],
   "source": [
    "varw = [v for v in varw if v not in quitar]"
   ]
  },
  {
   "cell_type": "code",
   "execution_count": 63,
   "metadata": {
    "ExecuteTime": {
     "end_time": "2020-11-26T03:36:27.085748Z",
     "start_time": "2020-11-26T03:36:26.986376Z"
    }
   },
   "outputs": [],
   "source": [
    "Xt = Xt[varw]\n",
    "Xv = Xv[varw]"
   ]
  },
  {
   "cell_type": "markdown",
   "metadata": {},
   "source": [
    "## Entrenamiento del modelo"
   ]
  },
  {
   "cell_type": "code",
   "execution_count": 65,
   "metadata": {
    "ExecuteTime": {
     "end_time": "2020-11-26T03:36:27.182532Z",
     "start_time": "2020-11-26T03:36:27.086886Z"
    }
   },
   "outputs": [],
   "source": [
    "modelo = LogisticRegression()"
   ]
  },
  {
   "cell_type": "code",
   "execution_count": 64,
   "metadata": {
    "ExecuteTime": {
     "end_time": "2020-11-26T03:36:27.311790Z",
     "start_time": "2020-11-26T03:36:27.183601Z"
    }
   },
   "outputs": [
    {
     "data": {
      "text/html": [
       "<div>\n",
       "<style scoped>\n",
       "    .dataframe tbody tr th:only-of-type {\n",
       "        vertical-align: middle;\n",
       "    }\n",
       "\n",
       "    .dataframe tbody tr th {\n",
       "        vertical-align: top;\n",
       "    }\n",
       "\n",
       "    .dataframe thead th {\n",
       "        text-align: right;\n",
       "    }\n",
       "</style>\n",
       "<table border=\"1\" class=\"dataframe\">\n",
       "  <thead>\n",
       "    <tr style=\"text-align: right;\">\n",
       "      <th></th>\n",
       "      <th>w_d_¿Qué promedio obtuviste en el bachillerato?_4_qua</th>\n",
       "      <th>w_n_Escoger ésta carrera fue...</th>\n",
       "      <th>w_n_¿Cuál fue el proceso de admisión por el que entraste a esta carrera?</th>\n",
       "      <th>w_n_¿Cuándo tomaste la decisión de lo que querías estudiar?</th>\n",
       "      <th>w_d_¿En cuántos años lo terminaste?_3_uni</th>\n",
       "      <th>w_n_¿En dónde cursaste el bachillerato?</th>\n",
       "      <th>w_d_¿Cuántos días a la semana dedicas tiempo para realizar las siguientes actividades? [Entretenimiento personal (videojuegos, redes sociales, netflix, youtube, etc)]_5_qua</th>\n",
       "      <th>w_n_¿Recibiste alguna beca?</th>\n",
       "      <th>w_n_Al escoger la FES Acatlán ésta fue:</th>\n",
       "      <th>w_n_¿Cómo se llama la institución donde cursaste el bachillerato?</th>\n",
       "      <th>w_d_¿Cuántas personas en total viven en tu hogar? Incluyéndote a ti_5_qua</th>\n",
       "      <th>w_d_¿Cuánto tiempo llevas viviendo ahí? (años)_5_qua</th>\n",
       "      <th>w_n_¿Cuál es el máximo nivel de estudios de tu mamá?</th>\n",
       "      <th>w_n_¿Cuál es el máximo nivel de estudios de tu papá?</th>\n",
       "    </tr>\n",
       "  </thead>\n",
       "  <tbody>\n",
       "    <tr>\n",
       "      <th>count</th>\n",
       "      <td>155.0000</td>\n",
       "      <td>155.0000</td>\n",
       "      <td>155.0000</td>\n",
       "      <td>155.0000</td>\n",
       "      <td>155.0000</td>\n",
       "      <td>155.0000</td>\n",
       "      <td>155.0000</td>\n",
       "      <td>155.0000</td>\n",
       "      <td>155.0000</td>\n",
       "      <td>155.0000</td>\n",
       "      <td>155.0000</td>\n",
       "      <td>155.0000</td>\n",
       "      <td>155.0000</td>\n",
       "      <td>155.0000</td>\n",
       "    </tr>\n",
       "    <tr>\n",
       "      <th>mean</th>\n",
       "      <td>-0.1911</td>\n",
       "      <td>inf</td>\n",
       "      <td>-0.0442</td>\n",
       "      <td>-0.0407</td>\n",
       "      <td>0.0066</td>\n",
       "      <td>-0.0580</td>\n",
       "      <td>-0.0477</td>\n",
       "      <td>-0.0401</td>\n",
       "      <td>-0.0429</td>\n",
       "      <td>-0.0614</td>\n",
       "      <td>-0.0316</td>\n",
       "      <td>-0.0300</td>\n",
       "      <td>-0.0170</td>\n",
       "      <td>-0.0121</td>\n",
       "    </tr>\n",
       "    <tr>\n",
       "      <th>std</th>\n",
       "      <td>1.5276</td>\n",
       "      <td>nan</td>\n",
       "      <td>0.8603</td>\n",
       "      <td>0.5956</td>\n",
       "      <td>0.6210</td>\n",
       "      <td>0.6845</td>\n",
       "      <td>0.5528</td>\n",
       "      <td>0.5594</td>\n",
       "      <td>0.4940</td>\n",
       "      <td>0.6169</td>\n",
       "      <td>0.5048</td>\n",
       "      <td>0.4625</td>\n",
       "      <td>0.3438</td>\n",
       "      <td>0.2845</td>\n",
       "    </tr>\n",
       "    <tr>\n",
       "      <th>min</th>\n",
       "      <td>-1.6191</td>\n",
       "      <td>-0.3403</td>\n",
       "      <td>-0.4469</td>\n",
       "      <td>-1.2624</td>\n",
       "      <td>-0.1474</td>\n",
       "      <td>-0.5118</td>\n",
       "      <td>-0.7028</td>\n",
       "      <td>-0.3800</td>\n",
       "      <td>-0.7028</td>\n",
       "      <td>-1.8014</td>\n",
       "      <td>-0.7028</td>\n",
       "      <td>-0.5533</td>\n",
       "      <td>-0.4151</td>\n",
       "      <td>-0.2328</td>\n",
       "    </tr>\n",
       "    <tr>\n",
       "      <th>25%</th>\n",
       "      <td>-1.0082</td>\n",
       "      <td>-0.3403</td>\n",
       "      <td>-0.4469</td>\n",
       "      <td>-0.1020</td>\n",
       "      <td>-0.1474</td>\n",
       "      <td>-0.5118</td>\n",
       "      <td>-0.5061</td>\n",
       "      <td>-0.3800</td>\n",
       "      <td>-0.5895</td>\n",
       "      <td>0.0018</td>\n",
       "      <td>-0.4151</td>\n",
       "      <td>-0.5533</td>\n",
       "      <td>-0.2328</td>\n",
       "      <td>-0.2328</td>\n",
       "    </tr>\n",
       "    <tr>\n",
       "      <th>50%</th>\n",
       "      <td>-1.0082</td>\n",
       "      <td>-0.3403</td>\n",
       "      <td>-0.4469</td>\n",
       "      <td>-0.1020</td>\n",
       "      <td>-0.1474</td>\n",
       "      <td>-0.5118</td>\n",
       "      <td>-0.5061</td>\n",
       "      <td>-0.3800</td>\n",
       "      <td>0.3581</td>\n",
       "      <td>0.0018</td>\n",
       "      <td>-0.1050</td>\n",
       "      <td>-0.0897</td>\n",
       "      <td>-0.2328</td>\n",
       "      <td>-0.1856</td>\n",
       "    </tr>\n",
       "    <tr>\n",
       "      <th>75%</th>\n",
       "      <td>2.1876</td>\n",
       "      <td>-0.3403</td>\n",
       "      <td>-0.4469</td>\n",
       "      <td>0.3040</td>\n",
       "      <td>-0.1474</td>\n",
       "      <td>0.9199</td>\n",
       "      <td>0.5164</td>\n",
       "      <td>0.8745</td>\n",
       "      <td>0.3581</td>\n",
       "      <td>0.0018</td>\n",
       "      <td>0.0704</td>\n",
       "      <td>0.4152</td>\n",
       "      <td>-0.0097</td>\n",
       "      <td>0.4384</td>\n",
       "    </tr>\n",
       "    <tr>\n",
       "      <th>max</th>\n",
       "      <td>2.1876</td>\n",
       "      <td>inf</td>\n",
       "      <td>1.7821</td>\n",
       "      <td>1.7821</td>\n",
       "      <td>2.6294</td>\n",
       "      <td>1.2431</td>\n",
       "      <td>0.7635</td>\n",
       "      <td>0.8745</td>\n",
       "      <td>0.3581</td>\n",
       "      <td>1.2431</td>\n",
       "      <td>1.0200</td>\n",
       "      <td>0.9348</td>\n",
       "      <td>0.5723</td>\n",
       "      <td>0.4384</td>\n",
       "    </tr>\n",
       "  </tbody>\n",
       "</table>\n",
       "</div>"
      ],
      "text/plain": [
       "       w_d_¿Qué promedio obtuviste en el bachillerato?_4_qua  \\\n",
       "count                                           155.0000       \n",
       "mean                                             -0.1911       \n",
       "std                                               1.5276       \n",
       "min                                              -1.6191       \n",
       "25%                                              -1.0082       \n",
       "50%                                              -1.0082       \n",
       "75%                                               2.1876       \n",
       "max                                               2.1876       \n",
       "\n",
       "       w_n_Escoger ésta carrera fue...  \\\n",
       "count                         155.0000   \n",
       "mean                               inf   \n",
       "std                                nan   \n",
       "min                            -0.3403   \n",
       "25%                            -0.3403   \n",
       "50%                            -0.3403   \n",
       "75%                            -0.3403   \n",
       "max                                inf   \n",
       "\n",
       "       w_n_¿Cuál fue el proceso de admisión por el que entraste a esta carrera?  \\\n",
       "count                                           155.0000                          \n",
       "mean                                             -0.0442                          \n",
       "std                                               0.8603                          \n",
       "min                                              -0.4469                          \n",
       "25%                                              -0.4469                          \n",
       "50%                                              -0.4469                          \n",
       "75%                                              -0.4469                          \n",
       "max                                               1.7821                          \n",
       "\n",
       "       w_n_¿Cuándo tomaste la decisión de lo que querías estudiar?  \\\n",
       "count                                           155.0000             \n",
       "mean                                             -0.0407             \n",
       "std                                               0.5956             \n",
       "min                                              -1.2624             \n",
       "25%                                              -0.1020             \n",
       "50%                                              -0.1020             \n",
       "75%                                               0.3040             \n",
       "max                                               1.7821             \n",
       "\n",
       "       w_d_¿En cuántos años lo terminaste?_3_uni  \\\n",
       "count                                   155.0000   \n",
       "mean                                      0.0066   \n",
       "std                                       0.6210   \n",
       "min                                      -0.1474   \n",
       "25%                                      -0.1474   \n",
       "50%                                      -0.1474   \n",
       "75%                                      -0.1474   \n",
       "max                                       2.6294   \n",
       "\n",
       "       w_n_¿En dónde cursaste el bachillerato?  \\\n",
       "count                                 155.0000   \n",
       "mean                                   -0.0580   \n",
       "std                                     0.6845   \n",
       "min                                    -0.5118   \n",
       "25%                                    -0.5118   \n",
       "50%                                    -0.5118   \n",
       "75%                                     0.9199   \n",
       "max                                     1.2431   \n",
       "\n",
       "       w_d_¿Cuántos días a la semana dedicas tiempo para realizar las siguientes actividades? [Entretenimiento personal (videojuegos, redes sociales, netflix, youtube, etc)]_5_qua  \\\n",
       "count                                           155.0000                                                                                                                              \n",
       "mean                                             -0.0477                                                                                                                              \n",
       "std                                               0.5528                                                                                                                              \n",
       "min                                              -0.7028                                                                                                                              \n",
       "25%                                              -0.5061                                                                                                                              \n",
       "50%                                              -0.5061                                                                                                                              \n",
       "75%                                               0.5164                                                                                                                              \n",
       "max                                               0.7635                                                                                                                              \n",
       "\n",
       "       w_n_¿Recibiste alguna beca?  w_n_Al escoger la FES Acatlán ésta fue:  \\\n",
       "count                     155.0000                                 155.0000   \n",
       "mean                       -0.0401                                  -0.0429   \n",
       "std                         0.5594                                   0.4940   \n",
       "min                        -0.3800                                  -0.7028   \n",
       "25%                        -0.3800                                  -0.5895   \n",
       "50%                        -0.3800                                   0.3581   \n",
       "75%                         0.8745                                   0.3581   \n",
       "max                         0.8745                                   0.3581   \n",
       "\n",
       "       w_n_¿Cómo se llama la institución donde cursaste el bachillerato?  \\\n",
       "count                                           155.0000                   \n",
       "mean                                             -0.0614                   \n",
       "std                                               0.6169                   \n",
       "min                                              -1.8014                   \n",
       "25%                                               0.0018                   \n",
       "50%                                               0.0018                   \n",
       "75%                                               0.0018                   \n",
       "max                                               1.2431                   \n",
       "\n",
       "       w_d_¿Cuántas personas en total viven en tu hogar? Incluyéndote a ti_5_qua  \\\n",
       "count                                           155.0000                           \n",
       "mean                                             -0.0316                           \n",
       "std                                               0.5048                           \n",
       "min                                              -0.7028                           \n",
       "25%                                              -0.4151                           \n",
       "50%                                              -0.1050                           \n",
       "75%                                               0.0704                           \n",
       "max                                               1.0200                           \n",
       "\n",
       "       w_d_¿Cuánto tiempo llevas viviendo ahí? (años)_5_qua  \\\n",
       "count                                           155.0000      \n",
       "mean                                             -0.0300      \n",
       "std                                               0.4625      \n",
       "min                                              -0.5533      \n",
       "25%                                              -0.5533      \n",
       "50%                                              -0.0897      \n",
       "75%                                               0.4152      \n",
       "max                                               0.9348      \n",
       "\n",
       "       w_n_¿Cuál es el máximo nivel de estudios de tu mamá?  \\\n",
       "count                                           155.0000      \n",
       "mean                                             -0.0170      \n",
       "std                                               0.3438      \n",
       "min                                              -0.4151      \n",
       "25%                                              -0.2328      \n",
       "50%                                              -0.2328      \n",
       "75%                                              -0.0097      \n",
       "max                                               0.5723      \n",
       "\n",
       "       w_n_¿Cuál es el máximo nivel de estudios de tu papá?  \n",
       "count                                           155.0000     \n",
       "mean                                             -0.0121     \n",
       "std                                               0.2845     \n",
       "min                                              -0.2328     \n",
       "25%                                              -0.2328     \n",
       "50%                                              -0.1856     \n",
       "75%                                               0.4384     \n",
       "max                                               0.4384     "
      ]
     },
     "execution_count": 64,
     "metadata": {},
     "output_type": "execute_result"
    }
   ],
   "source": [
    "Xt.describe()"
   ]
  },
  {
   "cell_type": "code",
   "execution_count": 66,
   "metadata": {
    "ExecuteTime": {
     "end_time": "2020-11-26T03:36:27.397995Z",
     "start_time": "2020-11-26T03:36:27.312993Z"
    }
   },
   "outputs": [
    {
     "ename": "ValueError",
     "evalue": "Input contains NaN, infinity or a value too large for dtype('float64').",
     "output_type": "error",
     "traceback": [
      "\u001b[0;31m--------------------------------------------------------------------------\u001b[0m",
      "\u001b[0;31mValueError\u001b[0m                               Traceback (most recent call last)",
      "\u001b[0;32m<ipython-input-66-425e1b1bdeb7>\u001b[0m in \u001b[0;36m<module>\u001b[0;34m\u001b[0m\n\u001b[0;32m----> 1\u001b[0;31m \u001b[0mmodelo\u001b[0m\u001b[0;34m.\u001b[0m\u001b[0mfit\u001b[0m\u001b[0;34m(\u001b[0m\u001b[0mXt\u001b[0m\u001b[0;34m,\u001b[0m\u001b[0myt\u001b[0m\u001b[0;34m)\u001b[0m\u001b[0;34m\u001b[0m\u001b[0;34m\u001b[0m\u001b[0m\n\u001b[0m",
      "\u001b[0;32m~/Documentos/Projects/env/lib/python3.7/site-packages/sklearn/linear_model/_logistic.py\u001b[0m in \u001b[0;36mfit\u001b[0;34m(self, X, y, sample_weight)\u001b[0m\n\u001b[1;32m   1342\u001b[0m         X, y = self._validate_data(X, y, accept_sparse='csr', dtype=_dtype,\n\u001b[1;32m   1343\u001b[0m                                    \u001b[0morder\u001b[0m\u001b[0;34m=\u001b[0m\u001b[0;34m\"C\"\u001b[0m\u001b[0;34m,\u001b[0m\u001b[0;34m\u001b[0m\u001b[0;34m\u001b[0m\u001b[0m\n\u001b[0;32m-> 1344\u001b[0;31m                                    accept_large_sparse=solver != 'liblinear')\n\u001b[0m\u001b[1;32m   1345\u001b[0m         \u001b[0mcheck_classification_targets\u001b[0m\u001b[0;34m(\u001b[0m\u001b[0my\u001b[0m\u001b[0;34m)\u001b[0m\u001b[0;34m\u001b[0m\u001b[0;34m\u001b[0m\u001b[0m\n\u001b[1;32m   1346\u001b[0m         \u001b[0mself\u001b[0m\u001b[0;34m.\u001b[0m\u001b[0mclasses_\u001b[0m \u001b[0;34m=\u001b[0m \u001b[0mnp\u001b[0m\u001b[0;34m.\u001b[0m\u001b[0munique\u001b[0m\u001b[0;34m(\u001b[0m\u001b[0my\u001b[0m\u001b[0;34m)\u001b[0m\u001b[0;34m\u001b[0m\u001b[0;34m\u001b[0m\u001b[0m\n",
      "\u001b[0;32m~/Documentos/Projects/env/lib/python3.7/site-packages/sklearn/base.py\u001b[0m in \u001b[0;36m_validate_data\u001b[0;34m(self, X, y, reset, validate_separately, **check_params)\u001b[0m\n\u001b[1;32m    430\u001b[0m                 \u001b[0my\u001b[0m \u001b[0;34m=\u001b[0m \u001b[0mcheck_array\u001b[0m\u001b[0;34m(\u001b[0m\u001b[0my\u001b[0m\u001b[0;34m,\u001b[0m \u001b[0;34m**\u001b[0m\u001b[0mcheck_y_params\u001b[0m\u001b[0;34m)\u001b[0m\u001b[0;34m\u001b[0m\u001b[0;34m\u001b[0m\u001b[0m\n\u001b[1;32m    431\u001b[0m             \u001b[0;32melse\u001b[0m\u001b[0;34m:\u001b[0m\u001b[0;34m\u001b[0m\u001b[0;34m\u001b[0m\u001b[0m\n\u001b[0;32m--> 432\u001b[0;31m                 \u001b[0mX\u001b[0m\u001b[0;34m,\u001b[0m \u001b[0my\u001b[0m \u001b[0;34m=\u001b[0m \u001b[0mcheck_X_y\u001b[0m\u001b[0;34m(\u001b[0m\u001b[0mX\u001b[0m\u001b[0;34m,\u001b[0m \u001b[0my\u001b[0m\u001b[0;34m,\u001b[0m \u001b[0;34m**\u001b[0m\u001b[0mcheck_params\u001b[0m\u001b[0;34m)\u001b[0m\u001b[0;34m\u001b[0m\u001b[0;34m\u001b[0m\u001b[0m\n\u001b[0m\u001b[1;32m    433\u001b[0m             \u001b[0mout\u001b[0m \u001b[0;34m=\u001b[0m \u001b[0mX\u001b[0m\u001b[0;34m,\u001b[0m \u001b[0my\u001b[0m\u001b[0;34m\u001b[0m\u001b[0;34m\u001b[0m\u001b[0m\n\u001b[1;32m    434\u001b[0m \u001b[0;34m\u001b[0m\u001b[0m\n",
      "\u001b[0;32m~/Documentos/Projects/env/lib/python3.7/site-packages/sklearn/utils/validation.py\u001b[0m in \u001b[0;36minner_f\u001b[0;34m(*args, **kwargs)\u001b[0m\n\u001b[1;32m     70\u001b[0m                           FutureWarning)\n\u001b[1;32m     71\u001b[0m         \u001b[0mkwargs\u001b[0m\u001b[0;34m.\u001b[0m\u001b[0mupdate\u001b[0m\u001b[0;34m(\u001b[0m\u001b[0;34m{\u001b[0m\u001b[0mk\u001b[0m\u001b[0;34m:\u001b[0m \u001b[0marg\u001b[0m \u001b[0;32mfor\u001b[0m \u001b[0mk\u001b[0m\u001b[0;34m,\u001b[0m \u001b[0marg\u001b[0m \u001b[0;32min\u001b[0m \u001b[0mzip\u001b[0m\u001b[0;34m(\u001b[0m\u001b[0msig\u001b[0m\u001b[0;34m.\u001b[0m\u001b[0mparameters\u001b[0m\u001b[0;34m,\u001b[0m \u001b[0margs\u001b[0m\u001b[0;34m)\u001b[0m\u001b[0;34m}\u001b[0m\u001b[0;34m)\u001b[0m\u001b[0;34m\u001b[0m\u001b[0;34m\u001b[0m\u001b[0m\n\u001b[0;32m---> 72\u001b[0;31m         \u001b[0;32mreturn\u001b[0m \u001b[0mf\u001b[0m\u001b[0;34m(\u001b[0m\u001b[0;34m**\u001b[0m\u001b[0mkwargs\u001b[0m\u001b[0;34m)\u001b[0m\u001b[0;34m\u001b[0m\u001b[0;34m\u001b[0m\u001b[0m\n\u001b[0m\u001b[1;32m     73\u001b[0m     \u001b[0;32mreturn\u001b[0m \u001b[0minner_f\u001b[0m\u001b[0;34m\u001b[0m\u001b[0;34m\u001b[0m\u001b[0m\n\u001b[1;32m     74\u001b[0m \u001b[0;34m\u001b[0m\u001b[0m\n",
      "\u001b[0;32m~/Documentos/Projects/env/lib/python3.7/site-packages/sklearn/utils/validation.py\u001b[0m in \u001b[0;36mcheck_X_y\u001b[0;34m(X, y, accept_sparse, accept_large_sparse, dtype, order, copy, force_all_finite, ensure_2d, allow_nd, multi_output, ensure_min_samples, ensure_min_features, y_numeric, estimator)\u001b[0m\n\u001b[1;32m    800\u001b[0m                     \u001b[0mensure_min_samples\u001b[0m\u001b[0;34m=\u001b[0m\u001b[0mensure_min_samples\u001b[0m\u001b[0;34m,\u001b[0m\u001b[0;34m\u001b[0m\u001b[0;34m\u001b[0m\u001b[0m\n\u001b[1;32m    801\u001b[0m                     \u001b[0mensure_min_features\u001b[0m\u001b[0;34m=\u001b[0m\u001b[0mensure_min_features\u001b[0m\u001b[0;34m,\u001b[0m\u001b[0;34m\u001b[0m\u001b[0;34m\u001b[0m\u001b[0m\n\u001b[0;32m--> 802\u001b[0;31m                     estimator=estimator)\n\u001b[0m\u001b[1;32m    803\u001b[0m     \u001b[0;32mif\u001b[0m \u001b[0mmulti_output\u001b[0m\u001b[0;34m:\u001b[0m\u001b[0;34m\u001b[0m\u001b[0;34m\u001b[0m\u001b[0m\n\u001b[1;32m    804\u001b[0m         y = check_array(y, accept_sparse='csr', force_all_finite=True,\n",
      "\u001b[0;32m~/Documentos/Projects/env/lib/python3.7/site-packages/sklearn/utils/validation.py\u001b[0m in \u001b[0;36minner_f\u001b[0;34m(*args, **kwargs)\u001b[0m\n\u001b[1;32m     70\u001b[0m                           FutureWarning)\n\u001b[1;32m     71\u001b[0m         \u001b[0mkwargs\u001b[0m\u001b[0;34m.\u001b[0m\u001b[0mupdate\u001b[0m\u001b[0;34m(\u001b[0m\u001b[0;34m{\u001b[0m\u001b[0mk\u001b[0m\u001b[0;34m:\u001b[0m \u001b[0marg\u001b[0m \u001b[0;32mfor\u001b[0m \u001b[0mk\u001b[0m\u001b[0;34m,\u001b[0m \u001b[0marg\u001b[0m \u001b[0;32min\u001b[0m \u001b[0mzip\u001b[0m\u001b[0;34m(\u001b[0m\u001b[0msig\u001b[0m\u001b[0;34m.\u001b[0m\u001b[0mparameters\u001b[0m\u001b[0;34m,\u001b[0m \u001b[0margs\u001b[0m\u001b[0;34m)\u001b[0m\u001b[0;34m}\u001b[0m\u001b[0;34m)\u001b[0m\u001b[0;34m\u001b[0m\u001b[0;34m\u001b[0m\u001b[0m\n\u001b[0;32m---> 72\u001b[0;31m         \u001b[0;32mreturn\u001b[0m \u001b[0mf\u001b[0m\u001b[0;34m(\u001b[0m\u001b[0;34m**\u001b[0m\u001b[0mkwargs\u001b[0m\u001b[0;34m)\u001b[0m\u001b[0;34m\u001b[0m\u001b[0;34m\u001b[0m\u001b[0m\n\u001b[0m\u001b[1;32m     73\u001b[0m     \u001b[0;32mreturn\u001b[0m \u001b[0minner_f\u001b[0m\u001b[0;34m\u001b[0m\u001b[0;34m\u001b[0m\u001b[0m\n\u001b[1;32m     74\u001b[0m \u001b[0;34m\u001b[0m\u001b[0m\n",
      "\u001b[0;32m~/Documentos/Projects/env/lib/python3.7/site-packages/sklearn/utils/validation.py\u001b[0m in \u001b[0;36mcheck_array\u001b[0;34m(array, accept_sparse, accept_large_sparse, dtype, order, copy, force_all_finite, ensure_2d, allow_nd, ensure_min_samples, ensure_min_features, estimator)\u001b[0m\n\u001b[1;32m    643\u001b[0m         \u001b[0;32mif\u001b[0m \u001b[0mforce_all_finite\u001b[0m\u001b[0;34m:\u001b[0m\u001b[0;34m\u001b[0m\u001b[0;34m\u001b[0m\u001b[0m\n\u001b[1;32m    644\u001b[0m             _assert_all_finite(array,\n\u001b[0;32m--> 645\u001b[0;31m                                allow_nan=force_all_finite == 'allow-nan')\n\u001b[0m\u001b[1;32m    646\u001b[0m \u001b[0;34m\u001b[0m\u001b[0m\n\u001b[1;32m    647\u001b[0m     \u001b[0;32mif\u001b[0m \u001b[0mensure_min_samples\u001b[0m \u001b[0;34m>\u001b[0m \u001b[0;36m0\u001b[0m\u001b[0;34m:\u001b[0m\u001b[0;34m\u001b[0m\u001b[0;34m\u001b[0m\u001b[0m\n",
      "\u001b[0;32m~/Documentos/Projects/env/lib/python3.7/site-packages/sklearn/utils/validation.py\u001b[0m in \u001b[0;36m_assert_all_finite\u001b[0;34m(X, allow_nan, msg_dtype)\u001b[0m\n\u001b[1;32m     97\u001b[0m                     \u001b[0mmsg_err\u001b[0m\u001b[0;34m.\u001b[0m\u001b[0mformat\u001b[0m\u001b[0;34m\u001b[0m\u001b[0;34m\u001b[0m\u001b[0m\n\u001b[1;32m     98\u001b[0m                     (type_err,\n\u001b[0;32m---> 99\u001b[0;31m                      msg_dtype if msg_dtype is not None else X.dtype)\n\u001b[0m\u001b[1;32m    100\u001b[0m             )\n\u001b[1;32m    101\u001b[0m     \u001b[0;31m# for object dtype data, we only check for NaNs (GH-13254)\u001b[0m\u001b[0;34m\u001b[0m\u001b[0;34m\u001b[0m\u001b[0;34m\u001b[0m\u001b[0m\n",
      "\u001b[0;31mValueError\u001b[0m: Input contains NaN, infinity or a value too large for dtype('float64')."
     ]
    }
   ],
   "source": [
    "modelo.fit(Xt,yt)"
   ]
  },
  {
   "cell_type": "code",
   "execution_count": null,
   "metadata": {
    "ExecuteTime": {
     "end_time": "2020-11-26T03:36:27.507414Z",
     "start_time": "2020-11-26T03:36:27.399891Z"
    }
   },
   "outputs": [],
   "source": [
    "print(roc_auc_score(y_score=modelo.predict_proba(Xt)[:,1],y_true=yt))\n",
    "print(roc_auc_score(y_score=modelo.predict_proba(Xv)[:,1],y_true=yv))"
   ]
  },
  {
   "cell_type": "markdown",
   "metadata": {},
   "source": [
    "## Transformación Scoring"
   ]
  },
  {
   "cell_type": "code",
   "execution_count": null,
   "metadata": {
    "ExecuteTime": {
     "end_time": "2020-11-26T03:37:51.454139Z",
     "start_time": "2020-11-26T03:37:51.451914Z"
    }
   },
   "outputs": [],
   "source": [
    "betas = modelo.coef_[0].tolist()\n",
    "alpha = modelo.intercept_[0]"
   ]
  },
  {
   "cell_type": "code",
   "execution_count": null,
   "metadata": {
    "ExecuteTime": {
     "end_time": "2020-11-26T03:37:53.588240Z",
     "start_time": "2020-11-26T03:37:53.583756Z"
    }
   },
   "outputs": [],
   "source": [
    "alpha"
   ]
  },
  {
   "cell_type": "markdown",
   "metadata": {},
   "source": [
    "score_base(score al cual vamos a alinear los momios base), odds_base (momios_base),pdo (points to double the odd's)"
   ]
  },
  {
   "cell_type": "code",
   "execution_count": null,
   "metadata": {
    "ExecuteTime": {
     "end_time": "2020-11-26T03:51:43.678736Z",
     "start_time": "2020-11-26T03:51:43.676832Z"
    }
   },
   "outputs": [],
   "source": [
    "score_base = 137\n",
    "odd_base = 2\n",
    "pdo = 20"
   ]
  },
  {
   "cell_type": "markdown",
   "metadata": {},
   "source": [
    "$factor = pdo/\\log(2)\\newline\n",
    "offset = score\\_base-factor\\log(odds\\_base)\n",
    "\\newline\n",
    "pts = \\left(-WoE\\cdot\\beta+\\alpha/n\\right)\\cdot factor+offset/n\n",
    "$"
   ]
  },
  {
   "cell_type": "code",
   "execution_count": null,
   "metadata": {
    "ExecuteTime": {
     "end_time": "2020-11-26T03:51:44.289927Z",
     "start_time": "2020-11-26T03:51:44.287449Z"
    }
   },
   "outputs": [],
   "source": [
    "factor = pdo/np.log(2)\n",
    "offset = score_base-factor*np.log(odd_base)"
   ]
  },
  {
   "cell_type": "code",
   "execution_count": null,
   "metadata": {
    "ExecuteTime": {
     "end_time": "2020-11-26T03:51:44.547303Z",
     "start_time": "2020-11-26T03:51:44.544578Z"
    }
   },
   "outputs": [],
   "source": [
    "Xt[tgt] = yt\n",
    "Xv[tgt] = yv"
   ]
  },
  {
   "cell_type": "code",
   "execution_count": null,
   "metadata": {
    "ExecuteTime": {
     "end_time": "2020-11-26T03:51:44.831391Z",
     "start_time": "2020-11-26T03:51:44.828780Z"
    }
   },
   "outputs": [],
   "source": [
    "X = pd.concat([Xt,Xv],ignore_index=True)"
   ]
  },
  {
   "cell_type": "code",
   "execution_count": null,
   "metadata": {
    "ExecuteTime": {
     "end_time": "2020-11-26T03:51:45.100402Z",
     "start_time": "2020-11-26T03:51:45.070473Z"
    }
   },
   "outputs": [],
   "source": [
    "n = len(varw)"
   ]
  },
  {
   "cell_type": "code",
   "execution_count": null,
   "metadata": {
    "ExecuteTime": {
     "end_time": "2020-11-26T03:51:45.335237Z",
     "start_time": "2020-11-26T03:51:45.320399Z"
    }
   },
   "outputs": [],
   "source": [
    "for b,v in zip(betas,varw):\n",
    "    X[f'pts_{v}'] = np.ceil((-X[v]*b+alpha/n)*factor+offset/n).astype(int)"
   ]
  },
  {
   "cell_type": "code",
   "execution_count": null,
   "metadata": {
    "ExecuteTime": {
     "end_time": "2020-11-26T03:51:45.875456Z",
     "start_time": "2020-11-26T03:51:45.866337Z"
    }
   },
   "outputs": [],
   "source": [
    "X['score'] = X.filter(like='pts_').sum(axis=1)"
   ]
  },
  {
   "cell_type": "code",
   "execution_count": null,
   "metadata": {
    "ExecuteTime": {
     "end_time": "2020-11-26T03:51:46.386773Z",
     "start_time": "2020-11-26T03:51:46.279416Z"
    }
   },
   "outputs": [],
   "source": [
    "X.score.hist()"
   ]
  },
  {
   "cell_type": "code",
   "execution_count": null,
   "metadata": {},
   "outputs": [],
   "source": []
  },
  {
   "cell_type": "code",
   "execution_count": null,
   "metadata": {
    "ExecuteTime": {
     "end_time": "2020-11-26T03:52:47.142497Z",
     "start_time": "2020-11-26T03:52:47.136080Z"
    }
   },
   "outputs": [],
   "source": [
    "X['r_score'] = pd.cut(X['score'],bins=range(0,360+36,36)).astype(str)"
   ]
  },
  {
   "cell_type": "code",
   "execution_count": null,
   "metadata": {
    "ExecuteTime": {
     "end_time": "2020-11-26T03:53:47.920189Z",
     "start_time": "2020-11-26T03:53:47.857634Z"
    }
   },
   "outputs": [],
   "source": [
    "#X.pivot_table(index='r_score',columns=tgt,values='score',aggfunc='count',fill_value=0).to_clipboard()"
   ]
  },
  {
   "cell_type": "code",
   "execution_count": null,
   "metadata": {
    "ExecuteTime": {
     "end_time": "2020-11-26T04:06:40.157580Z",
     "start_time": "2020-11-26T04:06:40.152823Z"
    }
   },
   "outputs": [],
   "source": [
    "varw"
   ]
  },
  {
   "cell_type": "code",
   "execution_count": null,
   "metadata": {
    "ExecuteTime": {
     "end_time": "2020-11-26T04:08:51.562474Z",
     "start_time": "2020-11-26T04:08:51.521191Z"
    }
   },
   "outputs": [],
   "source": [
    "l = []\n",
    "for v,d in mapa_woe:\n",
    "    if 'w_%s'%v in varw:\n",
    "        d = {y:x for x,y in d.items()}\n",
    "        aux = X[['w_%s'%v,'pts_w_%s'%v]].copy()\n",
    "        aux.drop_duplicates(inplace=True)\n",
    "        aux['w_%s'%v].replace(d,inplace=True)\n",
    "        aux.rename(columns={'w_%s'%v:'atributo','pts_w_%s'%v:'puntos'},inplace=True)\n",
    "        aux['característica'] = v\n",
    "        l.append(aux)"
   ]
  },
  {
   "cell_type": "code",
   "execution_count": null,
   "metadata": {
    "ExecuteTime": {
     "end_time": "2020-11-26T04:09:02.638172Z",
     "start_time": "2020-11-26T04:09:02.629174Z"
    }
   },
   "outputs": [],
   "source": [
    "scorecard = pd.concat(l,ignore_index=True)"
   ]
  },
  {
   "cell_type": "code",
   "execution_count": null,
   "metadata": {
    "ExecuteTime": {
     "end_time": "2020-11-26T04:10:56.183900Z",
     "start_time": "2020-11-26T04:10:55.200700Z"
    }
   },
   "outputs": [],
   "source": [
    "with pd.ExcelWriter('scorecard.xlsx') as xl:\n",
    "    scorecard.groupby(['característica','atributo']).max().to_excel(xl,sheet_name='scorecard')\n",
    "    xl.close()"
   ]
  },
  {
   "cell_type": "code",
   "execution_count": null,
   "metadata": {},
   "outputs": [],
   "source": []
  }
 ],
 "metadata": {
  "kernelspec": {
   "display_name": "env",
   "language": "python",
   "name": "env"
  },
  "language_info": {
   "codemirror_mode": {
    "name": "ipython",
    "version": 3
   },
   "file_extension": ".py",
   "mimetype": "text/x-python",
   "name": "python",
   "nbconvert_exporter": "python",
   "pygments_lexer": "ipython3",
   "version": "3.7.3"
  },
  "toc": {
   "base_numbering": 1,
   "nav_menu": {},
   "number_sections": true,
   "sideBar": true,
   "skip_h1_title": false,
   "title_cell": "Table of Contents",
   "title_sidebar": "Contents",
   "toc_cell": false,
   "toc_position": {},
   "toc_section_display": true,
   "toc_window_display": false
  }
 },
 "nbformat": 4,
 "nbformat_minor": 4
}
