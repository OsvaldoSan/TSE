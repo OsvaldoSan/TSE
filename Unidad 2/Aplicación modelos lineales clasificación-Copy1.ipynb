{
 "cells": [
  {
   "cell_type": "code",
   "execution_count": 200,
   "metadata": {
    "ExecuteTime": {
     "end_time": "2020-11-12T03:33:15.196028Z",
     "start_time": "2020-11-12T03:33:15.188865Z"
    }
   },
   "outputs": [],
   "source": [
    "import numpy as np\n",
    "import pandas as pd\n",
    "\n",
    "from datetime import date,datetime\n",
    "from dateutil.relativedelta import relativedelta as rd\n",
    "\n",
    "import os\n",
    "from functools import reduce\n",
    "\n",
    "from sklearn.linear_model import PassiveAggressiveClassifier,Perceptron\n",
    "from sklearn.svm import SVC\n",
    "from sklearn.metrics import roc_auc_score,accuracy_score,confusion_matrix\n",
    "from sklearn.model_selection import train_test_split,GridSearchCV,RandomizedSearchCV\n",
    "from sklearn.preprocessing import MinMaxScaler\n",
    "\n",
    "from scikitplot.metrics import plot_roc_curve"
   ]
  },
  {
   "cell_type": "markdown",
   "metadata": {},
   "source": [
    "## Lectura de datos"
   ]
  },
  {
   "cell_type": "code",
   "execution_count": 10,
   "metadata": {
    "ExecuteTime": {
     "end_time": "2020-11-12T02:18:17.967544Z",
     "start_time": "2020-11-12T02:18:17.962984Z"
    }
   },
   "outputs": [
    {
     "data": {
      "text/plain": [
       "['/home/jose/Documentos/bd/chicago/chicago_taxi_trips_2016_01.csv',\n",
       " '/home/jose/Documentos/bd/chicago/chicago_taxi_trips_2016_02.csv',\n",
       " '/home/jose/Documentos/bd/chicago/chicago_taxi_trips_2016_03.csv',\n",
       " '/home/jose/Documentos/bd/chicago/chicago_taxi_trips_2016_04.csv',\n",
       " '/home/jose/Documentos/bd/chicago/chicago_taxi_trips_2016_05.csv',\n",
       " '/home/jose/Documentos/bd/chicago/chicago_taxi_trips_2016_06.csv',\n",
       " '/home/jose/Documentos/bd/chicago/chicago_taxi_trips_2016_07.csv',\n",
       " '/home/jose/Documentos/bd/chicago/chicago_taxi_trips_2016_08.csv',\n",
       " '/home/jose/Documentos/bd/chicago/chicago_taxi_trips_2016_09.csv',\n",
       " '/home/jose/Documentos/bd/chicago/chicago_taxi_trips_2016_10.csv',\n",
       " '/home/jose/Documentos/bd/chicago/chicago_taxi_trips_2016_11.csv',\n",
       " '/home/jose/Documentos/bd/chicago/chicago_taxi_trips_2016_12.csv']"
      ]
     },
     "execution_count": 10,
     "metadata": {},
     "output_type": "execute_result"
    }
   ],
   "source": [
    "ruta = '/home/jose/Documentos/bd/chicago/'\n",
    "l_arch = [os.path.join(ruta,a) for a in os.listdir(ruta) if a.endswith('.csv')]\n",
    "l_arch.sort()\n",
    "l_arch"
   ]
  },
  {
   "cell_type": "code",
   "execution_count": 11,
   "metadata": {
    "ExecuteTime": {
     "end_time": "2020-11-12T02:19:28.084565Z",
     "start_time": "2020-11-12T02:18:56.634301Z"
    }
   },
   "outputs": [],
   "source": [
    "df = pd.concat(map(lambda a:pd.read_csv(a),l_arch),ignore_index=True)\n",
    "df = df[['taxi_id','trip_start_timestamp','trip_seconds','trip_miles','tips','trip_total']].copy()\n",
    "df['trip_start_timestamp'] = pd.to_datetime(df['trip_start_timestamp']).dt.date\n",
    "df['fh'] = df['trip_start_timestamp'].map(lambda x:x.month)\n",
    "df.drop('trip_start_timestamp',axis=1,inplace=True)"
   ]
  },
  {
   "cell_type": "code",
   "execution_count": 29,
   "metadata": {
    "ExecuteTime": {
     "end_time": "2020-11-12T02:23:17.509699Z",
     "start_time": "2020-11-12T02:23:17.501804Z"
    }
   },
   "outputs": [
    {
     "data": {
      "text/html": [
       "<div>\n",
       "<style scoped>\n",
       "    .dataframe tbody tr th:only-of-type {\n",
       "        vertical-align: middle;\n",
       "    }\n",
       "\n",
       "    .dataframe tbody tr th {\n",
       "        vertical-align: top;\n",
       "    }\n",
       "\n",
       "    .dataframe thead th {\n",
       "        text-align: right;\n",
       "    }\n",
       "</style>\n",
       "<table border=\"1\" class=\"dataframe\">\n",
       "  <thead>\n",
       "    <tr style=\"text-align: right;\">\n",
       "      <th></th>\n",
       "      <th>taxi_id</th>\n",
       "      <th>trip_seconds</th>\n",
       "      <th>trip_miles</th>\n",
       "      <th>tips</th>\n",
       "      <th>trip_total</th>\n",
       "      <th>fh</th>\n",
       "    </tr>\n",
       "  </thead>\n",
       "  <tbody>\n",
       "    <tr>\n",
       "      <th>0</th>\n",
       "      <td>85.0</td>\n",
       "      <td>180.0</td>\n",
       "      <td>0.40</td>\n",
       "      <td>0.00</td>\n",
       "      <td>4.50</td>\n",
       "      <td>1</td>\n",
       "    </tr>\n",
       "    <tr>\n",
       "      <th>1</th>\n",
       "      <td>2776.0</td>\n",
       "      <td>240.0</td>\n",
       "      <td>0.70</td>\n",
       "      <td>4.45</td>\n",
       "      <td>8.90</td>\n",
       "      <td>1</td>\n",
       "    </tr>\n",
       "    <tr>\n",
       "      <th>2</th>\n",
       "      <td>3168.0</td>\n",
       "      <td>0.0</td>\n",
       "      <td>0.00</td>\n",
       "      <td>5.00</td>\n",
       "      <td>47.75</td>\n",
       "      <td>1</td>\n",
       "    </tr>\n",
       "    <tr>\n",
       "      <th>3</th>\n",
       "      <td>4237.0</td>\n",
       "      <td>480.0</td>\n",
       "      <td>1.10</td>\n",
       "      <td>0.00</td>\n",
       "      <td>7.00</td>\n",
       "      <td>1</td>\n",
       "    </tr>\n",
       "    <tr>\n",
       "      <th>4</th>\n",
       "      <td>5710.0</td>\n",
       "      <td>480.0</td>\n",
       "      <td>2.71</td>\n",
       "      <td>0.00</td>\n",
       "      <td>10.25</td>\n",
       "      <td>1</td>\n",
       "    </tr>\n",
       "  </tbody>\n",
       "</table>\n",
       "</div>"
      ],
      "text/plain": [
       "   taxi_id  trip_seconds  trip_miles  tips  trip_total  fh\n",
       "0     85.0         180.0        0.40  0.00        4.50   1\n",
       "1   2776.0         240.0        0.70  4.45        8.90   1\n",
       "2   3168.0           0.0        0.00  5.00       47.75   1\n",
       "3   4237.0         480.0        1.10  0.00        7.00   1\n",
       "4   5710.0         480.0        2.71  0.00       10.25   1"
      ]
     },
     "execution_count": 29,
     "metadata": {},
     "output_type": "execute_result"
    }
   ],
   "source": [
    "df.head()"
   ]
  },
  {
   "cell_type": "code",
   "execution_count": 39,
   "metadata": {
    "ExecuteTime": {
     "end_time": "2020-11-12T02:29:20.076594Z",
     "start_time": "2020-11-12T02:29:20.052568Z"
    }
   },
   "outputs": [],
   "source": [
    "df['n'] = 1"
   ]
  },
  {
   "cell_type": "markdown",
   "metadata": {},
   "source": [
    "## Ingeniería de datos"
   ]
  },
  {
   "cell_type": "markdown",
   "metadata": {},
   "source": [
    "### Espacio de predictoras $\\mathcal{X}$"
   ]
  },
  {
   "cell_type": "code",
   "execution_count": 31,
   "metadata": {
    "ExecuteTime": {
     "end_time": "2020-11-12T02:26:32.858569Z",
     "start_time": "2020-11-12T02:26:32.856775Z"
    }
   },
   "outputs": [],
   "source": [
    "id_='taxi_id'"
   ]
  },
  {
   "cell_type": "code",
   "execution_count": 30,
   "metadata": {
    "ExecuteTime": {
     "end_time": "2020-11-12T02:25:36.162716Z",
     "start_time": "2020-11-12T02:25:36.159015Z"
    }
   },
   "outputs": [
    {
     "data": {
      "text/plain": [
       "(3, 11)"
      ]
     },
     "execution_count": 30,
     "metadata": {},
     "output_type": "execute_result"
    }
   ],
   "source": [
    "vobs = 3\n",
    "vdes = 1\n",
    "fhi,fhf = (1,12)\n",
    "anclai = fhi+vobs-1\n",
    "anclaf = fhf-vdes\n",
    "anclai,anclaf"
   ]
  },
  {
   "cell_type": "code",
   "execution_count": 52,
   "metadata": {
    "ExecuteTime": {
     "end_time": "2020-11-12T02:32:56.203870Z",
     "start_time": "2020-11-12T02:32:56.198842Z"
    }
   },
   "outputs": [],
   "source": [
    "def trans(df,v,k,ancla):\n",
    "    aux = df[[id_,v,'fh']].copy()\n",
    "    aux = aux.loc[(aux['fh']>=(ancla-k+1))&((aux['fh']<=ancla))].reset_index(drop=True).drop('fh',axis=1)\n",
    "    aux = aux.groupby(id_).agg(['mean','sum'])\n",
    "    aux.columns = [\"v_%s_%d_\"%(v,k)+\"_\".join(x) for x in aux.columns]\n",
    "    return aux.reset_index().assign(ancla=ancla)"
   ]
  },
  {
   "cell_type": "code",
   "execution_count": 54,
   "metadata": {
    "ExecuteTime": {
     "end_time": "2020-11-12T02:35:25.167492Z",
     "start_time": "2020-11-12T02:35:25.165473Z"
    }
   },
   "outputs": [],
   "source": [
    "um = [id_,'ancla']"
   ]
  },
  {
   "cell_type": "code",
   "execution_count": 58,
   "metadata": {
    "ExecuteTime": {
     "end_time": "2020-11-12T02:37:17.360633Z",
     "start_time": "2020-11-12T02:36:38.383361Z"
    }
   },
   "outputs": [],
   "source": [
    "X = pd.concat(map(lambda ancla:reduce(lambda x,y:pd.merge(x,y,on=um,how='outer'),\n",
    "                           map(lambda var: trans(df,var,3,ancla),\n",
    "                               ['trip_seconds','trip_miles','tips','trip_total','n'])),range(anclai,anclaf+1)),\n",
    "              ignore_index=True)"
   ]
  },
  {
   "cell_type": "code",
   "execution_count": 59,
   "metadata": {
    "ExecuteTime": {
     "end_time": "2020-11-12T02:37:43.580335Z",
     "start_time": "2020-11-12T02:37:43.566009Z"
    }
   },
   "outputs": [
    {
     "data": {
      "text/html": [
       "<div>\n",
       "<style scoped>\n",
       "    .dataframe tbody tr th:only-of-type {\n",
       "        vertical-align: middle;\n",
       "    }\n",
       "\n",
       "    .dataframe tbody tr th {\n",
       "        vertical-align: top;\n",
       "    }\n",
       "\n",
       "    .dataframe thead th {\n",
       "        text-align: right;\n",
       "    }\n",
       "</style>\n",
       "<table border=\"1\" class=\"dataframe\">\n",
       "  <thead>\n",
       "    <tr style=\"text-align: right;\">\n",
       "      <th></th>\n",
       "      <th>taxi_id</th>\n",
       "      <th>v_trip_seconds_3_trip_seconds_mean</th>\n",
       "      <th>v_trip_seconds_3_trip_seconds_sum</th>\n",
       "      <th>ancla</th>\n",
       "      <th>v_trip_miles_3_trip_miles_mean</th>\n",
       "      <th>v_trip_miles_3_trip_miles_sum</th>\n",
       "      <th>v_tips_3_tips_mean</th>\n",
       "      <th>v_tips_3_tips_sum</th>\n",
       "      <th>v_trip_total_3_trip_total_mean</th>\n",
       "      <th>v_trip_total_3_trip_total_sum</th>\n",
       "      <th>v_n_3_n_mean</th>\n",
       "      <th>v_n_3_n_sum</th>\n",
       "    </tr>\n",
       "  </thead>\n",
       "  <tbody>\n",
       "    <tr>\n",
       "      <th>0</th>\n",
       "      <td>0.0</td>\n",
       "      <td>741.291946</td>\n",
       "      <td>883620.0</td>\n",
       "      <td>3</td>\n",
       "      <td>4.210403</td>\n",
       "      <td>5018.8</td>\n",
       "      <td>1.669874</td>\n",
       "      <td>1990.49</td>\n",
       "      <td>16.470470</td>\n",
       "      <td>19632.80</td>\n",
       "      <td>1</td>\n",
       "      <td>1192</td>\n",
       "    </tr>\n",
       "    <tr>\n",
       "      <th>1</th>\n",
       "      <td>3.0</td>\n",
       "      <td>684.223602</td>\n",
       "      <td>110160.0</td>\n",
       "      <td>3</td>\n",
       "      <td>0.185714</td>\n",
       "      <td>29.9</td>\n",
       "      <td>1.843851</td>\n",
       "      <td>296.86</td>\n",
       "      <td>15.831739</td>\n",
       "      <td>2548.91</td>\n",
       "      <td>1</td>\n",
       "      <td>161</td>\n",
       "    </tr>\n",
       "    <tr>\n",
       "      <th>2</th>\n",
       "      <td>4.0</td>\n",
       "      <td>631.743772</td>\n",
       "      <td>1065120.0</td>\n",
       "      <td>3</td>\n",
       "      <td>2.878351</td>\n",
       "      <td>4852.9</td>\n",
       "      <td>1.224680</td>\n",
       "      <td>2064.81</td>\n",
       "      <td>12.569698</td>\n",
       "      <td>21192.51</td>\n",
       "      <td>1</td>\n",
       "      <td>1686</td>\n",
       "    </tr>\n",
       "    <tr>\n",
       "      <th>3</th>\n",
       "      <td>5.0</td>\n",
       "      <td>1067.194030</td>\n",
       "      <td>715020.0</td>\n",
       "      <td>3</td>\n",
       "      <td>5.715522</td>\n",
       "      <td>3829.4</td>\n",
       "      <td>1.985672</td>\n",
       "      <td>1330.40</td>\n",
       "      <td>37.203612</td>\n",
       "      <td>24926.42</td>\n",
       "      <td>1</td>\n",
       "      <td>670</td>\n",
       "    </tr>\n",
       "    <tr>\n",
       "      <th>4</th>\n",
       "      <td>6.0</td>\n",
       "      <td>666.156275</td>\n",
       "      <td>844020.0</td>\n",
       "      <td>3</td>\n",
       "      <td>0.000000</td>\n",
       "      <td>0.0</td>\n",
       "      <td>1.390908</td>\n",
       "      <td>1762.28</td>\n",
       "      <td>14.088129</td>\n",
       "      <td>17849.66</td>\n",
       "      <td>1</td>\n",
       "      <td>1267</td>\n",
       "    </tr>\n",
       "  </tbody>\n",
       "</table>\n",
       "</div>"
      ],
      "text/plain": [
       "   taxi_id  v_trip_seconds_3_trip_seconds_mean  \\\n",
       "0      0.0                          741.291946   \n",
       "1      3.0                          684.223602   \n",
       "2      4.0                          631.743772   \n",
       "3      5.0                         1067.194030   \n",
       "4      6.0                          666.156275   \n",
       "\n",
       "   v_trip_seconds_3_trip_seconds_sum  ancla  v_trip_miles_3_trip_miles_mean  \\\n",
       "0                           883620.0      3                        4.210403   \n",
       "1                           110160.0      3                        0.185714   \n",
       "2                          1065120.0      3                        2.878351   \n",
       "3                           715020.0      3                        5.715522   \n",
       "4                           844020.0      3                        0.000000   \n",
       "\n",
       "   v_trip_miles_3_trip_miles_sum  v_tips_3_tips_mean  v_tips_3_tips_sum  \\\n",
       "0                         5018.8            1.669874            1990.49   \n",
       "1                           29.9            1.843851             296.86   \n",
       "2                         4852.9            1.224680            2064.81   \n",
       "3                         3829.4            1.985672            1330.40   \n",
       "4                            0.0            1.390908            1762.28   \n",
       "\n",
       "   v_trip_total_3_trip_total_mean  v_trip_total_3_trip_total_sum  \\\n",
       "0                       16.470470                       19632.80   \n",
       "1                       15.831739                        2548.91   \n",
       "2                       12.569698                       21192.51   \n",
       "3                       37.203612                       24926.42   \n",
       "4                       14.088129                       17849.66   \n",
       "\n",
       "   v_n_3_n_mean  v_n_3_n_sum  \n",
       "0             1         1192  \n",
       "1             1          161  \n",
       "2             1         1686  \n",
       "3             1          670  \n",
       "4             1         1267  "
      ]
     },
     "execution_count": 59,
     "metadata": {},
     "output_type": "execute_result"
    }
   ],
   "source": [
    "X.head()"
   ]
  },
  {
   "cell_type": "markdown",
   "metadata": {},
   "source": [
    "### Target (variable objetivo $\\vec{y}$)"
   ]
  },
  {
   "cell_type": "code",
   "execution_count": 75,
   "metadata": {
    "ExecuteTime": {
     "end_time": "2020-11-12T02:42:39.124096Z",
     "start_time": "2020-11-12T02:42:39.119759Z"
    }
   },
   "outputs": [],
   "source": [
    "def target(df,ancla):\n",
    "    aux = df[[id_,'fh']].copy()\n",
    "    aux = aux.loc[aux['fh']==(ancla+vdes)].reset_index(drop=True).drop('fh',axis=1).assign(ancla=ancla)\n",
    "    return aux.drop_duplicates().reset_index(drop=True)"
   ]
  },
  {
   "cell_type": "code",
   "execution_count": 76,
   "metadata": {
    "ExecuteTime": {
     "end_time": "2020-11-12T02:42:45.703964Z",
     "start_time": "2020-11-12T02:42:39.432490Z"
    }
   },
   "outputs": [],
   "source": [
    "y = pd.concat(map(lambda ancla: target(df,ancla),range(anclai,anclaf+1)),ignore_index=True)"
   ]
  },
  {
   "cell_type": "code",
   "execution_count": 77,
   "metadata": {
    "ExecuteTime": {
     "end_time": "2020-11-12T02:42:45.708775Z",
     "start_time": "2020-11-12T02:42:45.705268Z"
    }
   },
   "outputs": [
    {
     "data": {
      "text/plain": [
       "(47610, 2)"
      ]
     },
     "execution_count": 77,
     "metadata": {},
     "output_type": "execute_result"
    }
   ],
   "source": [
    "y.shape"
   ]
  },
  {
   "cell_type": "markdown",
   "metadata": {},
   "source": [
    "### Construcción de TAD (Tabla Analítica de datos $\\vec{y}=f(\\mathcal{X})$"
   ]
  },
  {
   "cell_type": "code",
   "execution_count": 80,
   "metadata": {
    "ExecuteTime": {
     "end_time": "2020-11-12T02:44:18.929049Z",
     "start_time": "2020-11-12T02:44:18.825811Z"
    }
   },
   "outputs": [],
   "source": [
    "tad = X.merge(y,on=um,how='left',indicator=True)"
   ]
  },
  {
   "cell_type": "code",
   "execution_count": 84,
   "metadata": {
    "ExecuteTime": {
     "end_time": "2020-11-12T02:45:23.636605Z",
     "start_time": "2020-11-12T02:45:23.633083Z"
    }
   },
   "outputs": [],
   "source": [
    "tad['y'] = (tad._merge == 'left_only').astype(int)"
   ]
  },
  {
   "cell_type": "code",
   "execution_count": 85,
   "metadata": {
    "ExecuteTime": {
     "end_time": "2020-11-12T02:45:36.740380Z",
     "start_time": "2020-11-12T02:45:36.735630Z"
    }
   },
   "outputs": [],
   "source": [
    "tad.drop('_merge',axis=1,inplace=True)"
   ]
  },
  {
   "cell_type": "code",
   "execution_count": 86,
   "metadata": {
    "ExecuteTime": {
     "end_time": "2020-11-12T02:45:40.479233Z",
     "start_time": "2020-11-12T02:45:40.464671Z"
    }
   },
   "outputs": [
    {
     "data": {
      "text/html": [
       "<div>\n",
       "<style scoped>\n",
       "    .dataframe tbody tr th:only-of-type {\n",
       "        vertical-align: middle;\n",
       "    }\n",
       "\n",
       "    .dataframe tbody tr th {\n",
       "        vertical-align: top;\n",
       "    }\n",
       "\n",
       "    .dataframe thead th {\n",
       "        text-align: right;\n",
       "    }\n",
       "</style>\n",
       "<table border=\"1\" class=\"dataframe\">\n",
       "  <thead>\n",
       "    <tr style=\"text-align: right;\">\n",
       "      <th></th>\n",
       "      <th>taxi_id</th>\n",
       "      <th>v_trip_seconds_3_trip_seconds_mean</th>\n",
       "      <th>v_trip_seconds_3_trip_seconds_sum</th>\n",
       "      <th>ancla</th>\n",
       "      <th>v_trip_miles_3_trip_miles_mean</th>\n",
       "      <th>v_trip_miles_3_trip_miles_sum</th>\n",
       "      <th>v_tips_3_tips_mean</th>\n",
       "      <th>v_tips_3_tips_sum</th>\n",
       "      <th>v_trip_total_3_trip_total_mean</th>\n",
       "      <th>v_trip_total_3_trip_total_sum</th>\n",
       "      <th>v_n_3_n_mean</th>\n",
       "      <th>v_n_3_n_sum</th>\n",
       "      <th>y</th>\n",
       "    </tr>\n",
       "  </thead>\n",
       "  <tbody>\n",
       "    <tr>\n",
       "      <th>0</th>\n",
       "      <td>0.0</td>\n",
       "      <td>741.291946</td>\n",
       "      <td>883620.0</td>\n",
       "      <td>3</td>\n",
       "      <td>4.210403</td>\n",
       "      <td>5018.8</td>\n",
       "      <td>1.669874</td>\n",
       "      <td>1990.49</td>\n",
       "      <td>16.470470</td>\n",
       "      <td>19632.80</td>\n",
       "      <td>1</td>\n",
       "      <td>1192</td>\n",
       "      <td>0</td>\n",
       "    </tr>\n",
       "    <tr>\n",
       "      <th>1</th>\n",
       "      <td>3.0</td>\n",
       "      <td>684.223602</td>\n",
       "      <td>110160.0</td>\n",
       "      <td>3</td>\n",
       "      <td>0.185714</td>\n",
       "      <td>29.9</td>\n",
       "      <td>1.843851</td>\n",
       "      <td>296.86</td>\n",
       "      <td>15.831739</td>\n",
       "      <td>2548.91</td>\n",
       "      <td>1</td>\n",
       "      <td>161</td>\n",
       "      <td>1</td>\n",
       "    </tr>\n",
       "    <tr>\n",
       "      <th>2</th>\n",
       "      <td>4.0</td>\n",
       "      <td>631.743772</td>\n",
       "      <td>1065120.0</td>\n",
       "      <td>3</td>\n",
       "      <td>2.878351</td>\n",
       "      <td>4852.9</td>\n",
       "      <td>1.224680</td>\n",
       "      <td>2064.81</td>\n",
       "      <td>12.569698</td>\n",
       "      <td>21192.51</td>\n",
       "      <td>1</td>\n",
       "      <td>1686</td>\n",
       "      <td>0</td>\n",
       "    </tr>\n",
       "    <tr>\n",
       "      <th>3</th>\n",
       "      <td>5.0</td>\n",
       "      <td>1067.194030</td>\n",
       "      <td>715020.0</td>\n",
       "      <td>3</td>\n",
       "      <td>5.715522</td>\n",
       "      <td>3829.4</td>\n",
       "      <td>1.985672</td>\n",
       "      <td>1330.40</td>\n",
       "      <td>37.203612</td>\n",
       "      <td>24926.42</td>\n",
       "      <td>1</td>\n",
       "      <td>670</td>\n",
       "      <td>0</td>\n",
       "    </tr>\n",
       "    <tr>\n",
       "      <th>4</th>\n",
       "      <td>6.0</td>\n",
       "      <td>666.156275</td>\n",
       "      <td>844020.0</td>\n",
       "      <td>3</td>\n",
       "      <td>0.000000</td>\n",
       "      <td>0.0</td>\n",
       "      <td>1.390908</td>\n",
       "      <td>1762.28</td>\n",
       "      <td>14.088129</td>\n",
       "      <td>17849.66</td>\n",
       "      <td>1</td>\n",
       "      <td>1267</td>\n",
       "      <td>0</td>\n",
       "    </tr>\n",
       "  </tbody>\n",
       "</table>\n",
       "</div>"
      ],
      "text/plain": [
       "   taxi_id  v_trip_seconds_3_trip_seconds_mean  \\\n",
       "0      0.0                          741.291946   \n",
       "1      3.0                          684.223602   \n",
       "2      4.0                          631.743772   \n",
       "3      5.0                         1067.194030   \n",
       "4      6.0                          666.156275   \n",
       "\n",
       "   v_trip_seconds_3_trip_seconds_sum  ancla  v_trip_miles_3_trip_miles_mean  \\\n",
       "0                           883620.0      3                        4.210403   \n",
       "1                           110160.0      3                        0.185714   \n",
       "2                          1065120.0      3                        2.878351   \n",
       "3                           715020.0      3                        5.715522   \n",
       "4                           844020.0      3                        0.000000   \n",
       "\n",
       "   v_trip_miles_3_trip_miles_sum  v_tips_3_tips_mean  v_tips_3_tips_sum  \\\n",
       "0                         5018.8            1.669874            1990.49   \n",
       "1                           29.9            1.843851             296.86   \n",
       "2                         4852.9            1.224680            2064.81   \n",
       "3                         3829.4            1.985672            1330.40   \n",
       "4                            0.0            1.390908            1762.28   \n",
       "\n",
       "   v_trip_total_3_trip_total_mean  v_trip_total_3_trip_total_sum  \\\n",
       "0                       16.470470                       19632.80   \n",
       "1                       15.831739                        2548.91   \n",
       "2                       12.569698                       21192.51   \n",
       "3                       37.203612                       24926.42   \n",
       "4                       14.088129                       17849.66   \n",
       "\n",
       "   v_n_3_n_mean  v_n_3_n_sum  y  \n",
       "0             1         1192  0  \n",
       "1             1          161  1  \n",
       "2             1         1686  0  \n",
       "3             1          670  0  \n",
       "4             1         1267  0  "
      ]
     },
     "execution_count": 86,
     "metadata": {},
     "output_type": "execute_result"
    }
   ],
   "source": [
    "tad.head()"
   ]
  },
  {
   "cell_type": "markdown",
   "metadata": {},
   "source": [
    "## Análisis Exploratorio de Datos"
   ]
  },
  {
   "cell_type": "code",
   "execution_count": 88,
   "metadata": {
    "ExecuteTime": {
     "end_time": "2020-11-12T02:47:21.450619Z",
     "start_time": "2020-11-12T02:47:21.448315Z"
    }
   },
   "outputs": [],
   "source": [
    "varc = [v for v in tad.columns if v[:2]=='v_']\n",
    "tgt = 'y'"
   ]
  },
  {
   "cell_type": "markdown",
   "metadata": {},
   "source": [
    "### Missings"
   ]
  },
  {
   "cell_type": "code",
   "execution_count": 94,
   "metadata": {
    "ExecuteTime": {
     "end_time": "2020-11-12T02:49:04.072208Z",
     "start_time": "2020-11-12T02:49:04.013675Z"
    }
   },
   "outputs": [
    {
     "data": {
      "text/html": [
       "<div>\n",
       "<style scoped>\n",
       "    .dataframe tbody tr th:only-of-type {\n",
       "        vertical-align: middle;\n",
       "    }\n",
       "\n",
       "    .dataframe tbody tr th {\n",
       "        vertical-align: top;\n",
       "    }\n",
       "\n",
       "    .dataframe thead th {\n",
       "        text-align: right;\n",
       "    }\n",
       "</style>\n",
       "<table border=\"1\" class=\"dataframe\">\n",
       "  <thead>\n",
       "    <tr style=\"text-align: right;\">\n",
       "      <th></th>\n",
       "      <th>count</th>\n",
       "    </tr>\n",
       "  </thead>\n",
       "  <tbody>\n",
       "    <tr>\n",
       "      <th>v_trip_seconds_3_trip_seconds_mean</th>\n",
       "      <td>0.0</td>\n",
       "    </tr>\n",
       "    <tr>\n",
       "      <th>v_trip_seconds_3_trip_seconds_sum</th>\n",
       "      <td>0.0</td>\n",
       "    </tr>\n",
       "    <tr>\n",
       "      <th>v_trip_miles_3_trip_miles_mean</th>\n",
       "      <td>0.0</td>\n",
       "    </tr>\n",
       "    <tr>\n",
       "      <th>v_trip_miles_3_trip_miles_sum</th>\n",
       "      <td>0.0</td>\n",
       "    </tr>\n",
       "    <tr>\n",
       "      <th>v_tips_3_tips_mean</th>\n",
       "      <td>0.0</td>\n",
       "    </tr>\n",
       "    <tr>\n",
       "      <th>v_tips_3_tips_sum</th>\n",
       "      <td>0.0</td>\n",
       "    </tr>\n",
       "    <tr>\n",
       "      <th>v_trip_total_3_trip_total_mean</th>\n",
       "      <td>0.0</td>\n",
       "    </tr>\n",
       "    <tr>\n",
       "      <th>v_trip_total_3_trip_total_sum</th>\n",
       "      <td>0.0</td>\n",
       "    </tr>\n",
       "    <tr>\n",
       "      <th>v_n_3_n_mean</th>\n",
       "      <td>0.0</td>\n",
       "    </tr>\n",
       "    <tr>\n",
       "      <th>v_n_3_n_sum</th>\n",
       "      <td>0.0</td>\n",
       "    </tr>\n",
       "  </tbody>\n",
       "</table>\n",
       "</div>"
      ],
      "text/plain": [
       "                                    count\n",
       "v_trip_seconds_3_trip_seconds_mean    0.0\n",
       "v_trip_seconds_3_trip_seconds_sum     0.0\n",
       "v_trip_miles_3_trip_miles_mean        0.0\n",
       "v_trip_miles_3_trip_miles_sum         0.0\n",
       "v_tips_3_tips_mean                    0.0\n",
       "v_tips_3_tips_sum                     0.0\n",
       "v_trip_total_3_trip_total_mean        0.0\n",
       "v_trip_total_3_trip_total_sum         0.0\n",
       "v_n_3_n_mean                          0.0\n",
       "v_n_3_n_sum                           0.0"
      ]
     },
     "execution_count": 94,
     "metadata": {},
     "output_type": "execute_result"
    }
   ],
   "source": [
    "miss = 1- tad[varc].describe().T[['count']]/len(tad)\n",
    "miss"
   ]
  },
  {
   "cell_type": "code",
   "execution_count": 95,
   "metadata": {
    "ExecuteTime": {
     "end_time": "2020-11-12T02:49:07.377354Z",
     "start_time": "2020-11-12T02:49:07.370193Z"
    }
   },
   "outputs": [
    {
     "data": {
      "text/plain": [
       "((56611, 13), (56611, 13))"
      ]
     },
     "execution_count": 95,
     "metadata": {},
     "output_type": "execute_result"
    }
   ],
   "source": [
    "tad.shape,tad.dropna().shape"
   ]
  },
  {
   "cell_type": "code",
   "execution_count": 92,
   "metadata": {
    "ExecuteTime": {
     "end_time": "2020-11-12T02:48:56.983793Z",
     "start_time": "2020-11-12T02:48:56.977233Z"
    }
   },
   "outputs": [],
   "source": [
    "tad = tad.dropna().reset_index(drop=True)"
   ]
  },
  {
   "cell_type": "code",
   "execution_count": 96,
   "metadata": {
    "ExecuteTime": {
     "end_time": "2020-11-12T02:49:10.686237Z",
     "start_time": "2020-11-12T02:49:10.671186Z"
    }
   },
   "outputs": [
    {
     "data": {
      "text/html": [
       "<div>\n",
       "<style scoped>\n",
       "    .dataframe tbody tr th:only-of-type {\n",
       "        vertical-align: middle;\n",
       "    }\n",
       "\n",
       "    .dataframe tbody tr th {\n",
       "        vertical-align: top;\n",
       "    }\n",
       "\n",
       "    .dataframe thead th {\n",
       "        text-align: right;\n",
       "    }\n",
       "</style>\n",
       "<table border=\"1\" class=\"dataframe\">\n",
       "  <thead>\n",
       "    <tr style=\"text-align: right;\">\n",
       "      <th></th>\n",
       "      <th>taxi_id</th>\n",
       "      <th>v_trip_seconds_3_trip_seconds_mean</th>\n",
       "      <th>v_trip_seconds_3_trip_seconds_sum</th>\n",
       "      <th>ancla</th>\n",
       "      <th>v_trip_miles_3_trip_miles_mean</th>\n",
       "      <th>v_trip_miles_3_trip_miles_sum</th>\n",
       "      <th>v_tips_3_tips_mean</th>\n",
       "      <th>v_tips_3_tips_sum</th>\n",
       "      <th>v_trip_total_3_trip_total_mean</th>\n",
       "      <th>v_trip_total_3_trip_total_sum</th>\n",
       "      <th>v_n_3_n_mean</th>\n",
       "      <th>v_n_3_n_sum</th>\n",
       "      <th>y</th>\n",
       "    </tr>\n",
       "  </thead>\n",
       "  <tbody>\n",
       "    <tr>\n",
       "      <th>0</th>\n",
       "      <td>0.0</td>\n",
       "      <td>741.291946</td>\n",
       "      <td>883620.0</td>\n",
       "      <td>3</td>\n",
       "      <td>4.210403</td>\n",
       "      <td>5018.8</td>\n",
       "      <td>1.669874</td>\n",
       "      <td>1990.49</td>\n",
       "      <td>16.470470</td>\n",
       "      <td>19632.80</td>\n",
       "      <td>1</td>\n",
       "      <td>1192</td>\n",
       "      <td>0</td>\n",
       "    </tr>\n",
       "    <tr>\n",
       "      <th>1</th>\n",
       "      <td>3.0</td>\n",
       "      <td>684.223602</td>\n",
       "      <td>110160.0</td>\n",
       "      <td>3</td>\n",
       "      <td>0.185714</td>\n",
       "      <td>29.9</td>\n",
       "      <td>1.843851</td>\n",
       "      <td>296.86</td>\n",
       "      <td>15.831739</td>\n",
       "      <td>2548.91</td>\n",
       "      <td>1</td>\n",
       "      <td>161</td>\n",
       "      <td>1</td>\n",
       "    </tr>\n",
       "    <tr>\n",
       "      <th>2</th>\n",
       "      <td>4.0</td>\n",
       "      <td>631.743772</td>\n",
       "      <td>1065120.0</td>\n",
       "      <td>3</td>\n",
       "      <td>2.878351</td>\n",
       "      <td>4852.9</td>\n",
       "      <td>1.224680</td>\n",
       "      <td>2064.81</td>\n",
       "      <td>12.569698</td>\n",
       "      <td>21192.51</td>\n",
       "      <td>1</td>\n",
       "      <td>1686</td>\n",
       "      <td>0</td>\n",
       "    </tr>\n",
       "    <tr>\n",
       "      <th>3</th>\n",
       "      <td>5.0</td>\n",
       "      <td>1067.194030</td>\n",
       "      <td>715020.0</td>\n",
       "      <td>3</td>\n",
       "      <td>5.715522</td>\n",
       "      <td>3829.4</td>\n",
       "      <td>1.985672</td>\n",
       "      <td>1330.40</td>\n",
       "      <td>37.203612</td>\n",
       "      <td>24926.42</td>\n",
       "      <td>1</td>\n",
       "      <td>670</td>\n",
       "      <td>0</td>\n",
       "    </tr>\n",
       "    <tr>\n",
       "      <th>4</th>\n",
       "      <td>6.0</td>\n",
       "      <td>666.156275</td>\n",
       "      <td>844020.0</td>\n",
       "      <td>3</td>\n",
       "      <td>0.000000</td>\n",
       "      <td>0.0</td>\n",
       "      <td>1.390908</td>\n",
       "      <td>1762.28</td>\n",
       "      <td>14.088129</td>\n",
       "      <td>17849.66</td>\n",
       "      <td>1</td>\n",
       "      <td>1267</td>\n",
       "      <td>0</td>\n",
       "    </tr>\n",
       "  </tbody>\n",
       "</table>\n",
       "</div>"
      ],
      "text/plain": [
       "   taxi_id  v_trip_seconds_3_trip_seconds_mean  \\\n",
       "0      0.0                          741.291946   \n",
       "1      3.0                          684.223602   \n",
       "2      4.0                          631.743772   \n",
       "3      5.0                         1067.194030   \n",
       "4      6.0                          666.156275   \n",
       "\n",
       "   v_trip_seconds_3_trip_seconds_sum  ancla  v_trip_miles_3_trip_miles_mean  \\\n",
       "0                           883620.0      3                        4.210403   \n",
       "1                           110160.0      3                        0.185714   \n",
       "2                          1065120.0      3                        2.878351   \n",
       "3                           715020.0      3                        5.715522   \n",
       "4                           844020.0      3                        0.000000   \n",
       "\n",
       "   v_trip_miles_3_trip_miles_sum  v_tips_3_tips_mean  v_tips_3_tips_sum  \\\n",
       "0                         5018.8            1.669874            1990.49   \n",
       "1                           29.9            1.843851             296.86   \n",
       "2                         4852.9            1.224680            2064.81   \n",
       "3                         3829.4            1.985672            1330.40   \n",
       "4                            0.0            1.390908            1762.28   \n",
       "\n",
       "   v_trip_total_3_trip_total_mean  v_trip_total_3_trip_total_sum  \\\n",
       "0                       16.470470                       19632.80   \n",
       "1                       15.831739                        2548.91   \n",
       "2                       12.569698                       21192.51   \n",
       "3                       37.203612                       24926.42   \n",
       "4                       14.088129                       17849.66   \n",
       "\n",
       "   v_n_3_n_mean  v_n_3_n_sum  y  \n",
       "0             1         1192  0  \n",
       "1             1          161  1  \n",
       "2             1         1686  0  \n",
       "3             1          670  0  \n",
       "4             1         1267  0  "
      ]
     },
     "execution_count": 96,
     "metadata": {},
     "output_type": "execute_result"
    }
   ],
   "source": [
    "tad.head()"
   ]
  },
  {
   "cell_type": "markdown",
   "metadata": {},
   "source": [
    "### Extremos"
   ]
  },
  {
   "cell_type": "code",
   "execution_count": 97,
   "metadata": {
    "ExecuteTime": {
     "end_time": "2020-11-12T02:49:39.713906Z",
     "start_time": "2020-11-12T02:49:37.871749Z"
    }
   },
   "outputs": [
    {
     "data": {
      "text/plain": [
       "array([[<AxesSubplot:title={'center':'v_trip_seconds_3_trip_seconds_mean'}>,\n",
       "        <AxesSubplot:title={'center':'v_trip_seconds_3_trip_seconds_sum'}>,\n",
       "        <AxesSubplot:title={'center':'v_trip_miles_3_trip_miles_mean'}>],\n",
       "       [<AxesSubplot:title={'center':'v_trip_miles_3_trip_miles_sum'}>,\n",
       "        <AxesSubplot:title={'center':'v_tips_3_tips_mean'}>,\n",
       "        <AxesSubplot:title={'center':'v_tips_3_tips_sum'}>],\n",
       "       [<AxesSubplot:title={'center':'v_trip_total_3_trip_total_mean'}>,\n",
       "        <AxesSubplot:title={'center':'v_trip_total_3_trip_total_sum'}>,\n",
       "        <AxesSubplot:title={'center':'v_n_3_n_mean'}>],\n",
       "       [<AxesSubplot:title={'center':'v_n_3_n_sum'}>, <AxesSubplot:>,\n",
       "        <AxesSubplot:>]], dtype=object)"
      ]
     },
     "execution_count": 97,
     "metadata": {},
     "output_type": "execute_result"
    },
    {
     "data": {
      "image/png": "[encoded data removed]",
      "text/plain": [
       "<Figure size 1440x1440 with 12 Axes>"
      ]
     },
     "metadata": {
      "needs_background": "light"
     },
     "output_type": "display_data"
    }
   ],
   "source": [
    "tad[varc].hist(figsize=(20,20))"
   ]
  },
  {
   "cell_type": "code",
   "execution_count": 102,
   "metadata": {
    "ExecuteTime": {
     "end_time": "2020-11-12T02:50:33.081979Z",
     "start_time": "2020-11-12T02:50:33.040024Z"
    }
   },
   "outputs": [],
   "source": [
    "ol = tad[varc].describe(percentiles=[0.01,0.99]).T[['1%','99%']].reset_index().values.tolist()"
   ]
  },
  {
   "cell_type": "code",
   "execution_count": 104,
   "metadata": {
    "ExecuteTime": {
     "end_time": "2020-11-12T02:51:31.107609Z",
     "start_time": "2020-11-12T02:51:31.093612Z"
    }
   },
   "outputs": [],
   "source": [
    "for v,li,ls in ol:\n",
    "    tad['ol_%s'%v] = ((tad[v]<li)|(tad[v]>ls)).astype(int)"
   ]
  },
  {
   "cell_type": "code",
   "execution_count": 106,
   "metadata": {
    "ExecuteTime": {
     "end_time": "2020-11-12T02:51:48.858598Z",
     "start_time": "2020-11-12T02:51:48.856124Z"
    }
   },
   "outputs": [],
   "source": [
    "\n",
    "varo = [v for v in tad.columns if v[:2]=='ol']"
   ]
  },
  {
   "cell_type": "code",
   "execution_count": 107,
   "metadata": {
    "ExecuteTime": {
     "end_time": "2020-11-12T02:51:50.778760Z",
     "start_time": "2020-11-12T02:51:50.775704Z"
    }
   },
   "outputs": [
    {
     "data": {
      "text/plain": [
       "['ol_v_trip_seconds_3_trip_seconds_mean',\n",
       " 'ol_v_trip_seconds_3_trip_seconds_sum',\n",
       " 'ol_v_trip_miles_3_trip_miles_mean',\n",
       " 'ol_v_trip_miles_3_trip_miles_sum',\n",
       " 'ol_v_tips_3_tips_mean',\n",
       " 'ol_v_tips_3_tips_sum',\n",
       " 'ol_v_trip_total_3_trip_total_mean',\n",
       " 'ol_v_trip_total_3_trip_total_sum',\n",
       " 'ol_v_n_3_n_mean',\n",
       " 'ol_v_n_3_n_sum']"
      ]
     },
     "execution_count": 107,
     "metadata": {},
     "output_type": "execute_result"
    }
   ],
   "source": [
    "varo"
   ]
  },
  {
   "cell_type": "code",
   "execution_count": 108,
   "metadata": {
    "ExecuteTime": {
     "end_time": "2020-11-12T02:52:02.874578Z",
     "start_time": "2020-11-12T02:52:02.866422Z"
    }
   },
   "outputs": [],
   "source": [
    "tad['ext'] = tad[varo].max(axis=1)"
   ]
  },
  {
   "cell_type": "code",
   "execution_count": 110,
   "metadata": {
    "ExecuteTime": {
     "end_time": "2020-11-12T02:52:18.767660Z",
     "start_time": "2020-11-12T02:52:18.759887Z"
    }
   },
   "outputs": [],
   "source": [
    "tad.drop(varo,axis=1,inplace=True)"
   ]
  },
  {
   "cell_type": "code",
   "execution_count": 111,
   "metadata": {
    "ExecuteTime": {
     "end_time": "2020-11-12T02:52:19.042583Z",
     "start_time": "2020-11-12T02:52:19.027028Z"
    }
   },
   "outputs": [
    {
     "data": {
      "text/html": [
       "<div>\n",
       "<style scoped>\n",
       "    .dataframe tbody tr th:only-of-type {\n",
       "        vertical-align: middle;\n",
       "    }\n",
       "\n",
       "    .dataframe tbody tr th {\n",
       "        vertical-align: top;\n",
       "    }\n",
       "\n",
       "    .dataframe thead th {\n",
       "        text-align: right;\n",
       "    }\n",
       "</style>\n",
       "<table border=\"1\" class=\"dataframe\">\n",
       "  <thead>\n",
       "    <tr style=\"text-align: right;\">\n",
       "      <th></th>\n",
       "      <th>taxi_id</th>\n",
       "      <th>v_trip_seconds_3_trip_seconds_mean</th>\n",
       "      <th>v_trip_seconds_3_trip_seconds_sum</th>\n",
       "      <th>ancla</th>\n",
       "      <th>v_trip_miles_3_trip_miles_mean</th>\n",
       "      <th>v_trip_miles_3_trip_miles_sum</th>\n",
       "      <th>v_tips_3_tips_mean</th>\n",
       "      <th>v_tips_3_tips_sum</th>\n",
       "      <th>v_trip_total_3_trip_total_mean</th>\n",
       "      <th>v_trip_total_3_trip_total_sum</th>\n",
       "      <th>v_n_3_n_mean</th>\n",
       "      <th>v_n_3_n_sum</th>\n",
       "      <th>y</th>\n",
       "      <th>ext</th>\n",
       "    </tr>\n",
       "  </thead>\n",
       "  <tbody>\n",
       "    <tr>\n",
       "      <th>0</th>\n",
       "      <td>0.0</td>\n",
       "      <td>741.291946</td>\n",
       "      <td>883620.0</td>\n",
       "      <td>3</td>\n",
       "      <td>4.210403</td>\n",
       "      <td>5018.8</td>\n",
       "      <td>1.669874</td>\n",
       "      <td>1990.49</td>\n",
       "      <td>16.470470</td>\n",
       "      <td>19632.80</td>\n",
       "      <td>1</td>\n",
       "      <td>1192</td>\n",
       "      <td>0</td>\n",
       "      <td>0</td>\n",
       "    </tr>\n",
       "    <tr>\n",
       "      <th>1</th>\n",
       "      <td>3.0</td>\n",
       "      <td>684.223602</td>\n",
       "      <td>110160.0</td>\n",
       "      <td>3</td>\n",
       "      <td>0.185714</td>\n",
       "      <td>29.9</td>\n",
       "      <td>1.843851</td>\n",
       "      <td>296.86</td>\n",
       "      <td>15.831739</td>\n",
       "      <td>2548.91</td>\n",
       "      <td>1</td>\n",
       "      <td>161</td>\n",
       "      <td>1</td>\n",
       "      <td>0</td>\n",
       "    </tr>\n",
       "    <tr>\n",
       "      <th>2</th>\n",
       "      <td>4.0</td>\n",
       "      <td>631.743772</td>\n",
       "      <td>1065120.0</td>\n",
       "      <td>3</td>\n",
       "      <td>2.878351</td>\n",
       "      <td>4852.9</td>\n",
       "      <td>1.224680</td>\n",
       "      <td>2064.81</td>\n",
       "      <td>12.569698</td>\n",
       "      <td>21192.51</td>\n",
       "      <td>1</td>\n",
       "      <td>1686</td>\n",
       "      <td>0</td>\n",
       "      <td>0</td>\n",
       "    </tr>\n",
       "    <tr>\n",
       "      <th>3</th>\n",
       "      <td>5.0</td>\n",
       "      <td>1067.194030</td>\n",
       "      <td>715020.0</td>\n",
       "      <td>3</td>\n",
       "      <td>5.715522</td>\n",
       "      <td>3829.4</td>\n",
       "      <td>1.985672</td>\n",
       "      <td>1330.40</td>\n",
       "      <td>37.203612</td>\n",
       "      <td>24926.42</td>\n",
       "      <td>1</td>\n",
       "      <td>670</td>\n",
       "      <td>0</td>\n",
       "      <td>0</td>\n",
       "    </tr>\n",
       "    <tr>\n",
       "      <th>4</th>\n",
       "      <td>6.0</td>\n",
       "      <td>666.156275</td>\n",
       "      <td>844020.0</td>\n",
       "      <td>3</td>\n",
       "      <td>0.000000</td>\n",
       "      <td>0.0</td>\n",
       "      <td>1.390908</td>\n",
       "      <td>1762.28</td>\n",
       "      <td>14.088129</td>\n",
       "      <td>17849.66</td>\n",
       "      <td>1</td>\n",
       "      <td>1267</td>\n",
       "      <td>0</td>\n",
       "      <td>0</td>\n",
       "    </tr>\n",
       "  </tbody>\n",
       "</table>\n",
       "</div>"
      ],
      "text/plain": [
       "   taxi_id  v_trip_seconds_3_trip_seconds_mean  \\\n",
       "0      0.0                          741.291946   \n",
       "1      3.0                          684.223602   \n",
       "2      4.0                          631.743772   \n",
       "3      5.0                         1067.194030   \n",
       "4      6.0                          666.156275   \n",
       "\n",
       "   v_trip_seconds_3_trip_seconds_sum  ancla  v_trip_miles_3_trip_miles_mean  \\\n",
       "0                           883620.0      3                        4.210403   \n",
       "1                           110160.0      3                        0.185714   \n",
       "2                          1065120.0      3                        2.878351   \n",
       "3                           715020.0      3                        5.715522   \n",
       "4                           844020.0      3                        0.000000   \n",
       "\n",
       "   v_trip_miles_3_trip_miles_sum  v_tips_3_tips_mean  v_tips_3_tips_sum  \\\n",
       "0                         5018.8            1.669874            1990.49   \n",
       "1                           29.9            1.843851             296.86   \n",
       "2                         4852.9            1.224680            2064.81   \n",
       "3                         3829.4            1.985672            1330.40   \n",
       "4                            0.0            1.390908            1762.28   \n",
       "\n",
       "   v_trip_total_3_trip_total_mean  v_trip_total_3_trip_total_sum  \\\n",
       "0                       16.470470                       19632.80   \n",
       "1                       15.831739                        2548.91   \n",
       "2                       12.569698                       21192.51   \n",
       "3                       37.203612                       24926.42   \n",
       "4                       14.088129                       17849.66   \n",
       "\n",
       "   v_n_3_n_mean  v_n_3_n_sum  y  ext  \n",
       "0             1         1192  0    0  \n",
       "1             1          161  1    0  \n",
       "2             1         1686  0    0  \n",
       "3             1          670  0    0  \n",
       "4             1         1267  0    0  "
      ]
     },
     "execution_count": 111,
     "metadata": {},
     "output_type": "execute_result"
    }
   ],
   "source": [
    "tad.head()"
   ]
  },
  {
   "cell_type": "code",
   "execution_count": 113,
   "metadata": {
    "ExecuteTime": {
     "end_time": "2020-11-12T02:53:00.761798Z",
     "start_time": "2020-11-12T02:53:00.754623Z"
    }
   },
   "outputs": [],
   "source": [
    "tad = tad.loc[tad.ext==0].reset_index(drop=True).drop('ext',axis=1)"
   ]
  },
  {
   "cell_type": "code",
   "execution_count": 115,
   "metadata": {
    "ExecuteTime": {
     "end_time": "2020-11-12T02:53:09.119568Z",
     "start_time": "2020-11-12T02:53:09.106448Z"
    }
   },
   "outputs": [
    {
     "data": {
      "text/html": [
       "<div>\n",
       "<style scoped>\n",
       "    .dataframe tbody tr th:only-of-type {\n",
       "        vertical-align: middle;\n",
       "    }\n",
       "\n",
       "    .dataframe tbody tr th {\n",
       "        vertical-align: top;\n",
       "    }\n",
       "\n",
       "    .dataframe thead th {\n",
       "        text-align: right;\n",
       "    }\n",
       "</style>\n",
       "<table border=\"1\" class=\"dataframe\">\n",
       "  <thead>\n",
       "    <tr style=\"text-align: right;\">\n",
       "      <th></th>\n",
       "      <th>taxi_id</th>\n",
       "      <th>v_trip_seconds_3_trip_seconds_mean</th>\n",
       "      <th>v_trip_seconds_3_trip_seconds_sum</th>\n",
       "      <th>ancla</th>\n",
       "      <th>v_trip_miles_3_trip_miles_mean</th>\n",
       "      <th>v_trip_miles_3_trip_miles_sum</th>\n",
       "      <th>v_tips_3_tips_mean</th>\n",
       "      <th>v_tips_3_tips_sum</th>\n",
       "      <th>v_trip_total_3_trip_total_mean</th>\n",
       "      <th>v_trip_total_3_trip_total_sum</th>\n",
       "      <th>v_n_3_n_mean</th>\n",
       "      <th>v_n_3_n_sum</th>\n",
       "      <th>y</th>\n",
       "    </tr>\n",
       "  </thead>\n",
       "  <tbody>\n",
       "    <tr>\n",
       "      <th>0</th>\n",
       "      <td>0.0</td>\n",
       "      <td>741.291946</td>\n",
       "      <td>883620.0</td>\n",
       "      <td>3</td>\n",
       "      <td>4.210403</td>\n",
       "      <td>5018.8</td>\n",
       "      <td>1.669874</td>\n",
       "      <td>1990.49</td>\n",
       "      <td>16.470470</td>\n",
       "      <td>19632.80</td>\n",
       "      <td>1</td>\n",
       "      <td>1192</td>\n",
       "      <td>0</td>\n",
       "    </tr>\n",
       "    <tr>\n",
       "      <th>1</th>\n",
       "      <td>3.0</td>\n",
       "      <td>684.223602</td>\n",
       "      <td>110160.0</td>\n",
       "      <td>3</td>\n",
       "      <td>0.185714</td>\n",
       "      <td>29.9</td>\n",
       "      <td>1.843851</td>\n",
       "      <td>296.86</td>\n",
       "      <td>15.831739</td>\n",
       "      <td>2548.91</td>\n",
       "      <td>1</td>\n",
       "      <td>161</td>\n",
       "      <td>1</td>\n",
       "    </tr>\n",
       "    <tr>\n",
       "      <th>2</th>\n",
       "      <td>4.0</td>\n",
       "      <td>631.743772</td>\n",
       "      <td>1065120.0</td>\n",
       "      <td>3</td>\n",
       "      <td>2.878351</td>\n",
       "      <td>4852.9</td>\n",
       "      <td>1.224680</td>\n",
       "      <td>2064.81</td>\n",
       "      <td>12.569698</td>\n",
       "      <td>21192.51</td>\n",
       "      <td>1</td>\n",
       "      <td>1686</td>\n",
       "      <td>0</td>\n",
       "    </tr>\n",
       "    <tr>\n",
       "      <th>3</th>\n",
       "      <td>5.0</td>\n",
       "      <td>1067.194030</td>\n",
       "      <td>715020.0</td>\n",
       "      <td>3</td>\n",
       "      <td>5.715522</td>\n",
       "      <td>3829.4</td>\n",
       "      <td>1.985672</td>\n",
       "      <td>1330.40</td>\n",
       "      <td>37.203612</td>\n",
       "      <td>24926.42</td>\n",
       "      <td>1</td>\n",
       "      <td>670</td>\n",
       "      <td>0</td>\n",
       "    </tr>\n",
       "    <tr>\n",
       "      <th>4</th>\n",
       "      <td>6.0</td>\n",
       "      <td>666.156275</td>\n",
       "      <td>844020.0</td>\n",
       "      <td>3</td>\n",
       "      <td>0.000000</td>\n",
       "      <td>0.0</td>\n",
       "      <td>1.390908</td>\n",
       "      <td>1762.28</td>\n",
       "      <td>14.088129</td>\n",
       "      <td>17849.66</td>\n",
       "      <td>1</td>\n",
       "      <td>1267</td>\n",
       "      <td>0</td>\n",
       "    </tr>\n",
       "  </tbody>\n",
       "</table>\n",
       "</div>"
      ],
      "text/plain": [
       "   taxi_id  v_trip_seconds_3_trip_seconds_mean  \\\n",
       "0      0.0                          741.291946   \n",
       "1      3.0                          684.223602   \n",
       "2      4.0                          631.743772   \n",
       "3      5.0                         1067.194030   \n",
       "4      6.0                          666.156275   \n",
       "\n",
       "   v_trip_seconds_3_trip_seconds_sum  ancla  v_trip_miles_3_trip_miles_mean  \\\n",
       "0                           883620.0      3                        4.210403   \n",
       "1                           110160.0      3                        0.185714   \n",
       "2                          1065120.0      3                        2.878351   \n",
       "3                           715020.0      3                        5.715522   \n",
       "4                           844020.0      3                        0.000000   \n",
       "\n",
       "   v_trip_miles_3_trip_miles_sum  v_tips_3_tips_mean  v_tips_3_tips_sum  \\\n",
       "0                         5018.8            1.669874            1990.49   \n",
       "1                           29.9            1.843851             296.86   \n",
       "2                         4852.9            1.224680            2064.81   \n",
       "3                         3829.4            1.985672            1330.40   \n",
       "4                            0.0            1.390908            1762.28   \n",
       "\n",
       "   v_trip_total_3_trip_total_mean  v_trip_total_3_trip_total_sum  \\\n",
       "0                       16.470470                       19632.80   \n",
       "1                       15.831739                        2548.91   \n",
       "2                       12.569698                       21192.51   \n",
       "3                       37.203612                       24926.42   \n",
       "4                       14.088129                       17849.66   \n",
       "\n",
       "   v_n_3_n_mean  v_n_3_n_sum  y  \n",
       "0             1         1192  0  \n",
       "1             1          161  1  \n",
       "2             1         1686  0  \n",
       "3             1          670  0  \n",
       "4             1         1267  0  "
      ]
     },
     "execution_count": 115,
     "metadata": {},
     "output_type": "execute_result"
    }
   ],
   "source": [
    "tad.head()"
   ]
  },
  {
   "cell_type": "code",
   "execution_count": 116,
   "metadata": {
    "ExecuteTime": {
     "end_time": "2020-11-12T02:53:27.474120Z",
     "start_time": "2020-11-12T02:53:26.296630Z"
    }
   },
   "outputs": [
    {
     "data": {
      "text/plain": [
       "array([[<AxesSubplot:title={'center':'v_trip_seconds_3_trip_seconds_mean'}>,\n",
       "        <AxesSubplot:title={'center':'v_trip_seconds_3_trip_seconds_sum'}>,\n",
       "        <AxesSubplot:title={'center':'v_trip_miles_3_trip_miles_mean'}>],\n",
       "       [<AxesSubplot:title={'center':'v_trip_miles_3_trip_miles_sum'}>,\n",
       "        <AxesSubplot:title={'center':'v_tips_3_tips_mean'}>,\n",
       "        <AxesSubplot:title={'center':'v_tips_3_tips_sum'}>],\n",
       "       [<AxesSubplot:title={'center':'v_trip_total_3_trip_total_mean'}>,\n",
       "        <AxesSubplot:title={'center':'v_trip_total_3_trip_total_sum'}>,\n",
       "        <AxesSubplot:title={'center':'v_n_3_n_mean'}>],\n",
       "       [<AxesSubplot:title={'center':'v_n_3_n_sum'}>, <AxesSubplot:>,\n",
       "        <AxesSubplot:>]], dtype=object)"
      ]
     },
     "execution_count": 116,
     "metadata": {},
     "output_type": "execute_result"
    },
    {
     "data": {
      "image/png": "[encoded data removed]",
      "text/plain": [
       "<Figure size 1440x1440 with 12 Axes>"
      ]
     },
     "metadata": {
      "needs_background": "light"
     },
     "output_type": "display_data"
    }
   ],
   "source": [
    "tad[varc].hist(figsize=(20,20))"
   ]
  },
  {
   "cell_type": "markdown",
   "metadata": {},
   "source": [
    "### Unarias"
   ]
  },
  {
   "cell_type": "code",
   "execution_count": 128,
   "metadata": {
    "ExecuteTime": {
     "end_time": "2020-11-12T02:56:29.687331Z",
     "start_time": "2020-11-12T02:56:29.668305Z"
    }
   },
   "outputs": [],
   "source": [
    "unarias = [v for v,n in [(v,tad[v].unique().shape[0]) for v in varc] if n ==1 ]\n",
    "varc = [v for v in varc if v not in unarias]"
   ]
  },
  {
   "cell_type": "code",
   "execution_count": 130,
   "metadata": {
    "ExecuteTime": {
     "end_time": "2020-11-12T02:56:34.894643Z",
     "start_time": "2020-11-12T02:56:34.890687Z"
    }
   },
   "outputs": [
    {
     "data": {
      "text/plain": [
       "(['v_trip_seconds_3_trip_seconds_mean',\n",
       "  'v_trip_seconds_3_trip_seconds_sum',\n",
       "  'v_trip_miles_3_trip_miles_mean',\n",
       "  'v_trip_miles_3_trip_miles_sum',\n",
       "  'v_tips_3_tips_mean',\n",
       "  'v_tips_3_tips_sum',\n",
       "  'v_trip_total_3_trip_total_mean',\n",
       "  'v_trip_total_3_trip_total_sum',\n",
       "  'v_n_3_n_sum'],\n",
       " [])"
      ]
     },
     "execution_count": 130,
     "metadata": {},
     "output_type": "execute_result"
    }
   ],
   "source": [
    "varc,unarias"
   ]
  },
  {
   "cell_type": "markdown",
   "metadata": {},
   "source": [
    "### Correlación lineal"
   ]
  },
  {
   "cell_type": "code",
   "execution_count": 131,
   "metadata": {
    "ExecuteTime": {
     "end_time": "2020-11-12T02:57:00.329288Z",
     "start_time": "2020-11-12T02:57:00.224152Z"
    }
   },
   "outputs": [
    {
     "data": {
      "text/html": [
       "<div>\n",
       "<style scoped>\n",
       "    .dataframe tbody tr th:only-of-type {\n",
       "        vertical-align: middle;\n",
       "    }\n",
       "\n",
       "    .dataframe tbody tr th {\n",
       "        vertical-align: top;\n",
       "    }\n",
       "\n",
       "    .dataframe thead th {\n",
       "        text-align: right;\n",
       "    }\n",
       "</style>\n",
       "<table border=\"1\" class=\"dataframe\">\n",
       "  <thead>\n",
       "    <tr style=\"text-align: right;\">\n",
       "      <th></th>\n",
       "      <th>v_trip_seconds_3_trip_seconds_mean</th>\n",
       "      <th>v_trip_seconds_3_trip_seconds_sum</th>\n",
       "      <th>v_trip_miles_3_trip_miles_mean</th>\n",
       "      <th>v_trip_miles_3_trip_miles_sum</th>\n",
       "      <th>v_tips_3_tips_mean</th>\n",
       "      <th>v_tips_3_tips_sum</th>\n",
       "      <th>v_trip_total_3_trip_total_mean</th>\n",
       "      <th>v_trip_total_3_trip_total_sum</th>\n",
       "      <th>v_n_3_n_sum</th>\n",
       "    </tr>\n",
       "  </thead>\n",
       "  <tbody>\n",
       "    <tr>\n",
       "      <th>v_trip_seconds_3_trip_seconds_mean</th>\n",
       "      <td>1.000000</td>\n",
       "      <td>0.723875</td>\n",
       "      <td>0.728553</td>\n",
       "      <td>0.627561</td>\n",
       "      <td>0.103414</td>\n",
       "      <td>0.568804</td>\n",
       "      <td>-0.195191</td>\n",
       "      <td>0.661547</td>\n",
       "      <td>0.502365</td>\n",
       "    </tr>\n",
       "    <tr>\n",
       "      <th>v_trip_seconds_3_trip_seconds_sum</th>\n",
       "      <td>0.723875</td>\n",
       "      <td>1.000000</td>\n",
       "      <td>0.434337</td>\n",
       "      <td>0.738589</td>\n",
       "      <td>-0.122446</td>\n",
       "      <td>0.787560</td>\n",
       "      <td>-0.402090</td>\n",
       "      <td>0.931843</td>\n",
       "      <td>0.921465</td>\n",
       "    </tr>\n",
       "    <tr>\n",
       "      <th>v_trip_miles_3_trip_miles_mean</th>\n",
       "      <td>0.728553</td>\n",
       "      <td>0.434337</td>\n",
       "      <td>1.000000</td>\n",
       "      <td>0.770003</td>\n",
       "      <td>0.180988</td>\n",
       "      <td>0.394680</td>\n",
       "      <td>-0.034138</td>\n",
       "      <td>0.434157</td>\n",
       "      <td>0.252710</td>\n",
       "    </tr>\n",
       "    <tr>\n",
       "      <th>v_trip_miles_3_trip_miles_sum</th>\n",
       "      <td>0.627561</td>\n",
       "      <td>0.738589</td>\n",
       "      <td>0.770003</td>\n",
       "      <td>1.000000</td>\n",
       "      <td>-0.006832</td>\n",
       "      <td>0.624587</td>\n",
       "      <td>-0.236128</td>\n",
       "      <td>0.719157</td>\n",
       "      <td>0.639459</td>\n",
       "    </tr>\n",
       "    <tr>\n",
       "      <th>v_tips_3_tips_mean</th>\n",
       "      <td>0.103414</td>\n",
       "      <td>-0.122446</td>\n",
       "      <td>0.180988</td>\n",
       "      <td>-0.006832</td>\n",
       "      <td>1.000000</td>\n",
       "      <td>0.255924</td>\n",
       "      <td>0.328740</td>\n",
       "      <td>0.069162</td>\n",
       "      <td>-0.142760</td>\n",
       "    </tr>\n",
       "    <tr>\n",
       "      <th>v_tips_3_tips_sum</th>\n",
       "      <td>0.568804</td>\n",
       "      <td>0.787560</td>\n",
       "      <td>0.394680</td>\n",
       "      <td>0.624587</td>\n",
       "      <td>0.255924</td>\n",
       "      <td>1.000000</td>\n",
       "      <td>-0.284671</td>\n",
       "      <td>0.926966</td>\n",
       "      <td>0.804536</td>\n",
       "    </tr>\n",
       "    <tr>\n",
       "      <th>v_trip_total_3_trip_total_mean</th>\n",
       "      <td>-0.195191</td>\n",
       "      <td>-0.402090</td>\n",
       "      <td>-0.034138</td>\n",
       "      <td>-0.236128</td>\n",
       "      <td>0.328740</td>\n",
       "      <td>-0.284671</td>\n",
       "      <td>1.000000</td>\n",
       "      <td>-0.344018</td>\n",
       "      <td>-0.500090</td>\n",
       "    </tr>\n",
       "    <tr>\n",
       "      <th>v_trip_total_3_trip_total_sum</th>\n",
       "      <td>0.661547</td>\n",
       "      <td>0.931843</td>\n",
       "      <td>0.434157</td>\n",
       "      <td>0.719157</td>\n",
       "      <td>0.069162</td>\n",
       "      <td>0.926966</td>\n",
       "      <td>-0.344018</td>\n",
       "      <td>1.000000</td>\n",
       "      <td>0.916581</td>\n",
       "    </tr>\n",
       "    <tr>\n",
       "      <th>v_n_3_n_sum</th>\n",
       "      <td>0.502365</td>\n",
       "      <td>0.921465</td>\n",
       "      <td>0.252710</td>\n",
       "      <td>0.639459</td>\n",
       "      <td>-0.142760</td>\n",
       "      <td>0.804536</td>\n",
       "      <td>-0.500090</td>\n",
       "      <td>0.916581</td>\n",
       "      <td>1.000000</td>\n",
       "    </tr>\n",
       "  </tbody>\n",
       "</table>\n",
       "</div>"
      ],
      "text/plain": [
       "                                    v_trip_seconds_3_trip_seconds_mean  \\\n",
       "v_trip_seconds_3_trip_seconds_mean                            1.000000   \n",
       "v_trip_seconds_3_trip_seconds_sum                             0.723875   \n",
       "v_trip_miles_3_trip_miles_mean                                0.728553   \n",
       "v_trip_miles_3_trip_miles_sum                                 0.627561   \n",
       "v_tips_3_tips_mean                                            0.103414   \n",
       "v_tips_3_tips_sum                                             0.568804   \n",
       "v_trip_total_3_trip_total_mean                               -0.195191   \n",
       "v_trip_total_3_trip_total_sum                                 0.661547   \n",
       "v_n_3_n_sum                                                   0.502365   \n",
       "\n",
       "                                    v_trip_seconds_3_trip_seconds_sum  \\\n",
       "v_trip_seconds_3_trip_seconds_mean                           0.723875   \n",
       "v_trip_seconds_3_trip_seconds_sum                            1.000000   \n",
       "v_trip_miles_3_trip_miles_mean                               0.434337   \n",
       "v_trip_miles_3_trip_miles_sum                                0.738589   \n",
       "v_tips_3_tips_mean                                          -0.122446   \n",
       "v_tips_3_tips_sum                                            0.787560   \n",
       "v_trip_total_3_trip_total_mean                              -0.402090   \n",
       "v_trip_total_3_trip_total_sum                                0.931843   \n",
       "v_n_3_n_sum                                                  0.921465   \n",
       "\n",
       "                                    v_trip_miles_3_trip_miles_mean  \\\n",
       "v_trip_seconds_3_trip_seconds_mean                        0.728553   \n",
       "v_trip_seconds_3_trip_seconds_sum                         0.434337   \n",
       "v_trip_miles_3_trip_miles_mean                            1.000000   \n",
       "v_trip_miles_3_trip_miles_sum                             0.770003   \n",
       "v_tips_3_tips_mean                                        0.180988   \n",
       "v_tips_3_tips_sum                                         0.394680   \n",
       "v_trip_total_3_trip_total_mean                           -0.034138   \n",
       "v_trip_total_3_trip_total_sum                             0.434157   \n",
       "v_n_3_n_sum                                               0.252710   \n",
       "\n",
       "                                    v_trip_miles_3_trip_miles_sum  \\\n",
       "v_trip_seconds_3_trip_seconds_mean                       0.627561   \n",
       "v_trip_seconds_3_trip_seconds_sum                        0.738589   \n",
       "v_trip_miles_3_trip_miles_mean                           0.770003   \n",
       "v_trip_miles_3_trip_miles_sum                            1.000000   \n",
       "v_tips_3_tips_mean                                      -0.006832   \n",
       "v_tips_3_tips_sum                                        0.624587   \n",
       "v_trip_total_3_trip_total_mean                          -0.236128   \n",
       "v_trip_total_3_trip_total_sum                            0.719157   \n",
       "v_n_3_n_sum                                              0.639459   \n",
       "\n",
       "                                    v_tips_3_tips_mean  v_tips_3_tips_sum  \\\n",
       "v_trip_seconds_3_trip_seconds_mean            0.103414           0.568804   \n",
       "v_trip_seconds_3_trip_seconds_sum            -0.122446           0.787560   \n",
       "v_trip_miles_3_trip_miles_mean                0.180988           0.394680   \n",
       "v_trip_miles_3_trip_miles_sum                -0.006832           0.624587   \n",
       "v_tips_3_tips_mean                            1.000000           0.255924   \n",
       "v_tips_3_tips_sum                             0.255924           1.000000   \n",
       "v_trip_total_3_trip_total_mean                0.328740          -0.284671   \n",
       "v_trip_total_3_trip_total_sum                 0.069162           0.926966   \n",
       "v_n_3_n_sum                                  -0.142760           0.804536   \n",
       "\n",
       "                                    v_trip_total_3_trip_total_mean  \\\n",
       "v_trip_seconds_3_trip_seconds_mean                       -0.195191   \n",
       "v_trip_seconds_3_trip_seconds_sum                        -0.402090   \n",
       "v_trip_miles_3_trip_miles_mean                           -0.034138   \n",
       "v_trip_miles_3_trip_miles_sum                            -0.236128   \n",
       "v_tips_3_tips_mean                                        0.328740   \n",
       "v_tips_3_tips_sum                                        -0.284671   \n",
       "v_trip_total_3_trip_total_mean                            1.000000   \n",
       "v_trip_total_3_trip_total_sum                            -0.344018   \n",
       "v_n_3_n_sum                                              -0.500090   \n",
       "\n",
       "                                    v_trip_total_3_trip_total_sum  v_n_3_n_sum  \n",
       "v_trip_seconds_3_trip_seconds_mean                       0.661547     0.502365  \n",
       "v_trip_seconds_3_trip_seconds_sum                        0.931843     0.921465  \n",
       "v_trip_miles_3_trip_miles_mean                           0.434157     0.252710  \n",
       "v_trip_miles_3_trip_miles_sum                            0.719157     0.639459  \n",
       "v_tips_3_tips_mean                                       0.069162    -0.142760  \n",
       "v_tips_3_tips_sum                                        0.926966     0.804536  \n",
       "v_trip_total_3_trip_total_mean                          -0.344018    -0.500090  \n",
       "v_trip_total_3_trip_total_sum                            1.000000     0.916581  \n",
       "v_n_3_n_sum                                              0.916581     1.000000  "
      ]
     },
     "execution_count": 131,
     "metadata": {},
     "output_type": "execute_result"
    }
   ],
   "source": [
    "tad[varc].corr()"
   ]
  },
  {
   "cell_type": "code",
   "execution_count": 132,
   "metadata": {
    "ExecuteTime": {
     "end_time": "2020-11-12T02:58:52.741275Z",
     "start_time": "2020-11-12T02:58:52.739199Z"
    }
   },
   "outputs": [],
   "source": [
    "varc.remove('v_trip_seconds_3_trip_seconds_sum')\n",
    "varc.remove('v_n_3_n_sum')\n",
    "varc.remove('v_tips_3_tips_sum')"
   ]
  },
  {
   "cell_type": "code",
   "execution_count": 135,
   "metadata": {
    "ExecuteTime": {
     "end_time": "2020-11-12T02:59:31.017817Z",
     "start_time": "2020-11-12T02:59:31.004391Z"
    }
   },
   "outputs": [
    {
     "data": {
      "text/html": [
       "<div>\n",
       "<style scoped>\n",
       "    .dataframe tbody tr th:only-of-type {\n",
       "        vertical-align: middle;\n",
       "    }\n",
       "\n",
       "    .dataframe tbody tr th {\n",
       "        vertical-align: top;\n",
       "    }\n",
       "\n",
       "    .dataframe thead th {\n",
       "        text-align: right;\n",
       "    }\n",
       "</style>\n",
       "<table border=\"1\" class=\"dataframe\">\n",
       "  <thead>\n",
       "    <tr style=\"text-align: right;\">\n",
       "      <th></th>\n",
       "      <th>v_trip_seconds_3_trip_seconds_mean</th>\n",
       "      <th>v_trip_miles_3_trip_miles_mean</th>\n",
       "      <th>v_trip_miles_3_trip_miles_sum</th>\n",
       "      <th>v_tips_3_tips_mean</th>\n",
       "      <th>v_trip_total_3_trip_total_mean</th>\n",
       "      <th>v_trip_total_3_trip_total_sum</th>\n",
       "    </tr>\n",
       "  </thead>\n",
       "  <tbody>\n",
       "    <tr>\n",
       "      <th>v_trip_seconds_3_trip_seconds_mean</th>\n",
       "      <td>1.000000</td>\n",
       "      <td>0.728553</td>\n",
       "      <td>0.627561</td>\n",
       "      <td>0.103414</td>\n",
       "      <td>-0.195191</td>\n",
       "      <td>0.661547</td>\n",
       "    </tr>\n",
       "    <tr>\n",
       "      <th>v_trip_miles_3_trip_miles_mean</th>\n",
       "      <td>0.728553</td>\n",
       "      <td>1.000000</td>\n",
       "      <td>0.770003</td>\n",
       "      <td>0.180988</td>\n",
       "      <td>-0.034138</td>\n",
       "      <td>0.434157</td>\n",
       "    </tr>\n",
       "    <tr>\n",
       "      <th>v_trip_miles_3_trip_miles_sum</th>\n",
       "      <td>0.627561</td>\n",
       "      <td>0.770003</td>\n",
       "      <td>1.000000</td>\n",
       "      <td>-0.006832</td>\n",
       "      <td>-0.236128</td>\n",
       "      <td>0.719157</td>\n",
       "    </tr>\n",
       "    <tr>\n",
       "      <th>v_tips_3_tips_mean</th>\n",
       "      <td>0.103414</td>\n",
       "      <td>0.180988</td>\n",
       "      <td>-0.006832</td>\n",
       "      <td>1.000000</td>\n",
       "      <td>0.328740</td>\n",
       "      <td>0.069162</td>\n",
       "    </tr>\n",
       "    <tr>\n",
       "      <th>v_trip_total_3_trip_total_mean</th>\n",
       "      <td>-0.195191</td>\n",
       "      <td>-0.034138</td>\n",
       "      <td>-0.236128</td>\n",
       "      <td>0.328740</td>\n",
       "      <td>1.000000</td>\n",
       "      <td>-0.344018</td>\n",
       "    </tr>\n",
       "    <tr>\n",
       "      <th>v_trip_total_3_trip_total_sum</th>\n",
       "      <td>0.661547</td>\n",
       "      <td>0.434157</td>\n",
       "      <td>0.719157</td>\n",
       "      <td>0.069162</td>\n",
       "      <td>-0.344018</td>\n",
       "      <td>1.000000</td>\n",
       "    </tr>\n",
       "  </tbody>\n",
       "</table>\n",
       "</div>"
      ],
      "text/plain": [
       "                                    v_trip_seconds_3_trip_seconds_mean  \\\n",
       "v_trip_seconds_3_trip_seconds_mean                            1.000000   \n",
       "v_trip_miles_3_trip_miles_mean                                0.728553   \n",
       "v_trip_miles_3_trip_miles_sum                                 0.627561   \n",
       "v_tips_3_tips_mean                                            0.103414   \n",
       "v_trip_total_3_trip_total_mean                               -0.195191   \n",
       "v_trip_total_3_trip_total_sum                                 0.661547   \n",
       "\n",
       "                                    v_trip_miles_3_trip_miles_mean  \\\n",
       "v_trip_seconds_3_trip_seconds_mean                        0.728553   \n",
       "v_trip_miles_3_trip_miles_mean                            1.000000   \n",
       "v_trip_miles_3_trip_miles_sum                             0.770003   \n",
       "v_tips_3_tips_mean                                        0.180988   \n",
       "v_trip_total_3_trip_total_mean                           -0.034138   \n",
       "v_trip_total_3_trip_total_sum                             0.434157   \n",
       "\n",
       "                                    v_trip_miles_3_trip_miles_sum  \\\n",
       "v_trip_seconds_3_trip_seconds_mean                       0.627561   \n",
       "v_trip_miles_3_trip_miles_mean                           0.770003   \n",
       "v_trip_miles_3_trip_miles_sum                            1.000000   \n",
       "v_tips_3_tips_mean                                      -0.006832   \n",
       "v_trip_total_3_trip_total_mean                          -0.236128   \n",
       "v_trip_total_3_trip_total_sum                            0.719157   \n",
       "\n",
       "                                    v_tips_3_tips_mean  \\\n",
       "v_trip_seconds_3_trip_seconds_mean            0.103414   \n",
       "v_trip_miles_3_trip_miles_mean                0.180988   \n",
       "v_trip_miles_3_trip_miles_sum                -0.006832   \n",
       "v_tips_3_tips_mean                            1.000000   \n",
       "v_trip_total_3_trip_total_mean                0.328740   \n",
       "v_trip_total_3_trip_total_sum                 0.069162   \n",
       "\n",
       "                                    v_trip_total_3_trip_total_mean  \\\n",
       "v_trip_seconds_3_trip_seconds_mean                       -0.195191   \n",
       "v_trip_miles_3_trip_miles_mean                           -0.034138   \n",
       "v_trip_miles_3_trip_miles_sum                            -0.236128   \n",
       "v_tips_3_tips_mean                                        0.328740   \n",
       "v_trip_total_3_trip_total_mean                            1.000000   \n",
       "v_trip_total_3_trip_total_sum                            -0.344018   \n",
       "\n",
       "                                    v_trip_total_3_trip_total_sum  \n",
       "v_trip_seconds_3_trip_seconds_mean                       0.661547  \n",
       "v_trip_miles_3_trip_miles_mean                           0.434157  \n",
       "v_trip_miles_3_trip_miles_sum                            0.719157  \n",
       "v_tips_3_tips_mean                                       0.069162  \n",
       "v_trip_total_3_trip_total_mean                          -0.344018  \n",
       "v_trip_total_3_trip_total_sum                            1.000000  "
      ]
     },
     "execution_count": 135,
     "metadata": {},
     "output_type": "execute_result"
    }
   ],
   "source": [
    "tad[varc].corr()"
   ]
  },
  {
   "cell_type": "markdown",
   "metadata": {},
   "source": [
    "## Modelos"
   ]
  },
  {
   "cell_type": "markdown",
   "metadata": {},
   "source": [
    "### Partición"
   ]
  },
  {
   "cell_type": "code",
   "execution_count": 143,
   "metadata": {
    "ExecuteTime": {
     "end_time": "2020-11-12T03:03:41.439638Z",
     "start_time": "2020-11-12T03:03:41.436124Z"
    }
   },
   "outputs": [],
   "source": [
    "X = tad[varc].copy()\n",
    "y = tad[tgt]\n",
    "Xt,Xv,yt,yv = train_test_split(X,y,train_size=0.7)"
   ]
  },
  {
   "cell_type": "markdown",
   "metadata": {},
   "source": [
    "### Perceptrón"
   ]
  },
  {
   "cell_type": "code",
   "execution_count": 147,
   "metadata": {
    "ExecuteTime": {
     "end_time": "2020-11-12T03:04:03.260141Z",
     "start_time": "2020-11-12T03:04:03.258050Z"
    }
   },
   "outputs": [],
   "source": [
    "modelo = Perceptron()"
   ]
  },
  {
   "cell_type": "code",
   "execution_count": 151,
   "metadata": {
    "ExecuteTime": {
     "end_time": "2020-11-12T03:04:21.629664Z",
     "start_time": "2020-11-12T03:04:21.626887Z"
    }
   },
   "outputs": [],
   "source": [
    "hyper = dict(penalty = ['l2','l1','elasticnet'],\n",
    "             fit_intercept=[True,False],\n",
    "             max_iter=range(1000,21000,1000),\n",
    "             eta0 = np.arange(0.1,1,0.1))"
   ]
  },
  {
   "cell_type": "code",
   "execution_count": 155,
   "metadata": {
    "ExecuteTime": {
     "end_time": "2020-11-12T03:06:28.526017Z",
     "start_time": "2020-11-12T03:06:28.523543Z"
    }
   },
   "outputs": [],
   "source": [
    "grid = GridSearchCV(estimator=modelo,\n",
    "                    error_score='roc_auc',\n",
    "                    param_grid=hyper,\n",
    "                    cv=3,\n",
    "                    n_jobs=-1,\n",
    "                    verbose=True)\n",
    "\n",
    "grid.fit(Xt,yt)"
   ]
  },
  {
   "cell_type": "code",
   "execution_count": 157,
   "metadata": {
    "ExecuteTime": {
     "end_time": "2020-11-12T03:12:37.495311Z",
     "start_time": "2020-11-12T03:12:37.492332Z"
    }
   },
   "outputs": [
    {
     "data": {
      "text/plain": [
       "0.8571235578611764"
      ]
     },
     "execution_count": 157,
     "metadata": {},
     "output_type": "execute_result"
    }
   ],
   "source": [
    "print(grid.best_score_)\n",
    "\n",
    "print(grid.best_params_)"
   ]
  },
  {
   "cell_type": "code",
   "execution_count": 159,
   "metadata": {
    "ExecuteTime": {
     "end_time": "2020-11-12T03:13:31.206687Z",
     "start_time": "2020-11-12T03:13:31.204786Z"
    }
   },
   "outputs": [],
   "source": [
    "modelo = grid.best_estimator_\n",
    "modelo.fit(Xt,yt)"
   ]
  },
  {
   "cell_type": "code",
   "execution_count": 163,
   "metadata": {
    "ExecuteTime": {
     "end_time": "2020-11-12T03:15:23.602956Z",
     "start_time": "2020-11-12T03:15:23.573541Z"
    }
   },
   "outputs": [
    {
     "name": "stdout",
     "output_type": "stream",
     "text": [
      "0.8485855556456189\n",
      "0.8488936518943453\n"
     ]
    }
   ],
   "source": [
    "print(accuracy_score(y_true=yt,y_pred=modelo.predict(Xt)))\n",
    "print(accuracy_score(y_true=yv,y_pred=modelo.predict(Xv)))\n",
    "\n",
    "print(confusion_matrix(y_true=yt,y_pred=modelo.predict(Xt)))\n",
    "print(confusion_matrix(y_true=yv,y_pred=modelo.predict(Xv)))"
   ]
  },
  {
   "cell_type": "markdown",
   "metadata": {},
   "source": [
    "### Pasivo-Agresivo"
   ]
  },
  {
   "cell_type": "code",
   "execution_count": 166,
   "metadata": {
    "ExecuteTime": {
     "end_time": "2020-11-12T03:16:48.112119Z",
     "start_time": "2020-11-12T03:16:48.110156Z"
    }
   },
   "outputs": [],
   "source": [
    "modelo = PassiveAggressiveClassifier()"
   ]
  },
  {
   "cell_type": "code",
   "execution_count": 168,
   "metadata": {
    "ExecuteTime": {
     "end_time": "2020-11-12T03:17:42.460611Z",
     "start_time": "2020-11-12T03:17:42.458201Z"
    }
   },
   "outputs": [],
   "source": [
    "hyper = dict(C = np.arange(0.1,2,0.1),\n",
    "             fit_intercept=[True,False],\n",
    "             max_iter=range(1000,21000,1000))"
   ]
  },
  {
   "cell_type": "code",
   "execution_count": 169,
   "metadata": {
    "ExecuteTime": {
     "end_time": "2020-11-12T03:18:11.081436Z",
     "start_time": "2020-11-12T03:17:55.462478Z"
    }
   },
   "outputs": [
    {
     "name": "stdout",
     "output_type": "stream",
     "text": [
      "Fitting 3 folds for each of 760 candidates, totalling 2280 fits\n"
     ]
    },
    {
     "name": "stderr",
     "output_type": "stream",
     "text": [
      "[Parallel(n_jobs=-1)]: Using backend LokyBackend with 12 concurrent workers.\n",
      "[Parallel(n_jobs=-1)]: Done  26 tasks      | elapsed:    1.8s\n",
      "[Parallel(n_jobs=-1)]: Done 268 tasks      | elapsed:    3.5s\n",
      "[Parallel(n_jobs=-1)]: Done 768 tasks      | elapsed:    6.6s\n",
      "[Parallel(n_jobs=-1)]: Done 1468 tasks      | elapsed:   10.7s\n",
      "[Parallel(n_jobs=-1)]: Done 2280 out of 2280 | elapsed:   15.5s finished\n"
     ]
    },
    {
     "data": {
      "text/plain": [
       "GridSearchCV(cv=3, error_score='roc_auc',\n",
       "             estimator=PassiveAggressiveClassifier(), n_jobs=-1,\n",
       "             param_grid={'C': array([0.1, 0.2, 0.3, 0.4, 0.5, 0.6, 0.7, 0.8, 0.9, 1. , 1.1, 1.2, 1.3,\n",
       "       1.4, 1.5, 1.6, 1.7, 1.8, 1.9]),\n",
       "                         'fit_intercept': [True, False],\n",
       "                         'max_iter': range(1000, 21000, 1000)},\n",
       "             verbose=True)"
      ]
     },
     "execution_count": 169,
     "metadata": {},
     "output_type": "execute_result"
    }
   ],
   "source": [
    "grid = GridSearchCV(estimator=modelo,\n",
    "                    error_score='roc_auc',\n",
    "                    param_grid=hyper,\n",
    "                    cv=3,\n",
    "                    n_jobs=-1,\n",
    "                    verbose=True)\n",
    "\n",
    "grid.fit(Xt,yt)"
   ]
  },
  {
   "cell_type": "code",
   "execution_count": 170,
   "metadata": {
    "ExecuteTime": {
     "end_time": "2020-11-12T03:18:15.860088Z",
     "start_time": "2020-11-12T03:18:15.856967Z"
    }
   },
   "outputs": [
    {
     "name": "stdout",
     "output_type": "stream",
     "text": [
      "0.8601226662343628\n",
      "{'C': 0.5, 'fit_intercept': False, 'max_iter': 17000}\n"
     ]
    }
   ],
   "source": [
    "print(grid.best_score_)\n",
    "\n",
    "print(grid.best_params_)"
   ]
  },
  {
   "cell_type": "code",
   "execution_count": 171,
   "metadata": {
    "ExecuteTime": {
     "end_time": "2020-11-12T03:18:33.605482Z",
     "start_time": "2020-11-12T03:18:33.575117Z"
    }
   },
   "outputs": [
    {
     "data": {
      "text/plain": [
       "PassiveAggressiveClassifier(C=0.5, fit_intercept=False, max_iter=17000)"
      ]
     },
     "execution_count": 171,
     "metadata": {},
     "output_type": "execute_result"
    }
   ],
   "source": [
    "modelo = grid.best_estimator_\n",
    "modelo.fit(Xt,yt)"
   ]
  },
  {
   "cell_type": "code",
   "execution_count": 172,
   "metadata": {
    "ExecuteTime": {
     "end_time": "2020-11-12T03:18:43.857567Z",
     "start_time": "2020-11-12T03:18:43.702345Z"
    }
   },
   "outputs": [
    {
     "name": "stdout",
     "output_type": "stream",
     "text": [
      "0.859447191375537\n",
      "0.8595473743932421\n",
      "[[28979  1317]\n",
      " [ 3885  2830]]\n",
      "[[12464   584]\n",
      " [ 1644  1171]]\n"
     ]
    }
   ],
   "source": [
    "print(accuracy_score(y_true=yt,y_pred=modelo.predict(Xt)))\n",
    "print(accuracy_score(y_true=yv,y_pred=modelo.predict(Xv)))\n",
    "\n",
    "print(confusion_matrix(y_true=yt,y_pred=modelo.predict(Xt)))\n",
    "print(confusion_matrix(y_true=yv,y_pred=modelo.predict(Xv)))"
   ]
  },
  {
   "cell_type": "markdown",
   "metadata": {},
   "source": [
    "### Máquina Vector Soporte"
   ]
  },
  {
   "cell_type": "code",
   "execution_count": 203,
   "metadata": {
    "ExecuteTime": {
     "end_time": "2020-11-12T03:34:22.304416Z",
     "start_time": "2020-11-12T03:34:22.298159Z"
    }
   },
   "outputs": [],
   "source": [
    "X = tad.sample(5000)\n",
    "y = X[tgt]\n",
    "X = X[varc].copy()\n",
    "Xt,Xv,yt,yv = train_test_split(X,y,train_size=0.7)"
   ]
  },
  {
   "cell_type": "code",
   "execution_count": 204,
   "metadata": {
    "ExecuteTime": {
     "end_time": "2020-11-12T03:34:23.039326Z",
     "start_time": "2020-11-12T03:34:23.036247Z"
    }
   },
   "outputs": [],
   "source": [
    "modelo = SVC()"
   ]
  },
  {
   "cell_type": "code",
   "execution_count": 205,
   "metadata": {
    "ExecuteTime": {
     "end_time": "2020-11-12T03:34:23.494402Z",
     "start_time": "2020-11-12T03:34:23.490637Z"
    }
   },
   "outputs": [],
   "source": [
    "hyper = dict(C = np.arange(0.1,2,0.1),\n",
    "             kernel=['linear', 'poly', 'rbf', 'sigmoid'],\n",
    "             degree=range(2,6),\n",
    "             gamma = ['scale', 'auto'],\n",
    "             probability = [True]\n",
    "            )"
   ]
  },
  {
   "cell_type": "code",
   "execution_count": 206,
   "metadata": {
    "ExecuteTime": {
     "end_time": "2020-11-12T03:34:24.198760Z",
     "start_time": "2020-11-12T03:34:24.191453Z"
    }
   },
   "outputs": [
    {
     "data": {
      "text/plain": [
       "MinMaxScaler()"
      ]
     },
     "execution_count": 206,
     "metadata": {},
     "output_type": "execute_result"
    }
   ],
   "source": [
    "sc = MinMaxScaler()\n",
    "sc.fit(X)"
   ]
  },
  {
   "cell_type": "code",
   "execution_count": 207,
   "metadata": {
    "ExecuteTime": {
     "end_time": "2020-11-12T03:34:24.643006Z",
     "start_time": "2020-11-12T03:34:24.620255Z"
    }
   },
   "outputs": [
    {
     "data": {
      "text/html": [
       "<div>\n",
       "<style scoped>\n",
       "    .dataframe tbody tr th:only-of-type {\n",
       "        vertical-align: middle;\n",
       "    }\n",
       "\n",
       "    .dataframe tbody tr th {\n",
       "        vertical-align: top;\n",
       "    }\n",
       "\n",
       "    .dataframe thead th {\n",
       "        text-align: right;\n",
       "    }\n",
       "</style>\n",
       "<table border=\"1\" class=\"dataframe\">\n",
       "  <thead>\n",
       "    <tr style=\"text-align: right;\">\n",
       "      <th></th>\n",
       "      <th>v_trip_seconds_3_trip_seconds_mean</th>\n",
       "      <th>v_trip_miles_3_trip_miles_mean</th>\n",
       "      <th>v_trip_miles_3_trip_miles_sum</th>\n",
       "      <th>v_tips_3_tips_mean</th>\n",
       "      <th>v_trip_total_3_trip_total_mean</th>\n",
       "      <th>v_trip_total_3_trip_total_sum</th>\n",
       "    </tr>\n",
       "  </thead>\n",
       "  <tbody>\n",
       "    <tr>\n",
       "      <th>count</th>\n",
       "      <td>5000.000000</td>\n",
       "      <td>5000.000000</td>\n",
       "      <td>5000.000000</td>\n",
       "      <td>5000.000000</td>\n",
       "      <td>5000.000000</td>\n",
       "      <td>5000.000000</td>\n",
       "    </tr>\n",
       "    <tr>\n",
       "      <th>mean</th>\n",
       "      <td>592.846237</td>\n",
       "      <td>2.485071</td>\n",
       "      <td>2427.357074</td>\n",
       "      <td>1.826742</td>\n",
       "      <td>21.121209</td>\n",
       "      <td>13556.700246</td>\n",
       "    </tr>\n",
       "    <tr>\n",
       "      <th>std</th>\n",
       "      <td>446.812983</td>\n",
       "      <td>2.732035</td>\n",
       "      <td>2500.899250</td>\n",
       "      <td>1.232560</td>\n",
       "      <td>10.639265</td>\n",
       "      <td>9690.147174</td>\n",
       "    </tr>\n",
       "    <tr>\n",
       "      <th>min</th>\n",
       "      <td>0.000000</td>\n",
       "      <td>0.000000</td>\n",
       "      <td>0.000000</td>\n",
       "      <td>0.000000</td>\n",
       "      <td>3.250000</td>\n",
       "      <td>3.250000</td>\n",
       "    </tr>\n",
       "    <tr>\n",
       "      <th>25%</th>\n",
       "      <td>3.718651</td>\n",
       "      <td>0.000000</td>\n",
       "      <td>0.000000</td>\n",
       "      <td>1.134112</td>\n",
       "      <td>14.236732</td>\n",
       "      <td>2231.675000</td>\n",
       "    </tr>\n",
       "    <tr>\n",
       "      <th>50%</th>\n",
       "      <td>715.449204</td>\n",
       "      <td>2.537763</td>\n",
       "      <td>1920.350000</td>\n",
       "      <td>1.638150</td>\n",
       "      <td>17.648622</td>\n",
       "      <td>15189.665000</td>\n",
       "    </tr>\n",
       "    <tr>\n",
       "      <th>75%</th>\n",
       "      <td>888.407943</td>\n",
       "      <td>4.064359</td>\n",
       "      <td>4660.700000</td>\n",
       "      <td>2.415220</td>\n",
       "      <td>24.251250</td>\n",
       "      <td>21018.542500</td>\n",
       "    </tr>\n",
       "    <tr>\n",
       "      <th>max</th>\n",
       "      <td>1783.846154</td>\n",
       "      <td>14.532078</td>\n",
       "      <td>9397.390000</td>\n",
       "      <td>6.744268</td>\n",
       "      <td>72.025000</td>\n",
       "      <td>36527.310000</td>\n",
       "    </tr>\n",
       "  </tbody>\n",
       "</table>\n",
       "</div>"
      ],
      "text/plain": [
       "       v_trip_seconds_3_trip_seconds_mean  v_trip_miles_3_trip_miles_mean  \\\n",
       "count                         5000.000000                     5000.000000   \n",
       "mean                           592.846237                        2.485071   \n",
       "std                            446.812983                        2.732035   \n",
       "min                              0.000000                        0.000000   \n",
       "25%                              3.718651                        0.000000   \n",
       "50%                            715.449204                        2.537763   \n",
       "75%                            888.407943                        4.064359   \n",
       "max                           1783.846154                       14.532078   \n",
       "\n",
       "       v_trip_miles_3_trip_miles_sum  v_tips_3_tips_mean  \\\n",
       "count                    5000.000000         5000.000000   \n",
       "mean                     2427.357074            1.826742   \n",
       "std                      2500.899250            1.232560   \n",
       "min                         0.000000            0.000000   \n",
       "25%                         0.000000            1.134112   \n",
       "50%                      1920.350000            1.638150   \n",
       "75%                      4660.700000            2.415220   \n",
       "max                      9397.390000            6.744268   \n",
       "\n",
       "       v_trip_total_3_trip_total_mean  v_trip_total_3_trip_total_sum  \n",
       "count                     5000.000000                    5000.000000  \n",
       "mean                        21.121209                   13556.700246  \n",
       "std                         10.639265                    9690.147174  \n",
       "min                          3.250000                       3.250000  \n",
       "25%                         14.236732                    2231.675000  \n",
       "50%                         17.648622                   15189.665000  \n",
       "75%                         24.251250                   21018.542500  \n",
       "max                         72.025000                   36527.310000  "
      ]
     },
     "execution_count": 207,
     "metadata": {},
     "output_type": "execute_result"
    }
   ],
   "source": [
    "X.describe()"
   ]
  },
  {
   "cell_type": "code",
   "execution_count": 208,
   "metadata": {
    "ExecuteTime": {
     "end_time": "2020-11-12T03:34:25.097985Z",
     "start_time": "2020-11-12T03:34:25.091958Z"
    }
   },
   "outputs": [],
   "source": [
    "Xt = pd.DataFrame(sc.transform(Xt),columns=varc)\n",
    "Xv = pd.DataFrame(sc.transform(Xv),columns=varc)"
   ]
  },
  {
   "cell_type": "code",
   "execution_count": 209,
   "metadata": {
    "ExecuteTime": {
     "end_time": "2020-11-12T03:35:33.107689Z",
     "start_time": "2020-11-12T03:34:25.529890Z"
    }
   },
   "outputs": [
    {
     "name": "stdout",
     "output_type": "stream",
     "text": [
      "Fitting 3 folds for each of 200 candidates, totalling 600 fits\n"
     ]
    },
    {
     "name": "stderr",
     "output_type": "stream",
     "text": [
      "[Parallel(n_jobs=-1)]: Using backend LokyBackend with 12 concurrent workers.\n",
      "[Parallel(n_jobs=-1)]: Done  26 tasks      | elapsed:    1.7s\n",
      "[Parallel(n_jobs=-1)]: Done 176 tasks      | elapsed:   11.2s\n",
      "[Parallel(n_jobs=-1)]: Done 426 tasks      | elapsed:   43.5s\n",
      "[Parallel(n_jobs=-1)]: Done 600 out of 600 | elapsed:  1.1min finished\n"
     ]
    },
    {
     "data": {
      "text/plain": [
       "RandomizedSearchCV(cv=3, error_score='roc_auc', estimator=SVC(), n_iter=200,\n",
       "                   n_jobs=-1,\n",
       "                   param_distributions={'C': array([0.1, 0.2, 0.3, 0.4, 0.5, 0.6, 0.7, 0.8, 0.9, 1. , 1.1, 1.2, 1.3,\n",
       "       1.4, 1.5, 1.6, 1.7, 1.8, 1.9]),\n",
       "                                        'degree': range(2, 6),\n",
       "                                        'gamma': ['scale', 'auto'],\n",
       "                                        'kernel': ['linear', 'poly', 'rbf',\n",
       "                                                   'sigmoid'],\n",
       "                                        'probability': [True]},\n",
       "                   verbose=True)"
      ]
     },
     "execution_count": 209,
     "metadata": {},
     "output_type": "execute_result"
    }
   ],
   "source": [
    "grid = RandomizedSearchCV(estimator=modelo,\n",
    "                    error_score='roc_auc',\n",
    "                    param_distributions=hyper,\n",
    "                    n_iter=200,\n",
    "                    cv=3,\n",
    "                    n_jobs=-1,\n",
    "                    verbose=True)\n",
    "\n",
    "grid.fit(Xt,yt)"
   ]
  },
  {
   "cell_type": "code",
   "execution_count": 210,
   "metadata": {
    "ExecuteTime": {
     "end_time": "2020-11-12T03:35:33.111692Z",
     "start_time": "2020-11-12T03:35:33.108998Z"
    }
   },
   "outputs": [
    {
     "name": "stdout",
     "output_type": "stream",
     "text": [
      "0.8617140998185767\n",
      "{'probability': True, 'kernel': 'rbf', 'gamma': 'scale', 'degree': 3, 'C': 0.5}\n"
     ]
    }
   ],
   "source": [
    "print(grid.best_score_)\n",
    "print(grid.best_params_)"
   ]
  },
  {
   "cell_type": "code",
   "execution_count": 211,
   "metadata": {
    "ExecuteTime": {
     "end_time": "2020-11-12T03:35:34.021601Z",
     "start_time": "2020-11-12T03:35:33.113699Z"
    }
   },
   "outputs": [
    {
     "data": {
      "text/plain": [
       "SVC(C=0.5, probability=True)"
      ]
     },
     "execution_count": 211,
     "metadata": {},
     "output_type": "execute_result"
    }
   ],
   "source": [
    "modelo = grid.best_estimator_\n",
    "\n",
    "modelo.fit(Xt,yt)"
   ]
  },
  {
   "cell_type": "code",
   "execution_count": 212,
   "metadata": {
    "ExecuteTime": {
     "end_time": "2020-11-12T03:35:34.421932Z",
     "start_time": "2020-11-12T03:35:34.022727Z"
    }
   },
   "outputs": [
    {
     "name": "stdout",
     "output_type": "stream",
     "text": [
      "0.8682857142857143\n",
      "0.8506666666666667\n",
      "[[2751  135]\n",
      " [ 326  288]]\n",
      "[[1139   54]\n",
      " [ 170  137]]\n",
      "0.8338135805562515\n",
      "0.8195076600473447\n"
     ]
    }
   ],
   "source": [
    "print(accuracy_score(y_true=yt,y_pred=modelo.predict(Xt)))\n",
    "print(accuracy_score(y_true=yv,y_pred=modelo.predict(Xv)))\n",
    "\n",
    "print(confusion_matrix(y_true=yt,y_pred=modelo.predict(Xt)))\n",
    "print(confusion_matrix(y_true=yv,y_pred=modelo.predict(Xv)))\n",
    "\n",
    "print(roc_auc_score(y_true=yt,y_score=modelo.predict_proba(Xt)[:,1]))\n",
    "print(roc_auc_score(y_true=yv,y_score=modelo.predict_proba(Xv)[:,1]))"
   ]
  },
  {
   "cell_type": "code",
   "execution_count": 214,
   "metadata": {
    "ExecuteTime": {
     "end_time": "2020-11-12T03:35:50.193432Z",
     "start_time": "2020-11-12T03:35:49.865595Z"
    }
   },
   "outputs": [
    {
     "name": "stderr",
     "output_type": "stream",
     "text": [
      "/home/jose/entornos/ins/lib/python3.6/site-packages/sklearn/utils/deprecation.py:86: FutureWarning: Function plot_roc_curve is deprecated; This will be removed in v0.5.0. Please use scikitplot.metrics.plot_roc instead.\n",
      "  warnings.warn(msg, category=FutureWarning)\n",
      "/home/jose/entornos/ins/lib/python3.6/site-packages/sklearn/utils/deprecation.py:86: FutureWarning: Function plot_roc_curve is deprecated; This will be removed in v0.5.0. Please use scikitplot.metrics.plot_roc instead.\n",
      "  warnings.warn(msg, category=FutureWarning)\n"
     ]
    },
    {
     "data": {
      "text/plain": [
       "<AxesSubplot:title={'center':'ROC Curves'}, xlabel='False Positive Rate', ylabel='True Positive Rate'>"
      ]
     },
     "execution_count": 214,
     "metadata": {},
     "output_type": "execute_result"
    },
    {
     "data": {
      "image/png": "[encoded data removed]",
      "text/plain": [
       "<Figure size 432x288 with 1 Axes>"
      ]
     },
     "metadata": {
      "needs_background": "light"
     },
     "output_type": "display_data"
    },
    {
     "data": {
      "image/png": "[encoded data removed]",
      "text/plain": [
       "<Figure size 432x288 with 1 Axes>"
      ]
     },
     "metadata": {
      "needs_background": "light"
     },
     "output_type": "display_data"
    }
   ],
   "source": [
    "plot_roc_curve(y_true=yt,y_probas=modelo.predict_proba(Xt),curves='macro')\n",
    "plot_roc_curve(y_true=yv,y_probas=modelo.predict_proba(Xv),curves='macro')"
   ]
  },
  {
   "cell_type": "markdown",
   "metadata": {},
   "source": [
    "## Uso del Modelo"
   ]
  },
  {
   "cell_type": "code",
   "execution_count": 259,
   "metadata": {
    "ExecuteTime": {
     "end_time": "2020-11-12T03:48:35.998144Z",
     "start_time": "2020-11-12T03:48:35.943754Z"
    }
   },
   "outputs": [],
   "source": [
    "Xv['p'] = modelo.predict_proba(Xv[varc])[:,1]"
   ]
  },
  {
   "cell_type": "code",
   "execution_count": 260,
   "metadata": {
    "ExecuteTime": {
     "end_time": "2020-11-12T03:48:36.222480Z",
     "start_time": "2020-11-12T03:48:36.209682Z"
    }
   },
   "outputs": [],
   "source": [
    "Xv['p'] = pd.cut(Xv['p'],bins=np.arange(0,1.2,0.2),include_lowest=True).astype(str)"
   ]
  },
  {
   "cell_type": "code",
   "execution_count": 261,
   "metadata": {
    "ExecuteTime": {
     "end_time": "2020-11-12T03:48:36.550545Z",
     "start_time": "2020-11-12T03:48:36.438567Z"
    }
   },
   "outputs": [
    {
     "data": {
      "text/plain": [
       "<AxesSubplot:>"
      ]
     },
     "execution_count": 261,
     "metadata": {},
     "output_type": "execute_result"
    },
    {
     "data": {
      "image/png": "[encoded data removed]",
      "text/plain": [
       "<Figure size 432x288 with 1 Axes>"
      ]
     },
     "metadata": {
      "needs_background": "light"
     },
     "output_type": "display_data"
    }
   ],
   "source": [
    "Xv['p'].value_counts(1).sort_index().plot(kind='bar')"
   ]
  },
  {
   "cell_type": "code",
   "execution_count": 262,
   "metadata": {
    "ExecuteTime": {
     "end_time": "2020-11-12T03:48:36.849663Z",
     "start_time": "2020-11-12T03:48:36.840543Z"
    }
   },
   "outputs": [
    {
     "data": {
      "text/html": [
       "<div>\n",
       "<style scoped>\n",
       "    .dataframe tbody tr th:only-of-type {\n",
       "        vertical-align: middle;\n",
       "    }\n",
       "\n",
       "    .dataframe tbody tr th {\n",
       "        vertical-align: top;\n",
       "    }\n",
       "\n",
       "    .dataframe thead th {\n",
       "        text-align: right;\n",
       "    }\n",
       "</style>\n",
       "<table border=\"1\" class=\"dataframe\">\n",
       "  <thead>\n",
       "    <tr style=\"text-align: right;\">\n",
       "      <th></th>\n",
       "      <th>v_trip_seconds_3_trip_seconds_mean</th>\n",
       "      <th>v_trip_miles_3_trip_miles_mean</th>\n",
       "      <th>v_trip_miles_3_trip_miles_sum</th>\n",
       "      <th>v_tips_3_tips_mean</th>\n",
       "      <th>v_trip_total_3_trip_total_mean</th>\n",
       "      <th>v_trip_total_3_trip_total_sum</th>\n",
       "      <th>p</th>\n",
       "      <th>n</th>\n",
       "      <th>y</th>\n",
       "    </tr>\n",
       "  </thead>\n",
       "  <tbody>\n",
       "    <tr>\n",
       "      <th>0</th>\n",
       "      <td>0.000234</td>\n",
       "      <td>0.000000</td>\n",
       "      <td>0.000000</td>\n",
       "      <td>0.349736</td>\n",
       "      <td>0.161350</td>\n",
       "      <td>0.338902</td>\n",
       "      <td>(-0.001, 0.2]</td>\n",
       "      <td>1</td>\n",
       "      <td>NaN</td>\n",
       "    </tr>\n",
       "    <tr>\n",
       "      <th>1</th>\n",
       "      <td>0.573501</td>\n",
       "      <td>0.020905</td>\n",
       "      <td>0.005108</td>\n",
       "      <td>0.356712</td>\n",
       "      <td>0.281335</td>\n",
       "      <td>0.097672</td>\n",
       "      <td>(-0.001, 0.2]</td>\n",
       "      <td>1</td>\n",
       "      <td>NaN</td>\n",
       "    </tr>\n",
       "    <tr>\n",
       "      <th>2</th>\n",
       "      <td>0.505434</td>\n",
       "      <td>0.280521</td>\n",
       "      <td>0.483249</td>\n",
       "      <td>0.030902</td>\n",
       "      <td>0.176772</td>\n",
       "      <td>0.469846</td>\n",
       "      <td>(-0.001, 0.2]</td>\n",
       "      <td>1</td>\n",
       "      <td>NaN</td>\n",
       "    </tr>\n",
       "    <tr>\n",
       "      <th>3</th>\n",
       "      <td>0.000000</td>\n",
       "      <td>0.000000</td>\n",
       "      <td>0.000000</td>\n",
       "      <td>0.556028</td>\n",
       "      <td>0.488913</td>\n",
       "      <td>0.010007</td>\n",
       "      <td>(-0.001, 0.2]</td>\n",
       "      <td>1</td>\n",
       "      <td>NaN</td>\n",
       "    </tr>\n",
       "    <tr>\n",
       "      <th>4</th>\n",
       "      <td>0.541241</td>\n",
       "      <td>0.299092</td>\n",
       "      <td>0.207206</td>\n",
       "      <td>0.227554</td>\n",
       "      <td>0.245242</td>\n",
       "      <td>0.246658</td>\n",
       "      <td>(-0.001, 0.2]</td>\n",
       "      <td>1</td>\n",
       "      <td>NaN</td>\n",
       "    </tr>\n",
       "  </tbody>\n",
       "</table>\n",
       "</div>"
      ],
      "text/plain": [
       "   v_trip_seconds_3_trip_seconds_mean  v_trip_miles_3_trip_miles_mean  \\\n",
       "0                            0.000234                        0.000000   \n",
       "1                            0.573501                        0.020905   \n",
       "2                            0.505434                        0.280521   \n",
       "3                            0.000000                        0.000000   \n",
       "4                            0.541241                        0.299092   \n",
       "\n",
       "   v_trip_miles_3_trip_miles_sum  v_tips_3_tips_mean  \\\n",
       "0                       0.000000            0.349736   \n",
       "1                       0.005108            0.356712   \n",
       "2                       0.483249            0.030902   \n",
       "3                       0.000000            0.556028   \n",
       "4                       0.207206            0.227554   \n",
       "\n",
       "   v_trip_total_3_trip_total_mean  v_trip_total_3_trip_total_sum  \\\n",
       "0                        0.161350                       0.338902   \n",
       "1                        0.281335                       0.097672   \n",
       "2                        0.176772                       0.469846   \n",
       "3                        0.488913                       0.010007   \n",
       "4                        0.245242                       0.246658   \n",
       "\n",
       "               p  n   y  \n",
       "0  (-0.001, 0.2]  1 NaN  \n",
       "1  (-0.001, 0.2]  1 NaN  \n",
       "2  (-0.001, 0.2]  1 NaN  \n",
       "3  (-0.001, 0.2]  1 NaN  \n",
       "4  (-0.001, 0.2]  1 NaN  "
      ]
     },
     "execution_count": 262,
     "metadata": {},
     "output_type": "execute_result"
    }
   ],
   "source": [
    "Xv.head()"
   ]
  },
  {
   "cell_type": "code",
   "execution_count": 263,
   "metadata": {
    "ExecuteTime": {
     "end_time": "2020-11-12T03:48:37.462493Z",
     "start_time": "2020-11-12T03:48:37.459569Z"
    }
   },
   "outputs": [],
   "source": [
    "Xv['n'] = 1"
   ]
  },
  {
   "cell_type": "code",
   "execution_count": 264,
   "metadata": {
    "ExecuteTime": {
     "end_time": "2020-11-12T03:48:37.906631Z",
     "start_time": "2020-11-12T03:48:37.904095Z"
    }
   },
   "outputs": [],
   "source": [
    "Xv['y'] = yv.reset_index(drop=True)"
   ]
  },
  {
   "cell_type": "code",
   "execution_count": 265,
   "metadata": {
    "ExecuteTime": {
     "end_time": "2020-11-12T03:48:38.686311Z",
     "start_time": "2020-11-12T03:48:38.486399Z"
    }
   },
   "outputs": [],
   "source": [
    "Xv[['p','n']].groupby('p').sum().to_clipboard()"
   ]
  },
  {
   "cell_type": "code",
   "execution_count": 267,
   "metadata": {
    "ExecuteTime": {
     "end_time": "2020-11-12T03:49:02.617669Z",
     "start_time": "2020-11-12T03:49:02.408592Z"
    }
   },
   "outputs": [],
   "source": [
    "Xv[['p','y']].groupby('p').sum().to_clipboard()"
   ]
  },
  {
   "cell_type": "code",
   "execution_count": 257,
   "metadata": {
    "ExecuteTime": {
     "end_time": "2020-11-12T03:47:52.946161Z",
     "start_time": "2020-11-12T03:47:52.941868Z"
    }
   },
   "outputs": [
    {
     "data": {
      "text/plain": [
       "(1500, 9)"
      ]
     },
     "execution_count": 257,
     "metadata": {},
     "output_type": "execute_result"
    }
   ],
   "source": [
    "Xv.shape"
   ]
  },
  {
   "cell_type": "code",
   "execution_count": 256,
   "metadata": {
    "ExecuteTime": {
     "end_time": "2020-11-12T03:47:38.563715Z",
     "start_time": "2020-11-12T03:47:38.548255Z"
    }
   },
   "outputs": [
    {
     "data": {
      "text/html": [
       "<div>\n",
       "<style scoped>\n",
       "    .dataframe tbody tr th:only-of-type {\n",
       "        vertical-align: middle;\n",
       "    }\n",
       "\n",
       "    .dataframe tbody tr th {\n",
       "        vertical-align: top;\n",
       "    }\n",
       "\n",
       "    .dataframe thead th {\n",
       "        text-align: right;\n",
       "    }\n",
       "</style>\n",
       "<table border=\"1\" class=\"dataframe\">\n",
       "  <thead>\n",
       "    <tr style=\"text-align: right;\">\n",
       "      <th>y</th>\n",
       "      <th>0.0</th>\n",
       "      <th>1.0</th>\n",
       "    </tr>\n",
       "    <tr>\n",
       "      <th>p</th>\n",
       "      <th></th>\n",
       "      <th></th>\n",
       "    </tr>\n",
       "  </thead>\n",
       "  <tbody>\n",
       "    <tr>\n",
       "      <th>(-0.001, 0.2]</th>\n",
       "      <td>29.0</td>\n",
       "      <td>2.0</td>\n",
       "    </tr>\n",
       "    <tr>\n",
       "      <th>(0.4, 0.6]</th>\n",
       "      <td>3.0</td>\n",
       "      <td>NaN</td>\n",
       "    </tr>\n",
       "    <tr>\n",
       "      <th>(0.6, 0.8]</th>\n",
       "      <td>2.0</td>\n",
       "      <td>NaN</td>\n",
       "    </tr>\n",
       "    <tr>\n",
       "      <th>(0.8, 1.0]</th>\n",
       "      <td>3.0</td>\n",
       "      <td>1.0</td>\n",
       "    </tr>\n",
       "  </tbody>\n",
       "</table>\n",
       "</div>"
      ],
      "text/plain": [
       "y               0.0  1.0\n",
       "p                       \n",
       "(-0.001, 0.2]  29.0  2.0\n",
       "(0.4, 0.6]      3.0  NaN\n",
       "(0.6, 0.8]      2.0  NaN\n",
       "(0.8, 1.0]      3.0  1.0"
      ]
     },
     "execution_count": 256,
     "metadata": {},
     "output_type": "execute_result"
    }
   ],
   "source": [
    "Xv.pivot_table(index='p',columns='y',values='n',aggfunc='count')"
   ]
  },
  {
   "cell_type": "code",
   "execution_count": 241,
   "metadata": {
    "ExecuteTime": {
     "end_time": "2020-11-12T03:43:14.879482Z",
     "start_time": "2020-11-12T03:43:14.871331Z"
    }
   },
   "outputs": [
    {
     "data": {
      "text/plain": [
       "count    52874.000000\n",
       "mean     13603.632474\n",
       "std       9731.086884\n",
       "min          3.250000\n",
       "25%       2232.075000\n",
       "50%      15238.945000\n",
       "75%      21111.567500\n",
       "max      37034.340000\n",
       "Name: v_trip_total_3_trip_total_sum, dtype: float64"
      ]
     },
     "execution_count": 241,
     "metadata": {},
     "output_type": "execute_result"
    }
   ],
   "source": [
    "tad['v_trip_total_3_trip_total_sum'].describe()"
   ]
  },
  {
   "cell_type": "code",
   "execution_count": 258,
   "metadata": {
    "ExecuteTime": {
     "end_time": "2020-11-12T03:48:16.963602Z",
     "start_time": "2020-11-12T03:48:16.957784Z"
    }
   },
   "outputs": [
    {
     "data": {
      "text/plain": [
       "(1500,)"
      ]
     },
     "execution_count": 258,
     "metadata": {},
     "output_type": "execute_result"
    }
   ],
   "source": [
    "yv.shape"
   ]
  },
  {
   "cell_type": "code",
   "execution_count": null,
   "metadata": {},
   "outputs": [],
   "source": []
  }
 ],
 "metadata": {
  "kernelspec": {
   "display_name": "env",
   "language": "python",
   "name": "env"
  },
  "language_info": {
   "codemirror_mode": {
    "name": "ipython",
    "version": 3
   },
   "file_extension": ".py",
   "mimetype": "text/x-python",
   "name": "python",
   "nbconvert_exporter": "python",
   "pygments_lexer": "ipython3",
   "version": "3.7.3"
  },
  "toc": {
   "base_numbering": 1,
   "nav_menu": {},
   "number_sections": true,
   "sideBar": true,
   "skip_h1_title": false,
   "title_cell": "Table of Contents",
   "title_sidebar": "Contents",
   "toc_cell": false,
   "toc_position": {},
   "toc_section_display": true,
   "toc_window_display": true
  }
 },
 "nbformat": 4,
 "nbformat_minor": 4
}
