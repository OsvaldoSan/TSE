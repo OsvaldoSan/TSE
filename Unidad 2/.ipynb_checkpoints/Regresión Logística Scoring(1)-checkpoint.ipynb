{
 "cells": [
  {
   "cell_type": "code",
   "execution_count": 1,
   "metadata": {
    "ExecuteTime": {
     "end_time": "2020-11-26T03:36:19.179938Z",
     "start_time": "2020-11-26T03:36:19.175277Z"
    }
   },
   "outputs": [],
   "source": [
    "import numpy as np\n",
    "import pandas as pd\n",
    "\n",
    "from sklearn.model_selection import train_test_split\n",
    "from sklearn.preprocessing import KBinsDiscretizer\n",
    "from sklearn.linear_model import LogisticRegression\n",
    "from sklearn.metrics import accuracy_score,roc_auc_score\n",
    "\n",
    "from functools import reduce\n",
    "\n",
    "from scipy.stats import ks_2samp\n",
    "from scikitplot.metrics import plot_ks_statistic,plot_roc_curve\n",
    "\n",
    "import seaborn as sns\n",
    "import matplotlib.pyplot as plt\n",
    "\n",
    "import warnings\n",
    "warnings.filterwarnings('ignore')\n",
    "\n",
    "pd.set_option('display.max_columns',500)\n",
    "pd.set_option('display.float_format',lambda x:'%.4f'%x)"
   ]
  },
  {
   "cell_type": "markdown",
   "metadata": {},
   "source": [
    "## Cargar datos y categorizar variables"
   ]
  },
  {
   "cell_type": "code",
   "execution_count": 2,
   "metadata": {
    "ExecuteTime": {
     "end_time": "2020-11-26T03:36:19.556300Z",
     "start_time": "2020-11-26T03:36:19.181572Z"
    }
   },
   "outputs": [
    {
     "ename": "FileNotFoundError",
     "evalue": "[Errno 2] No such file or directory: 'data/Cuestionario Diagnóstico 2019 - 1 (Respuestas).xlsx'",
     "output_type": "error",
     "traceback": [
      "\u001b[0;31m--------------------------------------------------------------------------\u001b[0m",
      "\u001b[0;31mFileNotFoundError\u001b[0m                        Traceback (most recent call last)",
      "\u001b[0;32m<ipython-input-2-99468757f59e>\u001b[0m in \u001b[0;36m<module>\u001b[0;34m\u001b[0m\n\u001b[0;32m----> 1\u001b[0;31m \u001b[0mdf\u001b[0m \u001b[0;34m=\u001b[0m \u001b[0mpd\u001b[0m\u001b[0;34m.\u001b[0m\u001b[0mread_excel\u001b[0m\u001b[0;34m(\u001b[0m\u001b[0;34m'data/Cuestionario Diagnóstico 2019 - 1 (Respuestas).xlsx'\u001b[0m\u001b[0;34m)\u001b[0m\u001b[0;34m\u001b[0m\u001b[0;34m\u001b[0m\u001b[0m\n\u001b[0m\u001b[1;32m      2\u001b[0m \u001b[0mprint\u001b[0m\u001b[0;34m(\u001b[0m\u001b[0mdf\u001b[0m\u001b[0;34m.\u001b[0m\u001b[0mshape\u001b[0m\u001b[0;34m)\u001b[0m\u001b[0;34m\u001b[0m\u001b[0;34m\u001b[0m\u001b[0m\n\u001b[1;32m      3\u001b[0m \u001b[0mdf\u001b[0m \u001b[0;34m=\u001b[0m \u001b[0mdf\u001b[0m\u001b[0;34m.\u001b[0m\u001b[0mloc\u001b[0m\u001b[0;34m[\u001b[0m\u001b[0mdf\u001b[0m\u001b[0;34m[\u001b[0m\u001b[0;34m'Edad 🎂'\u001b[0m\u001b[0;34m]\u001b[0m\u001b[0;34m<=\u001b[0m\u001b[0;36m40\u001b[0m\u001b[0;34m]\u001b[0m\u001b[0;34m.\u001b[0m\u001b[0mreset_index\u001b[0m\u001b[0;34m(\u001b[0m\u001b[0mdrop\u001b[0m\u001b[0;34m=\u001b[0m\u001b[0;32mTrue\u001b[0m\u001b[0;34m)\u001b[0m\u001b[0;34m\u001b[0m\u001b[0;34m\u001b[0m\u001b[0m\n\u001b[1;32m      4\u001b[0m \u001b[0mdf\u001b[0m \u001b[0;34m=\u001b[0m \u001b[0mdf\u001b[0m\u001b[0;34m.\u001b[0m\u001b[0mloc\u001b[0m\u001b[0;34m[\u001b[0m\u001b[0mdf\u001b[0m\u001b[0;34m[\u001b[0m\u001b[0;34m'¿Cuántos cuartos para dormir tiene tu vivienda?'\u001b[0m\u001b[0;34m]\u001b[0m\u001b[0;34m>\u001b[0m\u001b[0;36m0\u001b[0m\u001b[0;34m]\u001b[0m\u001b[0;34m.\u001b[0m\u001b[0mreset_index\u001b[0m\u001b[0;34m(\u001b[0m\u001b[0mdrop\u001b[0m\u001b[0;34m=\u001b[0m\u001b[0;32mTrue\u001b[0m\u001b[0;34m)\u001b[0m\u001b[0;34m\u001b[0m\u001b[0;34m\u001b[0m\u001b[0m\n\u001b[1;32m      5\u001b[0m \u001b[0mdf\u001b[0m \u001b[0;34m=\u001b[0m \u001b[0mdf\u001b[0m\u001b[0;34m.\u001b[0m\u001b[0mloc\u001b[0m\u001b[0;34m[\u001b[0m\u001b[0mdf\u001b[0m\u001b[0;34m[\u001b[0m\u001b[0;34m'¿A cuánto aproximadamente ascienden los ingresos de tu hogar(considerando a todos los que aportan)?'\u001b[0m\u001b[0;34m]\u001b[0m\u001b[0;34m<=\u001b[0m\u001b[0;36m100000\u001b[0m\u001b[0;34m]\u001b[0m\u001b[0;34m.\u001b[0m\u001b[0mreset_index\u001b[0m\u001b[0;34m(\u001b[0m\u001b[0mdrop\u001b[0m\u001b[0;34m=\u001b[0m\u001b[0;32mTrue\u001b[0m\u001b[0;34m)\u001b[0m\u001b[0;34m\u001b[0m\u001b[0;34m\u001b[0m\u001b[0m\n",
      "\u001b[0;32m~/Documentos/Projects/env/lib/python3.7/site-packages/pandas/util/_decorators.py\u001b[0m in \u001b[0;36mwrapper\u001b[0;34m(*args, **kwargs)\u001b[0m\n\u001b[1;32m    294\u001b[0m                 )\n\u001b[1;32m    295\u001b[0m                 \u001b[0mwarnings\u001b[0m\u001b[0;34m.\u001b[0m\u001b[0mwarn\u001b[0m\u001b[0;34m(\u001b[0m\u001b[0mmsg\u001b[0m\u001b[0;34m,\u001b[0m \u001b[0mFutureWarning\u001b[0m\u001b[0;34m,\u001b[0m \u001b[0mstacklevel\u001b[0m\u001b[0;34m=\u001b[0m\u001b[0mstacklevel\u001b[0m\u001b[0;34m)\u001b[0m\u001b[0;34m\u001b[0m\u001b[0;34m\u001b[0m\u001b[0m\n\u001b[0;32m--> 296\u001b[0;31m             \u001b[0;32mreturn\u001b[0m \u001b[0mfunc\u001b[0m\u001b[0;34m(\u001b[0m\u001b[0;34m*\u001b[0m\u001b[0margs\u001b[0m\u001b[0;34m,\u001b[0m \u001b[0;34m**\u001b[0m\u001b[0mkwargs\u001b[0m\u001b[0;34m)\u001b[0m\u001b[0;34m\u001b[0m\u001b[0;34m\u001b[0m\u001b[0m\n\u001b[0m\u001b[1;32m    297\u001b[0m \u001b[0;34m\u001b[0m\u001b[0m\n\u001b[1;32m    298\u001b[0m         \u001b[0;32mreturn\u001b[0m \u001b[0mwrapper\u001b[0m\u001b[0;34m\u001b[0m\u001b[0;34m\u001b[0m\u001b[0m\n",
      "\u001b[0;32m~/Documentos/Projects/env/lib/python3.7/site-packages/pandas/io/excel/_base.py\u001b[0m in \u001b[0;36mread_excel\u001b[0;34m(io, sheet_name, header, names, index_col, usecols, squeeze, dtype, engine, converters, true_values, false_values, skiprows, nrows, na_values, keep_default_na, na_filter, verbose, parse_dates, date_parser, thousands, comment, skipfooter, convert_float, mangle_dupe_cols)\u001b[0m\n\u001b[1;32m    302\u001b[0m \u001b[0;34m\u001b[0m\u001b[0m\n\u001b[1;32m    303\u001b[0m     \u001b[0;32mif\u001b[0m \u001b[0;32mnot\u001b[0m \u001b[0misinstance\u001b[0m\u001b[0;34m(\u001b[0m\u001b[0mio\u001b[0m\u001b[0;34m,\u001b[0m \u001b[0mExcelFile\u001b[0m\u001b[0;34m)\u001b[0m\u001b[0;34m:\u001b[0m\u001b[0;34m\u001b[0m\u001b[0;34m\u001b[0m\u001b[0m\n\u001b[0;32m--> 304\u001b[0;31m         \u001b[0mio\u001b[0m \u001b[0;34m=\u001b[0m \u001b[0mExcelFile\u001b[0m\u001b[0;34m(\u001b[0m\u001b[0mio\u001b[0m\u001b[0;34m,\u001b[0m \u001b[0mengine\u001b[0m\u001b[0;34m=\u001b[0m\u001b[0mengine\u001b[0m\u001b[0;34m)\u001b[0m\u001b[0;34m\u001b[0m\u001b[0;34m\u001b[0m\u001b[0m\n\u001b[0m\u001b[1;32m    305\u001b[0m     \u001b[0;32melif\u001b[0m \u001b[0mengine\u001b[0m \u001b[0;32mand\u001b[0m \u001b[0mengine\u001b[0m \u001b[0;34m!=\u001b[0m \u001b[0mio\u001b[0m\u001b[0;34m.\u001b[0m\u001b[0mengine\u001b[0m\u001b[0;34m:\u001b[0m\u001b[0;34m\u001b[0m\u001b[0;34m\u001b[0m\u001b[0m\n\u001b[1;32m    306\u001b[0m         raise ValueError(\n",
      "\u001b[0;32m~/Documentos/Projects/env/lib/python3.7/site-packages/pandas/io/excel/_base.py\u001b[0m in \u001b[0;36m__init__\u001b[0;34m(self, path_or_buffer, engine)\u001b[0m\n\u001b[1;32m    865\u001b[0m         \u001b[0mself\u001b[0m\u001b[0;34m.\u001b[0m\u001b[0m_io\u001b[0m \u001b[0;34m=\u001b[0m \u001b[0mstringify_path\u001b[0m\u001b[0;34m(\u001b[0m\u001b[0mpath_or_buffer\u001b[0m\u001b[0;34m)\u001b[0m\u001b[0;34m\u001b[0m\u001b[0;34m\u001b[0m\u001b[0m\n\u001b[1;32m    866\u001b[0m \u001b[0;34m\u001b[0m\u001b[0m\n\u001b[0;32m--> 867\u001b[0;31m         \u001b[0mself\u001b[0m\u001b[0;34m.\u001b[0m\u001b[0m_reader\u001b[0m \u001b[0;34m=\u001b[0m \u001b[0mself\u001b[0m\u001b[0;34m.\u001b[0m\u001b[0m_engines\u001b[0m\u001b[0;34m[\u001b[0m\u001b[0mengine\u001b[0m\u001b[0;34m]\u001b[0m\u001b[0;34m(\u001b[0m\u001b[0mself\u001b[0m\u001b[0;34m.\u001b[0m\u001b[0m_io\u001b[0m\u001b[0;34m)\u001b[0m\u001b[0;34m\u001b[0m\u001b[0;34m\u001b[0m\u001b[0m\n\u001b[0m\u001b[1;32m    868\u001b[0m \u001b[0;34m\u001b[0m\u001b[0m\n\u001b[1;32m    869\u001b[0m     \u001b[0;32mdef\u001b[0m \u001b[0m__fspath__\u001b[0m\u001b[0;34m(\u001b[0m\u001b[0mself\u001b[0m\u001b[0;34m)\u001b[0m\u001b[0;34m:\u001b[0m\u001b[0;34m\u001b[0m\u001b[0;34m\u001b[0m\u001b[0m\n",
      "\u001b[0;32m~/Documentos/Projects/env/lib/python3.7/site-packages/pandas/io/excel/_xlrd.py\u001b[0m in \u001b[0;36m__init__\u001b[0;34m(self, filepath_or_buffer)\u001b[0m\n\u001b[1;32m     20\u001b[0m         \u001b[0merr_msg\u001b[0m \u001b[0;34m=\u001b[0m \u001b[0;34m\"Install xlrd >= 1.0.0 for Excel support\"\u001b[0m\u001b[0;34m\u001b[0m\u001b[0;34m\u001b[0m\u001b[0m\n\u001b[1;32m     21\u001b[0m         \u001b[0mimport_optional_dependency\u001b[0m\u001b[0;34m(\u001b[0m\u001b[0;34m\"xlrd\"\u001b[0m\u001b[0;34m,\u001b[0m \u001b[0mextra\u001b[0m\u001b[0;34m=\u001b[0m\u001b[0merr_msg\u001b[0m\u001b[0;34m)\u001b[0m\u001b[0;34m\u001b[0m\u001b[0;34m\u001b[0m\u001b[0m\n\u001b[0;32m---> 22\u001b[0;31m         \u001b[0msuper\u001b[0m\u001b[0;34m(\u001b[0m\u001b[0;34m)\u001b[0m\u001b[0;34m.\u001b[0m\u001b[0m__init__\u001b[0m\u001b[0;34m(\u001b[0m\u001b[0mfilepath_or_buffer\u001b[0m\u001b[0;34m)\u001b[0m\u001b[0;34m\u001b[0m\u001b[0;34m\u001b[0m\u001b[0m\n\u001b[0m\u001b[1;32m     23\u001b[0m \u001b[0;34m\u001b[0m\u001b[0m\n\u001b[1;32m     24\u001b[0m     \u001b[0;34m@\u001b[0m\u001b[0mproperty\u001b[0m\u001b[0;34m\u001b[0m\u001b[0;34m\u001b[0m\u001b[0m\n",
      "\u001b[0;32m~/Documentos/Projects/env/lib/python3.7/site-packages/pandas/io/excel/_base.py\u001b[0m in \u001b[0;36m__init__\u001b[0;34m(self, filepath_or_buffer)\u001b[0m\n\u001b[1;32m    351\u001b[0m             \u001b[0mself\u001b[0m\u001b[0;34m.\u001b[0m\u001b[0mbook\u001b[0m \u001b[0;34m=\u001b[0m \u001b[0mself\u001b[0m\u001b[0;34m.\u001b[0m\u001b[0mload_workbook\u001b[0m\u001b[0;34m(\u001b[0m\u001b[0mfilepath_or_buffer\u001b[0m\u001b[0;34m)\u001b[0m\u001b[0;34m\u001b[0m\u001b[0;34m\u001b[0m\u001b[0m\n\u001b[1;32m    352\u001b[0m         \u001b[0;32melif\u001b[0m \u001b[0misinstance\u001b[0m\u001b[0;34m(\u001b[0m\u001b[0mfilepath_or_buffer\u001b[0m\u001b[0;34m,\u001b[0m \u001b[0mstr\u001b[0m\u001b[0;34m)\u001b[0m\u001b[0;34m:\u001b[0m\u001b[0;34m\u001b[0m\u001b[0;34m\u001b[0m\u001b[0m\n\u001b[0;32m--> 353\u001b[0;31m             \u001b[0mself\u001b[0m\u001b[0;34m.\u001b[0m\u001b[0mbook\u001b[0m \u001b[0;34m=\u001b[0m \u001b[0mself\u001b[0m\u001b[0;34m.\u001b[0m\u001b[0mload_workbook\u001b[0m\u001b[0;34m(\u001b[0m\u001b[0mfilepath_or_buffer\u001b[0m\u001b[0;34m)\u001b[0m\u001b[0;34m\u001b[0m\u001b[0;34m\u001b[0m\u001b[0m\n\u001b[0m\u001b[1;32m    354\u001b[0m         \u001b[0;32melif\u001b[0m \u001b[0misinstance\u001b[0m\u001b[0;34m(\u001b[0m\u001b[0mfilepath_or_buffer\u001b[0m\u001b[0;34m,\u001b[0m \u001b[0mbytes\u001b[0m\u001b[0;34m)\u001b[0m\u001b[0;34m:\u001b[0m\u001b[0;34m\u001b[0m\u001b[0;34m\u001b[0m\u001b[0m\n\u001b[1;32m    355\u001b[0m             \u001b[0mself\u001b[0m\u001b[0;34m.\u001b[0m\u001b[0mbook\u001b[0m \u001b[0;34m=\u001b[0m \u001b[0mself\u001b[0m\u001b[0;34m.\u001b[0m\u001b[0mload_workbook\u001b[0m\u001b[0;34m(\u001b[0m\u001b[0mBytesIO\u001b[0m\u001b[0;34m(\u001b[0m\u001b[0mfilepath_or_buffer\u001b[0m\u001b[0;34m)\u001b[0m\u001b[0;34m)\u001b[0m\u001b[0;34m\u001b[0m\u001b[0;34m\u001b[0m\u001b[0m\n",
      "\u001b[0;32m~/Documentos/Projects/env/lib/python3.7/site-packages/pandas/io/excel/_xlrd.py\u001b[0m in \u001b[0;36mload_workbook\u001b[0;34m(self, filepath_or_buffer)\u001b[0m\n\u001b[1;32m     35\u001b[0m             \u001b[0;32mreturn\u001b[0m \u001b[0mopen_workbook\u001b[0m\u001b[0;34m(\u001b[0m\u001b[0mfile_contents\u001b[0m\u001b[0;34m=\u001b[0m\u001b[0mdata\u001b[0m\u001b[0;34m)\u001b[0m\u001b[0;34m\u001b[0m\u001b[0;34m\u001b[0m\u001b[0m\n\u001b[1;32m     36\u001b[0m         \u001b[0;32melse\u001b[0m\u001b[0;34m:\u001b[0m\u001b[0;34m\u001b[0m\u001b[0;34m\u001b[0m\u001b[0m\n\u001b[0;32m---> 37\u001b[0;31m             \u001b[0;32mreturn\u001b[0m \u001b[0mopen_workbook\u001b[0m\u001b[0;34m(\u001b[0m\u001b[0mfilepath_or_buffer\u001b[0m\u001b[0;34m)\u001b[0m\u001b[0;34m\u001b[0m\u001b[0;34m\u001b[0m\u001b[0m\n\u001b[0m\u001b[1;32m     38\u001b[0m \u001b[0;34m\u001b[0m\u001b[0m\n\u001b[1;32m     39\u001b[0m     \u001b[0;34m@\u001b[0m\u001b[0mproperty\u001b[0m\u001b[0;34m\u001b[0m\u001b[0;34m\u001b[0m\u001b[0m\n",
      "\u001b[0;32m~/Documentos/Projects/env/lib/python3.7/site-packages/xlrd/__init__.py\u001b[0m in \u001b[0;36mopen_workbook\u001b[0;34m(filename, logfile, verbosity, use_mmap, file_contents, encoding_override, formatting_info, on_demand, ragged_rows)\u001b[0m\n\u001b[1;32m    109\u001b[0m     \u001b[0;32melse\u001b[0m\u001b[0;34m:\u001b[0m\u001b[0;34m\u001b[0m\u001b[0;34m\u001b[0m\u001b[0m\n\u001b[1;32m    110\u001b[0m         \u001b[0mfilename\u001b[0m \u001b[0;34m=\u001b[0m \u001b[0mos\u001b[0m\u001b[0;34m.\u001b[0m\u001b[0mpath\u001b[0m\u001b[0;34m.\u001b[0m\u001b[0mexpanduser\u001b[0m\u001b[0;34m(\u001b[0m\u001b[0mfilename\u001b[0m\u001b[0;34m)\u001b[0m\u001b[0;34m\u001b[0m\u001b[0;34m\u001b[0m\u001b[0m\n\u001b[0;32m--> 111\u001b[0;31m         \u001b[0;32mwith\u001b[0m \u001b[0mopen\u001b[0m\u001b[0;34m(\u001b[0m\u001b[0mfilename\u001b[0m\u001b[0;34m,\u001b[0m \u001b[0;34m\"rb\"\u001b[0m\u001b[0;34m)\u001b[0m \u001b[0;32mas\u001b[0m \u001b[0mf\u001b[0m\u001b[0;34m:\u001b[0m\u001b[0;34m\u001b[0m\u001b[0;34m\u001b[0m\u001b[0m\n\u001b[0m\u001b[1;32m    112\u001b[0m             \u001b[0mpeek\u001b[0m \u001b[0;34m=\u001b[0m \u001b[0mf\u001b[0m\u001b[0;34m.\u001b[0m\u001b[0mread\u001b[0m\u001b[0;34m(\u001b[0m\u001b[0mpeeksz\u001b[0m\u001b[0;34m)\u001b[0m\u001b[0;34m\u001b[0m\u001b[0;34m\u001b[0m\u001b[0m\n\u001b[1;32m    113\u001b[0m     \u001b[0;32mif\u001b[0m \u001b[0mpeek\u001b[0m \u001b[0;34m==\u001b[0m \u001b[0;34mb\"PK\\x03\\x04\"\u001b[0m\u001b[0;34m:\u001b[0m \u001b[0;31m# a ZIP file\u001b[0m\u001b[0;34m\u001b[0m\u001b[0;34m\u001b[0m\u001b[0m\n",
      "\u001b[0;31mFileNotFoundError\u001b[0m: [Errno 2] No such file or directory: 'data/Cuestionario Diagnóstico 2019 - 1 (Respuestas).xlsx'"
     ]
    }
   ],
   "source": [
    "df = pd.read_excel('data/Cuestionario Diagnóstico 2019 - 1 (Respuestas).xlsx')\n",
    "print(df.shape)\n",
    "df = df.loc[df['Edad 🎂']<=40].reset_index(drop=True)\n",
    "df = df.loc[df['¿Cuántos cuartos para dormir tiene tu vivienda?']>0].reset_index(drop=True)\n",
    "df = df.loc[df['¿A cuánto aproximadamente ascienden los ingresos de tu hogar(considerando a todos los que aportan)?']<=100000].reset_index(drop=True)\n",
    "df = df.loc[df['¿En cuántos años lo terminaste?']<=5].reset_index(drop=True)\n",
    "print(df.shape)"
   ]
  },
  {
   "cell_type": "code",
   "execution_count": null,
   "metadata": {
    "ExecuteTime": {
     "end_time": "2020-11-26T03:36:19.561220Z",
     "start_time": "2020-11-26T03:36:19.557717Z"
    }
   },
   "outputs": [],
   "source": [
    "varc = ['Edad 🎂',\n",
    "        '¿Cuánto tiempo dura (en minutos) el trayecto de tu casa a la facultad? ⏱',\n",
    "        '¿Cuántas personas en total viven en tu hogar? Incluyéndote a ti',\n",
    "        '¿Cuántos son hombres?',\n",
    "        '¿Cuántas son mujeres?',\n",
    "        '¿Cuánto tiempo llevas viviendo ahí? (años)',\n",
    "        '¿Cuántos cuartos para dormir tiene tu vivienda?',\n",
    "        '¿Cuántos automóviles en total tienen las personas que conforman tu hogar?',\n",
    "        '¿Cuántas horas trabajas a la semana?',\n",
    "        '¿Qué promedio obtuviste en el bachillerato?',\n",
    "        '¿En cuántos años lo terminaste?',\n",
    "        '¿A cuánto aproximadamente ascienden los ingresos de tu hogar(considerando a todos los que aportan)?',\n",
    "        '¿Cuántos días a la semana dedicas tiempo para realizar las siguientes actividades? [Deportes ⚽️🏀🏈]',\n",
    "        '¿Cuántos días a la semana dedicas tiempo para realizar las siguientes actividades? [Actividades culturales 🎭🎬🎻]',\n",
    "        '¿Cuántos días a la semana dedicas tiempo para realizar las siguientes actividades? [Actividades sociales (fiestas, reuniones con amigos, familia, etc.)]',\n",
    "        '¿Cuántos días a la semana dedicas tiempo para realizar las siguientes actividades? [Entretenimiento personal (videojuegos, redes sociales, netflix, youtube, etc)]'\n",
    "       ]\n",
    "\n",
    "vard = ['Estado civil','¿Tienes hijos?',\n",
    "        '¿Tienes alguna dificultad para? [👓 Ver]',\n",
    "        '¿Tienes alguna dificultad para? [👂 Escuchar]',\n",
    "        '¿Tienes alguna dificultad para? [💪 Realizar alguna actividad física]',\n",
    "        '¿Dónde vives actualmente?',\n",
    "        '¿En qué delegación o municipio?',\n",
    "        '¿Qué medio de transporte utilizas para llegar a la facultad?',\n",
    "        '¿Cuál de las siguientes opciones describe tu tipo de vivienda?',\n",
    "        '¿Con quién vives? (Puedes seleccionar más de una)',\n",
    "        '¿Cuál es el máximo nivel de estudios de tu papá?',\n",
    "        '¿Cuál es el máximo nivel de estudios de tu mamá?',\n",
    "        'En caso de que tengas smartphone ¿Qué sistema operativo tiene?',\n",
    "        '¿Dónde vivirás mientras cursas tus estudios universitarios?',\n",
    "        '¿De qué forma financiarás tus estudios universitarios?',\n",
    "        '¿En dónde cursaste el bachillerato?','¿Cómo se llama la institución donde cursaste el bachillerato?',\n",
    "        '¿Recibiste alguna beca?','¿Cuál fue el proceso de admisión por el que entraste a esta carrera?',\n",
    "        'Escoger ésta carrera fue...','Al escoger la FES Acatlán ésta fue:',\n",
    "        '¿Cuándo tomaste la decisión de lo que querías estudiar?'   \n",
    "       ]\n",
    "tgt = 'Carrera'"
   ]
  },
  {
   "cell_type": "markdown",
   "metadata": {},
   "source": [
    "## Normalizar variables discretas"
   ]
  },
  {
   "cell_type": "code",
   "execution_count": null,
   "metadata": {
    "ExecuteTime": {
     "end_time": "2020-11-26T03:36:19.694878Z",
     "start_time": "2020-11-26T03:36:19.563199Z"
    }
   },
   "outputs": [],
   "source": [
    "for v in vard:\n",
    "    df[v].fillna('MISSING',inplace=True)"
   ]
  },
  {
   "cell_type": "code",
   "execution_count": null,
   "metadata": {
    "ExecuteTime": {
     "end_time": "2020-11-26T03:36:19.799470Z",
     "start_time": "2020-11-26T03:36:19.696127Z"
    }
   },
   "outputs": [],
   "source": [
    "def normalizar(df,v,umbral=0.05):\n",
    "    aux = df[v].value_counts(True).to_frame()\n",
    "    aux['norm'] = np.where(aux[v]<umbral,'Otros',aux.index)\n",
    "    grupo = aux.loc[aux['norm']=='Otros'][v].sum()\n",
    "    if grupo<umbral:\n",
    "        aux['norm'].replace({'Otros':aux.index[0]},inplace=True)\n",
    "    aux.drop(v,axis=1,inplace=True)\n",
    "    return v,aux.to_dict()['norm']"
   ]
  },
  {
   "cell_type": "code",
   "execution_count": null,
   "metadata": {
    "ExecuteTime": {
     "end_time": "2020-11-26T03:36:20.124670Z",
     "start_time": "2020-11-26T03:36:19.800634Z"
    }
   },
   "outputs": [],
   "source": [
    "l_norm = list(map(lambda v:normalizar(df,v),vard)    )"
   ]
  },
  {
   "cell_type": "code",
   "execution_count": null,
   "metadata": {
    "ExecuteTime": {
     "end_time": "2020-11-26T03:36:20.274044Z",
     "start_time": "2020-11-26T03:36:20.126477Z"
    }
   },
   "outputs": [],
   "source": [
    "for v,d in l_norm:\n",
    "    df[f'n_{v}'] = df[v].replace(d)"
   ]
  },
  {
   "cell_type": "code",
   "execution_count": null,
   "metadata": {
    "ExecuteTime": {
     "end_time": "2020-11-26T03:36:20.333056Z",
     "start_time": "2020-11-26T03:36:20.276214Z"
    }
   },
   "outputs": [],
   "source": [
    "varn = df.filter(like='n_').columns.tolist()"
   ]
  },
  {
   "cell_type": "code",
   "execution_count": null,
   "metadata": {
    "ExecuteTime": {
     "end_time": "2020-11-26T03:36:20.459271Z",
     "start_time": "2020-11-26T03:36:20.334857Z"
    }
   },
   "outputs": [],
   "source": [
    "for v in varn:\n",
    "    print(v,'\\n')\n",
    "    print(df[v].value_counts(True).sort_index())\n",
    "    print('\\n'*2)"
   ]
  },
  {
   "cell_type": "code",
   "execution_count": null,
   "metadata": {
    "ExecuteTime": {
     "end_time": "2020-11-26T03:36:20.550865Z",
     "start_time": "2020-11-26T03:36:20.460560Z"
    }
   },
   "outputs": [],
   "source": [
    "unarias = [v for v in varn if df[v].value_counts().shape[0]==1]"
   ]
  },
  {
   "cell_type": "code",
   "execution_count": null,
   "metadata": {
    "ExecuteTime": {
     "end_time": "2020-11-26T03:36:20.650005Z",
     "start_time": "2020-11-26T03:36:20.552083Z"
    }
   },
   "outputs": [],
   "source": [
    "varn = [v for v in varn if v not in unarias]"
   ]
  },
  {
   "cell_type": "markdown",
   "metadata": {},
   "source": [
    "## Discretización de variables continuas"
   ]
  },
  {
   "cell_type": "code",
   "execution_count": null,
   "metadata": {
    "ExecuteTime": {
     "end_time": "2020-11-26T03:36:21.835590Z",
     "start_time": "2020-11-26T03:36:20.651208Z"
    }
   },
   "outputs": [],
   "source": [
    "l = []\n",
    "for v in varc:\n",
    "    for st in ['uniform','quantile']:\n",
    "        for k in range(2,6):\n",
    "            kb = KBinsDiscretizer(n_bins=k,\n",
    "                                  strategy=st,\n",
    "                                  encode='ordinal')\n",
    "            \n",
    "            miss, nomiss = df.loc[df[v].isnull()][[v]],df.loc[~df[v].isnull()][[v]]\n",
    "            kb.fit(nomiss[[v]])\n",
    "            nombre = f'd_{v}_{k}_{st[:3]}' \n",
    "            miss[nombre] = miss[v].fillna('MISSING')\n",
    "            nomiss[nombre] = pd.cut(nomiss[v],bins=kb.bin_edges_[0],include_lowest=True).astype(str)\n",
    "            l.append(pd.concat([nomiss[[nombre]],miss[[nombre]]]))"
   ]
  },
  {
   "cell_type": "code",
   "execution_count": null,
   "metadata": {
    "ExecuteTime": {
     "end_time": "2020-11-26T03:36:22.033582Z",
     "start_time": "2020-11-26T03:36:21.836659Z"
    }
   },
   "outputs": [],
   "source": [
    "dfd = reduce(lambda x,y:pd.merge(x,y,left_index=True,right_index=True,how='outer'),l)"
   ]
  },
  {
   "cell_type": "code",
   "execution_count": null,
   "metadata": {
    "ExecuteTime": {
     "end_time": "2020-11-26T03:36:22.067575Z",
     "start_time": "2020-11-26T03:36:22.034706Z"
    }
   },
   "outputs": [],
   "source": [
    "dfd.shape,df.shape"
   ]
  },
  {
   "cell_type": "markdown",
   "metadata": {
    "ExecuteTime": {
     "end_time": "2020-11-26T02:52:51.121557Z",
     "start_time": "2020-11-26T02:52:50.924182Z"
    }
   },
   "source": [
    "## Juntar discretas, continuas y target"
   ]
  },
  {
   "cell_type": "code",
   "execution_count": null,
   "metadata": {
    "ExecuteTime": {
     "end_time": "2020-11-26T03:36:22.167943Z",
     "start_time": "2020-11-26T03:36:22.069228Z"
    }
   },
   "outputs": [],
   "source": [
    "df = df[[tgt]+varn].merge(dfd,left_index=True,right_index=True,how='outer')"
   ]
  },
  {
   "cell_type": "code",
   "execution_count": null,
   "metadata": {
    "ExecuteTime": {
     "end_time": "2020-11-26T03:36:22.265001Z",
     "start_time": "2020-11-26T03:36:22.169183Z"
    }
   },
   "outputs": [],
   "source": [
    "df[tgt] = (df[tgt] =='Actuaria').astype(int)"
   ]
  },
  {
   "cell_type": "code",
   "execution_count": null,
   "metadata": {
    "ExecuteTime": {
     "end_time": "2020-11-26T03:36:22.366385Z",
     "start_time": "2020-11-26T03:36:22.266225Z"
    }
   },
   "outputs": [],
   "source": [
    "df[tgt].value_counts(1)"
   ]
  },
  {
   "cell_type": "markdown",
   "metadata": {},
   "source": [
    "## Calcular IV"
   ]
  },
  {
   "cell_type": "code",
   "execution_count": null,
   "metadata": {
    "ExecuteTime": {
     "end_time": "2020-11-26T03:36:22.473104Z",
     "start_time": "2020-11-26T03:36:22.368321Z"
    }
   },
   "outputs": [],
   "source": [
    "v = 'n_¿Cuál de las siguientes opciones describe tu tipo de vivienda?'"
   ]
  },
  {
   "cell_type": "code",
   "execution_count": null,
   "metadata": {
    "ExecuteTime": {
     "end_time": "2020-11-26T03:36:22.571900Z",
     "start_time": "2020-11-26T03:36:22.474497Z"
    }
   },
   "outputs": [],
   "source": [
    "def iv(df,v,tgt):\n",
    "    aux = df[[v,tgt]].assign(n=1)\n",
    "    aux = aux.pivot_table(index=v,\n",
    "                    columns=tgt,\n",
    "                    values='n',\n",
    "                    fill_value=0,\n",
    "                    aggfunc='sum')\n",
    "    for i in range(2):\n",
    "        aux[i]/=aux[i].sum()\n",
    "    aux['woe'] = np.log(aux[0]/aux[1])\n",
    "    aux['iv'] = (aux[0]-aux[1])*aux['woe']\n",
    "    return v,aux['iv'].sum()\n",
    "    "
   ]
  },
  {
   "cell_type": "code",
   "execution_count": null,
   "metadata": {
    "ExecuteTime": {
     "end_time": "2020-11-26T03:36:22.806663Z",
     "start_time": "2020-11-26T03:36:22.573287Z"
    }
   },
   "outputs": [],
   "source": [
    "print(\"\"\"<0.1 Débil\n",
    "0.1-0.3 Media\n",
    "0.3-0.5 Fuerte\n",
    ">0.5 Muy fuerte\n",
    "\"\"\")"
   ]
  },
  {
   "cell_type": "code",
   "execution_count": null,
   "metadata": {
    "ExecuteTime": {
     "end_time": "2020-11-26T03:36:22.904873Z",
     "start_time": "2020-11-26T03:36:22.807926Z"
    }
   },
   "outputs": [],
   "source": [
    "var = [v for v in df.columns if v != tgt]"
   ]
  },
  {
   "cell_type": "code",
   "execution_count": null,
   "metadata": {
    "ExecuteTime": {
     "end_time": "2020-11-26T03:36:24.416410Z",
     "start_time": "2020-11-26T03:36:22.906005Z"
    }
   },
   "outputs": [],
   "source": [
    "ivdf = pd.DataFrame(map(lambda v:iv(df,v,tgt),var),columns=['variable','iv'])\n",
    "ivdf = ivdf.sort_values(by='iv',ascending=False).reset_index(drop=True)\n",
    "ivdf['iv'].replace({np.inf:np.nan,-np.inf:np.nan},inplace=True)\n",
    "ivdf = ivdf.dropna().reset_index(drop=True)\n",
    "ivdf['raiz'] = ivdf['variable'].map(lambda x:x.split('_')[1] if x[:2]=='d_' else x)\n",
    "ivdf = ivdf.sort_values(by=['raiz','iv'],ascending=[1,0]).reset_index(drop=True)\n",
    "ivdf['best'] = ivdf.groupby('raiz').cumcount()+1\n",
    "ivdf = ivdf.loc[ivdf['best']==1].drop('best',axis=1).sort_values(by='iv',ascending=False).reset_index(drop=True)"
   ]
  },
  {
   "cell_type": "code",
   "execution_count": null,
   "metadata": {
    "ExecuteTime": {
     "end_time": "2020-11-26T03:36:24.421531Z",
     "start_time": "2020-11-26T03:36:24.418465Z"
    }
   },
   "outputs": [],
   "source": [
    "best = ivdf.loc[ivdf['iv']>=0.1]['variable'].tolist()"
   ]
  },
  {
   "cell_type": "code",
   "execution_count": null,
   "metadata": {
    "ExecuteTime": {
     "end_time": "2020-11-26T03:36:24.591564Z",
     "start_time": "2020-11-26T03:36:24.423574Z"
    }
   },
   "outputs": [],
   "source": [
    "best"
   ]
  },
  {
   "cell_type": "markdown",
   "metadata": {
    "ExecuteTime": {
     "end_time": "2020-11-26T03:21:38.925836Z",
     "start_time": "2020-11-26T03:21:38.922761Z"
    }
   },
   "source": [
    "## Transformación WoE"
   ]
  },
  {
   "cell_type": "code",
   "execution_count": null,
   "metadata": {
    "ExecuteTime": {
     "end_time": "2020-11-26T03:36:24.702145Z",
     "start_time": "2020-11-26T03:36:24.592933Z"
    }
   },
   "outputs": [],
   "source": [
    "X = df[best].copy()\n",
    "y = df[[tgt]].copy()"
   ]
  },
  {
   "cell_type": "code",
   "execution_count": null,
   "metadata": {
    "ExecuteTime": {
     "end_time": "2020-11-26T03:36:24.810470Z",
     "start_time": "2020-11-26T03:36:24.703933Z"
    }
   },
   "outputs": [],
   "source": [
    "Xt,Xv,yt,yv = train_test_split(X,y,train_size=0.7)"
   ]
  },
  {
   "cell_type": "code",
   "execution_count": null,
   "metadata": {
    "ExecuteTime": {
     "end_time": "2020-11-26T03:36:24.908802Z",
     "start_time": "2020-11-26T03:36:24.811621Z"
    }
   },
   "outputs": [],
   "source": [
    "Xt[tgt] = yt"
   ]
  },
  {
   "cell_type": "code",
   "execution_count": null,
   "metadata": {
    "ExecuteTime": {
     "end_time": "2020-11-26T03:36:25.238913Z",
     "start_time": "2020-11-26T03:36:24.909958Z"
    },
    "code_folding": []
   },
   "outputs": [],
   "source": [
    "def woe(df,v,tgt):\n",
    "    aux = df[[v,tgt]].assign(n=1)\n",
    "    aux = aux.pivot_table(index=v,\n",
    "                    columns=tgt,\n",
    "                    values='n',\n",
    "                    fill_value=0,\n",
    "                    aggfunc='sum')\n",
    "    for i in range(2):\n",
    "        aux[i]/=aux[i].sum()\n",
    "    aux['woe'] = np.log(aux[0]/aux[1])\n",
    "    aux.drop(range(2),axis=1,inplace=True)\n",
    "    return v,aux.to_dict()['woe']\n",
    "    "
   ]
  },
  {
   "cell_type": "code",
   "execution_count": null,
   "metadata": {
    "ExecuteTime": {
     "end_time": "2020-11-26T03:36:25.575485Z",
     "start_time": "2020-11-26T03:36:25.240107Z"
    }
   },
   "outputs": [],
   "source": [
    "mapa_woe = list(map(lambda v:woe(Xt,v,tgt),best))"
   ]
  },
  {
   "cell_type": "code",
   "execution_count": null,
   "metadata": {
    "ExecuteTime": {
     "end_time": "2020-11-26T03:36:25.638195Z",
     "start_time": "2020-11-26T03:36:25.576624Z"
    }
   },
   "outputs": [],
   "source": [
    "for v,d in mapa_woe:\n",
    "    Xt[f'w_{v}'] = Xt[v].replace(d)\n",
    "    Xv[f'w_{v}'] = Xv[v].replace(d)"
   ]
  },
  {
   "cell_type": "code",
   "execution_count": null,
   "metadata": {
    "ExecuteTime": {
     "end_time": "2020-11-26T03:36:25.733433Z",
     "start_time": "2020-11-26T03:36:25.640131Z"
    }
   },
   "outputs": [],
   "source": [
    "varw = [v for v in Xt.columns if v[:2]=='w_']"
   ]
  },
  {
   "cell_type": "code",
   "execution_count": null,
   "metadata": {
    "ExecuteTime": {
     "end_time": "2020-11-26T03:36:26.045749Z",
     "start_time": "2020-11-26T03:36:25.734651Z"
    }
   },
   "outputs": [],
   "source": [
    "Xt = Xt[varw]\n",
    "Xv = Xv[varw]"
   ]
  },
  {
   "cell_type": "code",
   "execution_count": null,
   "metadata": {
    "ExecuteTime": {
     "end_time": "2020-11-26T03:36:26.576230Z",
     "start_time": "2020-11-26T03:36:26.046816Z"
    }
   },
   "outputs": [],
   "source": [
    "aux = pd.concat([Xt,Xv])\n",
    "aux = aux.describe().T[['min']]\n",
    "aux['min'] = np.abs(aux['min'])"
   ]
  },
  {
   "cell_type": "code",
   "execution_count": null,
   "metadata": {
    "ExecuteTime": {
     "end_time": "2020-11-26T03:36:26.762220Z",
     "start_time": "2020-11-26T03:36:26.577398Z"
    }
   },
   "outputs": [],
   "source": [
    "quitar = aux.loc[np.isinf(aux['min'])].index.tolist()"
   ]
  },
  {
   "cell_type": "code",
   "execution_count": null,
   "metadata": {
    "ExecuteTime": {
     "end_time": "2020-11-26T03:36:26.985054Z",
     "start_time": "2020-11-26T03:36:26.763242Z"
    }
   },
   "outputs": [],
   "source": [
    "varw = [v for v in varw if v not in quitar]"
   ]
  },
  {
   "cell_type": "code",
   "execution_count": null,
   "metadata": {
    "ExecuteTime": {
     "end_time": "2020-11-26T03:36:27.085748Z",
     "start_time": "2020-11-26T03:36:26.986376Z"
    }
   },
   "outputs": [],
   "source": [
    "Xt = Xt[varw]\n",
    "Xv = Xv[varw]"
   ]
  },
  {
   "cell_type": "markdown",
   "metadata": {},
   "source": [
    "## Entrenamiento del modelo"
   ]
  },
  {
   "cell_type": "code",
   "execution_count": null,
   "metadata": {
    "ExecuteTime": {
     "end_time": "2020-11-26T03:36:27.182532Z",
     "start_time": "2020-11-26T03:36:27.086886Z"
    }
   },
   "outputs": [],
   "source": [
    "modelo = LogisticRegression()"
   ]
  },
  {
   "cell_type": "code",
   "execution_count": null,
   "metadata": {
    "ExecuteTime": {
     "end_time": "2020-11-26T03:36:27.311790Z",
     "start_time": "2020-11-26T03:36:27.183601Z"
    }
   },
   "outputs": [],
   "source": [
    "Xt.describe()"
   ]
  },
  {
   "cell_type": "code",
   "execution_count": null,
   "metadata": {
    "ExecuteTime": {
     "end_time": "2020-11-26T03:36:27.397995Z",
     "start_time": "2020-11-26T03:36:27.312993Z"
    }
   },
   "outputs": [],
   "source": [
    "modelo.fit(Xt,yt)"
   ]
  },
  {
   "cell_type": "code",
   "execution_count": null,
   "metadata": {
    "ExecuteTime": {
     "end_time": "2020-11-26T03:36:27.507414Z",
     "start_time": "2020-11-26T03:36:27.399891Z"
    }
   },
   "outputs": [],
   "source": [
    "print(roc_auc_score(y_score=modelo.predict_proba(Xt)[:,1],y_true=yt))\n",
    "print(roc_auc_score(y_score=modelo.predict_proba(Xv)[:,1],y_true=yv))"
   ]
  },
  {
   "cell_type": "markdown",
   "metadata": {},
   "source": [
    "## Transformación Scoring"
   ]
  },
  {
   "cell_type": "code",
   "execution_count": null,
   "metadata": {
    "ExecuteTime": {
     "end_time": "2020-11-26T03:37:51.454139Z",
     "start_time": "2020-11-26T03:37:51.451914Z"
    }
   },
   "outputs": [],
   "source": [
    "betas = modelo.coef_[0].tolist()\n",
    "alpha = modelo.intercept_[0]"
   ]
  },
  {
   "cell_type": "code",
   "execution_count": null,
   "metadata": {
    "ExecuteTime": {
     "end_time": "2020-11-26T03:37:53.588240Z",
     "start_time": "2020-11-26T03:37:53.583756Z"
    }
   },
   "outputs": [],
   "source": [
    "alpha"
   ]
  },
  {
   "cell_type": "markdown",
   "metadata": {},
   "source": [
    "score_base(score al cual vamos a alinear los momios base), odds_base (momios_base),pdo (points to double the odd's)"
   ]
  },
  {
   "cell_type": "code",
   "execution_count": null,
   "metadata": {
    "ExecuteTime": {
     "end_time": "2020-11-26T03:51:43.678736Z",
     "start_time": "2020-11-26T03:51:43.676832Z"
    }
   },
   "outputs": [],
   "source": [
    "score_base = 137\n",
    "odd_base = 2\n",
    "pdo = 20"
   ]
  },
  {
   "cell_type": "markdown",
   "metadata": {},
   "source": [
    "$factor = pdo/\\log(2)\\newline\n",
    "offset = score\\_base-factor\\log(odds\\_base)\n",
    "\\newline\n",
    "pts = \\left(-WoE\\cdot\\beta+\\alpha/n\\right)\\cdot factor+offset/n\n",
    "$"
   ]
  },
  {
   "cell_type": "code",
   "execution_count": null,
   "metadata": {
    "ExecuteTime": {
     "end_time": "2020-11-26T03:51:44.289927Z",
     "start_time": "2020-11-26T03:51:44.287449Z"
    }
   },
   "outputs": [],
   "source": [
    "factor = pdo/np.log(2)\n",
    "offset = score_base-factor*np.log(odd_base)"
   ]
  },
  {
   "cell_type": "code",
   "execution_count": null,
   "metadata": {
    "ExecuteTime": {
     "end_time": "2020-11-26T03:51:44.547303Z",
     "start_time": "2020-11-26T03:51:44.544578Z"
    }
   },
   "outputs": [],
   "source": [
    "Xt[tgt] = yt\n",
    "Xv[tgt] = yv"
   ]
  },
  {
   "cell_type": "code",
   "execution_count": null,
   "metadata": {
    "ExecuteTime": {
     "end_time": "2020-11-26T03:51:44.831391Z",
     "start_time": "2020-11-26T03:51:44.828780Z"
    }
   },
   "outputs": [],
   "source": [
    "X = pd.concat([Xt,Xv],ignore_index=True)"
   ]
  },
  {
   "cell_type": "code",
   "execution_count": null,
   "metadata": {
    "ExecuteTime": {
     "end_time": "2020-11-26T03:51:45.100402Z",
     "start_time": "2020-11-26T03:51:45.070473Z"
    }
   },
   "outputs": [],
   "source": [
    "n = len(varw)"
   ]
  },
  {
   "cell_type": "code",
   "execution_count": null,
   "metadata": {
    "ExecuteTime": {
     "end_time": "2020-11-26T03:51:45.335237Z",
     "start_time": "2020-11-26T03:51:45.320399Z"
    }
   },
   "outputs": [],
   "source": [
    "for b,v in zip(betas,varw):\n",
    "    X[f'pts_{v}'] = np.ceil((-X[v]*b+alpha/n)*factor+offset/n).astype(int)"
   ]
  },
  {
   "cell_type": "code",
   "execution_count": null,
   "metadata": {
    "ExecuteTime": {
     "end_time": "2020-11-26T03:51:45.875456Z",
     "start_time": "2020-11-26T03:51:45.866337Z"
    }
   },
   "outputs": [],
   "source": [
    "X['score'] = X.filter(like='pts_').sum(axis=1)"
   ]
  },
  {
   "cell_type": "code",
   "execution_count": null,
   "metadata": {
    "ExecuteTime": {
     "end_time": "2020-11-26T03:51:46.386773Z",
     "start_time": "2020-11-26T03:51:46.279416Z"
    }
   },
   "outputs": [],
   "source": [
    "X.score.hist()"
   ]
  },
  {
   "cell_type": "code",
   "execution_count": null,
   "metadata": {
    "ExecuteTime": {
     "end_time": "2020-11-26T03:52:47.142497Z",
     "start_time": "2020-11-26T03:52:47.136080Z"
    }
   },
   "outputs": [],
   "source": [
    "X['r_score'] = pd.cut(X['score'],bins=range(0,360+36,36)).astype(str)"
   ]
  },
  {
   "cell_type": "code",
   "execution_count": 166,
   "metadata": {
    "ExecuteTime": {
     "end_time": "2020-11-26T03:53:47.920189Z",
     "start_time": "2020-11-26T03:53:47.857634Z"
    }
   },
   "outputs": [],
   "source": [
    "X.pivot_table(index='r_score',columns=tgt,values='score',aggfunc='count',fill_value=0).to_clipboard()"
   ]
  },
  {
   "cell_type": "code",
   "execution_count": 181,
   "metadata": {
    "ExecuteTime": {
     "end_time": "2020-11-26T04:06:40.157580Z",
     "start_time": "2020-11-26T04:06:40.152823Z"
    }
   },
   "outputs": [
    {
     "data": {
      "text/plain": [
       "['w_d_¿Qué promedio obtuviste en el bachillerato?_4_qua',\n",
       " 'w_n_Escoger ésta carrera fue...',\n",
       " 'w_n_¿Cuál fue el proceso de admisión por el que entraste a esta carrera?',\n",
       " 'w_n_¿Cuándo tomaste la decisión de lo que querías estudiar?',\n",
       " 'w_n_¿En dónde cursaste el bachillerato?',\n",
       " 'w_d_¿Cuántos días a la semana dedicas tiempo para realizar las siguientes actividades? [Entretenimiento personal (videojuegos, redes sociales, netflix, youtube, etc)]_5_qua',\n",
       " 'w_n_¿Recibiste alguna beca?',\n",
       " 'w_n_Al escoger la FES Acatlán ésta fue:',\n",
       " 'w_n_¿Cómo se llama la institución donde cursaste el bachillerato?',\n",
       " 'w_d_¿Cuántas personas en total viven en tu hogar? Incluyéndote a ti_5_qua',\n",
       " 'w_d_¿Cuánto tiempo llevas viviendo ahí? (años)_5_qua',\n",
       " 'w_n_¿Cuál es el máximo nivel de estudios de tu mamá?',\n",
       " 'w_n_¿Cuál es el máximo nivel de estudios de tu papá?']"
      ]
     },
     "execution_count": 181,
     "metadata": {},
     "output_type": "execute_result"
    }
   ],
   "source": [
    "varw"
   ]
  },
  {
   "cell_type": "code",
   "execution_count": 193,
   "metadata": {
    "ExecuteTime": {
     "end_time": "2020-11-26T04:08:51.562474Z",
     "start_time": "2020-11-26T04:08:51.521191Z"
    }
   },
   "outputs": [],
   "source": [
    "l = []\n",
    "for v,d in mapa_woe:\n",
    "    if 'w_%s'%v in varw:\n",
    "        d = {y:x for x,y in d.items()}\n",
    "        aux = X[['w_%s'%v,'pts_w_%s'%v]].copy()\n",
    "        aux.drop_duplicates(inplace=True)\n",
    "        aux['w_%s'%v].replace(d,inplace=True)\n",
    "        aux.rename(columns={'w_%s'%v:'atributo','pts_w_%s'%v:'puntos'},inplace=True)\n",
    "        aux['característica'] = v\n",
    "        l.append(aux)"
   ]
  },
  {
   "cell_type": "code",
   "execution_count": 195,
   "metadata": {
    "ExecuteTime": {
     "end_time": "2020-11-26T04:09:02.638172Z",
     "start_time": "2020-11-26T04:09:02.629174Z"
    }
   },
   "outputs": [],
   "source": [
    "scorecard = pd.concat(l,ignore_index=True)"
   ]
  },
  {
   "cell_type": "code",
   "execution_count": 201,
   "metadata": {
    "ExecuteTime": {
     "end_time": "2020-11-26T04:10:56.183900Z",
     "start_time": "2020-11-26T04:10:55.200700Z"
    }
   },
   "outputs": [],
   "source": [
    "with pd.ExcelWriter('scorecard.xlsx') as xl:\n",
    "    scorecard.groupby(['característica','atributo']).max().to_excel(xl,sheet_name='scorecard')\n",
    "    xl.close()"
   ]
  },
  {
   "cell_type": "code",
   "execution_count": null,
   "metadata": {},
   "outputs": [],
   "source": []
  }
 ],
 "metadata": {
  "kernelspec": {
   "display_name": "env",
   "language": "python",
   "name": "env"
  },
  "language_info": {
   "codemirror_mode": {
    "name": "ipython",
    "version": 3
   },
   "file_extension": ".py",
   "mimetype": "text/x-python",
   "name": "python",
   "nbconvert_exporter": "python",
   "pygments_lexer": "ipython3",
   "version": "3.7.3"
  },
  "toc": {
   "base_numbering": 1,
   "nav_menu": {},
   "number_sections": true,
   "sideBar": true,
   "skip_h1_title": false,
   "title_cell": "Table of Contents",
   "title_sidebar": "Contents",
   "toc_cell": false,
   "toc_position": {},
   "toc_section_display": true,
   "toc_window_display": false
  }
 },
 "nbformat": 4,
 "nbformat_minor": 4
}
