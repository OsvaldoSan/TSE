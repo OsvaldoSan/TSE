{
 "cells": [
  {
   "cell_type": "code",
   "execution_count": 114,
   "metadata": {
    "ExecuteTime": {
     "end_time": "2020-10-15T02:56:49.298219Z",
     "start_time": "2020-10-15T02:56:49.295577Z"
    }
   },
   "outputs": [],
   "source": [
    "import numpy as np\n",
    "import pandas as pd"
   ]
  },
  {
   "cell_type": "markdown",
   "metadata": {},
   "source": [
    "#### Generación de $S_n=\\lbrace(x^{(i)},y^{(i)}),i=1,\\ldots,n\\rbrace$"
   ]
  },
  {
   "cell_type": "code",
   "execution_count": 115,
   "metadata": {
    "ExecuteTime": {
     "end_time": "2020-10-15T02:56:49.442734Z",
     "start_time": "2020-10-15T02:56:49.299997Z"
    }
   },
   "outputs": [],
   "source": [
    "#Caso AND\n",
    "n = 200\n",
    "rs = np.random.RandomState(seed=1751)\n",
    "x1 = (rs.uniform(size=n)>=0.5).astype(int)\n",
    "x2 = (rs.uniform(size=n)>=0.5).astype(int)"
   ]
  },
  {
   "cell_type": "code",
   "execution_count": 116,
   "metadata": {
    "ExecuteTime": {
     "end_time": "2020-10-15T02:56:49.549672Z",
     "start_time": "2020-10-15T02:56:49.445588Z"
    }
   },
   "outputs": [
    {
     "data": {
      "text/html": [
       "<div>\n",
       "<style scoped>\n",
       "    .dataframe tbody tr th:only-of-type {\n",
       "        vertical-align: middle;\n",
       "    }\n",
       "\n",
       "    .dataframe tbody tr th {\n",
       "        vertical-align: top;\n",
       "    }\n",
       "\n",
       "    .dataframe thead th {\n",
       "        text-align: right;\n",
       "    }\n",
       "</style>\n",
       "<table border=\"1\" class=\"dataframe\">\n",
       "  <thead>\n",
       "    <tr style=\"text-align: right;\">\n",
       "      <th></th>\n",
       "      <th>x1</th>\n",
       "      <th>x2</th>\n",
       "      <th>y</th>\n",
       "    </tr>\n",
       "  </thead>\n",
       "  <tbody>\n",
       "    <tr>\n",
       "      <th>0</th>\n",
       "      <td>0</td>\n",
       "      <td>0</td>\n",
       "      <td>0</td>\n",
       "    </tr>\n",
       "    <tr>\n",
       "      <th>1</th>\n",
       "      <td>0</td>\n",
       "      <td>0</td>\n",
       "      <td>0</td>\n",
       "    </tr>\n",
       "    <tr>\n",
       "      <th>2</th>\n",
       "      <td>0</td>\n",
       "      <td>0</td>\n",
       "      <td>0</td>\n",
       "    </tr>\n",
       "    <tr>\n",
       "      <th>3</th>\n",
       "      <td>0</td>\n",
       "      <td>1</td>\n",
       "      <td>1</td>\n",
       "    </tr>\n",
       "    <tr>\n",
       "      <th>4</th>\n",
       "      <td>0</td>\n",
       "      <td>0</td>\n",
       "      <td>0</td>\n",
       "    </tr>\n",
       "  </tbody>\n",
       "</table>\n",
       "</div>"
      ],
      "text/plain": [
       "   x1  x2  y\n",
       "0   0   0  0\n",
       "1   0   0  0\n",
       "2   0   0  0\n",
       "3   0   1  1\n",
       "4   0   0  0"
      ]
     },
     "execution_count": 116,
     "metadata": {},
     "output_type": "execute_result"
    }
   ],
   "source": [
    "Sn = pd.DataFrame({'x1':x1,'x2':x2})\n",
    "Sn['y'] = np.logical_or(Sn['x1'],Sn['x2']).astype(int)\n",
    "Sn.head()"
   ]
  },
  {
   "cell_type": "code",
   "execution_count": 117,
   "metadata": {
    "ExecuteTime": {
     "end_time": "2020-10-15T02:56:49.609437Z",
     "start_time": "2020-10-15T02:56:49.551819Z"
    }
   },
   "outputs": [],
   "source": [
    "Sn = Sn.values"
   ]
  },
  {
   "cell_type": "markdown",
   "metadata": {},
   "source": [
    "#### Perceptrón"
   ]
  },
  {
   "cell_type": "code",
   "execution_count": 118,
   "metadata": {
    "ExecuteTime": {
     "end_time": "2020-10-15T02:56:59.350421Z",
     "start_time": "2020-10-15T02:56:49.612082Z"
    }
   },
   "outputs": [],
   "source": [
    "T = 10000\n",
    "theta = np.array([0,0])\n",
    "for t in range(T):\n",
    "    for i  in range(n):\n",
    "        if Sn[i][-1]*(np.dot(theta,Sn[i][:2]))<=0:\n",
    "            theta += Sn[i][-1]*Sn[i][:2]"
   ]
  },
  {
   "cell_type": "markdown",
   "metadata": {},
   "source": [
    "##### $\\theta = [\\theta_1,\\theta_2]^T$  ;  $\\hat{\\theta} = [1,1]^T$"
   ]
  },
  {
   "cell_type": "code",
   "execution_count": 119,
   "metadata": {
    "ExecuteTime": {
     "end_time": "2020-10-15T02:56:59.356744Z",
     "start_time": "2020-10-15T02:56:59.352323Z"
    }
   },
   "outputs": [
    {
     "data": {
      "text/plain": [
       "array([1, 1])"
      ]
     },
     "execution_count": 119,
     "metadata": {},
     "output_type": "execute_result"
    }
   ],
   "source": [
    "theta"
   ]
  },
  {
   "cell_type": "markdown",
   "metadata": {},
   "source": [
    "#### Implementación en Scikit-Learn"
   ]
  },
  {
   "cell_type": "code",
   "execution_count": 120,
   "metadata": {
    "ExecuteTime": {
     "end_time": "2020-10-15T02:56:59.462083Z",
     "start_time": "2020-10-15T02:56:59.360589Z"
    }
   },
   "outputs": [],
   "source": [
    "from sklearn.linear_model import Perceptron\n",
    "from sklearn.metrics import accuracy_score\n",
    "from sklearn.model_selection import train_test_split\n",
    "from sklearn.metrics import confusion_matrix"
   ]
  },
  {
   "cell_type": "code",
   "execution_count": 121,
   "metadata": {
    "ExecuteTime": {
     "end_time": "2020-10-15T02:56:59.529305Z",
     "start_time": "2020-10-15T02:56:59.464749Z"
    }
   },
   "outputs": [],
   "source": [
    "clasif = Perceptron(max_iter=T,fit_intercept=False)"
   ]
  },
  {
   "cell_type": "code",
   "execution_count": 122,
   "metadata": {
    "ExecuteTime": {
     "end_time": "2020-10-15T02:56:59.597897Z",
     "start_time": "2020-10-15T02:56:59.530963Z"
    }
   },
   "outputs": [],
   "source": [
    "Sn = pd.DataFrame({'x1':x1,'x2':x2})\n",
    "Sn['y'] = np.logical_or(Sn['x1'],Sn['x2']).astype(int)"
   ]
  },
  {
   "cell_type": "code",
   "execution_count": 123,
   "metadata": {
    "ExecuteTime": {
     "end_time": "2020-10-15T02:56:59.671736Z",
     "start_time": "2020-10-15T02:56:59.599415Z"
    }
   },
   "outputs": [
    {
     "data": {
      "text/plain": [
       "Perceptron(fit_intercept=False, max_iter=10000)"
      ]
     },
     "execution_count": 123,
     "metadata": {},
     "output_type": "execute_result"
    }
   ],
   "source": [
    "X = Sn[['x1','x2']]\n",
    "y = Sn['y']\n",
    "\n",
    "Xt, Xv, yt, yv = train_test_split(X,y,train_size=0.7)\n",
    "\n",
    "clasif.fit(Xt,yt)"
   ]
  },
  {
   "cell_type": "markdown",
   "metadata": {},
   "source": [
    "##### $\\vec{\\theta}$"
   ]
  },
  {
   "cell_type": "code",
   "execution_count": 124,
   "metadata": {
    "ExecuteTime": {
     "end_time": "2020-10-15T02:56:59.732970Z",
     "start_time": "2020-10-15T02:56:59.673604Z"
    }
   },
   "outputs": [
    {
     "data": {
      "text/plain": [
       "array([[1., 1.]])"
      ]
     },
     "execution_count": 124,
     "metadata": {},
     "output_type": "execute_result"
    }
   ],
   "source": [
    "clasif.coef_"
   ]
  },
  {
   "cell_type": "markdown",
   "metadata": {},
   "source": [
    "##### $\\theta_0$"
   ]
  },
  {
   "cell_type": "code",
   "execution_count": 125,
   "metadata": {
    "ExecuteTime": {
     "end_time": "2020-10-15T02:56:59.805084Z",
     "start_time": "2020-10-15T02:56:59.735821Z"
    }
   },
   "outputs": [
    {
     "data": {
      "text/plain": [
       "array([0.])"
      ]
     },
     "execution_count": 125,
     "metadata": {},
     "output_type": "execute_result"
    }
   ],
   "source": [
    "clasif.intercept_"
   ]
  },
  {
   "cell_type": "code",
   "execution_count": 126,
   "metadata": {
    "ExecuteTime": {
     "end_time": "2020-10-15T02:57:00.182780Z",
     "start_time": "2020-10-15T02:56:59.813814Z"
    }
   },
   "outputs": [
    {
     "name": "stdout",
     "output_type": "stream",
     "text": [
      "1.0\n",
      "1.0\n"
     ]
    }
   ],
   "source": [
    "print(accuracy_score(y_true=yt,y_pred=clasif.predict(Xt)))\n",
    "print(accuracy_score(y_true=yv,y_pred=clasif.predict(Xv)))"
   ]
  },
  {
   "cell_type": "code",
   "execution_count": 127,
   "metadata": {
    "ExecuteTime": {
     "end_time": "2020-10-15T02:57:00.248847Z",
     "start_time": "2020-10-15T02:57:00.184565Z"
    }
   },
   "outputs": [
    {
     "data": {
      "text/plain": [
       "array([[14,  0],\n",
       "       [ 0, 46]])"
      ]
     },
     "execution_count": 127,
     "metadata": {},
     "output_type": "execute_result"
    }
   ],
   "source": [
    "confusion_matrix(y_true=yv,y_pred=clasif.predict(Xv))"
   ]
  },
  {
   "cell_type": "code",
   "execution_count": 129,
   "metadata": {
    "ExecuteTime": {
     "end_time": "2020-10-15T02:57:50.330472Z",
     "start_time": "2020-10-15T02:57:50.317231Z"
    }
   },
   "outputs": [
    {
     "data": {
      "text/plain": [
       "array([[ 35,   0],\n",
       "       [  0, 105]])"
      ]
     },
     "execution_count": 129,
     "metadata": {},
     "output_type": "execute_result"
    }
   ],
   "source": [
    "confusion_matrix(y_true=yt,y_pred=clasif.predict(Xt))"
   ]
  },
  {
   "cell_type": "markdown",
   "metadata": {
    "ExecuteTime": {
     "end_time": "2020-10-15T02:57:00.312603Z",
     "start_time": "2020-10-15T02:57:00.251431Z"
    }
   },
   "source": [
    "0-->0 42\n",
    "0-->1 0  (Falso Positivo)\n",
    "1-->0 18 (Falsos Negativos)\n",
    "1-->1 0 "
   ]
  },
  {
   "cell_type": "code",
   "execution_count": null,
   "metadata": {},
   "outputs": [],
   "source": []
  }
 ],
 "metadata": {
  "kernelspec": {
   "display_name": "env",
   "language": "python",
   "name": "env"
  },
  "language_info": {
   "codemirror_mode": {
    "name": "ipython",
    "version": 3
   },
   "file_extension": ".py",
   "mimetype": "text/x-python",
   "name": "python",
   "nbconvert_exporter": "python",
   "pygments_lexer": "ipython3",
   "version": "3.7.3"
  },
  "toc": {
   "base_numbering": 1,
   "nav_menu": {},
   "number_sections": true,
   "sideBar": true,
   "skip_h1_title": false,
   "title_cell": "Table of Contents",
   "title_sidebar": "Contents",
   "toc_cell": false,
   "toc_position": {},
   "toc_section_display": true,
   "toc_window_display": false
  },
  "varInspector": {
   "cols": {
    "lenName": 16,
    "lenType": 16,
    "lenVar": 40
   },
   "kernels_config": {
    "python": {
     "delete_cmd_postfix": "",
     "delete_cmd_prefix": "del ",
     "library": "var_list.py",
     "varRefreshCmd": "print(var_dic_list())"
    },
    "r": {
     "delete_cmd_postfix": ") ",
     "delete_cmd_prefix": "rm(",
     "library": "var_list.r",
     "varRefreshCmd": "cat(var_dic_list()) "
    }
   },
   "types_to_exclude": [
    "module",
    "function",
    "builtin_function_or_method",
    "instance",
    "_Feature"
   ],
   "window_display": false
  }
 },
 "nbformat": 4,
 "nbformat_minor": 4
}
